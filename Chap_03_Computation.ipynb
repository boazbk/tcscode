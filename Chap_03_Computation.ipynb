{
 "cells": [
  {
   "cell_type": "markdown",
   "metadata": {},
   "source": [
    "# Chapter 3: Defining computation"
   ]
  },
  {
   "cell_type": "markdown",
   "metadata": {},
   "source": [
    "This notebook contains code related to **Chapter 3: Defining Computation**."
   ]
  },
  {
   "cell_type": "code",
   "execution_count": 1,
   "metadata": {},
   "outputs": [],
   "source": [
    "# utility code \n",
    "%run \"Utilities.ipynb\"\n",
    "from IPython.display import clear_output\n",
    "clear_output()"
   ]
  },
  {
   "cell_type": "code",
   "execution_count": 2,
   "metadata": {},
   "outputs": [],
   "source": [
    "def AND(a,b): return a*b\n",
    "\n",
    "def OR(a,b): return 1 if a+b else 0\n",
    "\n",
    "def NOT(a): return 1-a"
   ]
  },
  {
   "cell_type": "code",
   "execution_count": 3,
   "metadata": {},
   "outputs": [],
   "source": [
    "def EVAL(code,X):\n",
    "    \"\"\"Evaluate code on input X.\"\"\"\n",
    "    n,m = numinout(code) # helper function - get number of inputs and outputs\n",
    "    \n",
    "    vtable = { f\"X[{i}]\":int(X[i]) for i in range(n)}\n",
    "    \n",
    "    for line in code.split(\"\\n\"):\n",
    "        if not line: continue\n",
    "        foo,op,bar,blah = parseline(line,2) \n",
    "        # helper function - split \"foo = OP(,blah)\" to list [\"foo\",\"OP\",\"bar\",\"blah\"]\n",
    "        # 2 is num of arguments to expect: blah is empty if it's missing\n",
    "        if op==\"NOT\": vtable[foo] = NOT(vtable[bar])\n",
    "        if op==\"AND\": vtable[foo] = AND(vtable[bar],vtable[blah])\n",
    "        if op==\"OR\": vtable[foo] =  OR(vtable[bar],vtable[blah])\n",
    "    \n",
    "    return [vtable[f\"Y[{j}]\"] for j in range(m)]            "
   ]
  },
  {
   "cell_type": "code",
   "execution_count": 4,
   "metadata": {},
   "outputs": [],
   "source": [
    "majcode = r\"\"\"firstpair  = AND(X[0],X[1])\n",
    "secondpair = AND(X[1],X[2])\n",
    "thirdpair  = AND(X[0],X[2])\n",
    "temp       = OR(secondpair,thirdpair)\n",
    "Y[0] =  OR(firstpair,temp)\n",
    "\"\"\""
   ]
  },
  {
   "cell_type": "code",
   "execution_count": 5,
   "metadata": {},
   "outputs": [
    {
     "data": {
      "image/png": "[encoded data removed]",
      "text/plain": [
       "<Figure size 471.51x269.55 with 1 Axes>"
      ]
     },
     "metadata": {
      "needs_background": "light"
     },
     "output_type": "display_data"
    }
   ],
   "source": [
    "C = prog2circuit(majcode)\n",
    "schemdraw(C,filename=\"majaoncircuit.png\")"
   ]
  },
  {
   "cell_type": "code",
   "execution_count": 6,
   "metadata": {},
   "outputs": [],
   "source": [
    "code = r\"\"\"\n",
    "t1      = AND(X[0],X[1])\n",
    "notx0   = NOT(X[0])\n",
    "t2      = AND(notx0,X[2])\n",
    "Y[0]    = OR(t1,t2)\n",
    "\"\"\"[1:]"
   ]
  },
  {
   "cell_type": "code",
   "execution_count": 7,
   "metadata": {},
   "outputs": [
    {
     "data": {
      "text/plain": [
       "[0]"
      ]
     },
     "execution_count": 7,
     "metadata": {},
     "output_type": "execute_result"
    }
   ],
   "source": [
    "EVAL(code,\"010\")"
   ]
  },
  {
   "cell_type": "code",
   "execution_count": 8,
   "metadata": {},
   "outputs": [
    {
     "data": {
      "image/svg+xml": [
       "<?xml version=\"1.0\" encoding=\"UTF-8\" standalone=\"no\"?>\r\n",
       "<!DOCTYPE svg PUBLIC \"-//W3C//DTD SVG 1.1//EN\"\r\n",
       " \"http://www.w3.org/Graphics/SVG/1.1/DTD/svg11.dtd\">\r\n",
       "<!-- Generated by graphviz version 2.38.0 (20140413.2041)\r\n",
       " -->\r\n",
       "<!-- Title: %3 Pages: 1 -->\r\n",
       "<svg width=\"712pt\" height=\"360pt\"\r\n",
       " viewBox=\"0.00 0.00 712.17 360.00\" xmlns=\"http://www.w3.org/2000/svg\" xmlns:xlink=\"http://www.w3.org/1999/xlink\">\r\n",
       "<g id=\"graph0\" class=\"graph\" transform=\"scale(0.978261 0.978261) rotate(0) translate(4 364)\">\r\n",
       "<title>%3</title>\r\n",
       "<polygon fill=\"white\" stroke=\"none\" points=\"-4,4 -4,-364 724,-364 724,4 -4,4\"/>\r\n",
       "<!-- input_0 -->\r\n",
       "<g id=\"node1\" class=\"node\"><title>input_0</title>\r\n",
       "<ellipse fill=\"none\" stroke=\"black\" cx=\"45\" cy=\"-180\" rx=\"18\" ry=\"18\"/>\r\n",
       "<text text-anchor=\"start\" x=\"34\" y=\"-178.1\" font-family=\"Times New Roman,serif\" font-size=\"8.00\" fill=\"blue\"> X[0] </text>\r\n",
       "</g>\r\n",
       "<!-- gate_0 -->\r\n",
       "<g id=\"node4\" class=\"node\"><title>gate_0</title>\r\n",
       "<polygon fill=\"none\" stroke=\"black\" points=\"230.562,-287 243,-305 230.562,-323 210.438,-322.983 210.438,-287.017 230.562,-287\"/>\r\n",
       "<text text-anchor=\"start\" x=\"215.5\" y=\"-303.1\" font-family=\"Times New Roman,serif\" font-size=\"8.00\">∧</text>\r\n",
       "</g>\r\n",
       "<!-- input_0&#45;&gt;gate_0 -->\r\n",
       "<g id=\"edge1\" class=\"edge\"><title>input_0&#45;&gt;gate_0</title>\r\n",
       "<path fill=\"none\" stroke=\"black\" d=\"M60.2656,-190.018C91.1429,-211.701 164.374,-263.128 201.536,-289.225\"/>\r\n",
       "<polygon fill=\"black\" stroke=\"black\" points=\"199.964,-292.397 210.159,-295.28 203.987,-286.669 199.964,-292.397\"/>\r\n",
       "</g>\r\n",
       "<!-- gate_1 -->\r\n",
       "<g id=\"node5\" class=\"node\"><title>gate_1</title>\r\n",
       "<polygon fill=\"none\" stroke=\"black\" points=\"230.562,-152 243,-170 230.562,-188 210.438,-187.983 210.438,-152.017 230.562,-152\"/>\r\n",
       "<text text-anchor=\"start\" x=\"222.5\" y=\"-168.1\" font-family=\"Times New Roman,serif\" font-size=\"8.00\">¬</text>\r\n",
       "</g>\r\n",
       "<!-- input_0&#45;&gt;gate_1 -->\r\n",
       "<g id=\"edge3\" class=\"edge\"><title>input_0&#45;&gt;gate_1</title>\r\n",
       "<path fill=\"none\" stroke=\"black\" d=\"M63.0674,-179.041C94.926,-177.251 163.514,-173.398 200.011,-171.348\"/>\r\n",
       "<polygon fill=\"black\" stroke=\"black\" points=\"200.444,-174.829 210.232,-170.774 200.051,-167.84 200.444,-174.829\"/>\r\n",
       "</g>\r\n",
       "<!-- input_1 -->\r\n",
       "<g id=\"node2\" class=\"node\"><title>input_1</title>\r\n",
       "<ellipse fill=\"none\" stroke=\"black\" cx=\"45\" cy=\"-315\" rx=\"18\" ry=\"18\"/>\r\n",
       "<text text-anchor=\"start\" x=\"34\" y=\"-313.1\" font-family=\"Times New Roman,serif\" font-size=\"8.00\" fill=\"blue\"> X[1] </text>\r\n",
       "</g>\r\n",
       "<!-- input_1&#45;&gt;gate_0 -->\r\n",
       "<g id=\"edge2\" class=\"edge\"><title>input_1&#45;&gt;gate_0</title>\r\n",
       "<path fill=\"none\" stroke=\"black\" d=\"M63.0674,-314.041C94.926,-312.251 163.514,-308.398 200.011,-306.348\"/>\r\n",
       "<polygon fill=\"black\" stroke=\"black\" points=\"200.444,-309.829 210.232,-305.774 200.051,-302.84 200.444,-309.829\"/>\r\n",
       "</g>\r\n",
       "<!-- input_2 -->\r\n",
       "<g id=\"node3\" class=\"node\"><title>input_2</title>\r\n",
       "<ellipse fill=\"none\" stroke=\"black\" cx=\"45\" cy=\"-45\" rx=\"18\" ry=\"18\"/>\r\n",
       "<text text-anchor=\"start\" x=\"34\" y=\"-43.1\" font-family=\"Times New Roman,serif\" font-size=\"8.00\" fill=\"blue\"> X[2] </text>\r\n",
       "</g>\r\n",
       "<!-- gate_2 -->\r\n",
       "<g id=\"node6\" class=\"node\"><title>gate_2</title>\r\n",
       "<polygon fill=\"none\" stroke=\"black\" points=\"410.562,-152 423,-170 410.562,-188 390.438,-187.983 390.438,-152.017 410.562,-152\"/>\r\n",
       "<text text-anchor=\"start\" x=\"395.5\" y=\"-168.1\" font-family=\"Times New Roman,serif\" font-size=\"8.00\">∧</text>\r\n",
       "</g>\r\n",
       "<!-- input_2&#45;&gt;gate_2 -->\r\n",
       "<g id=\"edge5\" class=\"edge\"><title>input_2&#45;&gt;gate_2</title>\r\n",
       "<path fill=\"none\" stroke=\"black\" d=\"M62.3128,-50.6958C119.833,-70.7795 313.348,-138.348 380.675,-161.856\"/>\r\n",
       "<polygon fill=\"black\" stroke=\"black\" points=\"379.762,-165.244 390.357,-165.236 382.07,-158.636 379.762,-165.244\"/>\r\n",
       "</g>\r\n",
       "<!-- gate_3 -->\r\n",
       "<g id=\"node7\" class=\"node\"><title>gate_3</title>\r\n",
       "<polygon fill=\"none\" stroke=\"black\" points=\"641.125,-215 666,-233 641.125,-251 600.875,-250.983 600.875,-215.017 641.125,-215\"/>\r\n",
       "<text text-anchor=\"start\" x=\"608\" y=\"-232.1\" font-family=\"Times New Roman,serif\" font-size=\"8.00\">∨</text>\r\n",
       "<text text-anchor=\"start\" x=\"627\" y=\"-232.1\" font-family=\"Times New Roman,serif\" font-size=\"8.00\" fill=\"red\">→Y[0]</text>\r\n",
       "</g>\r\n",
       "<!-- gate_0&#45;&gt;gate_3 -->\r\n",
       "<g id=\"edge6\" class=\"edge\"><title>gate_0&#45;&gt;gate_3</title>\r\n",
       "<path fill=\"none\" stroke=\"black\" d=\"M241.306,-302.265C299.056,-291.948 504.806,-255.188 590.797,-239.825\"/>\r\n",
       "<polygon fill=\"black\" stroke=\"black\" points=\"591.443,-243.265 600.672,-238.061 590.212,-236.374 591.443,-243.265\"/>\r\n",
       "</g>\r\n",
       "<!-- gate_1&#45;&gt;gate_2 -->\r\n",
       "<g id=\"edge4\" class=\"edge\"><title>gate_1&#45;&gt;gate_2</title>\r\n",
       "<path fill=\"none\" stroke=\"black\" d=\"M243.067,-170C274.926,-170 343.514,-170 380.011,-170\"/>\r\n",
       "<polygon fill=\"black\" stroke=\"black\" points=\"380.232,-173.5 390.232,-170 380.231,-166.5 380.232,-173.5\"/>\r\n",
       "</g>\r\n",
       "<!-- gate_2&#45;&gt;gate_3 -->\r\n",
       "<g id=\"edge7\" class=\"edge\"><title>gate_2&#45;&gt;gate_3</title>\r\n",
       "<path fill=\"none\" stroke=\"black\" d=\"M420.289,-174.037C454.194,-183.615 540.429,-207.978 590.807,-222.21\"/>\r\n",
       "<polygon fill=\"black\" stroke=\"black\" points=\"590.105,-225.649 600.68,-224.999 592.008,-218.912 590.105,-225.649\"/>\r\n",
       "</g>\r\n",
       "</g>\r\n",
       "</svg>\r\n"
      ],
      "text/plain": [
       "<__main__.Circuit at 0x191fcd5a208>"
      ]
     },
     "execution_count": 8,
     "metadata": {},
     "output_type": "execute_result"
    }
   ],
   "source": [
    "prog2circuit(code)"
   ]
  },
  {
   "cell_type": "code",
   "execution_count": 9,
   "metadata": {},
   "outputs": [
    {
     "data": {
      "image/png": "[encoded data removed]",
      "text/plain": [
       "<Figure size 471.51x244.469 with 1 Axes>"
      ]
     },
     "metadata": {
      "needs_background": "light"
     },
     "output_type": "display_data"
    }
   ],
   "source": [
    "C = prog2circuit(code)\n",
    "schemdraw(C)"
   ]
  },
  {
   "cell_type": "code",
   "execution_count": 10,
   "metadata": {},
   "outputs": [
    {
     "data": {
      "image/png": "[encoded data removed]",
      "text/plain": [
       "<Figure size 507.812x275.751 with 1 Axes>"
      ]
     },
     "metadata": {
      "needs_background": "light"
     },
     "output_type": "display_data"
    }
   ],
   "source": [
    "def XOR3(a,b,c):\n",
    "    w1 = AND(a,b)\n",
    "    w2 = NOT(w1)\n",
    "    w3 = OR(a,b)\n",
    "    w4 = AND(w2,w3)\n",
    "    w5 = AND(w4,c)\n",
    "    w6 = NOT(w5)\n",
    "    w7 = OR(w4,c)\n",
    "    return AND(w6,w7)\n",
    "\n",
    "drawcirc(XOR3)"
   ]
  },
  {
   "cell_type": "code",
   "execution_count": 11,
   "metadata": {},
   "outputs": [],
   "source": [
    "def AON2NAND(code):\n",
    "    \"\"\"Translate an AON-CIRC program to an equivalent NAND-CIRC program\"\"\"\n",
    "    output = \"\"\n",
    "    counter = 0\n",
    "    for line in code.split(\"\\n\"):\n",
    "        if not line: continue\n",
    "        foo,op,bar,blah = parseline(line,2) \n",
    "        if op==\"NOT\":\n",
    "            output += f\"{foo} = NAND({bar},{bar})\\n\"\n",
    "        if op==\"AND\": \n",
    "            output += f\"temp_{counter} = NAND({bar},{blah})\\n\"\n",
    "            output += f\"{foo} = NAND(temp_{counter},temp_{counter})\\n\"\n",
    "            counter +=1\n",
    "        if op==\"OR\":\n",
    "            output += f\"temp_{counter} = NAND({bar},{bar})\\n\"\n",
    "            output += f\"temp_{counter+1} = NAND({blah},{blah})\\n\"\n",
    "            output += f\"{foo} = NAND(temp_{counter},temp_{counter+1})\\n\"\n",
    "            counter +=2\n",
    "    return output"
   ]
  },
  {
   "cell_type": "code",
   "execution_count": 12,
   "metadata": {},
   "outputs": [
    {
     "data": {
      "image/png": "[encoded data removed]",
      "text/plain": [
       "<Figure size 499.231x252.72 with 1 Axes>"
      ]
     },
     "metadata": {
      "needs_background": "light"
     },
     "output_type": "display_data"
    }
   ],
   "source": [
    "C = prog2circuit(AON2NAND(code))\n",
    "schemdraw(C)"
   ]
  },
  {
   "cell_type": "code",
   "execution_count": 13,
   "metadata": {},
   "outputs": [],
   "source": [
    "def BIG1(a,b):\n",
    "    t = NOT(b)\n",
    "    return OR(a,t)\n",
    "\n",
    "def BIG2(X):\n",
    "    \"\"\"Input is X[0]...X[3] which we consider as two three-bit numbers A and B. We return 1 iff A>B\"\"\"\n",
    "    y1 = BIG1(X[0],X[2])\n",
    "    n1 = BIG1(X[2],X[0])\n",
    "    y2 = BIG1(X[1],X[3])\n",
    "    t  = AND(y2,n1)\n",
    "    return OR(y1,t)"
   ]
  },
  {
   "cell_type": "code",
   "execution_count": null,
   "metadata": {},
   "outputs": [],
   "source": [
    "    "
   ]
  },
  {
   "cell_type": "code",
   "execution_count": 14,
   "metadata": {},
   "outputs": [
    {
     "ename": "NameError",
     "evalue": "name 'aon2code' is not defined",
     "output_type": "error",
     "traceback": [
      "\u001b[1;31m---------------------------------------------------------------------------\u001b[0m",
      "\u001b[1;31mNameError\u001b[0m                                 Traceback (most recent call last)",
      "\u001b[1;32m<ipython-input-14-5b97e72c0168>\u001b[0m in \u001b[0;36m<module>\u001b[1;34m\u001b[0m\n\u001b[1;32m----> 1\u001b[1;33m \u001b[0mcode\u001b[0m \u001b[1;33m=\u001b[0m \u001b[0maon2code\u001b[0m\u001b[1;33m(\u001b[0m\u001b[0mBIG2\u001b[0m\u001b[1;33m,\u001b[0m\u001b[1;36m4\u001b[0m\u001b[1;33m)\u001b[0m\u001b[1;33m\u001b[0m\u001b[1;33m\u001b[0m\u001b[0m\n\u001b[0m\u001b[0;32m      2\u001b[0m \u001b[0mprint\u001b[0m\u001b[1;33m(\u001b[0m\u001b[0mcode\u001b[0m\u001b[1;33m)\u001b[0m\u001b[1;33m\u001b[0m\u001b[1;33m\u001b[0m\u001b[0m\n",
      "\u001b[1;31mNameError\u001b[0m: name 'aon2code' is not defined"
     ]
    }
   ],
   "source": [
    "code = aon2code(BIG2,4)\n",
    "print(code)"
   ]
  },
  {
   "cell_type": "code",
   "execution_count": null,
   "metadata": {},
   "outputs": [],
   "source": [
    "C = prog2circuit(code)\n",
    "schemdraw(C)"
   ]
  },
  {
   "cell_type": "code",
   "execution_count": null,
   "metadata": {},
   "outputs": [],
   "source": [
    "BIG2([1,0,0,1])"
   ]
  },
  {
   "cell_type": "code",
   "execution_count": null,
   "metadata": {},
   "outputs": [],
   "source": [
    "BIG1(1,0)"
   ]
  },
  {
   "cell_type": "code",
   "execution_count": null,
   "metadata": {},
   "outputs": [],
   "source": [
    "C = prog2circuit(code)\n",
    "C"
   ]
  },
  {
   "cell_type": "code",
   "execution_count": null,
   "metadata": {},
   "outputs": [],
   "source": [
    "C.render_eval(1,1,1,0)"
   ]
  },
  {
   "cell_type": "code",
   "execution_count": null,
   "metadata": {},
   "outputs": [],
   "source": [
    "schemdraw(C)"
   ]
  },
  {
   "cell_type": "code",
   "execution_count": null,
   "metadata": {},
   "outputs": [],
   "source": [
    "schemdraw(C,[1,1,1,0])"
   ]
  },
  {
   "cell_type": "code",
   "execution_count": null,
   "metadata": {},
   "outputs": [],
   "source": [
    "xorcode = r'''notx0 = NOT(X[0])\n",
    "notx1 = NOT(X[1])\n",
    "a = AND(X[1],notx0)\n",
    "b = AND(X[0],notx1)\n",
    "Y[0] = OR(a,b)\n",
    "'''\n",
    "prog2circuit(xorcode)"
   ]
  },
  {
   "cell_type": "code",
   "execution_count": null,
   "metadata": {},
   "outputs": [],
   "source": [
    "C = prog2circuit(xorcode)\n",
    "schemdraw(C) "
   ]
  },
  {
   "cell_type": "code",
   "execution_count": null,
   "metadata": {},
   "outputs": [],
   "source": [
    "schemdraw(C,[1,0])"
   ]
  },
  {
   "cell_type": "code",
   "execution_count": null,
   "metadata": {},
   "outputs": [],
   "source": [
    "def ALLEQ(a,b,c,d):\n",
    "    t = AND(AND(AND(a,b),c),d)\n",
    "    u = AND(AND(AND(NOT(a),NOT(b)),NOT(c)),NOT(d))\n",
    "    return OR(t,u)"
   ]
  },
  {
   "cell_type": "code",
   "execution_count": null,
   "metadata": {},
   "outputs": [],
   "source": [
    "drawcirc(ALLEQ)"
   ]
  },
  {
   "cell_type": "code",
   "execution_count": null,
   "metadata": {},
   "outputs": [],
   "source": [
    "CMPcode = r'''temp_1 = NOT(X[2])\n",
    "temp_2 = OR(X[0],temp_1)\n",
    "temp_3 = NOT(X[0])\n",
    "temp_4 = OR(X[2],temp_3)\n",
    "temp_5 = NOT(X[3])\n",
    "temp_6 = OR(X[1],temp_5)\n",
    "temp_7 = AND(temp_6,temp_4)\n",
    "Y[0] = OR(temp_2,temp_7)\n",
    "'''\n",
    "schemdraw(prog2circuit(CMPcode),[1,1,1,0])"
   ]
  },
  {
   "cell_type": "code",
   "execution_count": null,
   "metadata": {},
   "outputs": [],
   "source": [
    "print(function2code(XOR3))"
   ]
  },
  {
   "cell_type": "code",
   "execution_count": null,
   "metadata": {},
   "outputs": [],
   "source": [
    "temp_1 = AND(X[0],X[1])\n",
    "temp_2 = NOT(temp_1)\n",
    "temp_3 = OR(X[0],X[1])\n",
    "temp_4 = AND(temp_2,temp_3)\n",
    "temp_5 = AND(temp_4,X[2])\n",
    "temp_6 = NOT(temp_5)\n",
    "temp_7 = OR(temp_4,X[2])\n",
    "Y[0] = AND(temp_6,temp_7)"
   ]
  },
  {
   "cell_type": "code",
   "execution_count": null,
   "metadata": {},
   "outputs": [],
   "source": [
    "drawcirc(XOR3)"
   ]
  },
  {
   "cell_type": "markdown",
   "metadata": {},
   "source": [
    "# NAND circuits"
   ]
  },
  {
   "cell_type": "code",
   "execution_count": null,
   "metadata": {},
   "outputs": [],
   "source": [
    "code = r'''u = NAND(X[0],X[1])\n",
    "v = NAND(X[0],u)\n",
    "w = NAND(X[1],u) \n",
    "Y[0] = NAND(v,w)\n",
    "'''"
   ]
  },
  {
   "cell_type": "code",
   "execution_count": null,
   "metadata": {},
   "outputs": [],
   "source": [
    "def XORN(a,b):\n",
    "    u = NAND(a,b)\n",
    "    v = NAND(a,u)\n",
    "    w = NAND(b,u)\n",
    "    return NAND(v,w)\n",
    "\n",
    "def XOR3(a,b,c):\n",
    "    return XORN(XORN(a,b),c)\n",
    "\n",
    "print(function2code(XOR3))\n",
    "drawcirc(XOR3)"
   ]
  },
  {
   "cell_type": "code",
   "execution_count": null,
   "metadata": {},
   "outputs": [],
   "source": [
    "drawcirc(XORN)"
   ]
  },
  {
   "cell_type": "code",
   "execution_count": null,
   "metadata": {},
   "outputs": [],
   "source": [
    "temp_1 = NAND(X[0],X[1])\n",
    "temp_2 = NAND(X[0],temp_1)\n",
    "temp_3 = NAND(X[1],temp_1)\n",
    "temp_4 = NAND(temp_2,temp_3)\n",
    "temp_5 = NAND(temp_4,X[2])\n",
    "temp_6 = NAND(temp_4,temp_5)\n",
    "temp_7 = NAND(X[2],temp_5)\n",
    "Y[0] = NAND(temp_6,temp_7)"
   ]
  },
  {
   "cell_type": "code",
   "execution_count": null,
   "metadata": {},
   "outputs": [],
   "source": [
    "def MAJ3(a,b,c):\n",
    "    return OR(OR(AND(a,b),AND(b,c)),AND(a,c))\n",
    "\n",
    "drawcirc(MAJ3,NANDONLY=True)"
   ]
  },
  {
   "cell_type": "markdown",
   "metadata": {},
   "source": [
    "# Increment"
   ]
  },
  {
   "cell_type": "code",
   "execution_count": null,
   "metadata": {},
   "outputs": [],
   "source": [
    "def one(a):\n",
    "    return NAND(a,NAND(a,a))\n",
    "\n",
    "def INC(X):\n",
    "    n = len(X)\n",
    "    Y=[0]*(n+1)\n",
    "    c = one(X[0])\n",
    "    for i in range(n):\n",
    "        Y[i] = XORN(c,X[i])\n",
    "        c = AND(X[i],c)\n",
    "    Y[n] = c\n",
    "    return Y\n",
    "    "
   ]
  },
  {
   "cell_type": "code",
   "execution_count": null,
   "metadata": {},
   "outputs": [],
   "source": [
    "drawcirc(INC,4,NANDONLY=True)\n"
   ]
  },
  {
   "cell_type": "markdown",
   "metadata": {},
   "source": [
    "# Neural net activation functions"
   ]
  },
  {
   "cell_type": "code",
   "execution_count": null,
   "metadata": {},
   "outputs": [],
   "source": []
  },
  {
   "cell_type": "code",
   "execution_count": null,
   "metadata": {},
   "outputs": [],
   "source": [
    "import numpy as np\n",
    "import matplotlib.pylab as plt\n",
    "\n",
    "\n",
    "def step(x):\n",
    "    return np.array(x > 0, dtype=np.int)\n",
    "\n",
    "def sigmoid(x):\n",
    "    return 1 / (1 + np.exp(-x))\n",
    "\n",
    "def relu(x):\n",
    "    return np.maximum(0, 0.2*x)\n",
    "\n",
    "def mytanh(x):\n",
    "    return 0.5*np.tanh(x)+0.5\n",
    "\n",
    "x = np.arange(-5.0, 5.0, 0.1)\n",
    "y_step = step(x)\n",
    "y_sigmoid = sigmoid(x)\n",
    "y_relu = relu(x)\n",
    "y_tanh = mytanh(x)\n",
    "\n",
    "plt.plot(x, y_step, label='Step', color='r', lw=1, linestyle=None)\n",
    "plt.plot(x, y_sigmoid, label='Sigmoid', color='g', lw=1, ls='--')\n",
    "plt.plot(x, y_relu, label='ReLU(0.2x)', color='b', lw=1, linestyle='-.')\n",
    "plt.plot(x, y_tanh, label='0.5tanh+0.5',color='y',lw=1,linestyle=':')\n",
    "plt.ylim(-0.1, 1.1)\n",
    "plt.legend()\n",
    "plt.show()"
   ]
  },
  {
   "cell_type": "code",
   "execution_count": 33,
   "metadata": {},
   "outputs": [],
   "source": [
    "code = r'''temp_0 = NAND(X[0],X[0])\n",
    "temp_2 = NAND(X[i],Y[0])\n",
    "temp_3 = NAND(X[i],temp_2)\n",
    "temp_4 = NAND(Y[0],temp_2)\n",
    "Y[0] = NAND(temp_3,temp_4)\n",
    "'''"
   ]
  },
  {
   "cell_type": "code",
   "execution_count": 28,
   "metadata": {},
   "outputs": [],
   "source": [
    "code = r'''temp_0 = NAND(X[0],X[0])\n",
    "Y_nonblank[0] = NAND(X[0],temp_0)\n",
    "Atstart[0] = NAND(X[0],temp_0) \n",
    "Marker[i] = NAND(X_nonblank[i],X_noblank[i])\n",
    "Atend[i] = NAND(X_nonblank[i],X_nonblank[i])\n",
    "temp_2 = NAND(X[i],Y[0])\n",
    "temp_3 = NAND(X[i],temp_2)\n",
    "temp_4 = NAND(Y[0],temp_2)\n",
    "Y[0] = NAND(temp_3,temp_4)\n",
    "'''"
   ]
  },
  {
   "cell_type": "code",
   "execution_count": null,
   "metadata": {},
   "outputs": [],
   "source": [
    "temp_0 = NAND(X[0],X[0])\n",
    "temp_2 = NAND(X[i],Y[0])\n",
    "temp_3 = NAND(X[i],temp_2)\n",
    "temp_4 = NAND(Y[0],temp_2)\n",
    "Y[0] = NAND(temp_3,temp_4)\n",
    "MODANDJUMP(X_nonblank[i],X_nonblank[i])\n",
    "    "
   ]
  },
  {
   "cell_type": "code",
   "execution_count": null,
   "metadata": {},
   "outputs": [],
   "source": [
    "temp_0 = NAND(X[0],X[0])\n",
    "Y_nonblank[0] = NAND(X[0],temp_0)\n",
    "Atstart[0] = NAND(X[0],temp_0) \n",
    "Marker[i] = NAND(X_nonblank[i],X_noblank[i])\n",
    "Atend[i] = NAND(X_nonblank[i],X_nonblank[i])\n",
    "temp_2 = NAND(X[i],Y[0])\n",
    "temp_3 = NAND(X[i],temp_2)\n",
    "temp_4 = NAND(Y[0],temp_2)\n",
    "Y[0] = NAND(temp_3,temp_4)\n",
    "MODANDJUMP(X_nonblank[i],X_nonblank[i])"
   ]
  },
  {
   "cell_type": "code",
   "execution_count": 36,
   "metadata": {},
   "outputs": [],
   "source": [
    "res = \"\"\n",
    "for i in [0,1,2,3]:\n",
    "    res += code.replace('[i]',f'[{i}]')\n",
    "print(res)"
   ]
  },
  {
   "cell_type": "code",
   "execution_count": 39,
   "metadata": {},
   "outputs": [
    {
     "data": {
      "image/png": "[encoded data removed]",
      "text/plain": [
       "<Figure size 784.35x456.002 with 1 Axes>"
      ]
     },
     "metadata": {
      "needs_background": "light"
     },
     "output_type": "display_data"
    }
   ],
   "source": [
    "res = r'''temp_0 = NAND(X[0],X[0])\n",
    "temp_2 = NAND(X[0],temp_0)\n",
    "temp_3 = NAND(X[0],temp_2)\n",
    "temp_4 = NAND(temp_0,temp_2)\n",
    "Y[0] = NAND(temp_3,temp_4)\n",
    "temp_2 = NAND(X[1],Y[0])\n",
    "temp_3 = NAND(X[1],temp_2)\n",
    "temp_4 = NAND(Y[0],temp_2)\n",
    "Y[0] = NAND(temp_3,temp_4)\n",
    "temp_2 = NAND(X[2],Y[0])\n",
    "temp_3 = NAND(X[2],temp_2)\n",
    "temp_4 = NAND(Y[0],temp_2)\n",
    "Y[0] = NAND(temp_3,temp_4)\n",
    "temp_2 = NAND(X[3],Y[0])\n",
    "temp_3 = NAND(X[3],temp_2)\n",
    "temp_4 = NAND(Y[0],temp_2)\n",
    "Y[0] = NAND(temp_3,temp_4)\n",
    "'''\n",
    "C = prog2circuit(res)\n",
    "schemdraw(C)"
   ]
  },
  {
   "cell_type": "code",
   "execution_count": null,
   "metadata": {},
   "outputs": [],
   "source": []
  },
  {
   "cell_type": "code",
   "execution_count": null,
   "metadata": {},
   "outputs": [],
   "source": [
    "temp_0 = NAND(X[0],X[0])\n",
    "Y_nonblank[0] = NAND(X[0],temp_0)\n",
    "Atstart[0] = NAND(X[0],temp_0) \n",
    "Marker_0 = NAND(X_nonblank_0,X_noblank_0)\n",
    "Atend_0 = NAND(X_nonblank_0,X_nonblank_0)\n",
    "temp_2 = NAND(X_0,Y[0])\n",
    "temp_3 = NAND(X_0,temp_2)\n",
    "temp_4 = NAND(Y[0],temp_2)\n",
    "Y[0] = NAND(temp_3,temp_4)\n",
    "temp_0 = NAND(X[0],X[0])\n",
    "Y_nonblank[0] = NAND(X[0],temp_0)\n",
    "Atstart[0] = NAND(X[0],temp_0) \n",
    "Marker_1 = NAND(X_nonblank_1,X_noblank_1)\n",
    "Atend_1 = NAND(X_nonblank_1,X_nonblank_1)\n",
    "temp_2 = NAND(X_1,Y[0])\n",
    "temp_3 = NAND(X_1,temp_2)\n",
    "temp_4 = NAND(Y[0],temp_2)\n",
    "Y[0] = NAND(temp_3,temp_4)\n",
    "temp_0 = NAND(X[0],X[0])\n",
    "Y_nonblank[0] = NAND(X[0],temp_0)\n",
    "Atstart[0] = NAND(X[0],temp_0) \n",
    "Marker_2 = NAND(X_nonblank_2,X_noblank_2)\n",
    "Atend_2 = NAND(X_nonblank_2,X_nonblank_2)\n",
    "temp_2 = NAND(X_2,Y[0])\n",
    "temp_3 = NAND(X_2,temp_2)\n",
    "temp_4 = NAND(Y[0],temp_2)\n",
    "Y[0] = NAND(temp_3,temp_4)\n",
    "temp_0 = NAND(X[0],X[0])\n",
    "Y_nonblank[0] = NAND(X[0],temp_0)\n",
    "Atstart[0] = NAND(X[0],temp_0) \n",
    "Marker_3 = NAND(X_nonblank_3,X_noblank_3)\n",
    "Atend_3 = NAND(X_nonblank_3,X_nonblank_3)\n",
    "temp_2 = NAND(X_3,Y[0])\n",
    "temp_3 = NAND(X_3,temp_2)\n",
    "temp_4 = NAND(Y[0],temp_2)\n",
    "Y[0] = NAND(temp_3,temp_4)"
   ]
  },
  {
   "cell_type": "code",
   "execution_count": null,
   "metadata": {},
   "outputs": [],
   "source": []
  }
 ],
 "metadata": {
  "kernelspec": {
   "display_name": "Python 3",
   "language": "python",
   "name": "python3"
  },
  "language_info": {
   "codemirror_mode": {
    "name": "ipython",
    "version": 3
   },
   "file_extension": ".py",
   "mimetype": "text/x-python",
   "name": "python",
   "nbconvert_exporter": "python",
   "pygments_lexer": "ipython3",
   "version": "3.7.2"
  }
 },
 "nbformat": 4,
 "nbformat_minor": 2
}
