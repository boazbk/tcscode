{
 "cells": [
  {
   "cell_type": "markdown",
   "metadata": {
    "id": "D1fzaifXvgp8"
   },
   "source": [
    "This is a notebook that contains a class `Bit` that when we perform Python logical operations on it such as `&` , `|` , `~` (AND,OR,NOT) it remembers them and helps build a \"computation graph\" for them.\n",
    "\n",
    "We can then use this to either write a formula or draw a circuit for general python code that works on bits"
   ]
  },
  {
   "cell_type": "markdown",
   "metadata": {
    "id": "K1qjGrK_zVuW"
   },
   "source": [
    "## Class for bit operations\n",
    "\n",
    "Inspired by the `Value` class of Karpathy, which in turn is inpired by Pytorch's `Tensor` see https://windowsontheory.org/2020/11/03/yet-another-backpropagation-tutorial/"
   ]
  },
  {
   "cell_type": "code",
   "execution_count": null,
   "metadata": {
    "id": "XXj8XGwmFdko"
   },
   "outputs": [],
   "source": [
    "class Bit:\n",
    "  counter = 0\n",
    "  \n",
    "  @classmethod\n",
    "  def uid(cls):\n",
    "    cls.counter +=1\n",
    "    return f\"t_{cls.counter}\"\n",
    "\n",
    "  def __init__(self,label = None): \n",
    "    self.label = self.uid() if label is None else label\n",
    "    self.program = [self.label]\n",
    "  \n",
    "  def op(self,oper, *others):\n",
    "    operands = [self, *others]\n",
    "    out = Bit()\n",
    "    out.program = [oper, *[bit.program for bit in operands]]\n",
    "    return out\n",
    "\n",
    "  def __and__(self,other): return self.op(\"∧\", other)\n",
    "  def __or__(self,other): return self.op(\"∨\", other)\n",
    "  def __invert__(self): return self.op(\"¬\")\n",
    "\n",
    "def bits(n):\n",
    "  return [Bit(f\"x_{i}\") for i in range(n)]"
   ]
  },
  {
   "cell_type": "code",
   "execution_count": null,
   "metadata": {
    "id": "PFxMir-mnleO"
   },
   "outputs": [],
   "source": [
    "def formula(P):\n",
    "  if len(P)==1:\n",
    "    return P[0]\n",
    "  if len(P)==2:\n",
    "    return P[0] + formula(P[1])\n",
    "  if len(P)==3:\n",
    "    return f\"({formula(P[1])} {P[0]} {formula(P[2])})\"\n",
    "  return f\"{P[0]}(\"+\",\".join([formula(P[i]) for i in range(1,len(P))])+\")\"\n",
    "\n"
   ]
  },
  {
   "cell_type": "code",
   "execution_count": null,
   "metadata": {
    "id": "hEXNSFnSkylh"
   },
   "outputs": [],
   "source": [
    "a,b,c,d = bits(4)\n",
    "out = (a&b)|~(c&d)"
   ]
  },
  {
   "cell_type": "code",
   "execution_count": null,
   "metadata": {
    "colab": {
     "base_uri": "https://localhost:8080/",
     "height": 36
    },
    "id": "rCziPab2lfto",
    "outputId": "12ff2f32-37b5-4b8d-e5e7-90bc4ce57524"
   },
   "outputs": [
    {
     "data": {
      "application/vnd.google.colaboratory.intrinsic+json": {
       "type": "string"
      },
      "text/plain": [
       "'((x_0 ∧ x_1) ∨ ¬(x_2 ∧ x_3))'"
      ]
     },
     "execution_count": 61,
     "metadata": {},
     "output_type": "execute_result"
    }
   ],
   "source": [
    "s = formula(out.program)\n",
    "s"
   ]
  },
  {
   "cell_type": "code",
   "execution_count": null,
   "metadata": {
    "colab": {
     "base_uri": "https://localhost:8080/",
     "height": 39
    },
    "id": "4IPAQEE0p6iL",
    "outputId": "765efb66-ad79-4c77-bbdf-f6576abb8dbc"
   },
   "outputs": [
    {
     "data": {
      "text/latex": [
       "$\\displaystyle ((x_0 ∧ x_1) ∨ ¬(x_2 ∧ x_3))$"
      ],
      "text/plain": [
       "<IPython.core.display.Math object>"
      ]
     },
     "execution_count": 62,
     "metadata": {},
     "output_type": "execute_result"
    }
   ],
   "source": [
    "from IPython.display import Math\n",
    "Math(s)"
   ]
  },
  {
   "cell_type": "markdown",
   "metadata": {
    "id": "VQdZcAVZtgy6"
   },
   "source": [
    "## Evaluate formula on inputs"
   ]
  },
  {
   "cell_type": "code",
   "execution_count": null,
   "metadata": {
    "id": "75TWDvJYqcAb"
   },
   "outputs": [],
   "source": [
    "def inputs(P):\n",
    "  if len(P)==1:\n",
    "    return P[0]\n",
    "  all_inputs = sum([inputs(P[i]) for i in range(1,len(P))],[])\n",
    "  return list(set(all_inputs))\n",
    "\n",
    "\n",
    "def evalp(P,D):\n",
    "  if len(P)==1:\n",
    "    return D[P[0]]\n",
    "  if P[0]=='¬':\n",
    "    return 1-evalp(P[1],D)\n",
    "  if P[0]=='∧':\n",
    "    return evalp(P[1],D)*evalp(P[2],D)\n",
    "  if P[0]=='∨':\n",
    "    return 1-(1-evalp(P[1],D))*(1-evalp(P[2],D))\n",
    "  \n",
    "\n",
    "  "
   ]
  },
  {
   "cell_type": "code",
   "execution_count": null,
   "metadata": {
    "colab": {
     "base_uri": "https://localhost:8080/"
    },
    "id": "Pg_zVZdHtk5_",
    "outputId": "a8666947-c269-4b3c-e640-e67c575887e6"
   },
   "outputs": [
    {
     "data": {
      "text/plain": [
       "0"
      ]
     },
     "execution_count": 66,
     "metadata": {},
     "output_type": "execute_result"
    }
   ],
   "source": [
    "evalp(out.program, {\"x_0\":0, \"x_1\":1, \"x_2\":1 , \"x_3\":1 })"
   ]
  },
  {
   "cell_type": "markdown",
   "metadata": {
    "id": "qU-rmdgmzfdE"
   },
   "source": [
    "## Showing some operations"
   ]
  },
  {
   "cell_type": "code",
   "execution_count": null,
   "metadata": {
    "id": "FxAHbX2GweYW"
   },
   "outputs": [],
   "source": [
    "import itertools\n",
    "from IPython.display import Markdown, display, Math\n",
    "\n",
    "def table(f,n):\n",
    "  \"\"\"Generate truth table of a function\"\"\"\n",
    "  m = max(n+2,len(f.__name__)+4)\n",
    "  res = \"x\".ljust(m) + \" | \" + f\"{f.__name__}(x)\".ljust(m) \n",
    "  res += \"\\n\" + \"-\"*m+\"-|-\"+ \"-\"*m \n",
    "  \n",
    "  for x in itertools.product([0,1],repeat=n):\n",
    "    s = \"\".join([str(c) for c in x])\n",
    "    res += \"\\n\"+ s.ljust(m) + \" | \" + str(f(*x)).ljust(m)\n",
    "  res +=\"\\n\"\n",
    "  return Markdown(res)"
   ]
  },
  {
   "cell_type": "code",
   "execution_count": null,
   "metadata": {
    "colab": {
     "base_uri": "https://localhost:8080/",
     "height": 126
    },
    "id": "ZGJWkL5Rc04T",
    "outputId": "7149c5f5-0b22-4b86-dfb9-faed7bb3645b"
   },
   "outputs": [
    {
     "data": {
      "text/markdown": [
       "x        | xor2(x) \n",
       "---------|---------\n",
       "00       | 0       \n",
       "01       | 1       \n",
       "10       | 1       \n",
       "11       | 0       \n"
      ],
      "text/plain": [
       "<IPython.core.display.Markdown object>"
      ]
     },
     "execution_count": 68,
     "metadata": {},
     "output_type": "execute_result"
    }
   ],
   "source": [
    "def xor2(a,b): return (a & ~b) | (~a & b)\n",
    "\n",
    "table(xor2,2)"
   ]
  },
  {
   "cell_type": "code",
   "execution_count": null,
   "metadata": {
    "colab": {
     "base_uri": "https://localhost:8080/",
     "height": 39
    },
    "id": "rcr0SkFI9Lid",
    "outputId": "873023d4-58ef-46cc-e6d6-7a4508630b08"
   },
   "outputs": [
    {
     "data": {
      "text/latex": [
       "$\\displaystyle ((x_0 ∧ ¬x_1) ∨ (¬x_0 ∧ x_1))$"
      ],
      "text/plain": [
       "<IPython.core.display.Math object>"
      ]
     },
     "execution_count": 71,
     "metadata": {},
     "output_type": "execute_result"
    }
   ],
   "source": [
    "Y = xor2(*bits(2))\n",
    "Math(formula(Y.program)) "
   ]
  },
  {
   "cell_type": "code",
   "execution_count": null,
   "metadata": {
    "colab": {
     "base_uri": "https://localhost:8080/",
     "height": 39
    },
    "id": "AKcgDtOq9nLA",
    "outputId": "aa754e1b-c139-4071-e7a6-f2b94718b81d"
   },
   "outputs": [
    {
     "data": {
      "text/latex": [
       "$\\displaystyle ((((x_0 ∧ ¬x_1) ∨ (¬x_0 ∧ x_1)) ∧ ¬x_2) ∨ (¬((x_0 ∧ ¬x_1) ∨ (¬x_0 ∧ x_1)) ∧ x_2))$"
      ],
      "text/plain": [
       "<IPython.core.display.Math object>"
      ]
     },
     "execution_count": 72,
     "metadata": {},
     "output_type": "execute_result"
    }
   ],
   "source": [
    "def xor(*L): return xor2(*L) if len(L)==2 else xor2(xor(*L[:-1]),L[-1])\n",
    "Math(formula(xor(*bits(3)).program))"
   ]
  },
  {
   "cell_type": "code",
   "execution_count": null,
   "metadata": {
    "colab": {
     "base_uri": "https://localhost:8080/",
     "height": 211
    },
    "id": "0KoAuysEw8ED",
    "outputId": "254d86de-5e2a-4b75-96b7-2a4021cf5af8"
   },
   "outputs": [
    {
     "data": {
      "text/markdown": [
       "x             | onebitadd(x) \n",
       "--------------|--------------\n",
       "000           | (0, 0)       \n",
       "001           | (1, 0)       \n",
       "010           | (1, 0)       \n",
       "011           | (0, 1)       \n",
       "100           | (1, 0)       \n",
       "101           | (0, 1)       \n",
       "110           | (0, 1)       \n",
       "111           | (1, 1)       \n"
      ],
      "text/plain": [
       "<IPython.core.display.Markdown object>"
      ]
     },
     "execution_count": 73,
     "metadata": {},
     "output_type": "execute_result"
    }
   ],
   "source": [
    "def maj(a,b,c): return (a & b) | (b&c) | (a&c)\n",
    "def onebitadd(a,b,c):\n",
    "  return xor(a,b,c) , maj(a,b,c)\n",
    "\n",
    "table(onebitadd,3)"
   ]
  },
  {
   "cell_type": "code",
   "execution_count": null,
   "metadata": {
    "colab": {
     "base_uri": "https://localhost:8080/",
     "height": 83
    },
    "id": "x_-CSlZRuRPa",
    "outputId": "a465c941-60de-4e82-cb2d-f2bebf978ee3"
   },
   "outputs": [
    {
     "data": {
      "text/markdown": [
       "x        | zero(x) \n",
       "---------|---------\n",
       "0        | 0       \n",
       "1        | 0       \n"
      ],
      "text/plain": [
       "<IPython.core.display.Markdown object>"
      ]
     },
     "execution_count": 74,
     "metadata": {},
     "output_type": "execute_result"
    }
   ],
   "source": [
    "def zero(a): return a & ~a\n",
    "table(zero,1)\n"
   ]
  },
  {
   "cell_type": "code",
   "execution_count": null,
   "metadata": {
    "id": "a6kGrPr8DOPf"
   },
   "outputs": [],
   "source": [
    "def maj(a,b,c): return (a & b) | (b&c) | (a&c)\n",
    "def zero(a): return a & ~a\n",
    "def xor2(a,b): return (a & ~b) | (~a & b)\n",
    "def xor(*L): return xor2(*L) if len(L)==2 else xor2(xor(*L[:-1]),L[-1])"
   ]
  },
  {
   "cell_type": "code",
   "execution_count": null,
   "metadata": {
    "colab": {
     "base_uri": "https://localhost:8080/",
     "height": 382
    },
    "id": "mPJKBRF_AP-X",
    "outputId": "47c47150-8fe3-4e91-b2dd-e6933b4a506b"
   },
   "outputs": [
    {
     "data": {
      "text/markdown": [
       "x            | <lambda>(x) \n",
       "-------------|-------------\n",
       "0000         | [0, 0, 0]   \n",
       "0001         | [0, 0, 1]   \n",
       "0010         | [0, 1, 0]   \n",
       "0011         | [0, 1, 1]   \n",
       "0100         | [0, 0, 1]   \n",
       "0101         | [0, 1, 0]   \n",
       "0110         | [0, 1, 1]   \n",
       "0111         | [1, 0, 0]   \n",
       "1000         | [0, 1, 0]   \n",
       "1001         | [0, 1, 1]   \n",
       "1010         | [1, 0, 0]   \n",
       "1011         | [1, 0, 1]   \n",
       "1100         | [0, 1, 1]   \n",
       "1101         | [1, 0, 0]   \n",
       "1110         | [1, 0, 1]   \n",
       "1111         | [1, 1, 0]   \n"
      ],
      "text/plain": [
       "<IPython.core.display.Markdown object>"
      ]
     },
     "execution_count": 76,
     "metadata": {},
     "output_type": "execute_result"
    }
   ],
   "source": [
    "def add(A,B): \n",
    "  \"\"\"Add two binary numbers, given as lists of bits\"\"\"\n",
    "  Y = []\n",
    "  carry = zero(A[0]) # initialize carry to 0\n",
    "  for i in range(len(A)): # compute i-th digit of output\n",
    "    y = xor(A[i],B[i],carry) # xor function\n",
    "    carry = maj(A[i],B[i],carry) # majority function\n",
    "    Y.append(y)\n",
    "  Y.append(carry)\n",
    "  return Y\n",
    "\n",
    "\n",
    "table(lambda a,b,c,d: add([b,a],[d,c])[::-1],4)"
   ]
  },
  {
   "cell_type": "code",
   "execution_count": null,
   "metadata": {
    "colab": {
     "base_uri": "https://localhost:8080/",
     "height": 39
    },
    "id": "Y-XFrGdO069l",
    "outputId": "002ef612-66b8-4e51-885d-802d106ff3ab"
   },
   "outputs": [
    {
     "data": {
      "text/latex": [
       "$\\displaystyle ((((A_0 ∧ ¬B_0) ∨ (¬A_0 ∧ B_0)) ∧ ¬(A_0 ∧ ¬A_0)) ∨ (¬((A_0 ∧ ¬B_0) ∨ (¬A_0 ∧ B_0)) ∧ (A_0 ∧ ¬A_0)))$"
      ],
      "text/plain": [
       "<IPython.core.display.Math object>"
      ]
     },
     "execution_count": 78,
     "metadata": {},
     "output_type": "execute_result"
    }
   ],
   "source": [
    "X1 = [Bit(\"A_0\"),Bit(\"A_1\")]\n",
    "X2 = [Bit(\"B_0\"),Bit(\"B_1\")]\n",
    "Y = add(X1,X2)\n",
    "Math(formula(Y[0].program))"
   ]
  }
 ],
 "metadata": {
  "colab": {
   "provenance": []
  },
  "kernelspec": {
   "display_name": "Python 3 (ipykernel)",
   "language": "python",
   "name": "python3"
  },
  "language_info": {
   "codemirror_mode": {
    "name": "ipython",
    "version": 3
   },
   "file_extension": ".py",
   "mimetype": "text/x-python",
   "name": "python",
   "nbconvert_exporter": "python",
   "pygments_lexer": "ipython3",
   "version": "3.9.12"
  }
 },
 "nbformat": 4,
 "nbformat_minor": 4
}
