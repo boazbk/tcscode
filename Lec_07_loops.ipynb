{
 "cells": [
  {
   "cell_type": "code",
   "execution_count": null,
   "metadata": {
    "slideshow": {
     "slide_type": "skip"
    }
   },
   "outputs": [],
   "source": [
    "%%html\n",
    "\n",
    "<style>\n",
    ".CodeMirror { width: 100vw; }\n",
    ".prompt  { visibility: visible; width: 100px !important; }\n",
    ".prompt_container { visibility: visible; width: 100px !important; }\n",
    ".container {  width: 95% !important; }\n",
    ".rendered_html { font-size:0.8em; }\n",
    ".rendered_html table, .rendered_html th, .rendered_html tr, .rendered_html td { font-size: 100%;}\n",
    "td { font-size: 16px }\n",
    "</style>\n"
   ]
  },
  {
   "cell_type": "markdown",
   "metadata": {
    "slideshow": {
     "slide_type": "slide"
    }
   },
   "source": [
    "# CS 121 Lecture 7 : Turing Machines and Loops"
   ]
  },
  {
   "cell_type": "code",
   "execution_count": null,
   "metadata": {
    "slideshow": {
     "slide_type": "skip"
    }
   },
   "outputs": [],
   "source": [
    "# utility code \n",
    "%run \"Utilities.ipynb\"\n",
    "from IPython.display import clear_output\n",
    "clear_output()"
   ]
  },
  {
   "cell_type": "code",
   "execution_count": null,
   "metadata": {
    "slideshow": {
     "slide_type": "skip"
    }
   },
   "outputs": [],
   "source": [
    "def myred(x):\n",
    "    CRED = '\\033[91m'\n",
    "    CEND = '\\033[0m'\n",
    "    return CRED+x+CEND\n",
    "\n",
    "def mygreen(x):\n",
    "    CGREEN= '\\033[32m'\n",
    "    CEND = '\\033[0m'\n",
    "    return CGREEN+x+CEND\n"
   ]
  },
  {
   "cell_type": "code",
   "execution_count": null,
   "metadata": {
    "slideshow": {
     "slide_type": "skip"
    }
   },
   "outputs": [],
   "source": [
    "def XOR2(a,b):\n",
    "    t  = NOT(AND(a,b))\n",
    "    u =  OR(a,b)\n",
    "    return AND(t,u)\n",
    "\n",
    "def XOR(X):\n",
    "    c = XOR2(X[0],X[1])\n",
    "    for i in range(2,len(X)):\n",
    "        c = XOR2(c,X[i])\n",
    "    return c\n",
    "\n",
    "circuit(XOR2)"
   ]
  },
  {
   "cell_type": "code",
   "execution_count": null,
   "metadata": {
    "slideshow": {
     "slide_type": "skip"
    }
   },
   "outputs": [],
   "source": [
    "# circuit(XOR,10)"
   ]
  },
  {
   "cell_type": "code",
   "execution_count": null,
   "metadata": {
    "slideshow": {
     "slide_type": "skip"
    }
   },
   "outputs": [],
   "source": [
    "#for n in range(2,10):\n",
    "#    C = circuit(XOR,n)\n",
    "#    C.draw()"
   ]
  },
  {
   "cell_type": "code",
   "execution_count": null,
   "metadata": {
    "slideshow": {
     "slide_type": "skip"
    }
   },
   "outputs": [],
   "source": [
    "import collections \n",
    "import inspect\n",
    "import re\n",
    "\n",
    "class QuitExecution(Exception):\n",
    "    pass\n",
    "\n",
    "class HaltExecution(Exception):\n",
    "    pass\n",
    "\n",
    "def extractstates(transition):\n",
    "    src = inspect.getsource(transition)\n",
    "    strings = re.findall( r'(?<!f)\"[a-zA-Z\\_0-9]*\"', src, re.I | re.M)\n",
    "    strings += re.findall( r\"(?<!f)'[a-zA-Z\\_0-9]*'\", src, re.I | re.M)\n",
    "    alphabet = [ \"▷\", \"·\",\"0\", \"1\" ]\n",
    "    states = [ \"START\"]\n",
    "    if src.find(\"boilerplate(\")>=0:\n",
    "        bpstates = [\"OUTPUT0\",\"OUTPUT1\",\"0ANDSTOP\",\"1ANDSTOP\"]\n",
    "    else: \n",
    "        bpstates = []\n",
    "    for s in strings:\n",
    "        t = s[1:-1]\n",
    "        if not t: continue\n",
    "        if len(t)>1:\n",
    "            if not t in states and not t in bpstates:\n",
    "                states.append(t)\n",
    "        else:\n",
    "            if not t in alphabet and not t in [\"L\",\"R\",\"H\",\"S\"]:\n",
    "                alphabet.append(t)\n",
    "    states += bpstates\n",
    "    return alphabet, states\n",
    "    \n",
    "class TuringMachine:\n",
    "   \n",
    "    def printtable(self,boiler=False):\n",
    "        header = [\"State\", \"Sym\", \"New State\", \"New Sym\", \"Move\"]\n",
    "        res = [header]\n",
    "        bpstates = [\"OUTPUT0\",\"OUTPUT1\",\"0ANDSTOP\",\"1ANDSTOP\"] if not boiler else []\n",
    "        skipped = False\n",
    "        for i, s in enumerate(self.states):\n",
    "            if s in bpstates: \n",
    "                skipped = True\n",
    "                continue\n",
    "            for a in self.alphabet:\n",
    "                s_, a_, m_ = self.transition(s,a)\n",
    "                res.append([f\"{i} ({s})\", a, s_, a_, m_ ])\n",
    "        if skipped: res.append([\"_boilerplate_\",\"...\",\"...\",\"...\",\"...\"])\n",
    "        display(mdtable(res))\n",
    "        \n",
    "    def _repr_pretty_(self, p, cycle):\n",
    "        if cycle: return \"cycle\"\n",
    "        self.printtable()\n",
    "        return None\n",
    "\n",
    "    def __init__(self, transition):\n",
    "        self.tape =  collections.defaultdict(lambda :\"·\")\n",
    "        self.tape[0] = \"▷\"\n",
    "        self.alphabet = [ \"▷\", \"·\",\"0\", \"1\" ]\n",
    "        self.transition = transition\n",
    "        self.head = 0\n",
    "        self.alphabet , self.states = extractstates(transition)\n",
    "        self.state = \"START\"\n",
    "        self.MAXSTEPS = 60\n",
    "        self.lenstate = max([len(s) for s in self.states])\n",
    "        self.history = []\n",
    "        \n",
    "    def input(self, x):\n",
    "        self.tape = [ \"▷\" ] + [str(a) for a in x ] + [ \"·\" ]\n",
    "        self.state = \"START\"\n",
    "        self.head = 0 \n",
    "    \n",
    "    def printstate(self):\n",
    "        tape_ = [self.tape[i] if i != self.head else myred(self.tape[i]) for i in range(len(self.tape))]\n",
    "        print(self.state.ljust(self.lenstate) + \" \"+ \"\".join(tape_))\n",
    "        return None\n",
    "    \n",
    "    \n",
    "    def next(self):\n",
    "        self.history.append((self.state, self.head, list(self.tape)))\n",
    "        self.state,self.tape[self.head],move = self.transition(self.state, self.tape[self.head])\n",
    "        if not self.state in self.states:\n",
    "            self.states.append(self.state)\n",
    "        if move==\"L\":\n",
    "            self.head = max(0, self.head-1)\n",
    "        if move ==\"R\":\n",
    "            self.head += 1\n",
    "            if self.head == len(self.tape):\n",
    "                self.tape.append(\"·\")\n",
    "        if move ==\"H\":\n",
    "            raise HaltExecution(\"Halted\")\n",
    "    \n",
    "    def prev(self):\n",
    "        if not self.history:\n",
    "            raise Exception(\"Can't go back - history is empty\")\n",
    "        self.state,self.head, self.tape = self.history.pop()\n",
    "        \n",
    "    def run(self,iterate = False, maxsteps = 0):\n",
    "        if iterate:\n",
    "            print(\"q(uit), n(ext),p(rev),c(lear),r(un),s(kip) XX\")\n",
    "        if not maxsteps:\n",
    "            maxsteps = self.MAXSTEPS\n",
    "        t = 0\n",
    "        noprinting = 0\n",
    "        quit_cmd = False\n",
    "        try:\n",
    "            while True:\n",
    "                if noprinting>0:\n",
    "                    noprinting -= 1\n",
    "                else:\n",
    "                    self.printstate()\n",
    "                if iterate and noprinting<=0:\n",
    "                    cmd = input(\"\")\n",
    "                    #CURSOR_UP_ONE = '\\x1b[1A'\n",
    "                    #ERASE_LINE = '\\x1b[2K'\n",
    "                    #print(CURSOR_UP_ONE + ERASE_LINE + CURSOR_UP_ONE)\n",
    "                    \n",
    "                    c = cmd[0] if cmd else \"n\"\n",
    "                    if c==\"c\":\n",
    "                        clear_output()\n",
    "                    elif c==\"r\":\n",
    "                        iterate = False\n",
    "                    elif c==\"s\":\n",
    "                        _,num = cmd.split(' ')\n",
    "                        print(\"...\")\n",
    "                        noprinting = int(num)\n",
    "                    elif c==\"p\":\n",
    "                        self.prev()\n",
    "                        t -= 1\n",
    "                        continue\n",
    "                    elif c==\"q\":\n",
    "                        raise QuitExecution(\"User quit\")\n",
    "                self.next()\n",
    "                if t >= maxsteps:\n",
    "                    raise Exception(\"Too many steps\")\n",
    "                t += 1\n",
    "               \n",
    "        except HaltExecution as e:\n",
    "            msg = str(e)\n",
    "            self.printstate()\n",
    "            y = \"\"\n",
    "            i = 1\n",
    "            while self.tape[i] != \"·\":\n",
    "                y += self.tape[i]\n",
    "                i += 1\n",
    "            return y\n",
    "        except  QuitExecution as e:\n",
    "            print(str(e))\n",
    "            \n",
    "\n",
    "            "
   ]
  },
  {
   "cell_type": "markdown",
   "metadata": {
    "slideshow": {
     "slide_type": "slide"
    }
   },
   "source": [
    "__Q:__ Write Turing machine that computes $XOR:\\{0,1\\}^n \\rightarrow \\{0,1\\}$"
   ]
  },
  {
   "cell_type": "code",
   "execution_count": null,
   "metadata": {
    "slideshow": {
     "slide_type": "slide"
    }
   },
   "outputs": [],
   "source": [
    "def xortm(state,sym):\n",
    "    move = \"R\"\n",
    "    if state==\"START\":\n",
    "        state = \"EVEN\"\n",
    "    elif state in [\"EVEN\",\"ODD\"]:\n",
    "        if sym== \"·\":\n",
    "            state = \"OUTPUT1\" if state==\"ODD\" else \"OUTPUT0\"\n",
    "            move  = \"L\"\n",
    "        elif sym==\"1\":\n",
    "            state = \"EVEN\" if state==\"ODD\" else \"ODD\"\n",
    "    else:\n",
    "        state,sym,move = boilerplate(state,sym)\n",
    "    return state,sym,move"
   ]
  },
  {
   "cell_type": "code",
   "execution_count": 69,
   "metadata": {
    "slideshow": {
     "slide_type": "slide"
    }
   },
   "outputs": [],
   "source": [
    "def boilerplate(state,sym):\n",
    "    move = \"H\"\n",
    "    if state in [\"OUTPUT1\",\"OUTPUT0\"]:\n",
    "        if sym != \"▷\":\n",
    "            move = \"L\"\n",
    "            sym= \"·\"\n",
    "        else:\n",
    "            move = \"R\"\n",
    "            state = state[-1]+\"ANDSTOP\"\n",
    "    elif state[1:] ==\"ANDSTOP\":\n",
    "        move = \"H\"\n",
    "        sym = state[0]\n",
    "    return state,sym,move\n"
   ]
  },
  {
   "cell_type": "code",
   "execution_count": 71,
   "metadata": {
    "slideshow": {
     "slide_type": "slide"
    }
   },
   "outputs": [
    {
     "data": {
      "text/markdown": [
       "<B>State       </B> | <B>Sym         </B> | <B>New State   </B> | <B>New Sym     </B> | <B>Move        </B>\n",
       "-------------|-------------|-------------|-------------|-------------\n",
       "0 (START)    | ▷            | EVEN         | ▷            | R           \n",
       "0 (START)    | ·            | EVEN         | ·            | R           \n",
       "0 (START)    | 0            | EVEN         | 0            | R           \n",
       "0 (START)    | 1            | EVEN         | 1            | R           \n",
       "1 (EVEN)     | ▷            | EVEN         | ▷            | R           \n",
       "1 (EVEN)     | ·            | OUTPUT0      | ·            | L           \n",
       "1 (EVEN)     | 0            | EVEN         | 0            | R           \n",
       "1 (EVEN)     | 1            | ODD          | 1            | R           \n",
       "2 (ODD)      | ▷            | ODD          | ▷            | R           \n",
       "2 (ODD)      | ·            | OUTPUT1      | ·            | L           \n",
       "2 (ODD)      | 0            | ODD          | 0            | R           \n",
       "2 (ODD)      | 1            | EVEN         | 1            | R           \n",
       "3 (OUTPUT0)  | ▷            | 0ANDSTOP     | ▷            | R           \n",
       "3 (OUTPUT0)  | ·            | OUTPUT0      | ·            | L           \n",
       "3 (OUTPUT0)  | 0            | OUTPUT0      | ·            | L           \n",
       "3 (OUTPUT0)  | 1            | OUTPUT0      | ·            | L           \n",
       "4 (OUTPUT1)  | ▷            | 1ANDSTOP     | ▷            | R           \n",
       "4 (OUTPUT1)  | ·            | OUTPUT1      | ·            | L           \n",
       "4 (OUTPUT1)  | 0            | OUTPUT1      | ·            | L           \n",
       "4 (OUTPUT1)  | 1            | OUTPUT1      | ·            | L           \n",
       "5 (0ANDSTOP) | ▷            | 0ANDSTOP     | 0            | H           \n",
       "5 (0ANDSTOP) | ·            | 0ANDSTOP     | 0            | H           \n",
       "5 (0ANDSTOP) | 0            | 0ANDSTOP     | 0            | H           \n",
       "5 (0ANDSTOP) | 1            | 0ANDSTOP     | 0            | H           \n",
       "6 (1ANDSTOP) | ▷            | 1ANDSTOP     | 1            | H           \n",
       "6 (1ANDSTOP) | ·            | 1ANDSTOP     | 1            | H           \n",
       "6 (1ANDSTOP) | 0            | 1ANDSTOP     | 1            | H           \n",
       "6 (1ANDSTOP) | 1            | 1ANDSTOP     | 1            | H           \n"
      ],
      "text/plain": [
       "<IPython.core.display.Markdown object>"
      ]
     },
     "metadata": {},
     "output_type": "display_data"
    }
   ],
   "source": [
    "MXOR = TuringMachine(xortm)\n",
    "MXOR.printtable(True)"
   ]
  },
  {
   "cell_type": "code",
   "execution_count": 75,
   "metadata": {
    "slideshow": {
     "slide_type": "slide"
    }
   },
   "outputs": [
    {
     "name": "stdout",
     "output_type": "stream",
     "text": [
      "START    \u001b[91m▷\u001b[0m1011·\n"
     ]
    }
   ],
   "source": [
    "MXOR.input(\"1011\")\n",
    "MXOR.printstate()"
   ]
  },
  {
   "cell_type": "code",
   "execution_count": 76,
   "metadata": {
    "slideshow": {
     "slide_type": "fragment"
    }
   },
   "outputs": [
    {
     "name": "stdout",
     "output_type": "stream",
     "text": [
      "START    \u001b[91m▷\u001b[0m1011·\n",
      "EVEN     ▷\u001b[91m1\u001b[0m011·\n",
      "ODD      ▷1\u001b[91m0\u001b[0m11·\n",
      "ODD      ▷10\u001b[91m1\u001b[0m1·\n",
      "EVEN     ▷101\u001b[91m1\u001b[0m·\n",
      "ODD      ▷1011\u001b[91m·\u001b[0m\n",
      "OUTPUT1  ▷101\u001b[91m1\u001b[0m·\n",
      "OUTPUT1  ▷10\u001b[91m1\u001b[0m··\n",
      "OUTPUT1  ▷1\u001b[91m0\u001b[0m···\n",
      "OUTPUT1  ▷\u001b[91m1\u001b[0m····\n",
      "OUTPUT1  \u001b[91m▷\u001b[0m·····\n",
      "1ANDSTOP ▷\u001b[91m·\u001b[0m····\n",
      "1ANDSTOP ▷\u001b[91m1\u001b[0m····\n"
     ]
    },
    {
     "data": {
      "text/plain": [
       "'1'"
      ]
     },
     "execution_count": 76,
     "metadata": {},
     "output_type": "execute_result"
    }
   ],
   "source": [
    "MXOR.run()"
   ]
  },
  {
   "cell_type": "markdown",
   "metadata": {
    "slideshow": {
     "slide_type": "slide"
    }
   },
   "source": [
    "__Q:__ Write a TM $M$ such that for every $x\\in \\{0,1\\}^n$, if $M$'s tape is initialized with $\\triangleright x_0 x_1 \\cdots x_{n-1} \\cdots$ then when it halts the tape is $\\triangleright PAL(x) \\cdots$ where $PAL(x)=1$ iff $x_i=x_{n-i}$ for every $i\\in [n]$."
   ]
  },
  {
   "cell_type": "code",
   "execution_count": 77,
   "metadata": {
    "slideshow": {
     "slide_type": "slide"
    }
   },
   "outputs": [],
   "source": [
    "def palindrome(state,sym):\n",
    "    if sym== \"▷\" and state in [\"START\",\"SCANLEFT\"]:\n",
    "        state = \"LEFTMOST\"\n",
    "        move = \"R\"\n",
    "    elif state == \"LEFTMOST\":\n",
    "        if sym == \"·\":\n",
    "            state, move = \"OUTPUT1\",\"S\"\n",
    "        else:\n",
    "            state = \"LOOK0_SAW0\" if sym==\"0\" else \"LOOK1_SAW1\"\n",
    "            sym,move  = \"·\",\"R\"\n",
    "    elif state in [ \"LOOK0_SAW0\", \"LOOK0_SAW1\", \"LOOK1_SAW0\", \"LOOK1_SAW1\" ]:\n",
    "        if sym == \"·\":\n",
    "            state = \"OUTPUT0\" if state[4] != state[9] else \"ERASE\"\n",
    "            move  = \"L\"\n",
    "        else:\n",
    "            state, move = state[:-1]+sym, \"R\"\n",
    "    elif state == \"ERASE\":\n",
    "        if sym == \"·\":\n",
    "            state,move = \"LEFTMOST\",\"R\"\n",
    "        else:\n",
    "            state,sym,move = \"SCANLEFT\", \"·\", \"L\"\n",
    "    elif state == \"SCANLEFT\":\n",
    "        if sym == \"·\":\n",
    "            state,move = \"LEFTMOST\",\"R\"\n",
    "        else:\n",
    "            move = \"L\"\n",
    "    else:\n",
    "        state,sym,move = boilerplate(state,sym)\n",
    "    return state,sym,move"
   ]
  },
  {
   "cell_type": "code",
   "execution_count": 78,
   "metadata": {
    "slideshow": {
     "slide_type": "slide"
    }
   },
   "outputs": [
    {
     "data": {
      "text/markdown": [
       "<B>State         </B> | <B>Sym           </B> | <B>New State     </B> | <B>New Sym       </B> | <B>Move          </B>\n",
       "---------------|---------------|---------------|---------------|---------------\n",
       "0 (START)      | ▷              | LEFTMOST       | ▷              | R             \n",
       "0 (START)      | ·              | START          | ·              | H             \n",
       "0 (START)      | 0              | START          | 0              | H             \n",
       "0 (START)      | 1              | START          | 1              | H             \n",
       "1 (SCANLEFT)   | ▷              | LEFTMOST       | ▷              | R             \n",
       "1 (SCANLEFT)   | ·              | LEFTMOST       | ·              | R             \n",
       "1 (SCANLEFT)   | 0              | SCANLEFT       | 0              | L             \n",
       "1 (SCANLEFT)   | 1              | SCANLEFT       | 1              | L             \n",
       "2 (LEFTMOST)   | ▷              | LOOK1_SAW1     | ·              | R             \n",
       "2 (LEFTMOST)   | ·              | OUTPUT1        | ·              | S             \n",
       "2 (LEFTMOST)   | 0              | LOOK0_SAW0     | ·              | R             \n",
       "2 (LEFTMOST)   | 1              | LOOK1_SAW1     | ·              | R             \n",
       "3 (LOOK0_SAW0) | ▷              | LOOK0_SAW▷     | ▷              | R             \n",
       "3 (LOOK0_SAW0) | ·              | ERASE          | ·              | L             \n",
       "3 (LOOK0_SAW0) | 0              | LOOK0_SAW0     | 0              | R             \n",
       "3 (LOOK0_SAW0) | 1              | LOOK0_SAW1     | 1              | R             \n",
       "4 (LOOK1_SAW1) | ▷              | LOOK1_SAW▷     | ▷              | R             \n",
       "4 (LOOK1_SAW1) | ·              | ERASE          | ·              | L             \n",
       "4 (LOOK1_SAW1) | 0              | LOOK1_SAW0     | 0              | R             \n",
       "4 (LOOK1_SAW1) | 1              | LOOK1_SAW1     | 1              | R             \n",
       "5 (LOOK0_SAW1) | ▷              | LOOK0_SAW▷     | ▷              | R             \n",
       "5 (LOOK0_SAW1) | ·              | OUTPUT0        | ·              | L             \n",
       "5 (LOOK0_SAW1) | 0              | LOOK0_SAW0     | 0              | R             \n",
       "5 (LOOK0_SAW1) | 1              | LOOK0_SAW1     | 1              | R             \n",
       "6 (LOOK1_SAW0) | ▷              | LOOK1_SAW▷     | ▷              | R             \n",
       "6 (LOOK1_SAW0) | ·              | OUTPUT0        | ·              | L             \n",
       "6 (LOOK1_SAW0) | 0              | LOOK1_SAW0     | 0              | R             \n",
       "6 (LOOK1_SAW0) | 1              | LOOK1_SAW1     | 1              | R             \n",
       "7 (ERASE)      | ▷              | SCANLEFT       | ·              | L             \n",
       "7 (ERASE)      | ·              | LEFTMOST       | ·              | R             \n",
       "7 (ERASE)      | 0              | SCANLEFT       | ·              | L             \n",
       "7 (ERASE)      | 1              | SCANLEFT       | ·              | L             \n",
       "_boilerplate_  | ...            | ...            | ...            | ...           \n"
      ],
      "text/plain": [
       "<IPython.core.display.Markdown object>"
      ]
     },
     "metadata": {},
     "output_type": "display_data"
    },
    {
     "data": {
      "text/plain": []
     },
     "execution_count": 78,
     "metadata": {},
     "output_type": "execute_result"
    }
   ],
   "source": [
    "PalM = TuringMachine(palindrome)\n",
    "PalM"
   ]
  },
  {
   "cell_type": "code",
   "execution_count": 81,
   "metadata": {
    "slideshow": {
     "slide_type": "slide"
    }
   },
   "outputs": [
    {
     "name": "stdout",
     "output_type": "stream",
     "text": [
      "START      \u001b[91m▷\u001b[0m11001·\n"
     ]
    }
   ],
   "source": [
    "PalM.input(\"11001\")\n",
    "PalM.printstate()"
   ]
  },
  {
   "cell_type": "code",
   "execution_count": 82,
   "metadata": {
    "slideshow": {
     "slide_type": "fragment"
    }
   },
   "outputs": [
    {
     "name": "stdout",
     "output_type": "stream",
     "text": [
      "START      \u001b[91m▷\u001b[0m11001·\n",
      "LEFTMOST   ▷\u001b[91m1\u001b[0m1001·\n",
      "LOOK1_SAW1 ▷·\u001b[91m1\u001b[0m001·\n",
      "LOOK1_SAW1 ▷·1\u001b[91m0\u001b[0m01·\n",
      "LOOK1_SAW0 ▷·10\u001b[91m0\u001b[0m1·\n",
      "LOOK1_SAW0 ▷·100\u001b[91m1\u001b[0m·\n",
      "LOOK1_SAW1 ▷·1001\u001b[91m·\u001b[0m\n",
      "ERASE      ▷·100\u001b[91m1\u001b[0m·\n",
      "SCANLEFT   ▷·10\u001b[91m0\u001b[0m··\n",
      "SCANLEFT   ▷·1\u001b[91m0\u001b[0m0··\n",
      "SCANLEFT   ▷·\u001b[91m1\u001b[0m00··\n",
      "SCANLEFT   ▷\u001b[91m·\u001b[0m100··\n",
      "LEFTMOST   ▷·\u001b[91m1\u001b[0m00··\n",
      "LOOK1_SAW1 ▷··\u001b[91m0\u001b[0m0··\n",
      "LOOK1_SAW0 ▷··0\u001b[91m0\u001b[0m··\n",
      "LOOK1_SAW0 ▷··00\u001b[91m·\u001b[0m·\n",
      "OUTPUT0    ▷··0\u001b[91m0\u001b[0m··\n",
      "OUTPUT0    ▷··\u001b[91m0\u001b[0m···\n",
      "OUTPUT0    ▷·\u001b[91m·\u001b[0m····\n",
      "OUTPUT0    ▷\u001b[91m·\u001b[0m·····\n",
      "OUTPUT0    \u001b[91m▷\u001b[0m······\n",
      "0ANDSTOP   ▷\u001b[91m·\u001b[0m·····\n",
      "0ANDSTOP   ▷\u001b[91m0\u001b[0m·····\n"
     ]
    },
    {
     "data": {
      "text/plain": [
       "'0'"
      ]
     },
     "execution_count": 82,
     "metadata": {},
     "output_type": "execute_result"
    }
   ],
   "source": [
    "PalM.run()"
   ]
  },
  {
   "cell_type": "markdown",
   "metadata": {
    "slideshow": {
     "slide_type": "slide"
    }
   },
   "source": [
    "## Turing Machines don't have to halt!!"
   ]
  },
  {
   "cell_type": "code",
   "execution_count": 83,
   "metadata": {
    "slideshow": {
     "slide_type": "slide"
    }
   },
   "outputs": [
    {
     "data": {
      "text/markdown": [
       "<B>State    </B> | <B>Sym      </B> | <B>New State</B> | <B>New Sym  </B> | <B>Move     </B>\n",
       "----------|----------|----------|----------|----------\n",
       "0 (START) | ▷         | START     | ▷         | R        \n",
       "0 (START) | ·         | START     | ·         | R        \n",
       "0 (START) | 0         | START     | 0         | R        \n",
       "0 (START) | 1         | START     | 1         | R        \n"
      ],
      "text/plain": [
       "<IPython.core.display.Markdown object>"
      ]
     },
     "metadata": {},
     "output_type": "display_data"
    },
    {
     "data": {
      "text/plain": []
     },
     "execution_count": 83,
     "metadata": {},
     "output_type": "execute_result"
    }
   ],
   "source": [
    "def nonhalting(state,sym):\n",
    "    return state,sym,\"R\"\n",
    "\n",
    "NH = TuringMachine(nonhalting)\n",
    "NH"
   ]
  },
  {
   "cell_type": "code",
   "execution_count": 84,
   "metadata": {
    "slideshow": {
     "slide_type": "fragment"
    }
   },
   "outputs": [
    {
     "name": "stdout",
     "output_type": "stream",
     "text": [
      "START \u001b[91m▷\u001b[0m00111011·\n"
     ]
    }
   ],
   "source": [
    "NH.input(\"00111011\")\n",
    "NH.printstate()"
   ]
  },
  {
   "cell_type": "code",
   "execution_count": 85,
   "metadata": {
    "slideshow": {
     "slide_type": "fragment"
    }
   },
   "outputs": [
    {
     "name": "stdout",
     "output_type": "stream",
     "text": [
      "START \u001b[91m▷\u001b[0m00111011·\n",
      "START ▷\u001b[91m0\u001b[0m0111011·\n",
      "START ▷0\u001b[91m0\u001b[0m111011·\n",
      "START ▷00\u001b[91m1\u001b[0m11011·\n",
      "START ▷001\u001b[91m1\u001b[0m1011·\n",
      "START ▷0011\u001b[91m1\u001b[0m011·\n",
      "START ▷00111\u001b[91m0\u001b[0m11·\n",
      "START ▷001110\u001b[91m1\u001b[0m1·\n",
      "START ▷0011101\u001b[91m1\u001b[0m·\n",
      "START ▷00111011\u001b[91m·\u001b[0m\n",
      "START ▷00111011·\u001b[91m·\u001b[0m\n",
      "START ▷00111011··\u001b[91m·\u001b[0m\n",
      "START ▷00111011···\u001b[91m·\u001b[0m\n",
      "START ▷00111011····\u001b[91m·\u001b[0m\n",
      "START ▷00111011·····\u001b[91m·\u001b[0m\n",
      "START ▷00111011······\u001b[91m·\u001b[0m\n",
      "START ▷00111011·······\u001b[91m·\u001b[0m\n",
      "START ▷00111011········\u001b[91m·\u001b[0m\n",
      "START ▷00111011·········\u001b[91m·\u001b[0m\n",
      "START ▷00111011··········\u001b[91m·\u001b[0m\n",
      "START ▷00111011···········\u001b[91m·\u001b[0m\n",
      "START ▷00111011············\u001b[91m·\u001b[0m\n",
      "START ▷00111011·············\u001b[91m·\u001b[0m\n",
      "START ▷00111011··············\u001b[91m·\u001b[0m\n",
      "START ▷00111011···············\u001b[91m·\u001b[0m\n",
      "START ▷00111011················\u001b[91m·\u001b[0m\n",
      "START ▷00111011·················\u001b[91m·\u001b[0m\n",
      "START ▷00111011··················\u001b[91m·\u001b[0m\n",
      "START ▷00111011···················\u001b[91m·\u001b[0m\n",
      "START ▷00111011····················\u001b[91m·\u001b[0m\n",
      "START ▷00111011·····················\u001b[91m·\u001b[0m\n",
      "START ▷00111011······················\u001b[91m·\u001b[0m\n",
      "START ▷00111011·······················\u001b[91m·\u001b[0m\n",
      "START ▷00111011························\u001b[91m·\u001b[0m\n",
      "START ▷00111011·························\u001b[91m·\u001b[0m\n",
      "START ▷00111011··························\u001b[91m·\u001b[0m\n",
      "START ▷00111011···························\u001b[91m·\u001b[0m\n",
      "START ▷00111011····························\u001b[91m·\u001b[0m\n",
      "START ▷00111011·····························\u001b[91m·\u001b[0m\n",
      "START ▷00111011······························\u001b[91m·\u001b[0m\n",
      "START ▷00111011·······························\u001b[91m·\u001b[0m\n",
      "START ▷00111011································\u001b[91m·\u001b[0m\n",
      "START ▷00111011·································\u001b[91m·\u001b[0m\n",
      "START ▷00111011··································\u001b[91m·\u001b[0m\n",
      "START ▷00111011···································\u001b[91m·\u001b[0m\n",
      "START ▷00111011····································\u001b[91m·\u001b[0m\n",
      "START ▷00111011·····································\u001b[91m·\u001b[0m\n",
      "START ▷00111011······································\u001b[91m·\u001b[0m\n",
      "START ▷00111011·······································\u001b[91m·\u001b[0m\n",
      "START ▷00111011········································\u001b[91m·\u001b[0m\n",
      "START ▷00111011·········································\u001b[91m·\u001b[0m\n",
      "START ▷00111011··········································\u001b[91m·\u001b[0m\n",
      "START ▷00111011···········································\u001b[91m·\u001b[0m\n",
      "START ▷00111011············································\u001b[91m·\u001b[0m\n",
      "START ▷00111011·············································\u001b[91m·\u001b[0m\n",
      "START ▷00111011··············································\u001b[91m·\u001b[0m\n",
      "START ▷00111011···············································\u001b[91m·\u001b[0m\n",
      "START ▷00111011················································\u001b[91m·\u001b[0m\n",
      "START ▷00111011·················································\u001b[91m·\u001b[0m\n",
      "START ▷00111011··················································\u001b[91m·\u001b[0m\n",
      "START ▷00111011···················································\u001b[91m·\u001b[0m\n"
     ]
    },
    {
     "ename": "Exception",
     "evalue": "Too many steps",
     "output_type": "error",
     "traceback": [
      "\u001b[1;31m---------------------------------------------------------------------------\u001b[0m",
      "\u001b[1;31mException\u001b[0m                                 Traceback (most recent call last)",
      "\u001b[1;32m<ipython-input-85-5f2a6c5abcd4>\u001b[0m in \u001b[0;36m<module>\u001b[1;34m\u001b[0m\n\u001b[1;32m----> 1\u001b[1;33m \u001b[0mNH\u001b[0m\u001b[1;33m.\u001b[0m\u001b[0mrun\u001b[0m\u001b[1;33m(\u001b[0m\u001b[1;33m)\u001b[0m\u001b[1;33m\u001b[0m\u001b[1;33m\u001b[0m\u001b[0m\n\u001b[0m",
      "\u001b[1;32m<ipython-input-7-d998810b2f55>\u001b[0m in \u001b[0;36mrun\u001b[1;34m(self, iterate, maxsteps)\u001b[0m\n\u001b[0;32m    132\u001b[0m                 \u001b[0mself\u001b[0m\u001b[1;33m.\u001b[0m\u001b[0mnext\u001b[0m\u001b[1;33m(\u001b[0m\u001b[1;33m)\u001b[0m\u001b[1;33m\u001b[0m\u001b[1;33m\u001b[0m\u001b[0m\n\u001b[0;32m    133\u001b[0m                 \u001b[1;32mif\u001b[0m \u001b[0mt\u001b[0m \u001b[1;33m>=\u001b[0m \u001b[0mmaxsteps\u001b[0m\u001b[1;33m:\u001b[0m\u001b[1;33m\u001b[0m\u001b[1;33m\u001b[0m\u001b[0m\n\u001b[1;32m--> 134\u001b[1;33m                     \u001b[1;32mraise\u001b[0m \u001b[0mException\u001b[0m\u001b[1;33m(\u001b[0m\u001b[1;34m\"Too many steps\"\u001b[0m\u001b[1;33m)\u001b[0m\u001b[1;33m\u001b[0m\u001b[1;33m\u001b[0m\u001b[0m\n\u001b[0m\u001b[0;32m    135\u001b[0m                 \u001b[0mt\u001b[0m \u001b[1;33m+=\u001b[0m \u001b[1;36m1\u001b[0m\u001b[1;33m\u001b[0m\u001b[1;33m\u001b[0m\u001b[0m\n\u001b[0;32m    136\u001b[0m \u001b[1;33m\u001b[0m\u001b[0m\n",
      "\u001b[1;31mException\u001b[0m: Too many steps"
     ]
    }
   ],
   "source": [
    "NH.run()"
   ]
  },
  {
   "cell_type": "markdown",
   "metadata": {
    "slideshow": {
     "slide_type": "slide"
    }
   },
   "source": [
    "__Def:__ If $M$ is Turing Machine and $x\\in \\{0,1\\}^*$ then $M(x)$ denotes the contents of tape of $M$ from second position  until  first empty spot. "
   ]
  },
  {
   "cell_type": "markdown",
   "metadata": {
    "slideshow": {
     "slide_type": "fragment"
    }
   },
   "source": [
    "If $M(x)$ doesn't halt we denote $M(x) = \\bot$."
   ]
  },
  {
   "cell_type": "markdown",
   "metadata": {
    "slideshow": {
     "slide_type": "fragment"
    }
   },
   "source": [
    "__Super important def:__ A TM $M$ _computes_ $F:\\{0,1\\}^* \\rightarrow \\{0,1\\}^*$  if for every $x\\in \\{0,1\\}^*$, $M(x) = F(x)$."
   ]
  },
  {
   "cell_type": "markdown",
   "metadata": {
    "slideshow": {
     "slide_type": "fragment"
    }
   },
   "source": [
    "$F$ is _computable_ if there is a TM that computes it"
   ]
  },
  {
   "cell_type": "markdown",
   "metadata": {
    "slideshow": {
     "slide_type": "fragment"
    }
   },
   "source": [
    "Back to Powerpoint"
   ]
  },
  {
   "cell_type": "code",
   "execution_count": null,
   "metadata": {
    "slideshow": {
     "slide_type": "skip"
    }
   },
   "outputs": [],
   "source": [
    "import time\n",
    "\n",
    "def extractvars(src):\n",
    "    varnames = re.findall( r'(?<!f)[a-zA-Z\\_0-9]+', src, re.I | re.M)\n",
    "    arrays = [\"X\",\"X_nonblank\",\"Y\",\"Y_nonblank\"]\n",
    "    scalars = []\n",
    "    for t in varnames:\n",
    "        if t in ['i','0','1'] or t=='NAND': continue\n",
    "        if t[0].isupper():\n",
    "            if not t in arrays: arrays.append(t)\n",
    "        else:\n",
    "            if not t in scalars: scalars.append(t)\n",
    "    return scalars, arrays\n",
    "    \n",
    "class NANDTM:\n",
    "   \n",
    "        \n",
    "    def _repr_pretty_(self, p, cycle):\n",
    "        if cycle: return \"cycle\"\n",
    "        print (self.source)\n",
    "        \n",
    "    def __init__(self, source):\n",
    "        self.source = [l for l in source.split('\\n') if l]\n",
    "        self.scalars , self.arrays  =  extractvars(source)\n",
    "        self.vals = collections.defaultdict(int)\n",
    "        self.i = 0\n",
    "        self.pc = 0\n",
    "        self.maxlen = 1\n",
    "        self.namelen = max([len(a) for a in self.scalars]+[len(a) for a in self.arrays])\n",
    "        self.MAXSTEPS = 50\n",
    "        self.modified = ()\n",
    "        \n",
    "    def getval(self,varname, i = 0):\n",
    "        return self.vals[(varname,i)]\n",
    "        \n",
    "    def setval(self,varname,i,val):\n",
    "        self.vals[(varname,i)] = val\n",
    "        \n",
    "    \n",
    "    def input(self, x):\n",
    "        for i,a in enumerate(x):\n",
    "            self.setval(\"X\",i,int(a))\n",
    "            self.setval(\"X_nonblank\",i,1)\n",
    "        self.pc = 0\n",
    "        self.i = 0\n",
    "        self.maxlen = len(x)\n",
    "    \n",
    "    def modifiedvar(self):\n",
    "        line = self.source[self.pc]\n",
    "        if line[:9] == \"MODANDJMP\": return (\"_\",0)\n",
    "        foo, op, bar, blah = parseline(line)\n",
    "        if foo[-1]==']':\n",
    "            j = foo.find(\"[\")\n",
    "            name_ = foo[:j]\n",
    "            i_    = self.i if foo[j+1]=='i' else int(foo[j+1:-1])\n",
    "        else:\n",
    "            name_ = foo\n",
    "            i_ = 0\n",
    "        return name_,i_\n",
    "    \n",
    "    def printstate(self):\n",
    "        res = \"\"\n",
    "        def arrvals(name):\n",
    "            def v(name,i):\n",
    "                name_,i_ = self.modifiedvar()\n",
    "                a = str(self.getval(name,i))\n",
    "                if (name_,i_)==(name,i):\n",
    "                    return mygreen(a)\n",
    "                if self.i == i:\n",
    "                    return myred(a)\n",
    "                return a\n",
    "            return \"\".join([v(name,i) for i in range(self.maxlen) ])\n",
    "        name_,i_ = self.modifiedvar()\n",
    "        \n",
    "        for a in self.arrays:\n",
    "            b = mygreen(a.ljust(self.namelen)) if a==name_ else a.ljust(self.namelen)\n",
    "            res += b + \": \"+ arrvals(a)+\"\\n\"\n",
    "        for a in self.scalars:\n",
    "            b = mygreen(a.ljust(self.namelen)) if a==name_ else a.ljust(self.namelen)\n",
    "            res += b + \": \"+ str(self.getval(a))+\"\\n\"\n",
    "        res += \"\\n\"\n",
    "        for p,l in enumerate(self.source):\n",
    "            if p == self.pc:\n",
    "                l = myred(l)\n",
    "            res += l+\"\\n\"\n",
    "        print(res)\n",
    "    \n",
    "    \n",
    "    def next(self,printstate = False):\n",
    "        def pname(foo):\n",
    "            if foo[-1]==']':\n",
    "                j = foo.find(\"[\")\n",
    "                name = foo[:j]\n",
    "                i    = self.i if foo[j+1]=='i' else int(foo[j+1:-1])\n",
    "            else:\n",
    "                name = foo\n",
    "                i = 0\n",
    "            return name,i\n",
    "        \n",
    "        line = self.source[self.pc]\n",
    "        if line[:9] == \"MODANDJMP\":\n",
    "            j = line.find(\"(\")\n",
    "            k = line.find(\",\")\n",
    "            l = line.find(\")\")\n",
    "            a = self.getval(*pname(line[j+1:k].strip()))\n",
    "            b = self.getval(*pname(line[k+1:l].strip()))\n",
    "            if printstate:\n",
    "                clear_output()\n",
    "                self.printstate()\n",
    "            if not a and not b: raise HaltExecution(\"halted\")\n",
    "            if b:\n",
    "                if a: self.i += 1\n",
    "                else: self.i = max(0,self.i-1)\n",
    "            self.pc = 0\n",
    "            self.maxlen = max(self.maxlen, self.i+1)\n",
    "            return\n",
    "        foo, op, bar, blah = parseline(line)\n",
    "        a = self.getval(*pname(bar))\n",
    "        b = self.getval(*pname(blah))\n",
    "        self.setval(*pname(foo),1-a*b)\n",
    "        self.pc = self.pc + 1 \n",
    "        if printstate:\n",
    "            clear_output()\n",
    "            self.printstate()\n",
    "    \n",
    "    def run(self,iterate = False, maxsteps = 0):\n",
    "        if iterate:\n",
    "            print(\"q(uit), n(ext),p(rev),c(lear),r(un),s(kip) XX\")\n",
    "        if not maxsteps:\n",
    "            maxsteps = self.MAXSTEPS\n",
    "        t = 0\n",
    "        noprinting = 0\n",
    "        quit_cmd = False\n",
    "        try:\n",
    "            while True:\n",
    "                if noprinting>0:\n",
    "                    noprinting -= 1\n",
    "                else:\n",
    "                    clear_output()\n",
    "                    self.printstate()\n",
    "                if iterate and noprinting<=0:\n",
    "                    cmd = input(\"\")\n",
    "                    #CURSOR_UP_ONE = '\\x1b[1A'\n",
    "                    #ERASE_LINE = '\\x1b[2K'\n",
    "                    #print(CURSOR_UP_ONE + ERASE_LINE + CURSOR_UP_ONE)\n",
    "                    \n",
    "                    c = cmd[0] if cmd else \"n\"\n",
    "                    if c==\"c\":\n",
    "                        clear_output()\n",
    "                    elif c==\"r\":\n",
    "                        iterate = False\n",
    "                    elif c==\"s\":\n",
    "                        _,num = cmd.split(' ')\n",
    "                        print(\"...\")\n",
    "                        noprinting = int(num)\n",
    "                    elif c==\"p\":\n",
    "                        self.prev()\n",
    "                        t -= 1\n",
    "                        continue\n",
    "                    elif c==\"q\":\n",
    "                        raise QuitExecution(\"User quit\")\n",
    "                self.next()\n",
    "                if t >= maxsteps:\n",
    "                    raise Exception(\"Too many steps\")\n",
    "                t += 1\n",
    "               \n",
    "        except HaltExecution as e:\n",
    "            msg = str(e)\n",
    "            clear_output()\n",
    "            self.printstate()\n",
    "            y = \"\"\n",
    "            i = 0\n",
    "            while self.getval(\"Y_nonblank\",i) :\n",
    "                y += str(self.getval(\"Y\",i))\n",
    "                i += 1\n",
    "            return y\n",
    "        except  QuitExecution as e:\n",
    "            print(str(e))\n",
    "            \n",
    "\n",
    "            "
   ]
  },
  {
   "cell_type": "code",
   "execution_count": 87,
   "metadata": {
    "slideshow": {
     "slide_type": "slide"
    }
   },
   "outputs": [],
   "source": [
    "source = r'''temp_0 = NAND(X[0],X[0])\n",
    "Y_nonblank[0] = NAND(X[0],temp_0)\n",
    "temp_2 = NAND(X[i],Y[0])\n",
    "temp_3 = NAND(X[i],temp_2)\n",
    "temp_4 = NAND(Y[0],temp_2)\n",
    "Y[0] = NAND(temp_3,temp_4)\n",
    "MODANDJMP(X_nonblank[i],X_nonblank[i])'''\n",
    "\n",
    "xorprog = NANDTM(source)\n",
    "xorprog.input(\"111\")"
   ]
  },
  {
   "cell_type": "code",
   "execution_count": 88,
   "metadata": {
    "slideshow": {
     "slide_type": "slide"
    }
   },
   "outputs": [
    {
     "name": "stdout",
     "output_type": "stream",
     "text": [
      "X         : \u001b[91m1\u001b[0m11\n",
      "X_nonblank: \u001b[91m1\u001b[0m11\n",
      "Y         : \u001b[91m0\u001b[0m00\n",
      "Y_nonblank: \u001b[91m0\u001b[0m00\n",
      "MODANDJMP : \u001b[91m0\u001b[0m00\n",
      "\u001b[32mtemp_0    \u001b[0m: 0\n",
      "temp_2    : 0\n",
      "temp_3    : 0\n",
      "temp_4    : 0\n",
      "\n",
      "\u001b[91mtemp_0 = NAND(X[0],X[0])\u001b[0m\n",
      "Y_nonblank[0] = NAND(X[0],temp_0)\n",
      "temp_2 = NAND(X[i],Y[0])\n",
      "temp_3 = NAND(X[i],temp_2)\n",
      "temp_4 = NAND(Y[0],temp_2)\n",
      "Y[0] = NAND(temp_3,temp_4)\n",
      "MODANDJMP(X_nonblank[i],X_nonblank[i])\n",
      "\n"
     ]
    }
   ],
   "source": [
    "xorprog.printstate()"
   ]
  },
  {
   "cell_type": "code",
   "execution_count": 89,
   "metadata": {
    "slideshow": {
     "slide_type": "slide"
    }
   },
   "outputs": [
    {
     "name": "stdout",
     "output_type": "stream",
     "text": [
      "X         : \u001b[91m1\u001b[0m011\n",
      "X_nonblank: \u001b[91m1\u001b[0m111\n",
      "Y         : \u001b[91m0\u001b[0m000\n",
      "Y_nonblank: \u001b[91m0\u001b[0m000\n",
      "MODANDJMP : \u001b[91m0\u001b[0m000\n",
      "\u001b[32mtemp_0    \u001b[0m: 0\n",
      "temp_2    : 0\n",
      "temp_3    : 0\n",
      "temp_4    : 0\n",
      "\n",
      "\u001b[91mtemp_0 = NAND(X[0],X[0])\u001b[0m\n",
      "Y_nonblank[0] = NAND(X[0],temp_0)\n",
      "temp_2 = NAND(X[i],Y[0])\n",
      "temp_3 = NAND(X[i],temp_2)\n",
      "temp_4 = NAND(Y[0],temp_2)\n",
      "Y[0] = NAND(temp_3,temp_4)\n",
      "MODANDJMP(X_nonblank[i],X_nonblank[i])\n",
      "\n"
     ]
    }
   ],
   "source": [
    "xorprog.input(\"1011\")\n",
    "xorprog.printstate()"
   ]
  },
  {
   "cell_type": "code",
   "execution_count": 90,
   "metadata": {
    "slideshow": {
     "slide_type": "slide"
    }
   },
   "outputs": [
    {
     "name": "stdout",
     "output_type": "stream",
     "text": [
      "X         : 1011\u001b[91m0\u001b[0m\n",
      "X_nonblank: 1111\u001b[91m0\u001b[0m\n",
      "Y         : 1000\u001b[91m0\u001b[0m\n",
      "Y_nonblank: 1000\u001b[91m0\u001b[0m\n",
      "MODANDJMP : 0000\u001b[91m0\u001b[0m\n",
      "temp_0    : 0\n",
      "temp_2    : 1\n",
      "temp_3    : 1\n",
      "temp_4    : 0\n",
      "\n",
      "temp_0 = NAND(X[0],X[0])\n",
      "Y_nonblank[0] = NAND(X[0],temp_0)\n",
      "temp_2 = NAND(X[i],Y[0])\n",
      "temp_3 = NAND(X[i],temp_2)\n",
      "temp_4 = NAND(Y[0],temp_2)\n",
      "Y[0] = NAND(temp_3,temp_4)\n",
      "\u001b[91mMODANDJMP(X_nonblank[i],X_nonblank[i])\u001b[0m\n",
      "\n"
     ]
    },
    {
     "data": {
      "text/plain": [
       "'1'"
      ]
     },
     "execution_count": 90,
     "metadata": {},
     "output_type": "execute_result"
    }
   ],
   "source": [
    "xorprog.run(False)"
   ]
  },
  {
   "cell_type": "code",
   "execution_count": 163,
   "metadata": {
    "slideshow": {
     "slide_type": "slide"
    }
   },
   "outputs": [
    {
     "name": "stdout",
     "output_type": "stream",
     "text": [
      "X         : 1111\u001b[91m0\u001b[0m\n",
      "X_nonblank: 1111\u001b[91m0\u001b[0m\n",
      "Y         : 0000\u001b[91m0\u001b[0m\n",
      "Y_nonblank: 1000\u001b[91m0\u001b[0m\n",
      "MODANDJMP : 0000\u001b[91m0\u001b[0m\n",
      "temp_0    : 0\n",
      "temp_2    : 1\n",
      "temp_3    : 1\n",
      "temp_4    : 1\n",
      "\n",
      "temp_0 = NAND(X[0],X[0])\n",
      "Y_nonblank[0] = NAND(X[0],temp_0)\n",
      "temp_2 = NAND(X[i],Y[0])\n",
      "temp_3 = NAND(X[i],temp_2)\n",
      "temp_4 = NAND(Y[0],temp_2)\n",
      "Y[0] = NAND(temp_3,temp_4)\n",
      "\u001b[91mMODANDJMP(X_nonblank[i],X_nonblank[i])\u001b[0m\n",
      "\n"
     ]
    },
    {
     "data": {
      "text/plain": [
       "'0'"
      ]
     },
     "execution_count": 163,
     "metadata": {},
     "output_type": "execute_result"
    }
   ],
   "source": [
    "xorprog.input(\"111\")\n",
    "xorprog.run(False)"
   ]
  },
  {
   "cell_type": "code",
   "execution_count": 162,
   "metadata": {
    "slideshow": {
     "slide_type": "slide"
    }
   },
   "outputs": [
    {
     "name": "stdout",
     "output_type": "stream",
     "text": [
      "X         : 1111\u001b[91m0\u001b[0m\n",
      "X_nonblank: 1111\u001b[91m0\u001b[0m\n",
      "Y         : 0000\u001b[91m0\u001b[0m\n",
      "Y_nonblank: 1000\u001b[91m0\u001b[0m\n",
      "MODANDJMP : 0000\u001b[91m0\u001b[0m\n",
      "temp_0    : 0\n",
      "temp_2    : 1\n",
      "temp_3    : 1\n",
      "temp_4    : 1\n",
      "\n",
      "temp_0 = NAND(X[0],X[0])\n",
      "Y_nonblank[0] = NAND(X[0],temp_0)\n",
      "temp_2 = NAND(X[i],Y[0])\n",
      "temp_3 = NAND(X[i],temp_2)\n",
      "temp_4 = NAND(Y[0],temp_2)\n",
      "Y[0] = NAND(temp_3,temp_4)\n",
      "\u001b[91mMODANDJMP(X_nonblank[i],X_nonblank[i])\u001b[0m\n",
      "\n"
     ]
    },
    {
     "ename": "HaltExecution",
     "evalue": "halted",
     "output_type": "error",
     "traceback": [
      "\u001b[1;31m---------------------------------------------------------------------------\u001b[0m",
      "\u001b[1;31mHaltExecution\u001b[0m                             Traceback (most recent call last)",
      "\u001b[1;32m<ipython-input-162-b2105633b4fe>\u001b[0m in \u001b[0;36m<module>\u001b[1;34m\u001b[0m\n\u001b[1;32m----> 1\u001b[1;33m \u001b[0mxorprog\u001b[0m\u001b[1;33m.\u001b[0m\u001b[0mnext\u001b[0m\u001b[1;33m(\u001b[0m\u001b[1;32mTrue\u001b[0m\u001b[1;33m)\u001b[0m\u001b[1;33m\u001b[0m\u001b[1;33m\u001b[0m\u001b[0m\n\u001b[0m",
      "\u001b[1;32m<ipython-input-64-057aa62c7dfc>\u001b[0m in \u001b[0;36mnext\u001b[1;34m(self, printstate)\u001b[0m\n\u001b[0;32m    108\u001b[0m                 \u001b[0mclear_output\u001b[0m\u001b[1;33m(\u001b[0m\u001b[1;33m)\u001b[0m\u001b[1;33m\u001b[0m\u001b[1;33m\u001b[0m\u001b[0m\n\u001b[0;32m    109\u001b[0m                 \u001b[0mself\u001b[0m\u001b[1;33m.\u001b[0m\u001b[0mprintstate\u001b[0m\u001b[1;33m(\u001b[0m\u001b[1;33m)\u001b[0m\u001b[1;33m\u001b[0m\u001b[1;33m\u001b[0m\u001b[0m\n\u001b[1;32m--> 110\u001b[1;33m             \u001b[1;32mif\u001b[0m \u001b[1;32mnot\u001b[0m \u001b[0ma\u001b[0m \u001b[1;32mand\u001b[0m \u001b[1;32mnot\u001b[0m \u001b[0mb\u001b[0m\u001b[1;33m:\u001b[0m \u001b[1;32mraise\u001b[0m \u001b[0mHaltExecution\u001b[0m\u001b[1;33m(\u001b[0m\u001b[1;34m\"halted\"\u001b[0m\u001b[1;33m)\u001b[0m\u001b[1;33m\u001b[0m\u001b[1;33m\u001b[0m\u001b[0m\n\u001b[0m\u001b[0;32m    111\u001b[0m             \u001b[1;32mif\u001b[0m \u001b[0mb\u001b[0m\u001b[1;33m:\u001b[0m\u001b[1;33m\u001b[0m\u001b[1;33m\u001b[0m\u001b[0m\n\u001b[0;32m    112\u001b[0m                 \u001b[1;32mif\u001b[0m \u001b[0ma\u001b[0m\u001b[1;33m:\u001b[0m \u001b[0mself\u001b[0m\u001b[1;33m.\u001b[0m\u001b[0mi\u001b[0m \u001b[1;33m+=\u001b[0m \u001b[1;36m1\u001b[0m\u001b[1;33m\u001b[0m\u001b[1;33m\u001b[0m\u001b[0m\n",
      "\u001b[1;31mHaltExecution\u001b[0m: halted"
     ]
    }
   ],
   "source": [
    "xorprog.next(True)"
   ]
  }
 ],
 "metadata": {
  "celltoolbar": "Slideshow",
  "kernelspec": {
   "display_name": "Python 3",
   "language": "python",
   "name": "python3"
  },
  "language_info": {
   "codemirror_mode": {
    "name": "ipython",
    "version": 3
   },
   "file_extension": ".py",
   "mimetype": "text/x-python",
   "name": "python",
   "nbconvert_exporter": "python",
   "pygments_lexer": "ipython3",
   "version": "3.7.2"
  }
 },
 "nbformat": 4,
 "nbformat_minor": 4
}
