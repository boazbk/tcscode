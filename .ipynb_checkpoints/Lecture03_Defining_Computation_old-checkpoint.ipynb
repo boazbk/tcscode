{
 "cells": [
  {
   "cell_type": "markdown",
   "metadata": {
    "slideshow": {
     "slide_type": "skip"
    }
   },
   "source": [
    "[google collab version](https://colab.research.google.com/github/boazbk/nandnotebooks/blob/master/Lecture03_Defining_Computation.ipynb) (might have to click to allow \"scripts from insecure source\")"
   ]
  },
  {
   "cell_type": "code",
   "execution_count": 115,
   "metadata": {
    "slideshow": {
     "slide_type": "slide"
    }
   },
   "outputs": [
    {
     "data": {
      "text/html": [
       "<style>\n",
       "\n",
       ".CodeMirror {\n",
       "    width: 100vw;\n",
       "}\n",
       "S\n",
       ".container {\n",
       "    width: 99% !important;\n",
       "}\n",
       "\n",
       ".rendered_html {\n",
       "  font-size:0.8em;\n",
       "}\n",
       ".rendered_html table, .rendered_html th, .rendered_html tr, .rendered_html td {\n",
       "     font-size: 100%;\n",
       "}\n",
       "\n",
       "</style>"
      ],
      "text/plain": [
       "<IPython.core.display.HTML object>"
      ]
     },
     "metadata": {},
     "output_type": "display_data"
    }
   ],
   "source": [
    "%%html\n",
    "<style>\n",
    "\n",
    ".CodeMirror {\n",
    "    width: 100vw;\n",
    "}\n",
    "S\n",
    ".container {\n",
    "    width: 99% !important;\n",
    "}\n",
    "\n",
    ".rendered_html {\n",
    "  font-size:0.8em;\n",
    "}\n",
    ".rendered_html table, .rendered_html th, .rendered_html tr, .rendered_html td {\n",
    "     font-size: 100%;\n",
    "}\n",
    "\n",
    "</style>"
   ]
  },
  {
   "cell_type": "code",
   "execution_count": null,
   "metadata": {
    "slideshow": {
     "slide_type": "skip"
    }
   },
   "outputs": [],
   "source": [
    "%%capture\n",
    "%run \"NAND programming language.ipynb\"\n",
    "# from IPython.display import clear_output\n",
    "# clear_output()"
   ]
  },
  {
   "cell_type": "markdown",
   "metadata": {
    "slideshow": {
     "slide_type": "slide"
    }
   },
   "source": [
    "![alt](ahlfors.png \"\")"
   ]
  },
  {
   "cell_type": "markdown",
   "metadata": {
    "slideshow": {
     "slide_type": "slide"
    }
   },
   "source": [
    "## Lecture 3: Defining Computation"
   ]
  },
  {
   "cell_type": "code",
   "execution_count": 113,
   "metadata": {
    "slideshow": {
     "slide_type": "fragment"
    }
   },
   "outputs": [
    {
     "data": {
      "text/html": [
       "Laptops etc last 5 rows<br><iframe src=\"http://free.timeanddate.com/countdown/i5vf6j5p/n43/cf11/cm0/cu4/ct1/cs1/ca0/co0/cr0/ss0/cac09f/cpc09f/pct/tcfff/fs100/szw576/szh243/iso2018-09-11T10:30:00\" allowTransparency=\"true\" frameborder=\"0\" width=\"177\" height=\"35\"></iframe>"
      ],
      "text/plain": [
       "<IPython.core.display.HTML object>"
      ]
     },
     "execution_count": 113,
     "metadata": {},
     "output_type": "execute_result"
    }
   ],
   "source": [
    "from IPython.core.display import HTML\n",
    "HTML('Laptops etc last 5 rows<br><iframe src=\"http://free.timeanddate.com/countdown/i5vf6j5p/n43/cf11/cm0/cu4/ct1/cs1/ca0/co0/cr0/ss0/cac09f/cpc09f/pct/tcfff/fs100/szw576/szh243/iso2018-09-11T10:30:00\" allowTransparency=\"true\" frameborder=\"0\" width=\"177\" height=\"35\"></iframe>')\n"
   ]
  },
  {
   "cell_type": "markdown",
   "metadata": {
    "slideshow": {
     "slide_type": "skip"
    }
   },
   "source": [
    "   ## On collaboration\n",
    "    \n",
    "   Solving  _80% of questions on your own_ is better for your understanding __and grade__ than solving _100% with others_.\n",
    "\n"
   ]
  },
  {
   "cell_type": "markdown",
   "metadata": {
    "slideshow": {
     "slide_type": "slide"
    }
   },
   "source": [
    "## Computation\n",
    "\n",
    "Like a recipe - follow _sequence of basic steps_ to achieve desired result"
   ]
  },
  {
   "cell_type": "markdown",
   "metadata": {
    "slideshow": {
     "slide_type": "fragment"
    }
   },
   "source": [
    "Important to distinguish **what** and **how**"
   ]
  },
  {
   "cell_type": "markdown",
   "metadata": {
    "slideshow": {
     "slide_type": "fragment"
    }
   },
   "source": [
    "**what**/**specification**: The function $F:\\{0,1\\}^n \\rightarrow \\{0,1\\}^m$ we want to compute"
   ]
  },
  {
   "cell_type": "markdown",
   "metadata": {
    "slideshow": {
     "slide_type": "fragment"
    }
   },
   "source": [
    "**how**/**implementation**: The _algorithm_ or _program_ specifying instructions how to compute it."
   ]
  },
  {
   "cell_type": "markdown",
   "metadata": {
    "slideshow": {
     "slide_type": "fragment"
    }
   },
   "source": [
    "There are many programs to compute the same function!"
   ]
  },
  {
   "cell_type": "markdown",
   "metadata": {
    "slideshow": {
     "slide_type": "slide"
    }
   },
   "source": [
    "## Is the following a function?"
   ]
  },
  {
   "cell_type": "code",
   "execution_count": null,
   "metadata": {
    "slideshow": {
     "slide_type": "fragment"
    }
   },
   "outputs": [],
   "source": [
    "def f(n):\n",
    "    return n*2"
   ]
  },
  {
   "cell_type": "markdown",
   "metadata": {
    "slideshow": {
     "slide_type": "fragment"
    }
   },
   "source": [
    "a. Yes\n",
    "\n",
    "b. No\n",
    "\n",
    "[pollev.com/cs121](http://pollev.com/cs121)"
   ]
  },
  {
   "cell_type": "code",
   "execution_count": 117,
   "metadata": {
    "scrolled": true,
    "slideshow": {
     "slide_type": "fragment"
    }
   },
   "outputs": [
    {
     "data": {
      "text/html": [
       "<iframe src=\"https://e.ggtimer.com/60?alert=false\" frameborder=\"0\" allowfullscreen  width=\" 80%\" height=\"100\" style=\"box-shadow: 0 0 16px gray; margin: 10px;\" name=\"test\" id=\"test\"></iframe>"
      ],
      "text/plain": [
       "<IPython.core.display.HTML object>"
      ]
     },
     "metadata": {},
     "output_type": "display_data"
    }
   ],
   "source": [
    "%%html\n",
    "<iframe src=\"https://e.ggtimer.com/60?alert=false\" frameborder=\"0\" allowfullscreen  width=\" 80%\" height=\"100\" style=\"box-shadow: 0 0 16px gray; margin: 10px;\" name=\"test\" id=\"test\"></iframe>"
   ]
  },
  {
   "cell_type": "markdown",
   "metadata": {
    "slideshow": {
     "slide_type": "slide"
    }
   },
   "source": [
    "## NO"
   ]
  },
  {
   "cell_type": "code",
   "execution_count": null,
   "metadata": {
    "slideshow": {
     "slide_type": "fragment"
    }
   },
   "outputs": [],
   "source": [
    "def f(n):\n",
    "    return n*2\n",
    "\n",
    "def g(n):\n",
    "    L = []\n",
    "    for i in range(n): L = L + [2]\n",
    "    return sum(L)\n",
    "    "
   ]
  },
  {
   "cell_type": "code",
   "execution_count": 121,
   "metadata": {
    "slideshow": {
     "slide_type": "fragment"
    }
   },
   "outputs": [
    {
     "data": {
      "text/plain": [
       "60000"
      ]
     },
     "execution_count": 121,
     "metadata": {},
     "output_type": "execute_result"
    }
   ],
   "source": [
    "f(30000)"
   ]
  },
  {
   "cell_type": "code",
   "execution_count": 122,
   "metadata": {
    "slideshow": {
     "slide_type": "fragment"
    }
   },
   "outputs": [
    {
     "data": {
      "text/plain": [
       "60000"
      ]
     },
     "execution_count": 122,
     "metadata": {},
     "output_type": "execute_result"
    }
   ],
   "source": [
    "g(30000)"
   ]
  },
  {
   "cell_type": "code",
   "execution_count": 120,
   "metadata": {
    "slideshow": {
     "slide_type": "fragment"
    }
   },
   "outputs": [
    {
     "data": {
      "text/plain": [
       "[True, True, True, True, True, True, True, True, True, True]"
      ]
     },
     "execution_count": 120,
     "metadata": {},
     "output_type": "execute_result"
    }
   ],
   "source": [
    "[f(n)==g(n) for n in range(10)]"
   ]
  },
  {
   "cell_type": "markdown",
   "metadata": {
    "slideshow": {
     "slide_type": "fragment"
    }
   },
   "source": [
    "`f` and `g` _compute_ the same function but they are _not_ identical objects. "
   ]
  },
  {
   "cell_type": "markdown",
   "metadata": {
    "slideshow": {
     "slide_type": "slide"
    }
   },
   "source": [
    "## Computing using NAND"
   ]
  },
  {
   "cell_type": "markdown",
   "metadata": {
    "slideshow": {
     "slide_type": "fragment"
    }
   },
   "source": [
    "![alt](transistor-NAND-Gate.png \"\")"
   ]
  },
  {
   "cell_type": "markdown",
   "metadata": {
    "slideshow": {
     "slide_type": "slide"
    }
   },
   "source": [
    "![alt](moorelaw.jpeg \"\")"
   ]
  },
  {
   "cell_type": "code",
   "execution_count": 123,
   "metadata": {
    "slideshow": {
     "slide_type": "slide"
    }
   },
   "outputs": [
    {
     "data": {
      "image/svg+xml": [
       "<?xml version=\"1.0\" encoding=\"UTF-8\" standalone=\"no\"?>\r\n",
       "<!DOCTYPE svg PUBLIC \"-//W3C//DTD SVG 1.1//EN\"\r\n",
       " \"http://www.w3.org/Graphics/SVG/1.1/DTD/svg11.dtd\">\r\n",
       "<!-- Generated by graphviz version 2.38.0 (20140413.2041)\r\n",
       " -->\r\n",
       "<!-- Title: %3 Pages: 1 -->\r\n",
       "<svg width=\"253pt\" height=\"98pt\"\r\n",
       " viewBox=\"0.00 0.00 253.21 98.00\" xmlns=\"http://www.w3.org/2000/svg\" xmlns:xlink=\"http://www.w3.org/1999/xlink\">\r\n",
       "<g id=\"graph0\" class=\"graph\" transform=\"scale(1 1) rotate(0) translate(4 94)\">\r\n",
       "<title>%3</title>\r\n",
       "<polygon fill=\"white\" stroke=\"none\" points=\"-4,4 -4,-94 249.209,-94 249.209,4 -4,4\"/>\r\n",
       "<!-- v0 -->\r\n",
       "<g id=\"node1\" class=\"node\"><title>v0</title>\r\n",
       "<polygon fill=\"none\" stroke=\"black\" points=\"42,-66 0,-66 0,-24 42,-24 42,-66\"/>\r\n",
       "<text text-anchor=\"middle\" x=\"21\" y=\"-41.3\" font-family=\"Times New Roman,serif\" font-size=\"14.00\" fill=\"blue\">X[0]</text>\r\n",
       "</g>\r\n",
       "<!-- v1 -->\r\n",
       "<g id=\"node2\" class=\"node\"><title>v1</title>\r\n",
       "<polygon fill=\"none\" stroke=\"black\" points=\"113.343,-54 132,-72 113.343,-90 83.1565,-89.9832 83.1565,-54.0168 113.343,-54\"/>\r\n",
       "<text text-anchor=\"middle\" x=\"105\" y=\"-68.3\" font-family=\"Times New Roman,serif\" font-size=\"14.00\">∧̅</text>\r\n",
       "</g>\r\n",
       "<!-- v0&#45;&gt;v1 -->\r\n",
       "<g id=\"edge1\" class=\"edge\"><title>v0&#45;&gt;v1</title>\r\n",
       "<path fill=\"none\" stroke=\"black\" d=\"M42.2697,-45.7584C51.6861,-48.0298 63.0823,-51.5711 73.5068,-55.4106\"/>\r\n",
       "<polygon fill=\"black\" stroke=\"black\" points=\"72.519,-58.7819 83.1074,-59.1513 75.0604,-52.2595 72.519,-58.7819\"/>\r\n",
       "</g>\r\n",
       "<!-- v0&#45;&gt;v1 -->\r\n",
       "<g id=\"edge2\" class=\"edge\"><title>v0&#45;&gt;v1</title>\r\n",
       "<path fill=\"none\" stroke=\"black\" d=\"M42.2697,-57.5899C51.589,-61.4791 62.8476,-65.4014 73.1841,-68.4147\"/>\r\n",
       "<polygon fill=\"black\" stroke=\"black\" points=\"72.541,-71.8662 83.1074,-71.0902 74.3633,-65.1076 72.541,-71.8662\"/>\r\n",
       "</g>\r\n",
       "<!-- v2 -->\r\n",
       "<g id=\"node3\" class=\"node\"><title>v2</title>\r\n",
       "<polygon fill=\"none\" stroke=\"black\" points=\"113.343,-0 132,-18 113.343,-36 83.1565,-35.9832 83.1565,-0.0168009 113.343,-0\"/>\r\n",
       "<text text-anchor=\"middle\" x=\"105\" y=\"-14.3\" font-family=\"Times New Roman,serif\" font-size=\"14.00\">∧̅</text>\r\n",
       "</g>\r\n",
       "<!-- v0&#45;&gt;v2 -->\r\n",
       "<g id=\"edge3\" class=\"edge\"><title>v0&#45;&gt;v2</title>\r\n",
       "<path fill=\"none\" stroke=\"black\" d=\"M42.2697,-32.4101C51.589,-28.5209 62.8476,-24.5986 73.1841,-21.5853\"/>\r\n",
       "<polygon fill=\"black\" stroke=\"black\" points=\"74.3633,-24.8924 83.1074,-18.9098 72.541,-18.1338 74.3633,-24.8924\"/>\r\n",
       "</g>\r\n",
       "<!-- v0&#45;&gt;v2 -->\r\n",
       "<g id=\"edge4\" class=\"edge\"><title>v0&#45;&gt;v2</title>\r\n",
       "<path fill=\"none\" stroke=\"black\" d=\"M42.2697,-44.2416C51.6861,-41.9702 63.0823,-38.4289 73.5068,-34.5894\"/>\r\n",
       "<polygon fill=\"black\" stroke=\"black\" points=\"75.0604,-37.7405 83.1074,-30.8487 72.519,-31.2181 75.0604,-37.7405\"/>\r\n",
       "</g>\r\n",
       "<!-- v3 -->\r\n",
       "<g id=\"node4\" class=\"node\"><title>v3</title>\r\n",
       "<polygon fill=\"none\" stroke=\"black\" points=\"167.895,-45 206.605,-27 245.314,-45 206.605,-63 167.895,-45\"/>\r\n",
       "<text text-anchor=\"middle\" x=\"206.605\" y=\"-41.3\" font-family=\"Times New Roman,serif\" font-size=\"14.00\" fill=\"red\">Y[0]</text>\r\n",
       "</g>\r\n",
       "<!-- v1&#45;&gt;v3 -->\r\n",
       "<g id=\"edge5\" class=\"edge\"><title>v1&#45;&gt;v3</title>\r\n",
       "<path fill=\"none\" stroke=\"black\" d=\"M126.638,-66.4056C139.602,-62.8916 156.635,-58.2742 171.563,-54.2277\"/>\r\n",
       "<polygon fill=\"black\" stroke=\"black\" points=\"172.749,-57.5326 181.485,-51.5381 170.918,-50.7764 172.749,-57.5326\"/>\r\n",
       "</g>\r\n",
       "<!-- v2&#45;&gt;v3 -->\r\n",
       "<g id=\"edge6\" class=\"edge\"><title>v2&#45;&gt;v3</title>\r\n",
       "<path fill=\"none\" stroke=\"black\" d=\"M126.638,-23.5944C139.602,-27.1084 156.635,-31.7258 171.563,-35.7723\"/>\r\n",
       "<polygon fill=\"black\" stroke=\"black\" points=\"170.918,-39.2236 181.485,-38.4619 172.749,-32.4674 170.918,-39.2236\"/>\r\n",
       "</g>\r\n",
       "</g>\r\n",
       "</svg>\r\n"
      ],
      "text/plain": [
       "<graphviz.dot.Digraph at 0x2120d00bb38>"
      ]
     },
     "execution_count": 123,
     "metadata": {},
     "output_type": "execute_result"
    }
   ],
   "source": [
    "def mystery1(x): return NAND(NAND(x,x),NAND(x,x))\n",
    "\n",
    "nandcircuit(mystery1)"
   ]
  },
  {
   "cell_type": "code",
   "execution_count": 124,
   "metadata": {
    "slideshow": {
     "slide_type": "fragment"
    }
   },
   "outputs": [
    {
     "name": "stdout",
     "output_type": "stream",
     "text": [
      "\n",
      "Temp[0] = NAND(X[0],X[0])\n",
      "Temp[1] = NAND(X[0],X[0])\n",
      "Y[0] = NAND(Temp[0],Temp[1])\n"
     ]
    }
   ],
   "source": [
    "print(nandcode(mystery1))"
   ]
  },
  {
   "cell_type": "markdown",
   "metadata": {
    "slideshow": {
     "slide_type": "fragment"
    }
   },
   "source": [
    "What function does `mystery1` compute?"
   ]
  },
  {
   "cell_type": "code",
   "execution_count": 125,
   "metadata": {
    "slideshow": {
     "slide_type": "fragment"
    }
   },
   "outputs": [
    {
     "data": {
      "text/html": [
       "<iframe src=\"https://e.ggtimer.com/120?alert=false\" frameborder=\"0\" allowfullscreen  width=\" 80%\" height=\"100\" style=\"box-shadow: 0 0 16px gray; margin: 10px;\" name=\"test\" id=\"test\"></iframe>"
      ],
      "text/plain": [
       "<IPython.core.display.HTML object>"
      ]
     },
     "metadata": {},
     "output_type": "display_data"
    }
   ],
   "source": [
    "%%html\n",
    "<iframe src=\"https://e.ggtimer.com/120?alert=false\" frameborder=\"0\" allowfullscreen  width=\" 80%\" height=\"100\" style=\"box-shadow: 0 0 16px gray; margin: 10px;\" name=\"test\" id=\"test\"></iframe>"
   ]
  },
  {
   "cell_type": "code",
   "execution_count": null,
   "metadata": {
    "slideshow": {
     "slide_type": "skip"
    }
   },
   "outputs": [],
   "source": [
    "def mystery2(a,b): return AND(a,NOT(b))"
   ]
  },
  {
   "cell_type": "markdown",
   "metadata": {
    "slideshow": {
     "slide_type": "slide"
    }
   },
   "source": [
    "## Which function does mystery2 compute?"
   ]
  },
  {
   "cell_type": "code",
   "execution_count": 129,
   "metadata": {
    "slideshow": {
     "slide_type": "fragment"
    }
   },
   "outputs": [
    {
     "name": "stdout",
     "output_type": "stream",
     "text": [
      "\n",
      "Temp[0] = NAND(X[1],X[1])\n",
      "Temp[1] = NAND(X[0],Temp[0])\n",
      "Y[0] = NAND(Temp[1],Temp[1])\n"
     ]
    }
   ],
   "source": [
    "print(nandcode(mystery2))"
   ]
  },
  {
   "cell_type": "code",
   "execution_count": 127,
   "metadata": {
    "slideshow": {
     "slide_type": "fragment"
    }
   },
   "outputs": [
    {
     "data": {
      "text/html": [
       "<iframe src=\"https://e.ggtimer.com/180?alert=false\" frameborder=\"0\" allowfullscreen  width=\" 70%\" height=\"100\" style=\"box-shadow: 0 0 16px gray; margin: 10px;\" name=\"test\" id=\"test\"></iframe>"
      ],
      "text/plain": [
       "<IPython.core.display.HTML object>"
      ]
     },
     "metadata": {},
     "output_type": "display_data"
    }
   ],
   "source": [
    "%%html\n",
    "<iframe src=\"https://e.ggtimer.com/180?alert=false\" frameborder=\"0\" allowfullscreen  width=\" 70%\" height=\"100\" style=\"box-shadow: 0 0 16px gray; margin: 10px;\" name=\"test\" id=\"test\"></iframe>"
   ]
  },
  {
   "cell_type": "code",
   "execution_count": 130,
   "metadata": {
    "slideshow": {
     "slide_type": "fragment"
    }
   },
   "outputs": [
    {
     "name": "stdout",
     "output_type": "stream",
     "text": [
      "0 0 | 0\n",
      "0 1 | 0\n",
      "1 0 | 1\n",
      "1 1 | 0\n"
     ]
    }
   ],
   "source": [
    "for a in [0,1]: \n",
    "    for b in [0,1]:\n",
    "        print(f\"{a} {b} | {mystery2(a,b)}\") "
   ]
  },
  {
   "cell_type": "markdown",
   "metadata": {
    "slideshow": {
     "slide_type": "slide"
    }
   },
   "source": [
    "__Exercise:__  Draw NAND circuit for function $BIG_2:\\{0,1\\}^4 \\rightarrow \\{0,1\\}$ such that $BIGGER(a,b,c,d)=1$ iff $a+2*b > c +2*d$"
   ]
  },
  {
   "cell_type": "code",
   "execution_count": 131,
   "metadata": {
    "slideshow": {
     "slide_type": "fragment"
    }
   },
   "outputs": [
    {
     "data": {
      "text/html": [
       "<iframe src=\"https://e.ggtimer.com/240?alert=false\" frameborder=\"0\" allowfullscreen  width=\" 80%\" height=\"100\" style=\"box-shadow: 0 0 16px gray; margin: 10px;\" name=\"test\" id=\"test\"></iframe>"
      ],
      "text/plain": [
       "<IPython.core.display.HTML object>"
      ]
     },
     "metadata": {},
     "output_type": "display_data"
    }
   ],
   "source": [
    "%%html\n",
    "<iframe src=\"https://e.ggtimer.com/240?alert=false\" frameborder=\"0\" allowfullscreen  width=\" 80%\" height=\"100\" style=\"box-shadow: 0 0 16px gray; margin: 10px;\" name=\"test\" id=\"test\"></iframe>"
   ]
  },
  {
   "cell_type": "markdown",
   "metadata": {
    "slideshow": {
     "slide_type": "slide"
    }
   },
   "source": [
    "__Exercise:__  Draw NAND circuit for function $BIG_2:\\{0,1\\}^4 \\rightarrow \\{0,1\\}$ such that $BIGGER(a,b,c,d)=1$ iff $a+2*b > c +2*d$"
   ]
  },
  {
   "cell_type": "code",
   "execution_count": 132,
   "metadata": {
    "slideshow": {
     "slide_type": "fragment"
    }
   },
   "outputs": [],
   "source": [
    "def NOT(a): return NAND(a,a)\n",
    "def OR(a,b): return NAND(NOT(a),NOT(b))\n",
    "def AND(a,b): return NOT(NAND(a,b))\n",
    "#  b>d OR [ NOT(d>b) AND ( a>c ) ]\n",
    "def BIG2(a,b,c,d):  return OR(mystery2(b,d),AND(NOT(mystery2(d,b)),mystery2(a,c)))"
   ]
  },
  {
   "cell_type": "code",
   "execution_count": null,
   "metadata": {
    "slideshow": {
     "slide_type": "skip"
    }
   },
   "outputs": [],
   "source": [
    "import itertools"
   ]
  },
  {
   "cell_type": "code",
   "execution_count": 133,
   "metadata": {
    "slideshow": {
     "slide_type": "fragment"
    }
   },
   "outputs": [
    {
     "name": "stdout",
     "output_type": "stream",
     "text": [
      "0 0 0 0 |  0 0 | 0\n",
      "0 0 0 1 |  0 2 | 0\n",
      "0 0 1 0 |  0 1 | 0\n",
      "0 0 1 1 |  0 3 | 0\n",
      "0 1 0 0 |  2 0 | 1\n",
      "0 1 0 1 |  2 2 | 0\n",
      "0 1 1 0 |  2 1 | 1\n",
      "0 1 1 1 |  2 3 | 0\n",
      "1 0 0 0 |  1 0 | 1\n",
      "1 0 0 1 |  1 2 | 0\n",
      "1 0 1 0 |  1 1 | 0\n",
      "1 0 1 1 |  1 3 | 0\n",
      "1 1 0 0 |  3 0 | 1\n",
      "1 1 0 1 |  3 2 | 1\n",
      "1 1 1 0 |  3 1 | 1\n",
      "1 1 1 1 |  3 3 | 0\n"
     ]
    }
   ],
   "source": [
    "for (a,b,c,d) in itertools.product([0,1],[0,1],[0,1],[0,1]): # ∀(a,b,c,d)∈{0,1}×{0,1}×{0,1}×{0,1}\n",
    "    print(f\"{a} {b} {c} {d} |  {a+2*b} {c+2*d} | {BIG2(a,b,c,d)}\")"
   ]
  },
  {
   "cell_type": "code",
   "execution_count": 134,
   "metadata": {
    "slideshow": {
     "slide_type": "slide"
    }
   },
   "outputs": [
    {
     "data": {
      "image/svg+xml": [
       "<?xml version=\"1.0\" encoding=\"UTF-8\" standalone=\"no\"?>\r\n",
       "<!DOCTYPE svg PUBLIC \"-//W3C//DTD SVG 1.1//EN\"\r\n",
       " \"http://www.w3.org/Graphics/SVG/1.1/DTD/svg11.dtd\">\r\n",
       "<!-- Generated by graphviz version 2.38.0 (20140413.2041)\r\n",
       " -->\r\n",
       "<!-- Title: %3 Pages: 1 -->\r\n",
       "<svg width=\"793pt\" height=\"241pt\"\r\n",
       " viewBox=\"0.00 0.00 793.21 241.27\" xmlns=\"http://www.w3.org/2000/svg\" xmlns:xlink=\"http://www.w3.org/1999/xlink\">\r\n",
       "<g id=\"graph0\" class=\"graph\" transform=\"scale(1 1) rotate(0) translate(4 237.273)\">\r\n",
       "<title>%3</title>\r\n",
       "<polygon fill=\"white\" stroke=\"none\" points=\"-4,4 -4,-237.273 789.209,-237.273 789.209,4 -4,4\"/>\r\n",
       "<!-- v0 -->\r\n",
       "<g id=\"node1\" class=\"node\"><title>v0</title>\r\n",
       "<polygon fill=\"none\" stroke=\"black\" points=\"216,-99 174,-99 174,-57 216,-57 216,-99\"/>\r\n",
       "<text text-anchor=\"middle\" x=\"195\" y=\"-74.3\" font-family=\"Times New Roman,serif\" font-size=\"14.00\" fill=\"blue\">X[0]</text>\r\n",
       "</g>\r\n",
       "<!-- v12 -->\r\n",
       "<g id=\"node13\" class=\"node\"><title>v12</title>\r\n",
       "<polygon fill=\"none\" stroke=\"black\" points=\"293.343,-60 312,-78 293.343,-96 263.157,-95.9832 263.157,-60.0168 293.343,-60\"/>\r\n",
       "<text text-anchor=\"middle\" x=\"285\" y=\"-74.3\" font-family=\"Times New Roman,serif\" font-size=\"14.00\">∧̅</text>\r\n",
       "</g>\r\n",
       "<!-- v0&#45;&gt;v12 -->\r\n",
       "<g id=\"edge17\" class=\"edge\"><title>v0&#45;&gt;v12</title>\r\n",
       "<path fill=\"none\" stroke=\"black\" d=\"M216.41,-78C227.249,-78 240.799,-78 252.915,-78\"/>\r\n",
       "<polygon fill=\"black\" stroke=\"black\" points=\"253.089,-81.5001 263.089,-78 253.089,-74.5001 253.089,-81.5001\"/>\r\n",
       "</g>\r\n",
       "<!-- v1 -->\r\n",
       "<g id=\"node2\" class=\"node\"><title>v1</title>\r\n",
       "<polygon fill=\"none\" stroke=\"black\" points=\"42,-153 0,-153 0,-111 42,-111 42,-153\"/>\r\n",
       "<text text-anchor=\"middle\" x=\"21\" y=\"-128.3\" font-family=\"Times New Roman,serif\" font-size=\"14.00\" fill=\"blue\">X[1]</text>\r\n",
       "</g>\r\n",
       "<!-- v5 -->\r\n",
       "<g id=\"node6\" class=\"node\"><title>v5</title>\r\n",
       "<polygon fill=\"none\" stroke=\"black\" points=\"293.343,-171 312,-189 293.343,-207 263.157,-206.983 263.157,-171.017 293.343,-171\"/>\r\n",
       "<text text-anchor=\"middle\" x=\"285\" y=\"-185.3\" font-family=\"Times New Roman,serif\" font-size=\"14.00\">∧̅</text>\r\n",
       "</g>\r\n",
       "<!-- v1&#45;&gt;v5 -->\r\n",
       "<g id=\"edge3\" class=\"edge\"><title>v1&#45;&gt;v5</title>\r\n",
       "<path fill=\"none\" stroke=\"black\" d=\"M28.9235,-153.328C37.0085,-174.31 52.6126,-205.149 78,-219 134.366,-249.752 211.711,-223.372 253.77,-204.348\"/>\r\n",
       "<polygon fill=\"black\" stroke=\"black\" points=\"255.352,-207.471 262.929,-200.066 252.388,-201.13 255.352,-207.471\"/>\r\n",
       "</g>\r\n",
       "<!-- v7 -->\r\n",
       "<g id=\"node8\" class=\"node\"><title>v7</title>\r\n",
       "<polygon fill=\"none\" stroke=\"black\" points=\"113.343,-114 132,-132 113.343,-150 83.1565,-149.983 83.1565,-114.017 113.343,-114\"/>\r\n",
       "<text text-anchor=\"middle\" x=\"105\" y=\"-128.3\" font-family=\"Times New Roman,serif\" font-size=\"14.00\">∧̅</text>\r\n",
       "</g>\r\n",
       "<!-- v1&#45;&gt;v7 -->\r\n",
       "<g id=\"edge7\" class=\"edge\"><title>v1&#45;&gt;v7</title>\r\n",
       "<path fill=\"none\" stroke=\"black\" d=\"M42.2697,-126.084C51.492,-125.272 62.6132,-125.053 72.8608,-125.427\"/>\r\n",
       "<polygon fill=\"black\" stroke=\"black\" points=\"72.9187,-128.936 83.1074,-126.031 73.3307,-121.948 72.9187,-128.936\"/>\r\n",
       "</g>\r\n",
       "<!-- v1&#45;&gt;v7 -->\r\n",
       "<g id=\"edge8\" class=\"edge\"><title>v1&#45;&gt;v7</title>\r\n",
       "<path fill=\"none\" stroke=\"black\" d=\"M42.2697,-137.916C51.492,-138.728 62.6132,-138.947 72.8608,-138.573\"/>\r\n",
       "<polygon fill=\"black\" stroke=\"black\" points=\"73.3307,-142.052 83.1074,-137.969 72.9187,-135.064 73.3307,-142.052\"/>\r\n",
       "</g>\r\n",
       "<!-- v2 -->\r\n",
       "<g id=\"node3\" class=\"node\"><title>v2</title>\r\n",
       "<polygon fill=\"none\" stroke=\"black\" points=\"126,-42 84,-42 84,-0 126,-0 126,-42\"/>\r\n",
       "<text text-anchor=\"middle\" x=\"105\" y=\"-17.3\" font-family=\"Times New Roman,serif\" font-size=\"14.00\" fill=\"blue\">X[2]</text>\r\n",
       "</g>\r\n",
       "<!-- v11 -->\r\n",
       "<g id=\"node12\" class=\"node\"><title>v11</title>\r\n",
       "<polygon fill=\"none\" stroke=\"black\" points=\"203.343,-3 222,-21 203.343,-39 173.157,-38.9832 173.157,-3.0168 203.343,-3\"/>\r\n",
       "<text text-anchor=\"middle\" x=\"195\" y=\"-17.3\" font-family=\"Times New Roman,serif\" font-size=\"14.00\">∧̅</text>\r\n",
       "</g>\r\n",
       "<!-- v2&#45;&gt;v11 -->\r\n",
       "<g id=\"edge15\" class=\"edge\"><title>v2&#45;&gt;v11</title>\r\n",
       "<path fill=\"none\" stroke=\"black\" d=\"M126.41,-15.1992C137.249,-14.2318 150.799,-14.0039 162.915,-14.5154\"/>\r\n",
       "<polygon fill=\"black\" stroke=\"black\" points=\"162.889,-18.0206 173.089,-15.1552 163.329,-11.0344 162.889,-18.0206\"/>\r\n",
       "</g>\r\n",
       "<!-- v2&#45;&gt;v11 -->\r\n",
       "<g id=\"edge16\" class=\"edge\"><title>v2&#45;&gt;v11</title>\r\n",
       "<path fill=\"none\" stroke=\"black\" d=\"M126.41,-26.8008C137.249,-27.7682 150.799,-27.9961 162.915,-27.4846\"/>\r\n",
       "<polygon fill=\"black\" stroke=\"black\" points=\"163.329,-30.9656 173.089,-26.8448 162.889,-23.9794 163.329,-30.9656\"/>\r\n",
       "</g>\r\n",
       "<!-- v3 -->\r\n",
       "<g id=\"node4\" class=\"node\"><title>v3</title>\r\n",
       "<polygon fill=\"none\" stroke=\"black\" points=\"126,-210 84,-210 84,-168 126,-168 126,-210\"/>\r\n",
       "<text text-anchor=\"middle\" x=\"105\" y=\"-185.3\" font-family=\"Times New Roman,serif\" font-size=\"14.00\" fill=\"blue\">X[3]</text>\r\n",
       "</g>\r\n",
       "<!-- v4 -->\r\n",
       "<g id=\"node5\" class=\"node\"><title>v4</title>\r\n",
       "<polygon fill=\"none\" stroke=\"black\" points=\"203.343,-171 222,-189 203.343,-207 173.157,-206.983 173.157,-171.017 203.343,-171\"/>\r\n",
       "<text text-anchor=\"middle\" x=\"195\" y=\"-185.3\" font-family=\"Times New Roman,serif\" font-size=\"14.00\">∧̅</text>\r\n",
       "</g>\r\n",
       "<!-- v3&#45;&gt;v4 -->\r\n",
       "<g id=\"edge1\" class=\"edge\"><title>v3&#45;&gt;v4</title>\r\n",
       "<path fill=\"none\" stroke=\"black\" d=\"M126.41,-183.199C137.249,-182.232 150.799,-182.004 162.915,-182.515\"/>\r\n",
       "<polygon fill=\"black\" stroke=\"black\" points=\"162.889,-186.021 173.089,-183.155 163.329,-179.034 162.889,-186.021\"/>\r\n",
       "</g>\r\n",
       "<!-- v3&#45;&gt;v4 -->\r\n",
       "<g id=\"edge2\" class=\"edge\"><title>v3&#45;&gt;v4</title>\r\n",
       "<path fill=\"none\" stroke=\"black\" d=\"M126.41,-194.801C137.249,-195.768 150.799,-195.996 162.915,-195.485\"/>\r\n",
       "<polygon fill=\"black\" stroke=\"black\" points=\"163.329,-198.966 173.089,-194.845 162.889,-191.979 163.329,-198.966\"/>\r\n",
       "</g>\r\n",
       "<!-- v8 -->\r\n",
       "<g id=\"node9\" class=\"node\"><title>v8</title>\r\n",
       "<polygon fill=\"none\" stroke=\"black\" points=\"203.343,-117 222,-135 203.343,-153 173.157,-152.983 173.157,-117.017 203.343,-117\"/>\r\n",
       "<text text-anchor=\"middle\" x=\"195\" y=\"-131.3\" font-family=\"Times New Roman,serif\" font-size=\"14.00\">∧̅</text>\r\n",
       "</g>\r\n",
       "<!-- v3&#45;&gt;v8 -->\r\n",
       "<g id=\"edge9\" class=\"edge\"><title>v3&#45;&gt;v8</title>\r\n",
       "<path fill=\"none\" stroke=\"black\" d=\"M126.41,-176.476C137.687,-169.556 151.898,-160.835 164.376,-153.178\"/>\r\n",
       "<polygon fill=\"black\" stroke=\"black\" points=\"166.397,-156.045 173.089,-147.831 162.736,-150.079 166.397,-156.045\"/>\r\n",
       "</g>\r\n",
       "<!-- v4&#45;&gt;v5 -->\r\n",
       "<g id=\"edge4\" class=\"edge\"><title>v4&#45;&gt;v5</title>\r\n",
       "<path fill=\"none\" stroke=\"black\" d=\"M222.403,-189C231.921,-189 242.754,-189 252.653,-189\"/>\r\n",
       "<polygon fill=\"black\" stroke=\"black\" points=\"252.922,-192.5 262.922,-189 252.922,-185.5 252.922,-192.5\"/>\r\n",
       "</g>\r\n",
       "<!-- v6 -->\r\n",
       "<g id=\"node7\" class=\"node\"><title>v6</title>\r\n",
       "<polygon fill=\"none\" stroke=\"black\" points=\"383.343,-171 402,-189 383.343,-207 353.157,-206.983 353.157,-171.017 383.343,-171\"/>\r\n",
       "<text text-anchor=\"middle\" x=\"375\" y=\"-185.3\" font-family=\"Times New Roman,serif\" font-size=\"14.00\">∧̅</text>\r\n",
       "</g>\r\n",
       "<!-- v5&#45;&gt;v6 -->\r\n",
       "<g id=\"edge5\" class=\"edge\"><title>v5&#45;&gt;v6</title>\r\n",
       "<path fill=\"none\" stroke=\"black\" d=\"M306.41,-183.199C317.249,-182.232 330.799,-182.004 342.915,-182.515\"/>\r\n",
       "<polygon fill=\"black\" stroke=\"black\" points=\"342.889,-186.021 353.089,-183.155 343.329,-179.034 342.889,-186.021\"/>\r\n",
       "</g>\r\n",
       "<!-- v5&#45;&gt;v6 -->\r\n",
       "<g id=\"edge6\" class=\"edge\"><title>v5&#45;&gt;v6</title>\r\n",
       "<path fill=\"none\" stroke=\"black\" d=\"M306.41,-194.801C317.249,-195.768 330.799,-195.996 342.915,-195.485\"/>\r\n",
       "<polygon fill=\"black\" stroke=\"black\" points=\"343.329,-198.966 353.089,-194.845 342.889,-191.979 343.329,-198.966\"/>\r\n",
       "</g>\r\n",
       "<!-- v16 -->\r\n",
       "<g id=\"node17\" class=\"node\"><title>v16</title>\r\n",
       "<polygon fill=\"none\" stroke=\"black\" points=\"473.343,-171 492,-189 473.343,-207 443.157,-206.983 443.157,-171.017 473.343,-171\"/>\r\n",
       "<text text-anchor=\"middle\" x=\"465\" y=\"-185.3\" font-family=\"Times New Roman,serif\" font-size=\"14.00\">∧̅</text>\r\n",
       "</g>\r\n",
       "<!-- v6&#45;&gt;v16 -->\r\n",
       "<g id=\"edge25\" class=\"edge\"><title>v6&#45;&gt;v16</title>\r\n",
       "<path fill=\"none\" stroke=\"black\" d=\"M396.41,-183.199C407.249,-182.232 420.799,-182.004 432.915,-182.515\"/>\r\n",
       "<polygon fill=\"black\" stroke=\"black\" points=\"432.889,-186.021 443.089,-183.155 433.329,-179.034 432.889,-186.021\"/>\r\n",
       "</g>\r\n",
       "<!-- v6&#45;&gt;v16 -->\r\n",
       "<g id=\"edge26\" class=\"edge\"><title>v6&#45;&gt;v16</title>\r\n",
       "<path fill=\"none\" stroke=\"black\" d=\"M396.41,-194.801C407.249,-195.768 420.799,-195.996 432.915,-195.485\"/>\r\n",
       "<polygon fill=\"black\" stroke=\"black\" points=\"433.329,-198.966 443.089,-194.845 432.889,-191.979 433.329,-198.966\"/>\r\n",
       "</g>\r\n",
       "<!-- v7&#45;&gt;v8 -->\r\n",
       "<g id=\"edge10\" class=\"edge\"><title>v7&#45;&gt;v8</title>\r\n",
       "<path fill=\"none\" stroke=\"black\" d=\"M131.453,-132.868C141.249,-133.202 152.545,-133.587 162.82,-133.937\"/>\r\n",
       "<polygon fill=\"black\" stroke=\"black\" points=\"162.938,-137.443 173.051,-134.286 163.176,-130.447 162.938,-137.443\"/>\r\n",
       "</g>\r\n",
       "<!-- v9 -->\r\n",
       "<g id=\"node10\" class=\"node\"><title>v9</title>\r\n",
       "<polygon fill=\"none\" stroke=\"black\" points=\"293.343,-117 312,-135 293.343,-153 263.157,-152.983 263.157,-117.017 293.343,-117\"/>\r\n",
       "<text text-anchor=\"middle\" x=\"285\" y=\"-131.3\" font-family=\"Times New Roman,serif\" font-size=\"14.00\">∧̅</text>\r\n",
       "</g>\r\n",
       "<!-- v8&#45;&gt;v9 -->\r\n",
       "<g id=\"edge11\" class=\"edge\"><title>v8&#45;&gt;v9</title>\r\n",
       "<path fill=\"none\" stroke=\"black\" d=\"M216.41,-129.199C227.249,-128.232 240.799,-128.004 252.915,-128.515\"/>\r\n",
       "<polygon fill=\"black\" stroke=\"black\" points=\"252.889,-132.021 263.089,-129.155 253.329,-125.034 252.889,-132.021\"/>\r\n",
       "</g>\r\n",
       "<!-- v8&#45;&gt;v9 -->\r\n",
       "<g id=\"edge12\" class=\"edge\"><title>v8&#45;&gt;v9</title>\r\n",
       "<path fill=\"none\" stroke=\"black\" d=\"M216.41,-140.801C227.249,-141.768 240.799,-141.996 252.915,-141.485\"/>\r\n",
       "<polygon fill=\"black\" stroke=\"black\" points=\"253.329,-144.966 263.089,-140.845 252.889,-137.979 253.329,-144.966\"/>\r\n",
       "</g>\r\n",
       "<!-- v10 -->\r\n",
       "<g id=\"node11\" class=\"node\"><title>v10</title>\r\n",
       "<polygon fill=\"none\" stroke=\"black\" points=\"383.343,-117 402,-135 383.343,-153 353.157,-152.983 353.157,-117.017 383.343,-117\"/>\r\n",
       "<text text-anchor=\"middle\" x=\"375\" y=\"-131.3\" font-family=\"Times New Roman,serif\" font-size=\"14.00\">∧̅</text>\r\n",
       "</g>\r\n",
       "<!-- v9&#45;&gt;v10 -->\r\n",
       "<g id=\"edge13\" class=\"edge\"><title>v9&#45;&gt;v10</title>\r\n",
       "<path fill=\"none\" stroke=\"black\" d=\"M306.41,-129.199C317.249,-128.232 330.799,-128.004 342.915,-128.515\"/>\r\n",
       "<polygon fill=\"black\" stroke=\"black\" points=\"342.889,-132.021 353.089,-129.155 343.329,-125.034 342.889,-132.021\"/>\r\n",
       "</g>\r\n",
       "<!-- v9&#45;&gt;v10 -->\r\n",
       "<g id=\"edge14\" class=\"edge\"><title>v9&#45;&gt;v10</title>\r\n",
       "<path fill=\"none\" stroke=\"black\" d=\"M306.41,-140.801C317.249,-141.768 330.799,-141.996 342.915,-141.485\"/>\r\n",
       "<polygon fill=\"black\" stroke=\"black\" points=\"343.329,-144.966 353.089,-140.845 342.889,-137.979 343.329,-144.966\"/>\r\n",
       "</g>\r\n",
       "<!-- v14 -->\r\n",
       "<g id=\"node15\" class=\"node\"><title>v14</title>\r\n",
       "<polygon fill=\"none\" stroke=\"black\" points=\"473.343,-117 492,-135 473.343,-153 443.157,-152.983 443.157,-117.017 473.343,-117\"/>\r\n",
       "<text text-anchor=\"middle\" x=\"465\" y=\"-131.3\" font-family=\"Times New Roman,serif\" font-size=\"14.00\">∧̅</text>\r\n",
       "</g>\r\n",
       "<!-- v10&#45;&gt;v14 -->\r\n",
       "<g id=\"edge21\" class=\"edge\"><title>v10&#45;&gt;v14</title>\r\n",
       "<path fill=\"none\" stroke=\"black\" d=\"M402.403,-135C411.921,-135 422.754,-135 432.653,-135\"/>\r\n",
       "<polygon fill=\"black\" stroke=\"black\" points=\"432.922,-138.5 442.922,-135 432.922,-131.5 432.922,-138.5\"/>\r\n",
       "</g>\r\n",
       "<!-- v11&#45;&gt;v12 -->\r\n",
       "<g id=\"edge18\" class=\"edge\"><title>v11&#45;&gt;v12</title>\r\n",
       "<path fill=\"none\" stroke=\"black\" d=\"M211.733,-31.1905C223.605,-38.8807 240.24,-49.6554 254.557,-58.9289\"/>\r\n",
       "<polygon fill=\"black\" stroke=\"black\" points=\"252.813,-61.9692 263.109,-64.4681 256.618,-56.094 252.813,-61.9692\"/>\r\n",
       "</g>\r\n",
       "<!-- v13 -->\r\n",
       "<g id=\"node14\" class=\"node\"><title>v13</title>\r\n",
       "<polygon fill=\"none\" stroke=\"black\" points=\"383.343,-60 402,-78 383.343,-96 353.157,-95.9832 353.157,-60.0168 383.343,-60\"/>\r\n",
       "<text text-anchor=\"middle\" x=\"375\" y=\"-74.3\" font-family=\"Times New Roman,serif\" font-size=\"14.00\">∧̅</text>\r\n",
       "</g>\r\n",
       "<!-- v12&#45;&gt;v13 -->\r\n",
       "<g id=\"edge19\" class=\"edge\"><title>v12&#45;&gt;v13</title>\r\n",
       "<path fill=\"none\" stroke=\"black\" d=\"M306.41,-72.1992C317.249,-71.2318 330.799,-71.0039 342.915,-71.5154\"/>\r\n",
       "<polygon fill=\"black\" stroke=\"black\" points=\"342.889,-75.0206 353.089,-72.1552 343.329,-68.0344 342.889,-75.0206\"/>\r\n",
       "</g>\r\n",
       "<!-- v12&#45;&gt;v13 -->\r\n",
       "<g id=\"edge20\" class=\"edge\"><title>v12&#45;&gt;v13</title>\r\n",
       "<path fill=\"none\" stroke=\"black\" d=\"M306.41,-83.8008C317.249,-84.7682 330.799,-84.9961 342.915,-84.4846\"/>\r\n",
       "<polygon fill=\"black\" stroke=\"black\" points=\"343.329,-87.9656 353.089,-83.8448 342.889,-80.9794 343.329,-87.9656\"/>\r\n",
       "</g>\r\n",
       "<!-- v13&#45;&gt;v14 -->\r\n",
       "<g id=\"edge22\" class=\"edge\"><title>v13&#45;&gt;v14</title>\r\n",
       "<path fill=\"none\" stroke=\"black\" d=\"M391.733,-88.1905C403.605,-95.8807 420.24,-106.655 434.557,-115.929\"/>\r\n",
       "<polygon fill=\"black\" stroke=\"black\" points=\"432.813,-118.969 443.109,-121.468 436.618,-113.094 432.813,-118.969\"/>\r\n",
       "</g>\r\n",
       "<!-- v15 -->\r\n",
       "<g id=\"node16\" class=\"node\"><title>v15</title>\r\n",
       "<polygon fill=\"none\" stroke=\"black\" points=\"563.343,-117 582,-135 563.343,-153 533.157,-152.983 533.157,-117.017 563.343,-117\"/>\r\n",
       "<text text-anchor=\"middle\" x=\"555\" y=\"-131.3\" font-family=\"Times New Roman,serif\" font-size=\"14.00\">∧̅</text>\r\n",
       "</g>\r\n",
       "<!-- v14&#45;&gt;v15 -->\r\n",
       "<g id=\"edge23\" class=\"edge\"><title>v14&#45;&gt;v15</title>\r\n",
       "<path fill=\"none\" stroke=\"black\" d=\"M486.41,-129.199C497.249,-128.232 510.799,-128.004 522.915,-128.515\"/>\r\n",
       "<polygon fill=\"black\" stroke=\"black\" points=\"522.889,-132.021 533.089,-129.155 523.329,-125.034 522.889,-132.021\"/>\r\n",
       "</g>\r\n",
       "<!-- v14&#45;&gt;v15 -->\r\n",
       "<g id=\"edge24\" class=\"edge\"><title>v14&#45;&gt;v15</title>\r\n",
       "<path fill=\"none\" stroke=\"black\" d=\"M486.41,-140.801C497.249,-141.768 510.799,-141.996 522.915,-141.485\"/>\r\n",
       "<polygon fill=\"black\" stroke=\"black\" points=\"523.329,-144.966 533.089,-140.845 522.889,-137.979 523.329,-144.966\"/>\r\n",
       "</g>\r\n",
       "<!-- v17 -->\r\n",
       "<g id=\"node18\" class=\"node\"><title>v17</title>\r\n",
       "<polygon fill=\"none\" stroke=\"black\" points=\"653.343,-117 672,-135 653.343,-153 623.157,-152.983 623.157,-117.017 653.343,-117\"/>\r\n",
       "<text text-anchor=\"middle\" x=\"645\" y=\"-131.3\" font-family=\"Times New Roman,serif\" font-size=\"14.00\">∧̅</text>\r\n",
       "</g>\r\n",
       "<!-- v15&#45;&gt;v17 -->\r\n",
       "<g id=\"edge27\" class=\"edge\"><title>v15&#45;&gt;v17</title>\r\n",
       "<path fill=\"none\" stroke=\"black\" d=\"M576.41,-129.199C587.249,-128.232 600.799,-128.004 612.915,-128.515\"/>\r\n",
       "<polygon fill=\"black\" stroke=\"black\" points=\"612.889,-132.021 623.089,-129.155 613.329,-125.034 612.889,-132.021\"/>\r\n",
       "</g>\r\n",
       "<!-- v15&#45;&gt;v17 -->\r\n",
       "<g id=\"edge28\" class=\"edge\"><title>v15&#45;&gt;v17</title>\r\n",
       "<path fill=\"none\" stroke=\"black\" d=\"M576.41,-140.801C587.249,-141.768 600.799,-141.996 612.915,-141.485\"/>\r\n",
       "<polygon fill=\"black\" stroke=\"black\" points=\"613.329,-144.966 623.089,-140.845 612.889,-137.979 613.329,-144.966\"/>\r\n",
       "</g>\r\n",
       "<!-- v18 -->\r\n",
       "<g id=\"node19\" class=\"node\"><title>v18</title>\r\n",
       "<polygon fill=\"none\" stroke=\"black\" points=\"707.895,-160 746.605,-142 785.314,-160 746.605,-178 707.895,-160\"/>\r\n",
       "<text text-anchor=\"middle\" x=\"746.605\" y=\"-156.3\" font-family=\"Times New Roman,serif\" font-size=\"14.00\" fill=\"red\">Y[0]</text>\r\n",
       "</g>\r\n",
       "<!-- v16&#45;&gt;v18 -->\r\n",
       "<g id=\"edge29\" class=\"edge\"><title>v16&#45;&gt;v18</title>\r\n",
       "<path fill=\"none\" stroke=\"black\" d=\"M489.839,-186.527C537.554,-181.579 645.293,-170.404 704.579,-164.255\"/>\r\n",
       "<polygon fill=\"black\" stroke=\"black\" points=\"705.125,-167.717 714.71,-163.204 704.403,-160.755 705.125,-167.717\"/>\r\n",
       "</g>\r\n",
       "<!-- v17&#45;&gt;v18 -->\r\n",
       "<g id=\"edge30\" class=\"edge\"><title>v17&#45;&gt;v18</title>\r\n",
       "<path fill=\"none\" stroke=\"black\" d=\"M666.638,-140.18C679.416,-143.387 696.15,-147.587 710.922,-151.295\"/>\r\n",
       "<polygon fill=\"black\" stroke=\"black\" points=\"710.212,-154.725 720.763,-153.765 711.916,-147.936 710.212,-154.725\"/>\r\n",
       "</g>\r\n",
       "</g>\r\n",
       "</svg>\r\n"
      ],
      "text/plain": [
       "<graphviz.dot.Digraph at 0x2120d0023c8>"
      ]
     },
     "execution_count": 134,
     "metadata": {},
     "output_type": "execute_result"
    }
   ],
   "source": [
    "nandcircuit(BIG2)"
   ]
  },
  {
   "cell_type": "code",
   "execution_count": 135,
   "metadata": {
    "slideshow": {
     "slide_type": "slide"
    }
   },
   "outputs": [
    {
     "data": {
      "image/svg+xml": [
       "<?xml version=\"1.0\" encoding=\"UTF-8\" standalone=\"no\"?>\r\n",
       "<!DOCTYPE svg PUBLIC \"-//W3C//DTD SVG 1.1//EN\"\r\n",
       " \"http://www.w3.org/Graphics/SVG/1.1/DTD/svg11.dtd\">\r\n",
       "<!-- Generated by graphviz version 2.38.0 (20140413.2041)\r\n",
       " -->\r\n",
       "<!-- Title: %3 Pages: 1 -->\r\n",
       "<svg width=\"523pt\" height=\"243pt\"\r\n",
       " viewBox=\"0.00 0.00 523.21 243.19\" xmlns=\"http://www.w3.org/2000/svg\" xmlns:xlink=\"http://www.w3.org/1999/xlink\">\r\n",
       "<g id=\"graph0\" class=\"graph\" transform=\"scale(1 1) rotate(0) translate(4 239.192)\">\r\n",
       "<title>%3</title>\r\n",
       "<polygon fill=\"white\" stroke=\"none\" points=\"-4,4 -4,-239.192 519.209,-239.192 519.209,4 -4,4\"/>\r\n",
       "<!-- v0 -->\r\n",
       "<g id=\"node1\" class=\"node\"><title>v0</title>\r\n",
       "<polygon fill=\"none\" stroke=\"black\" points=\"126,-178.192 84,-178.192 84,-136.192 126,-136.192 126,-178.192\"/>\r\n",
       "<text text-anchor=\"middle\" x=\"105\" y=\"-153.492\" font-family=\"Times New Roman,serif\" font-size=\"14.00\" fill=\"blue\">X[0]</text>\r\n",
       "</g>\r\n",
       "<!-- v9 -->\r\n",
       "<g id=\"node10\" class=\"node\"><title>v9</title>\r\n",
       "<polygon fill=\"none\" stroke=\"black\" points=\"203.343,-139.192 222,-157.192 203.343,-175.192 173.157,-175.175 173.157,-139.208 203.343,-139.192\"/>\r\n",
       "<text text-anchor=\"middle\" x=\"195\" y=\"-153.492\" font-family=\"Times New Roman,serif\" font-size=\"14.00\">∧̅</text>\r\n",
       "</g>\r\n",
       "<!-- v0&#45;&gt;v9 -->\r\n",
       "<g id=\"edge11\" class=\"edge\"><title>v0&#45;&gt;v9</title>\r\n",
       "<path fill=\"none\" stroke=\"black\" d=\"M126.41,-157.192C137.249,-157.192 150.799,-157.192 162.915,-157.192\"/>\r\n",
       "<polygon fill=\"black\" stroke=\"black\" points=\"163.089,-160.692 173.089,-157.192 163.089,-153.692 163.089,-160.692\"/>\r\n",
       "</g>\r\n",
       "<!-- v1 -->\r\n",
       "<g id=\"node2\" class=\"node\"><title>v1</title>\r\n",
       "<polygon fill=\"none\" stroke=\"black\" points=\"126,-118.192 84,-118.192 84,-76.1917 126,-76.1917 126,-118.192\"/>\r\n",
       "<text text-anchor=\"middle\" x=\"105\" y=\"-93.4917\" font-family=\"Times New Roman,serif\" font-size=\"14.00\" fill=\"blue\">X[1]</text>\r\n",
       "</g>\r\n",
       "<!-- v5 -->\r\n",
       "<g id=\"node6\" class=\"node\"><title>v5</title>\r\n",
       "<polygon fill=\"none\" stroke=\"black\" points=\"383.343,-25.1917 402,-43.1917 383.343,-61.1917 353.157,-61.1749 353.157,-25.2085 383.343,-25.1917\"/>\r\n",
       "<text text-anchor=\"middle\" x=\"375\" y=\"-39.4917\" font-family=\"Times New Roman,serif\" font-size=\"14.00\">∧̅</text>\r\n",
       "</g>\r\n",
       "<!-- v1&#45;&gt;v5 -->\r\n",
       "<g id=\"edge3\" class=\"edge\"><title>v1&#45;&gt;v5</title>\r\n",
       "<path fill=\"none\" stroke=\"black\" d=\"M114.695,-76.127C124.364,-55.8058 142.111,-26.2605 168,-13.1917 225.199,15.6823 301.971,-9.82362 343.774,-28.2381\"/>\r\n",
       "<polygon fill=\"black\" stroke=\"black\" points=\"342.574,-31.5376 353.125,-32.4984 345.476,-25.1675 342.574,-31.5376\"/>\r\n",
       "</g>\r\n",
       "<!-- v6 -->\r\n",
       "<g id=\"node7\" class=\"node\"><title>v6</title>\r\n",
       "<polygon fill=\"none\" stroke=\"black\" points=\"203.343,-82.1917 222,-100.192 203.343,-118.192 173.157,-118.175 173.157,-82.2085 203.343,-82.1917\"/>\r\n",
       "<text text-anchor=\"middle\" x=\"195\" y=\"-96.4917\" font-family=\"Times New Roman,serif\" font-size=\"14.00\">∧̅</text>\r\n",
       "</g>\r\n",
       "<!-- v1&#45;&gt;v6 -->\r\n",
       "<g id=\"edge5\" class=\"edge\"><title>v1&#45;&gt;v6</title>\r\n",
       "<path fill=\"none\" stroke=\"black\" d=\"M126.41,-92.0867C137.249,-91.4888 150.799,-91.7227 162.915,-92.6473\"/>\r\n",
       "<polygon fill=\"black\" stroke=\"black\" points=\"162.798,-96.1523 173.089,-93.634 163.474,-89.185 162.798,-96.1523\"/>\r\n",
       "</g>\r\n",
       "<!-- v1&#45;&gt;v6 -->\r\n",
       "<g id=\"edge6\" class=\"edge\"><title>v1&#45;&gt;v6</title>\r\n",
       "<path fill=\"none\" stroke=\"black\" d=\"M126.41,-103.688C137.249,-105.025 150.799,-105.715 162.915,-105.617\"/>\r\n",
       "<polygon fill=\"black\" stroke=\"black\" points=\"163.194,-109.11 173.089,-105.324 162.993,-102.113 163.194,-109.11\"/>\r\n",
       "</g>\r\n",
       "<!-- v2 -->\r\n",
       "<g id=\"node3\" class=\"node\"><title>v2</title>\r\n",
       "<polygon fill=\"none\" stroke=\"black\" points=\"42,-235.192 5.68434e-014,-235.192 5.68434e-014,-193.192 42,-193.192 42,-235.192\"/>\r\n",
       "<text text-anchor=\"middle\" x=\"21\" y=\"-210.492\" font-family=\"Times New Roman,serif\" font-size=\"14.00\" fill=\"blue\">X[2]</text>\r\n",
       "</g>\r\n",
       "<!-- v8 -->\r\n",
       "<g id=\"node9\" class=\"node\"><title>v8</title>\r\n",
       "<polygon fill=\"none\" stroke=\"black\" points=\"113.343,-196.192 132,-214.192 113.343,-232.192 83.1565,-232.175 83.1565,-196.208 113.343,-196.192\"/>\r\n",
       "<text text-anchor=\"middle\" x=\"105\" y=\"-210.492\" font-family=\"Times New Roman,serif\" font-size=\"14.00\">∧̅</text>\r\n",
       "</g>\r\n",
       "<!-- v2&#45;&gt;v8 -->\r\n",
       "<g id=\"edge9\" class=\"edge\"><title>v2&#45;&gt;v8</title>\r\n",
       "<path fill=\"none\" stroke=\"black\" d=\"M42.2697,-208.276C51.492,-207.464 62.6132,-207.245 72.8608,-207.618\"/>\r\n",
       "<polygon fill=\"black\" stroke=\"black\" points=\"72.9187,-211.128 83.1074,-208.222 73.3307,-204.14 72.9187,-211.128\"/>\r\n",
       "</g>\r\n",
       "<!-- v2&#45;&gt;v8 -->\r\n",
       "<g id=\"edge10\" class=\"edge\"><title>v2&#45;&gt;v8</title>\r\n",
       "<path fill=\"none\" stroke=\"black\" d=\"M42.2697,-220.107C51.492,-220.919 62.6132,-221.139 72.8608,-220.765\"/>\r\n",
       "<polygon fill=\"black\" stroke=\"black\" points=\"73.3307,-224.244 83.1074,-220.161 72.9187,-217.256 73.3307,-224.244\"/>\r\n",
       "</g>\r\n",
       "<!-- v3 -->\r\n",
       "<g id=\"node4\" class=\"node\"><title>v3</title>\r\n",
       "<polygon fill=\"none\" stroke=\"black\" points=\"216,-64.1917 174,-64.1917 174,-22.1917 216,-22.1917 216,-64.1917\"/>\r\n",
       "<text text-anchor=\"middle\" x=\"195\" y=\"-39.4917\" font-family=\"Times New Roman,serif\" font-size=\"14.00\" fill=\"blue\">X[3]</text>\r\n",
       "</g>\r\n",
       "<!-- v4 -->\r\n",
       "<g id=\"node5\" class=\"node\"><title>v4</title>\r\n",
       "<polygon fill=\"none\" stroke=\"black\" points=\"293.343,-25.1917 312,-43.1917 293.343,-61.1917 263.157,-61.1749 263.157,-25.2085 293.343,-25.1917\"/>\r\n",
       "<text text-anchor=\"middle\" x=\"285\" y=\"-39.4917\" font-family=\"Times New Roman,serif\" font-size=\"14.00\">∧̅</text>\r\n",
       "</g>\r\n",
       "<!-- v3&#45;&gt;v4 -->\r\n",
       "<g id=\"edge1\" class=\"edge\"><title>v3&#45;&gt;v4</title>\r\n",
       "<path fill=\"none\" stroke=\"black\" d=\"M216.41,-37.3909C227.249,-36.4235 240.799,-36.1955 252.915,-36.707\"/>\r\n",
       "<polygon fill=\"black\" stroke=\"black\" points=\"252.889,-40.2122 263.089,-37.3469 253.329,-33.2261 252.889,-40.2122\"/>\r\n",
       "</g>\r\n",
       "<!-- v3&#45;&gt;v4 -->\r\n",
       "<g id=\"edge2\" class=\"edge\"><title>v3&#45;&gt;v4</title>\r\n",
       "<path fill=\"none\" stroke=\"black\" d=\"M216.41,-48.9924C227.249,-49.9598 240.799,-50.1878 252.915,-49.6763\"/>\r\n",
       "<polygon fill=\"black\" stroke=\"black\" points=\"253.329,-53.1573 263.089,-49.0364 252.889,-46.1711 253.329,-53.1573\"/>\r\n",
       "</g>\r\n",
       "<!-- v7 -->\r\n",
       "<g id=\"node8\" class=\"node\"><title>v7</title>\r\n",
       "<polygon fill=\"none\" stroke=\"black\" points=\"293.343,-80.1917 312,-98.1917 293.343,-116.192 263.157,-116.175 263.157,-80.2085 293.343,-80.1917\"/>\r\n",
       "<text text-anchor=\"middle\" x=\"285\" y=\"-94.4917\" font-family=\"Times New Roman,serif\" font-size=\"14.00\">∧̅</text>\r\n",
       "</g>\r\n",
       "<!-- v3&#45;&gt;v7 -->\r\n",
       "<g id=\"edge7\" class=\"edge\"><title>v3&#45;&gt;v7</title>\r\n",
       "<path fill=\"none\" stroke=\"black\" d=\"M216.41,-55.948C227.687,-62.9958 241.898,-71.8779 254.376,-79.6769\"/>\r\n",
       "<polygon fill=\"black\" stroke=\"black\" points=\"252.754,-82.7905 263.089,-85.1226 256.464,-76.8545 252.754,-82.7905\"/>\r\n",
       "</g>\r\n",
       "<!-- v4&#45;&gt;v5 -->\r\n",
       "<g id=\"edge4\" class=\"edge\"><title>v4&#45;&gt;v5</title>\r\n",
       "<path fill=\"none\" stroke=\"black\" d=\"M312.403,-43.1917C321.921,-43.1917 332.754,-43.1917 342.653,-43.1917\"/>\r\n",
       "<polygon fill=\"black\" stroke=\"black\" points=\"342.922,-46.6918 352.922,-43.1917 342.922,-39.6918 342.922,-46.6918\"/>\r\n",
       "</g>\r\n",
       "<!-- v12 -->\r\n",
       "<g id=\"node13\" class=\"node\"><title>v12</title>\r\n",
       "<polygon fill=\"none\" stroke=\"black\" points=\"437.895,-70.1917 476.605,-52.1917 515.314,-70.1917 476.605,-88.1917 437.895,-70.1917\"/>\r\n",
       "<text text-anchor=\"middle\" x=\"476.605\" y=\"-66.4917\" font-family=\"Times New Roman,serif\" font-size=\"14.00\" fill=\"red\">Y[0]</text>\r\n",
       "</g>\r\n",
       "<!-- v5&#45;&gt;v12 -->\r\n",
       "<g id=\"edge17\" class=\"edge\"><title>v5&#45;&gt;v12</title>\r\n",
       "<path fill=\"none\" stroke=\"black\" d=\"M396.638,-48.7861C409.602,-52.3001 426.635,-56.9175 441.563,-60.964\"/>\r\n",
       "<polygon fill=\"black\" stroke=\"black\" points=\"440.918,-64.4153 451.485,-63.6536 442.749,-57.6591 440.918,-64.4153\"/>\r\n",
       "</g>\r\n",
       "<!-- v6&#45;&gt;v7 -->\r\n",
       "<g id=\"edge8\" class=\"edge\"><title>v6&#45;&gt;v7</title>\r\n",
       "<path fill=\"none\" stroke=\"black\" d=\"M221.453,-99.6132C231.249,-99.3905 242.545,-99.1338 252.82,-98.9003\"/>\r\n",
       "<polygon fill=\"black\" stroke=\"black\" points=\"253.133,-102.394 263.051,-98.6678 252.974,-95.396 253.133,-102.394\"/>\r\n",
       "</g>\r\n",
       "<!-- v11 -->\r\n",
       "<g id=\"node12\" class=\"node\"><title>v11</title>\r\n",
       "<polygon fill=\"none\" stroke=\"black\" points=\"383.343,-80.1917 402,-98.1917 383.343,-116.192 353.157,-116.175 353.157,-80.2085 383.343,-80.1917\"/>\r\n",
       "<text text-anchor=\"middle\" x=\"375\" y=\"-94.4917\" font-family=\"Times New Roman,serif\" font-size=\"14.00\">∧̅</text>\r\n",
       "</g>\r\n",
       "<!-- v7&#45;&gt;v11 -->\r\n",
       "<g id=\"edge15\" class=\"edge\"><title>v7&#45;&gt;v11</title>\r\n",
       "<path fill=\"none\" stroke=\"black\" d=\"M312.403,-98.1917C321.921,-98.1917 332.754,-98.1917 342.653,-98.1917\"/>\r\n",
       "<polygon fill=\"black\" stroke=\"black\" points=\"342.922,-101.692 352.922,-98.1917 342.922,-94.6918 342.922,-101.692\"/>\r\n",
       "</g>\r\n",
       "<!-- v8&#45;&gt;v9 -->\r\n",
       "<g id=\"edge12\" class=\"edge\"><title>v8&#45;&gt;v9</title>\r\n",
       "<path fill=\"none\" stroke=\"black\" d=\"M121.733,-204.001C133.605,-196.311 150.24,-185.536 164.557,-176.263\"/>\r\n",
       "<polygon fill=\"black\" stroke=\"black\" points=\"166.618,-179.098 173.109,-170.724 162.813,-173.222 166.618,-179.098\"/>\r\n",
       "</g>\r\n",
       "<!-- v10 -->\r\n",
       "<g id=\"node11\" class=\"node\"><title>v10</title>\r\n",
       "<polygon fill=\"none\" stroke=\"black\" points=\"293.343,-139.192 312,-157.192 293.343,-175.192 263.157,-175.175 263.157,-139.208 293.343,-139.192\"/>\r\n",
       "<text text-anchor=\"middle\" x=\"285\" y=\"-153.492\" font-family=\"Times New Roman,serif\" font-size=\"14.00\">∧̅</text>\r\n",
       "</g>\r\n",
       "<!-- v9&#45;&gt;v10 -->\r\n",
       "<g id=\"edge13\" class=\"edge\"><title>v9&#45;&gt;v10</title>\r\n",
       "<path fill=\"none\" stroke=\"black\" d=\"M216.41,-151.391C227.249,-150.423 240.799,-150.196 252.915,-150.707\"/>\r\n",
       "<polygon fill=\"black\" stroke=\"black\" points=\"252.889,-154.212 263.089,-151.347 253.329,-147.226 252.889,-154.212\"/>\r\n",
       "</g>\r\n",
       "<!-- v9&#45;&gt;v10 -->\r\n",
       "<g id=\"edge14\" class=\"edge\"><title>v9&#45;&gt;v10</title>\r\n",
       "<path fill=\"none\" stroke=\"black\" d=\"M216.41,-162.992C227.249,-163.96 240.799,-164.188 252.915,-163.676\"/>\r\n",
       "<polygon fill=\"black\" stroke=\"black\" points=\"253.329,-167.157 263.089,-163.036 252.889,-160.171 253.329,-167.157\"/>\r\n",
       "</g>\r\n",
       "<!-- v10&#45;&gt;v11 -->\r\n",
       "<g id=\"edge16\" class=\"edge\"><title>v10&#45;&gt;v11</title>\r\n",
       "<path fill=\"none\" stroke=\"black\" d=\"M301.733,-146.644C313.605,-138.684 330.24,-127.531 344.557,-117.932\"/>\r\n",
       "<polygon fill=\"black\" stroke=\"black\" points=\"346.752,-120.674 353.109,-112.198 342.854,-114.86 346.752,-120.674\"/>\r\n",
       "</g>\r\n",
       "<!-- v11&#45;&gt;v12 -->\r\n",
       "<g id=\"edge18\" class=\"edge\"><title>v11&#45;&gt;v12</title>\r\n",
       "<path fill=\"none\" stroke=\"black\" d=\"M396.156,-92.5254C409.4,-88.8026 427.04,-83.8437 442.334,-79.5443\"/>\r\n",
       "<polygon fill=\"black\" stroke=\"black\" points=\"443.296,-82.9096 451.976,-76.8339 441.402,-76.1708 443.296,-82.9096\"/>\r\n",
       "</g>\r\n",
       "</g>\r\n",
       "</svg>\r\n"
      ],
      "text/plain": [
       "<graphviz.dot.Digraph at 0x2120d002978>"
      ]
     },
     "execution_count": 135,
     "metadata": {},
     "output_type": "execute_result"
    }
   ],
   "source": [
    "nandcircuit(BIG2,pruneit=True)"
   ]
  },
  {
   "cell_type": "markdown",
   "metadata": {
    "slideshow": {
     "slide_type": "slide"
    }
   },
   "source": [
    "## Getting the code and syntactic sugar"
   ]
  },
  {
   "cell_type": "code",
   "execution_count": null,
   "metadata": {
    "slideshow": {
     "slide_type": "fragment"
    }
   },
   "outputs": [],
   "source": [
    "def NOT(a): return NAND(a,a)\n",
    "def OR(a,b): return NAND(NOT(a),NOT(b))\n",
    "def AND(a,b): return NOT(NAND(a,b))\n",
    "\n",
    "def BIG2(a,b,c,d):  return OR(mystery2(b,d),AND(NOT(mystery2(d,b)),mystery2(a,c)))"
   ]
  },
  {
   "cell_type": "code",
   "execution_count": 136,
   "metadata": {
    "slideshow": {
     "slide_type": "fragment"
    }
   },
   "outputs": [],
   "source": [
    "ctr = 0\n",
    "def NAND(a,b): \n",
    "    global ctr\n",
    "    temp = \"Temp[\"+str(ctr)+\"]\"\n",
    "    ctr = ctr + 1\n",
    "    print( temp + \"= NAND(\"+a+\",\"+b+\")\"  )\n",
    "    return temp"
   ]
  },
  {
   "cell_type": "code",
   "execution_count": 137,
   "metadata": {
    "slideshow": {
     "slide_type": "fragment"
    }
   },
   "outputs": [
    {
     "name": "stdout",
     "output_type": "stream",
     "text": [
      "Temp[0]= NAND(X[3],X[3])\n",
      "Temp[1]= NAND(X[1],Temp[0])\n",
      "Temp[2]= NAND(Temp[1],Temp[1])\n",
      "Temp[3]= NAND(X[1],X[1])\n",
      "Temp[4]= NAND(X[3],Temp[3])\n",
      "Temp[5]= NAND(Temp[4],Temp[4])\n",
      "Temp[6]= NAND(Temp[5],Temp[5])\n",
      "Temp[7]= NAND(X[2],X[2])\n",
      "Temp[8]= NAND(X[0],Temp[7])\n",
      "Temp[9]= NAND(Temp[8],Temp[8])\n",
      "Temp[10]= NAND(Temp[6],Temp[9])\n",
      "Temp[11]= NAND(Temp[10],Temp[10])\n",
      "Temp[12]= NAND(Temp[2],Temp[2])\n",
      "Temp[13]= NAND(Temp[11],Temp[11])\n",
      "Temp[14]= NAND(Temp[12],Temp[13])\n"
     ]
    },
    {
     "data": {
      "text/plain": [
       "'Temp[14]'"
      ]
     },
     "execution_count": 137,
     "metadata": {},
     "output_type": "execute_result"
    }
   ],
   "source": [
    "BIG2(\"X[0]\",\"X[1]\",\"X[2]\",\"X[3]\")"
   ]
  },
  {
   "cell_type": "code",
   "execution_count": 138,
   "metadata": {
    "slideshow": {
     "slide_type": "fragment"
    }
   },
   "outputs": [],
   "source": [
    "def NAND(a,b): return 1-a*b"
   ]
  },
  {
   "cell_type": "code",
   "execution_count": null,
   "metadata": {
    "slideshow": {
     "slide_type": "skip"
    }
   },
   "outputs": [],
   "source": [
    "print(nandcode(BIG2))"
   ]
  },
  {
   "cell_type": "code",
   "execution_count": null,
   "metadata": {
    "slideshow": {
     "slide_type": "skip"
    }
   },
   "outputs": [],
   "source": [
    "print(nandcode(BIG2,pruneit=True))"
   ]
  },
  {
   "cell_type": "markdown",
   "metadata": {
    "slideshow": {
     "slide_type": "skip"
    }
   },
   "source": [
    "## IF function (skip)"
   ]
  },
  {
   "cell_type": "code",
   "execution_count": null,
   "metadata": {
    "slideshow": {
     "slide_type": "skip"
    }
   },
   "outputs": [],
   "source": [
    "def IF(cond,a,b):\n",
    "    notcond = NAND(cond,cond)\n",
    "    temp = NAND(b,notcond)\n",
    "    temp1 = NAND(a,cond)\n",
    "    return NAND(temp,temp1)\n",
    "\n",
    "nandcircuit(IF)"
   ]
  },
  {
   "cell_type": "code",
   "execution_count": null,
   "metadata": {
    "slideshow": {
     "slide_type": "skip"
    }
   },
   "outputs": [],
   "source": [
    "print(nandcode(IF))"
   ]
  },
  {
   "cell_type": "code",
   "execution_count": null,
   "metadata": {
    "slideshow": {
     "slide_type": "skip"
    }
   },
   "outputs": [],
   "source": [
    "# IF(\"X[0]\",\"X[1]\",\"X[2]\");"
   ]
  },
  {
   "cell_type": "code",
   "execution_count": null,
   "metadata": {
    "slideshow": {
     "slide_type": "skip"
    }
   },
   "outputs": [],
   "source": [
    "ctr = 0\n",
    "#BIG2(\"X[0]\",\"X[1]\",\"X[2]\",\"X[3]\")"
   ]
  },
  {
   "cell_type": "markdown",
   "metadata": {
    "slideshow": {
     "slide_type": "slide"
    }
   },
   "source": [
    "## Nothing special about NAND"
   ]
  },
  {
   "cell_type": "markdown",
   "metadata": {
    "slideshow": {
     "slide_type": "fragment"
    }
   },
   "source": [
    "__Theorem:__ Let $TOF:\\{0,1\\}^3 \\rightarrow \\{0,1\\}$ defined as \n",
    "\n",
    "$$TOF(a,b,c) = \\begin{cases} NOT(c) & a=b=1 \\\\ c & \\text{otherwise} \\end{cases} $$\n",
    "\n",
    " and let $one:\\{0,1\\} \\rightarrow \\{0,1\\}$ be defined as $one(a)=1$.\n",
    " \n",
    " Then we every  NAND program can be transformed to a $(TOF,one)$ program.\n",
    " \n",
    " __Exercise!__"
   ]
  },
  {
   "cell_type": "code",
   "execution_count": 139,
   "metadata": {
    "slideshow": {
     "slide_type": "fragment"
    }
   },
   "outputs": [
    {
     "data": {
      "text/html": [
       "<iframe src=\"https://e.ggtimer.com/300?alert=false\" frameborder=\"0\" allowfullscreen  width=\" 80%\" height=\"100\" style=\"box-shadow: 0 0 16px gray; margin: 10px;\" name=\"test\" id=\"test\"></iframe>"
      ],
      "text/plain": [
       "<IPython.core.display.HTML object>"
      ]
     },
     "metadata": {},
     "output_type": "display_data"
    }
   ],
   "source": [
    "%%html\n",
    "<iframe src=\"https://e.ggtimer.com/300?alert=false\" frameborder=\"0\" allowfullscreen  width=\" 80%\" height=\"100\" style=\"box-shadow: 0 0 16px gray; margin: 10px;\" name=\"test\" id=\"test\"></iframe>"
   ]
  },
  {
   "cell_type": "markdown",
   "metadata": {
    "slideshow": {
     "slide_type": "slide"
    }
   },
   "source": [
    "__Theorem:__ Let $TOF:\\{0,1\\}^3 \\rightarrow \\{0,1\\}$ defined as  $TOF(a,b,c) = \\begin{cases} NOT(c) & a=b=1 \\\\ c & \\text{otherwise} \\end{cases}$ and let $ONE:\\{0,1\\} \\rightarrow \\{0,1\\}$ be defined as $ONE(a)=1$. Then we can compute NAND using $(TOF,ONE)$"
   ]
  },
  {
   "cell_type": "markdown",
   "metadata": {
    "slideshow": {
     "slide_type": "fragment"
    }
   },
   "source": [
    "__Proof:__ $NAND(a,b) = TOF(a,b,1)$"
   ]
  },
  {
   "cell_type": "markdown",
   "metadata": {
    "slideshow": {
     "slide_type": "slide"
    }
   },
   "source": [
    "__Corollary:__ For every NAND program $P$, there is a $(TOF,ONE)$ program $Q$ that computes the same function as P"
   ]
  },
  {
   "cell_type": "code",
   "execution_count": 140,
   "metadata": {
    "slideshow": {
     "slide_type": "fragment"
    }
   },
   "outputs": [
    {
     "name": "stdout",
     "output_type": "stream",
     "text": [
      "\n",
      "Temp[0] = TOF(X[3],X[3],ONE(X[0])\n",
      "Temp[1] = TOF(X[1],Temp[0],ONE(X[0])\n",
      "Temp[2] = TOF(Temp[1],Temp[1],ONE(X[0])\n",
      "Temp[3] = TOF(X[1],X[1],ONE(X[0])\n",
      "Temp[4] = TOF(X[3],Temp[3],ONE(X[0])\n",
      "Temp[5] = TOF(Temp[4],Temp[4],ONE(X[0])\n",
      "Temp[6] = TOF(Temp[5],Temp[5],ONE(X[0])\n",
      "Temp[7] = TOF(X[2],X[2],ONE(X[0])\n",
      "Temp[8] = TOF(X[0],Temp[7],ONE(X[0])\n",
      "Temp[9] = TOF(Temp[8],Temp[8],ONE(X[0])\n",
      "Temp[10] = TOF(Temp[6],Temp[9],ONE(X[0])\n",
      "Temp[11] = TOF(Temp[10],Temp[10],ONE(X[0])\n",
      "Temp[12] = TOF(Temp[2],Temp[2],ONE(X[0])\n",
      "Temp[13] = TOF(Temp[11],Temp[11],ONE(X[0])\n",
      "Y[0] = TOF(Temp[12],Temp[13],ONE(X[0])\n"
     ]
    }
   ],
   "source": [
    "# \"Proof by Python\"\n",
    "def TOFONE(P):\n",
    "    Q = P.replace(\"NAND(\",\"TOF(\").replace(\")\",\",ONE(X[0])\")\n",
    "    return Q\n",
    "\n",
    "print( TOFONE(nandcode(BIG2)))"
   ]
  },
  {
   "cell_type": "markdown",
   "metadata": {
    "slideshow": {
     "slide_type": "slide"
    }
   },
   "source": [
    "## Composition\n",
    "\n",
    "If we have NAND program $P$ to compute $F:\\{0,1\\}^2 \\rightarrow \\{0,1\\}$  then there is NAND program $Q$ to compute $G:\\{0,1\\}^4 \\rightarrow \\{0,1\\}$\n",
    "where $G(a,b,c,d) = F(F(a,b),F(c,d))$\n",
    "\n",
    "Number of lines in $Q$  = $3 \\times$ number of lines in $P$\n",
    "\n",
    "__Exercise:__ Give 12 line NAND program for $XOR_4:\\{0,1\\}^4 \\rightarrow \\{0,1\\}$."
   ]
  },
  {
   "cell_type": "code",
   "execution_count": 141,
   "metadata": {
    "slideshow": {
     "slide_type": "fragment"
    }
   },
   "outputs": [
    {
     "data": {
      "text/html": [
       "<iframe src=\"https://e.ggtimer.com/240?alert=false\" frameborder=\"0\" allowfullscreen  width=\" 80%\" height=\"100\" style=\"box-shadow: 0 0 16px gray; margin: 10px;\" name=\"test\" id=\"test\"></iframe>"
      ],
      "text/plain": [
       "<IPython.core.display.HTML object>"
      ]
     },
     "metadata": {},
     "output_type": "display_data"
    }
   ],
   "source": [
    "%%html\n",
    "<iframe src=\"https://e.ggtimer.com/240?alert=false\" frameborder=\"0\" allowfullscreen  width=\" 80%\" height=\"100\" style=\"box-shadow: 0 0 16px gray; margin: 10px;\" name=\"test\" id=\"test\"></iframe>"
   ]
  },
  {
   "cell_type": "markdown",
   "metadata": {
    "slideshow": {
     "slide_type": "slide"
    }
   },
   "source": [
    "## Composition\n",
    "\n",
    "If we have NAND program $P$ to compute $F:\\{0,1\\}^2 \\rightarrow \\{0,1\\}$  then there is NAND program $Q$ to compute $G:\\{0,1\\}^4 \\rightarrow \\{0,1\\}$\n",
    "where $G(a,b,c,d) = F(F(a,b),F(c,d))$\n",
    "\n",
    "Number of lines in $Q$  = $3 \\times$ number of lines in $P$\n",
    "\n",
    "__Exercise:__ Give 12 line NAND program for $XOR_4:\\{0,1\\}^4 \\rightarrow \\{0,1\\}$."
   ]
  },
  {
   "cell_type": "code",
   "execution_count": 144,
   "metadata": {
    "slideshow": {
     "slide_type": "fragment"
    }
   },
   "outputs": [
    {
     "data": {
      "image/svg+xml": [
       "<?xml version=\"1.0\" encoding=\"UTF-8\" standalone=\"no\"?>\r\n",
       "<!DOCTYPE svg PUBLIC \"-//W3C//DTD SVG 1.1//EN\"\r\n",
       " \"http://www.w3.org/Graphics/SVG/1.1/DTD/svg11.dtd\">\r\n",
       "<!-- Generated by graphviz version 2.38.0 (20140413.2041)\r\n",
       " -->\r\n",
       "<!-- Title: %3 Pages: 1 -->\r\n",
       "<svg width=\"613pt\" height=\"259pt\"\r\n",
       " viewBox=\"0.00 0.00 613.21 259.00\" xmlns=\"http://www.w3.org/2000/svg\" xmlns:xlink=\"http://www.w3.org/1999/xlink\">\r\n",
       "<g id=\"graph0\" class=\"graph\" transform=\"scale(1 1) rotate(0) translate(4 255)\">\r\n",
       "<title>%3</title>\r\n",
       "<polygon fill=\"white\" stroke=\"none\" points=\"-4,4 -4,-255 609.209,-255 609.209,4 -4,4\"/>\r\n",
       "<!-- v0 -->\r\n",
       "<g id=\"node1\" class=\"node\"><title>v0</title>\r\n",
       "<polygon fill=\"none\" stroke=\"black\" points=\"42,-251 0,-251 0,-209 42,-209 42,-251\"/>\r\n",
       "<text text-anchor=\"middle\" x=\"21\" y=\"-226.3\" font-family=\"Times New Roman,serif\" font-size=\"14.00\" fill=\"blue\">X[0]</text>\r\n",
       "</g>\r\n",
       "<!-- v4 -->\r\n",
       "<g id=\"node5\" class=\"node\"><title>v4</title>\r\n",
       "<polygon fill=\"none\" stroke=\"black\" points=\"113.343,-174 132,-192 113.343,-210 83.1565,-209.983 83.1565,-174.017 113.343,-174\"/>\r\n",
       "<text text-anchor=\"middle\" x=\"105\" y=\"-188.3\" font-family=\"Times New Roman,serif\" font-size=\"14.00\">∧̅</text>\r\n",
       "</g>\r\n",
       "<!-- v0&#45;&gt;v4 -->\r\n",
       "<g id=\"edge1\" class=\"edge\"><title>v0&#45;&gt;v4</title>\r\n",
       "<path fill=\"none\" stroke=\"black\" d=\"M42.2697,-220.607C51.7832,-216.198 63.3175,-210.853 73.8289,-205.982\"/>\r\n",
       "<polygon fill=\"black\" stroke=\"black\" points=\"75.5059,-209.062 83.1074,-201.682 72.5626,-202.711 75.5059,-209.062\"/>\r\n",
       "</g>\r\n",
       "<!-- v5 -->\r\n",
       "<g id=\"node6\" class=\"node\"><title>v5</title>\r\n",
       "<polygon fill=\"none\" stroke=\"black\" points=\"203.343,-186 222,-204 203.343,-222 173.157,-221.983 173.157,-186.017 203.343,-186\"/>\r\n",
       "<text text-anchor=\"middle\" x=\"195\" y=\"-200.3\" font-family=\"Times New Roman,serif\" font-size=\"14.00\">∧̅</text>\r\n",
       "</g>\r\n",
       "<!-- v0&#45;&gt;v5 -->\r\n",
       "<g id=\"edge3\" class=\"edge\"><title>v0&#45;&gt;v5</title>\r\n",
       "<path fill=\"none\" stroke=\"black\" d=\"M42.3862,-228.805C64.5533,-227.309 100.97,-224.279 132,-219 142.21,-217.263 153.234,-214.793 163.114,-212.358\"/>\r\n",
       "<polygon fill=\"black\" stroke=\"black\" points=\"164.087,-215.722 172.916,-209.865 162.361,-208.938 164.087,-215.722\"/>\r\n",
       "</g>\r\n",
       "<!-- v1 -->\r\n",
       "<g id=\"node2\" class=\"node\"><title>v1</title>\r\n",
       "<polygon fill=\"none\" stroke=\"black\" points=\"42,-175 0,-175 0,-133 42,-133 42,-175\"/>\r\n",
       "<text text-anchor=\"middle\" x=\"21\" y=\"-150.3\" font-family=\"Times New Roman,serif\" font-size=\"14.00\" fill=\"blue\">X[1]</text>\r\n",
       "</g>\r\n",
       "<!-- v1&#45;&gt;v4 -->\r\n",
       "<g id=\"edge2\" class=\"edge\"><title>v1&#45;&gt;v4</title>\r\n",
       "<path fill=\"none\" stroke=\"black\" d=\"M42.2697,-163.393C51.7832,-167.802 63.3175,-173.147 73.8289,-178.018\"/>\r\n",
       "<polygon fill=\"black\" stroke=\"black\" points=\"72.5626,-181.289 83.1074,-182.318 75.5059,-174.938 72.5626,-181.289\"/>\r\n",
       "</g>\r\n",
       "<!-- v6 -->\r\n",
       "<g id=\"node7\" class=\"node\"><title>v6</title>\r\n",
       "<polygon fill=\"none\" stroke=\"black\" points=\"203.343,-132 222,-150 203.343,-168 173.157,-167.983 173.157,-132.017 203.343,-132\"/>\r\n",
       "<text text-anchor=\"middle\" x=\"195\" y=\"-146.3\" font-family=\"Times New Roman,serif\" font-size=\"14.00\">∧̅</text>\r\n",
       "</g>\r\n",
       "<!-- v1&#45;&gt;v6 -->\r\n",
       "<g id=\"edge5\" class=\"edge\"><title>v1&#45;&gt;v6</title>\r\n",
       "<path fill=\"none\" stroke=\"black\" d=\"M42.0672,-153.533C71.7815,-152.842 127.74,-151.541 162.823,-150.725\"/>\r\n",
       "<polygon fill=\"black\" stroke=\"black\" points=\"163.073,-154.22 172.989,-150.489 162.91,-147.222 163.073,-154.22\"/>\r\n",
       "</g>\r\n",
       "<!-- v2 -->\r\n",
       "<g id=\"node3\" class=\"node\"><title>v2</title>\r\n",
       "<polygon fill=\"none\" stroke=\"black\" points=\"42,-42 0,-42 0,-0 42,-0 42,-42\"/>\r\n",
       "<text text-anchor=\"middle\" x=\"21\" y=\"-17.3\" font-family=\"Times New Roman,serif\" font-size=\"14.00\" fill=\"blue\">X[2]</text>\r\n",
       "</g>\r\n",
       "<!-- v8 -->\r\n",
       "<g id=\"node9\" class=\"node\"><title>v8</title>\r\n",
       "<polygon fill=\"none\" stroke=\"black\" points=\"113.343,-36 132,-54 113.343,-72 83.1565,-71.9832 83.1565,-36.0168 113.343,-36\"/>\r\n",
       "<text text-anchor=\"middle\" x=\"105\" y=\"-50.3\" font-family=\"Times New Roman,serif\" font-size=\"14.00\">∧̅</text>\r\n",
       "</g>\r\n",
       "<!-- v2&#45;&gt;v8 -->\r\n",
       "<g id=\"edge9\" class=\"edge\"><title>v2&#45;&gt;v8</title>\r\n",
       "<path fill=\"none\" stroke=\"black\" d=\"M42.2697,-29.1573C51.7832,-32.9859 63.3175,-37.6278 73.8289,-41.858\"/>\r\n",
       "<polygon fill=\"black\" stroke=\"black\" points=\"72.5237,-45.1055 83.1074,-45.592 75.1372,-38.6116 72.5237,-45.1055\"/>\r\n",
       "</g>\r\n",
       "<!-- v9 -->\r\n",
       "<g id=\"node10\" class=\"node\"><title>v9</title>\r\n",
       "<polygon fill=\"none\" stroke=\"black\" points=\"203.343,-24 222,-42 203.343,-60 173.157,-59.9832 173.157,-24.0168 203.343,-24\"/>\r\n",
       "<text text-anchor=\"middle\" x=\"195\" y=\"-38.3\" font-family=\"Times New Roman,serif\" font-size=\"14.00\">∧̅</text>\r\n",
       "</g>\r\n",
       "<!-- v2&#45;&gt;v9 -->\r\n",
       "<g id=\"edge11\" class=\"edge\"><title>v2&#45;&gt;v9</title>\r\n",
       "<path fill=\"none\" stroke=\"black\" d=\"M42.3851,-21.0005C64.5513,-21.2593 100.967,-22.4389 132,-27 142.246,-28.506 153.28,-30.9133 163.159,-33.3625\"/>\r\n",
       "<polygon fill=\"black\" stroke=\"black\" points=\"162.396,-36.7803 172.954,-35.894 164.148,-30.003 162.396,-36.7803\"/>\r\n",
       "</g>\r\n",
       "<!-- v3 -->\r\n",
       "<g id=\"node4\" class=\"node\"><title>v3</title>\r\n",
       "<polygon fill=\"none\" stroke=\"black\" points=\"42,-111 0,-111 0,-69 42,-69 42,-111\"/>\r\n",
       "<text text-anchor=\"middle\" x=\"21\" y=\"-86.3\" font-family=\"Times New Roman,serif\" font-size=\"14.00\" fill=\"blue\">X[3]</text>\r\n",
       "</g>\r\n",
       "<!-- v3&#45;&gt;v8 -->\r\n",
       "<g id=\"edge10\" class=\"edge\"><title>v3&#45;&gt;v8</title>\r\n",
       "<path fill=\"none\" stroke=\"black\" d=\"M42.2697,-81.1011C51.7832,-76.9244 63.3175,-71.8606 73.8289,-67.2458\"/>\r\n",
       "<polygon fill=\"black\" stroke=\"black\" points=\"75.3579,-70.3971 83.1074,-63.1724 72.544,-63.9876 75.3579,-70.3971\"/>\r\n",
       "</g>\r\n",
       "<!-- v10 -->\r\n",
       "<g id=\"node11\" class=\"node\"><title>v10</title>\r\n",
       "<polygon fill=\"none\" stroke=\"black\" points=\"203.343,-78 222,-96 203.343,-114 173.157,-113.983 173.157,-78.0168 203.343,-78\"/>\r\n",
       "<text text-anchor=\"middle\" x=\"195\" y=\"-92.3\" font-family=\"Times New Roman,serif\" font-size=\"14.00\">∧̅</text>\r\n",
       "</g>\r\n",
       "<!-- v3&#45;&gt;v10 -->\r\n",
       "<g id=\"edge13\" class=\"edge\"><title>v3&#45;&gt;v10</title>\r\n",
       "<path fill=\"none\" stroke=\"black\" d=\"M42.0672,-90.7C71.7815,-91.7366 127.74,-93.6886 162.823,-94.9124\"/>\r\n",
       "<polygon fill=\"black\" stroke=\"black\" points=\"162.873,-98.4162 172.989,-95.267 163.117,-91.4205 162.873,-98.4162\"/>\r\n",
       "</g>\r\n",
       "<!-- v4&#45;&gt;v5 -->\r\n",
       "<g id=\"edge4\" class=\"edge\"><title>v4&#45;&gt;v5</title>\r\n",
       "<path fill=\"none\" stroke=\"black\" d=\"M129.121,-195.153C139.463,-196.563 151.809,-198.247 162.942,-199.765\"/>\r\n",
       "<polygon fill=\"black\" stroke=\"black\" points=\"162.757,-203.272 173.138,-201.155 163.703,-196.336 162.757,-203.272\"/>\r\n",
       "</g>\r\n",
       "<!-- v4&#45;&gt;v6 -->\r\n",
       "<g id=\"edge6\" class=\"edge\"><title>v4&#45;&gt;v6</title>\r\n",
       "<path fill=\"none\" stroke=\"black\" d=\"M123.808,-183.501C135.285,-178.023 150.501,-170.761 163.831,-164.399\"/>\r\n",
       "<polygon fill=\"black\" stroke=\"black\" points=\"165.607,-167.429 173.124,-159.963 162.592,-161.112 165.607,-167.429\"/>\r\n",
       "</g>\r\n",
       "<!-- v7 -->\r\n",
       "<g id=\"node8\" class=\"node\"><title>v7</title>\r\n",
       "<polygon fill=\"none\" stroke=\"black\" points=\"293.343,-141 312,-159 293.343,-177 263.157,-176.983 263.157,-141.017 293.343,-141\"/>\r\n",
       "<text text-anchor=\"middle\" x=\"285\" y=\"-155.3\" font-family=\"Times New Roman,serif\" font-size=\"14.00\">∧̅</text>\r\n",
       "</g>\r\n",
       "<!-- v5&#45;&gt;v7 -->\r\n",
       "<g id=\"edge7\" class=\"edge\"><title>v5&#45;&gt;v7</title>\r\n",
       "<path fill=\"none\" stroke=\"black\" d=\"M213.386,-195.109C224.944,-189.199 240.427,-181.282 253.949,-174.367\"/>\r\n",
       "<polygon fill=\"black\" stroke=\"black\" points=\"255.615,-177.446 262.925,-169.777 252.428,-171.214 255.615,-177.446\"/>\r\n",
       "</g>\r\n",
       "<!-- v6&#45;&gt;v7 -->\r\n",
       "<g id=\"edge8\" class=\"edge\"><title>v6&#45;&gt;v7</title>\r\n",
       "<path fill=\"none\" stroke=\"black\" d=\"M219.582,-152.412C229.845,-153.461 242.012,-154.706 252.993,-155.829\"/>\r\n",
       "<polygon fill=\"black\" stroke=\"black\" points=\"252.752,-159.322 263.056,-156.858 253.464,-152.359 252.752,-159.322\"/>\r\n",
       "</g>\r\n",
       "<!-- v12 -->\r\n",
       "<g id=\"node13\" class=\"node\"><title>v12</title>\r\n",
       "<polygon fill=\"none\" stroke=\"black\" points=\"383.343,-105 402,-123 383.343,-141 353.157,-140.983 353.157,-105.017 383.343,-105\"/>\r\n",
       "<text text-anchor=\"middle\" x=\"375\" y=\"-119.3\" font-family=\"Times New Roman,serif\" font-size=\"14.00\">∧̅</text>\r\n",
       "</g>\r\n",
       "<!-- v7&#45;&gt;v12 -->\r\n",
       "<g id=\"edge17\" class=\"edge\"><title>v7&#45;&gt;v12</title>\r\n",
       "<path fill=\"none\" stroke=\"black\" d=\"M304.663,-151.365C315.92,-146.76 330.533,-140.782 343.44,-135.502\"/>\r\n",
       "<polygon fill=\"black\" stroke=\"black\" points=\"344.964,-138.66 352.894,-131.634 342.313,-132.181 344.964,-138.66\"/>\r\n",
       "</g>\r\n",
       "<!-- v13 -->\r\n",
       "<g id=\"node14\" class=\"node\"><title>v13</title>\r\n",
       "<polygon fill=\"none\" stroke=\"black\" points=\"473.343,-132 492,-150 473.343,-168 443.157,-167.983 443.157,-132.017 473.343,-132\"/>\r\n",
       "<text text-anchor=\"middle\" x=\"465\" y=\"-146.3\" font-family=\"Times New Roman,serif\" font-size=\"14.00\">∧̅</text>\r\n",
       "</g>\r\n",
       "<!-- v7&#45;&gt;v13 -->\r\n",
       "<g id=\"edge19\" class=\"edge\"><title>v7&#45;&gt;v13</title>\r\n",
       "<path fill=\"none\" stroke=\"black\" d=\"M310.75,-157.749C342.695,-156.133 398.286,-153.323 433.007,-151.567\"/>\r\n",
       "<polygon fill=\"black\" stroke=\"black\" points=\"433.253,-155.059 443.063,-151.059 432.899,-148.068 433.253,-155.059\"/>\r\n",
       "</g>\r\n",
       "<!-- v8&#45;&gt;v9 -->\r\n",
       "<g id=\"edge12\" class=\"edge\"><title>v8&#45;&gt;v9</title>\r\n",
       "<path fill=\"none\" stroke=\"black\" d=\"M129.121,-50.8471C139.463,-49.4368 151.809,-47.7533 162.942,-46.2352\"/>\r\n",
       "<polygon fill=\"black\" stroke=\"black\" points=\"163.703,-49.6639 173.138,-44.8448 162.757,-42.7281 163.703,-49.6639\"/>\r\n",
       "</g>\r\n",
       "<!-- v8&#45;&gt;v10 -->\r\n",
       "<g id=\"edge14\" class=\"edge\"><title>v8&#45;&gt;v10</title>\r\n",
       "<path fill=\"none\" stroke=\"black\" d=\"M123.808,-62.4993C135.285,-67.9772 150.501,-75.2392 163.831,-81.6014\"/>\r\n",
       "<polygon fill=\"black\" stroke=\"black\" points=\"162.592,-84.8879 173.124,-86.0366 165.607,-78.5706 162.592,-84.8879\"/>\r\n",
       "</g>\r\n",
       "<!-- v11 -->\r\n",
       "<g id=\"node12\" class=\"node\"><title>v11</title>\r\n",
       "<polygon fill=\"none\" stroke=\"black\" points=\"293.343,-68 312,-86 293.343,-104 263.157,-103.983 263.157,-68.0168 293.343,-68\"/>\r\n",
       "<text text-anchor=\"middle\" x=\"285\" y=\"-82.3\" font-family=\"Times New Roman,serif\" font-size=\"14.00\">∧̅</text>\r\n",
       "</g>\r\n",
       "<!-- v9&#45;&gt;v11 -->\r\n",
       "<g id=\"edge15\" class=\"edge\"><title>v9&#45;&gt;v11</title>\r\n",
       "<path fill=\"none\" stroke=\"black\" d=\"M213.386,-50.693C224.944,-56.4721 240.427,-64.2135 253.949,-70.9746\"/>\r\n",
       "<polygon fill=\"black\" stroke=\"black\" points=\"252.416,-74.121 262.925,-75.4627 255.546,-67.86 252.416,-74.121\"/>\r\n",
       "</g>\r\n",
       "<!-- v10&#45;&gt;v11 -->\r\n",
       "<g id=\"edge16\" class=\"edge\"><title>v10&#45;&gt;v11</title>\r\n",
       "<path fill=\"none\" stroke=\"black\" d=\"M219.582,-93.3202C229.845,-92.154 242.012,-90.7714 252.993,-89.5236\"/>\r\n",
       "<polygon fill=\"black\" stroke=\"black\" points=\"253.515,-92.9868 263.056,-88.38 252.725,-86.0315 253.515,-92.9868\"/>\r\n",
       "</g>\r\n",
       "<!-- v11&#45;&gt;v12 -->\r\n",
       "<g id=\"edge18\" class=\"edge\"><title>v11&#45;&gt;v12</title>\r\n",
       "<path fill=\"none\" stroke=\"black\" d=\"M304.234,-93.6664C315.547,-98.4231 330.369,-104.655 343.44,-110.151\"/>\r\n",
       "<polygon fill=\"black\" stroke=\"black\" points=\"342.433,-113.524 353.007,-114.174 345.146,-107.071 342.433,-113.524\"/>\r\n",
       "</g>\r\n",
       "<!-- v14 -->\r\n",
       "<g id=\"node15\" class=\"node\"><title>v14</title>\r\n",
       "<polygon fill=\"none\" stroke=\"black\" points=\"473.343,-78 492,-96 473.343,-114 443.157,-113.983 443.157,-78.0168 473.343,-78\"/>\r\n",
       "<text text-anchor=\"middle\" x=\"465\" y=\"-92.3\" font-family=\"Times New Roman,serif\" font-size=\"14.00\">∧̅</text>\r\n",
       "</g>\r\n",
       "<!-- v11&#45;&gt;v14 -->\r\n",
       "<g id=\"edge21\" class=\"edge\"><title>v11&#45;&gt;v14</title>\r\n",
       "<path fill=\"none\" stroke=\"black\" d=\"M310.75,-87.3905C342.695,-89.1851 398.286,-92.3082 433.007,-94.2588\"/>\r\n",
       "<polygon fill=\"black\" stroke=\"black\" points=\"432.883,-97.7573 443.063,-94.8238 433.275,-90.7683 432.883,-97.7573\"/>\r\n",
       "</g>\r\n",
       "<!-- v12&#45;&gt;v13 -->\r\n",
       "<g id=\"edge20\" class=\"edge\"><title>v12&#45;&gt;v13</title>\r\n",
       "<path fill=\"none\" stroke=\"black\" d=\"M395.969,-129.127C406.903,-132.482 420.694,-136.713 432.995,-140.487\"/>\r\n",
       "<polygon fill=\"black\" stroke=\"black\" points=\"432.297,-143.934 442.883,-143.521 434.35,-137.242 432.297,-143.934\"/>\r\n",
       "</g>\r\n",
       "<!-- v12&#45;&gt;v14 -->\r\n",
       "<g id=\"edge22\" class=\"edge\"><title>v12&#45;&gt;v14</title>\r\n",
       "<path fill=\"none\" stroke=\"black\" d=\"M395.969,-116.873C406.903,-113.518 420.694,-109.287 432.995,-105.513\"/>\r\n",
       "<polygon fill=\"black\" stroke=\"black\" points=\"434.35,-108.758 442.883,-102.479 432.297,-102.066 434.35,-108.758\"/>\r\n",
       "</g>\r\n",
       "<!-- v15 -->\r\n",
       "<g id=\"node16\" class=\"node\"><title>v15</title>\r\n",
       "<polygon fill=\"none\" stroke=\"black\" points=\"527.895,-123 566.605,-105 605.314,-123 566.605,-141 527.895,-123\"/>\r\n",
       "<text text-anchor=\"middle\" x=\"566.605\" y=\"-119.3\" font-family=\"Times New Roman,serif\" font-size=\"14.00\" fill=\"red\">Y[0]</text>\r\n",
       "</g>\r\n",
       "<!-- v13&#45;&gt;v15 -->\r\n",
       "<g id=\"edge23\" class=\"edge\"><title>v13&#45;&gt;v15</title>\r\n",
       "<path fill=\"none\" stroke=\"black\" d=\"M486.638,-144.406C499.602,-140.892 516.635,-136.274 531.563,-132.228\"/>\r\n",
       "<polygon fill=\"black\" stroke=\"black\" points=\"532.749,-135.533 541.485,-129.538 530.918,-128.776 532.749,-135.533\"/>\r\n",
       "</g>\r\n",
       "<!-- v14&#45;&gt;v15 -->\r\n",
       "<g id=\"edge24\" class=\"edge\"><title>v14&#45;&gt;v15</title>\r\n",
       "<path fill=\"none\" stroke=\"black\" d=\"M486.638,-101.594C499.602,-105.108 516.635,-109.726 531.563,-113.772\"/>\r\n",
       "<polygon fill=\"black\" stroke=\"black\" points=\"530.918,-117.224 541.485,-116.462 532.749,-110.467 530.918,-117.224\"/>\r\n",
       "</g>\r\n",
       "</g>\r\n",
       "</svg>\r\n"
      ],
      "text/plain": [
       "<graphviz.dot.Digraph at 0x2120cff5e48>"
      ]
     },
     "execution_count": 144,
     "metadata": {},
     "output_type": "execute_result"
    }
   ],
   "source": [
    "def XOR2(a,b):\n",
    "    t1 = NAND(a,b)\n",
    "    t2 = NAND(a,t1)\n",
    "    t3 = NAND(b,t1)\n",
    "    return NAND(t2,t3)\n",
    "\n",
    "def XOR4(a,b,c,d): return XOR2(XOR2(a,b),XOR2(c,d))\n",
    "\n",
    "nandcircuit(XOR4)"
   ]
  },
  {
   "cell_type": "markdown",
   "metadata": {
    "slideshow": {
     "slide_type": "slide"
    }
   },
   "source": [
    "## Addition\n",
    "\n",
    "__Theorem:__ For every $n$, there is a NAND program of at most $100n$ lines that computes $ADD_n:\\{0,1\\}^{2n} \\rightarrow \\{0,1\\}^{n+1}$, which adds two numbers in the binary basis."
   ]
  },
  {
   "cell_type": "code",
   "execution_count": 146,
   "metadata": {
    "slideshow": {
     "slide_type": "fragment"
    }
   },
   "outputs": [
    {
     "data": {
      "text/plain": [
       "[1, 1, 1, 1, 0, 0]"
      ]
     },
     "execution_count": 146,
     "metadata": {},
     "output_type": "execute_result"
    }
   ],
   "source": [
    "def MAJ(a,b,c): return OR(OR(AND(a,b),AND(b,c)),AND(a,c))\n",
    "def ADDONE(a,b,c): return XOR(XOR(a,b),c), MAJ(a,b,c)\n",
    "\n",
    "def ADD(n,A,B):\n",
    "    Y = [0]*(n+1)\n",
    "    carry = zero(A[0])\n",
    "    for i in range(n):\n",
    "        Y[i],carry = ADDONE(A[i],B[i],carry)\n",
    "    Y[n] = carry\n",
    "    return Y\n",
    "\n",
    "ADD(5,[0,1,1,0,0],[1,0,0,1,0])        "
   ]
  },
  {
   "cell_type": "code",
   "execution_count": 147,
   "metadata": {
    "slideshow": {
     "slide_type": "slide"
    }
   },
   "outputs": [
    {
     "data": {
      "image/svg+xml": [
       "<?xml version=\"1.0\" encoding=\"UTF-8\" standalone=\"no\"?>\r\n",
       "<!DOCTYPE svg PUBLIC \"-//W3C//DTD SVG 1.1//EN\"\r\n",
       " \"http://www.w3.org/Graphics/SVG/1.1/DTD/svg11.dtd\">\r\n",
       "<!-- Generated by graphviz version 2.38.0 (20140413.2041)\r\n",
       " -->\r\n",
       "<!-- Title: %3 Pages: 1 -->\r\n",
       "<svg width=\"1673pt\" height=\"448pt\"\r\n",
       " viewBox=\"0.00 0.00 1672.84 448.00\" xmlns=\"http://www.w3.org/2000/svg\" xmlns:xlink=\"http://www.w3.org/1999/xlink\">\r\n",
       "<g id=\"graph0\" class=\"graph\" transform=\"scale(1 1) rotate(0) translate(4 444)\">\r\n",
       "<title>%3</title>\r\n",
       "<polygon fill=\"white\" stroke=\"none\" points=\"-4,4 -4,-444 1668.84,-444 1668.84,4 -4,4\"/>\r\n",
       "<!-- v0 -->\r\n",
       "<g id=\"node1\" class=\"node\"><title>v0</title>\r\n",
       "<polygon fill=\"none\" stroke=\"black\" points=\"42,-359 0,-359 0,-317 42,-317 42,-359\"/>\r\n",
       "<text text-anchor=\"middle\" x=\"21\" y=\"-334.3\" font-family=\"Times New Roman,serif\" font-size=\"14.00\" fill=\"blue\">X[0]</text>\r\n",
       "</g>\r\n",
       "<!-- v6 -->\r\n",
       "<g id=\"node7\" class=\"node\"><title>v6</title>\r\n",
       "<polygon fill=\"none\" stroke=\"black\" points=\"113.343,-320 132,-338 113.343,-356 83.1565,-355.983 83.1565,-320.017 113.343,-320\"/>\r\n",
       "<text text-anchor=\"middle\" x=\"105\" y=\"-334.3\" font-family=\"Times New Roman,serif\" font-size=\"14.00\">∧̅</text>\r\n",
       "</g>\r\n",
       "<!-- v0&#45;&gt;v6 -->\r\n",
       "<g id=\"edge1\" class=\"edge\"><title>v0&#45;&gt;v6</title>\r\n",
       "<path fill=\"none\" stroke=\"black\" d=\"M42.2697,-332.084C51.492,-331.272 62.6132,-331.053 72.8608,-331.427\"/>\r\n",
       "<polygon fill=\"black\" stroke=\"black\" points=\"72.9187,-334.936 83.1074,-332.031 73.3307,-327.948 72.9187,-334.936\"/>\r\n",
       "</g>\r\n",
       "<!-- v0&#45;&gt;v6 -->\r\n",
       "<g id=\"edge2\" class=\"edge\"><title>v0&#45;&gt;v6</title>\r\n",
       "<path fill=\"none\" stroke=\"black\" d=\"M42.2697,-343.916C51.492,-344.728 62.6132,-344.947 72.8608,-344.573\"/>\r\n",
       "<polygon fill=\"black\" stroke=\"black\" points=\"73.3307,-348.052 83.1074,-343.969 72.9187,-341.064 73.3307,-348.052\"/>\r\n",
       "</g>\r\n",
       "<!-- v7 -->\r\n",
       "<g id=\"node8\" class=\"node\"><title>v7</title>\r\n",
       "<polygon fill=\"none\" stroke=\"black\" points=\"203.343,-343 222,-361 203.343,-379 173.157,-378.983 173.157,-343.017 203.343,-343\"/>\r\n",
       "<text text-anchor=\"middle\" x=\"195\" y=\"-357.3\" font-family=\"Times New Roman,serif\" font-size=\"14.00\">∧̅</text>\r\n",
       "</g>\r\n",
       "<!-- v0&#45;&gt;v7 -->\r\n",
       "<g id=\"edge3\" class=\"edge\"><title>v0&#45;&gt;v7</title>\r\n",
       "<path fill=\"none\" stroke=\"black\" d=\"M42.1903,-350.463C52.4978,-356.104 65.4787,-362.139 78,-365 106.109,-371.422 139.034,-369.416 162.611,-366.396\"/>\r\n",
       "<polygon fill=\"black\" stroke=\"black\" points=\"163.324,-369.831 172.735,-364.964 162.343,-362.9 163.324,-369.831\"/>\r\n",
       "</g>\r\n",
       "<!-- v9 -->\r\n",
       "<g id=\"node10\" class=\"node\"><title>v9</title>\r\n",
       "<polygon fill=\"none\" stroke=\"black\" points=\"113.343,-226 132,-244 113.343,-262 83.1565,-261.983 83.1565,-226.017 113.343,-226\"/>\r\n",
       "<text text-anchor=\"middle\" x=\"105\" y=\"-240.3\" font-family=\"Times New Roman,serif\" font-size=\"14.00\">∧̅</text>\r\n",
       "</g>\r\n",
       "<!-- v0&#45;&gt;v9 -->\r\n",
       "<g id=\"edge7\" class=\"edge\"><title>v0&#45;&gt;v9</title>\r\n",
       "<path fill=\"none\" stroke=\"black\" d=\"M40.6071,-316.67C52.7274,-302.776 68.6139,-284.565 81.4512,-269.849\"/>\r\n",
       "<polygon fill=\"black\" stroke=\"black\" points=\"84.2898,-271.919 88.226,-262.082 79.0148,-267.317 84.2898,-271.919\"/>\r\n",
       "</g>\r\n",
       "<!-- v10 -->\r\n",
       "<g id=\"node11\" class=\"node\"><title>v10</title>\r\n",
       "<polygon fill=\"none\" stroke=\"black\" points=\"203.343,-276 222,-294 203.343,-312 173.157,-311.983 173.157,-276.017 203.343,-276\"/>\r\n",
       "<text text-anchor=\"middle\" x=\"195\" y=\"-290.3\" font-family=\"Times New Roman,serif\" font-size=\"14.00\">∧̅</text>\r\n",
       "</g>\r\n",
       "<!-- v0&#45;&gt;v10 -->\r\n",
       "<g id=\"edge9\" class=\"edge\"><title>v0&#45;&gt;v10</title>\r\n",
       "<path fill=\"none\" stroke=\"black\" d=\"M42.1368,-326.449C52.538,-320.965 65.6166,-314.795 78,-311 106.014,-302.414 139.202,-298.109 162.887,-295.985\"/>\r\n",
       "<polygon fill=\"black\" stroke=\"black\" points=\"163.366,-299.458 173.047,-295.155 162.796,-292.481 163.366,-299.458\"/>\r\n",
       "</g>\r\n",
       "<!-- v18 -->\r\n",
       "<g id=\"node20\" class=\"node\"><title>v18</title>\r\n",
       "<polygon fill=\"none\" stroke=\"black\" points=\"383.343,-404 402,-422 383.343,-440 353.157,-439.983 353.157,-404.017 383.343,-404\"/>\r\n",
       "<text text-anchor=\"middle\" x=\"375\" y=\"-418.3\" font-family=\"Times New Roman,serif\" font-size=\"14.00\">∧̅</text>\r\n",
       "</g>\r\n",
       "<!-- v0&#45;&gt;v18 -->\r\n",
       "<g id=\"edge27\" class=\"edge\"><title>v0&#45;&gt;v18</title>\r\n",
       "<path fill=\"none\" stroke=\"black\" d=\"M42.1569,-357.591C52.1549,-366.169 64.8827,-375.512 78,-381 168.635,-418.918 287.154,-423.173 342.706,-422.819\"/>\r\n",
       "<polygon fill=\"black\" stroke=\"black\" points=\"342.993,-426.316 352.95,-422.696 342.908,-419.317 342.993,-426.316\"/>\r\n",
       "</g>\r\n",
       "<!-- v1 -->\r\n",
       "<g id=\"node2\" class=\"node\"><title>v1</title>\r\n",
       "<polygon fill=\"none\" stroke=\"black\" points=\"689.209,-270 647.209,-270 647.209,-228 689.209,-228 689.209,-270\"/>\r\n",
       "<text text-anchor=\"middle\" x=\"668.209\" y=\"-245.3\" font-family=\"Times New Roman,serif\" font-size=\"14.00\" fill=\"blue\">X[1]</text>\r\n",
       "</g>\r\n",
       "<!-- v21 -->\r\n",
       "<g id=\"node23\" class=\"node\"><title>v21</title>\r\n",
       "<polygon fill=\"none\" stroke=\"black\" points=\"766.553,-131 785.209,-149 766.553,-167 736.366,-166.983 736.366,-131.017 766.553,-131\"/>\r\n",
       "<text text-anchor=\"middle\" x=\"758.209\" y=\"-145.3\" font-family=\"Times New Roman,serif\" font-size=\"14.00\">∧̅</text>\r\n",
       "</g>\r\n",
       "<!-- v1&#45;&gt;v21 -->\r\n",
       "<g id=\"edge33\" class=\"edge\"><title>v1&#45;&gt;v21</title>\r\n",
       "<path fill=\"none\" stroke=\"black\" d=\"M686.507,-227.934C698.759,-213.189 715.705,-193.141 731.209,-176 731.618,-175.548 732.033,-175.092 732.451,-174.634\"/>\r\n",
       "<polygon fill=\"black\" stroke=\"black\" points=\"735.167,-176.853 739.43,-167.154 730.049,-172.078 735.167,-176.853\"/>\r\n",
       "</g>\r\n",
       "<!-- v22 -->\r\n",
       "<g id=\"node24\" class=\"node\"><title>v22</title>\r\n",
       "<polygon fill=\"none\" stroke=\"black\" points=\"856.553,-212 875.209,-230 856.553,-248 826.366,-247.983 826.366,-212.017 856.553,-212\"/>\r\n",
       "<text text-anchor=\"middle\" x=\"848.209\" y=\"-226.3\" font-family=\"Times New Roman,serif\" font-size=\"14.00\">∧̅</text>\r\n",
       "</g>\r\n",
       "<!-- v1&#45;&gt;v22 -->\r\n",
       "<g id=\"edge35\" class=\"edge\"><title>v1&#45;&gt;v22</title>\r\n",
       "<path fill=\"none\" stroke=\"black\" d=\"M689.282,-246.857C720.149,-243.563 779.515,-237.226 816.017,-233.33\"/>\r\n",
       "<polygon fill=\"black\" stroke=\"black\" points=\"816.536,-236.794 826.108,-232.252 815.793,-229.834 816.536,-236.794\"/>\r\n",
       "</g>\r\n",
       "<!-- v30 -->\r\n",
       "<g id=\"node33\" class=\"node\"><title>v30</title>\r\n",
       "<polygon fill=\"none\" stroke=\"black\" points=\"766.553,-277 785.209,-295 766.553,-313 736.366,-312.983 736.366,-277.017 766.553,-277\"/>\r\n",
       "<text text-anchor=\"middle\" x=\"758.209\" y=\"-291.3\" font-family=\"Times New Roman,serif\" font-size=\"14.00\">∧̅</text>\r\n",
       "</g>\r\n",
       "<!-- v1&#45;&gt;v30 -->\r\n",
       "<g id=\"edge53\" class=\"edge\"><title>v1&#45;&gt;v30</title>\r\n",
       "<path fill=\"none\" stroke=\"black\" d=\"M689.619,-259.669C700.786,-265.506 714.832,-272.848 727.222,-279.325\"/>\r\n",
       "<polygon fill=\"black\" stroke=\"black\" points=\"725.815,-282.539 736.299,-284.069 729.058,-276.335 725.815,-282.539\"/>\r\n",
       "</g>\r\n",
       "<!-- v2 -->\r\n",
       "<g id=\"node3\" class=\"node\"><title>v2</title>\r\n",
       "<polygon fill=\"none\" stroke=\"black\" points=\"1049.21,-108 1007.21,-108 1007.21,-66 1049.21,-66 1049.21,-108\"/>\r\n",
       "<text text-anchor=\"middle\" x=\"1028.21\" y=\"-83.3\" font-family=\"Times New Roman,serif\" font-size=\"14.00\" fill=\"blue\">X[2]</text>\r\n",
       "</g>\r\n",
       "<!-- v33 -->\r\n",
       "<g id=\"node36\" class=\"node\"><title>v33</title>\r\n",
       "<polygon fill=\"none\" stroke=\"black\" points=\"1126.55,-16 1145.21,-34 1126.55,-52 1096.37,-51.9832 1096.37,-16.0168 1126.55,-16\"/>\r\n",
       "<text text-anchor=\"middle\" x=\"1118.21\" y=\"-30.3\" font-family=\"Times New Roman,serif\" font-size=\"14.00\">∧̅</text>\r\n",
       "</g>\r\n",
       "<!-- v2&#45;&gt;v33 -->\r\n",
       "<g id=\"edge59\" class=\"edge\"><title>v2&#45;&gt;v33</title>\r\n",
       "<path fill=\"none\" stroke=\"black\" d=\"M1049.62,-74.7075C1060.9,-67.916 1075.11,-59.3569 1087.59,-51.8415\"/>\r\n",
       "<polygon fill=\"black\" stroke=\"black\" points=\"1089.54,-54.7514 1096.3,-46.5939 1085.93,-48.755 1089.54,-54.7514\"/>\r\n",
       "</g>\r\n",
       "<!-- v34 -->\r\n",
       "<g id=\"node37\" class=\"node\"><title>v34</title>\r\n",
       "<polygon fill=\"none\" stroke=\"black\" points=\"1228.16,-54 1246.81,-72 1228.16,-90 1197.97,-89.9832 1197.97,-54.0168 1228.16,-54\"/>\r\n",
       "<text text-anchor=\"middle\" x=\"1219.81\" y=\"-68.3\" font-family=\"Times New Roman,serif\" font-size=\"14.00\">∧̅</text>\r\n",
       "</g>\r\n",
       "<!-- v2&#45;&gt;v34 -->\r\n",
       "<g id=\"edge61\" class=\"edge\"><title>v2&#45;&gt;v34</title>\r\n",
       "<path fill=\"none\" stroke=\"black\" d=\"M1049.5,-85.3947C1082.6,-82.7765 1148.42,-77.569 1187.53,-74.4749\"/>\r\n",
       "<polygon fill=\"black\" stroke=\"black\" points=\"1188.11,-77.94 1197.8,-73.6621 1187.56,-70.9618 1188.11,-77.94\"/>\r\n",
       "</g>\r\n",
       "<!-- v42 -->\r\n",
       "<g id=\"node46\" class=\"node\"><title>v42</title>\r\n",
       "<polygon fill=\"none\" stroke=\"black\" points=\"1126.55,-162 1145.21,-180 1126.55,-198 1096.37,-197.983 1096.37,-162.017 1126.55,-162\"/>\r\n",
       "<text text-anchor=\"middle\" x=\"1118.21\" y=\"-176.3\" font-family=\"Times New Roman,serif\" font-size=\"14.00\">∧̅</text>\r\n",
       "</g>\r\n",
       "<!-- v2&#45;&gt;v42 -->\r\n",
       "<g id=\"edge79\" class=\"edge\"><title>v2&#45;&gt;v42</title>\r\n",
       "<path fill=\"none\" stroke=\"black\" d=\"M1048.97,-108.166C1061.11,-121.144 1077.02,-138.077 1091.21,-153 1091.63,-153.442 1092.05,-153.888 1092.48,-154.337\"/>\r\n",
       "<polygon fill=\"black\" stroke=\"black\" points=\"1090.11,-156.925 1099.56,-161.73 1095.17,-152.085 1090.11,-156.925\"/>\r\n",
       "</g>\r\n",
       "<!-- v3 -->\r\n",
       "<g id=\"node4\" class=\"node\"><title>v3</title>\r\n",
       "<polygon fill=\"none\" stroke=\"black\" points=\"42,-219 0,-219 0,-177 42,-177 42,-219\"/>\r\n",
       "<text text-anchor=\"middle\" x=\"21\" y=\"-194.3\" font-family=\"Times New Roman,serif\" font-size=\"14.00\" fill=\"blue\">X[3]</text>\r\n",
       "</g>\r\n",
       "<!-- v3&#45;&gt;v9 -->\r\n",
       "<g id=\"edge8\" class=\"edge\"><title>v3&#45;&gt;v9</title>\r\n",
       "<path fill=\"none\" stroke=\"black\" d=\"M42.2697,-209.371C51.8803,-214.762 63.5531,-221.31 74.1504,-227.255\"/>\r\n",
       "<polygon fill=\"black\" stroke=\"black\" points=\"72.6735,-230.44 83.1074,-232.28 76.0983,-224.335 72.6735,-230.44\"/>\r\n",
       "</g>\r\n",
       "<!-- v11 -->\r\n",
       "<g id=\"node12\" class=\"node\"><title>v11</title>\r\n",
       "<polygon fill=\"none\" stroke=\"black\" points=\"203.343,-222 222,-240 203.343,-258 173.157,-257.983 173.157,-222.017 203.343,-222\"/>\r\n",
       "<text text-anchor=\"middle\" x=\"195\" y=\"-236.3\" font-family=\"Times New Roman,serif\" font-size=\"14.00\">∧̅</text>\r\n",
       "</g>\r\n",
       "<!-- v3&#45;&gt;v11 -->\r\n",
       "<g id=\"edge11\" class=\"edge\"><title>v3&#45;&gt;v11</title>\r\n",
       "<path fill=\"none\" stroke=\"black\" d=\"M42.1121,-200.343C64.3526,-203.194 101.124,-208.682 132,-217 142.476,-219.822 153.666,-223.695 163.616,-227.458\"/>\r\n",
       "<polygon fill=\"black\" stroke=\"black\" points=\"162.491,-230.776 173.079,-231.141 165.03,-224.252 162.491,-230.776\"/>\r\n",
       "</g>\r\n",
       "<!-- v16 -->\r\n",
       "<g id=\"node18\" class=\"node\"><title>v16</title>\r\n",
       "<polygon fill=\"none\" stroke=\"black\" points=\"383.343,-220 402,-238 383.343,-256 353.157,-255.983 353.157,-220.017 383.343,-220\"/>\r\n",
       "<text text-anchor=\"middle\" x=\"375\" y=\"-234.3\" font-family=\"Times New Roman,serif\" font-size=\"14.00\">∧̅</text>\r\n",
       "</g>\r\n",
       "<!-- v3&#45;&gt;v16 -->\r\n",
       "<g id=\"edge23\" class=\"edge\"><title>v3&#45;&gt;v16</title>\r\n",
       "<path fill=\"none\" stroke=\"black\" d=\"M42.3081,-197.915C64.4086,-197.971 100.769,-198.499 132,-201 208.448,-207.122 297.358,-222.996 343.181,-231.833\"/>\r\n",
       "<polygon fill=\"black\" stroke=\"black\" points=\"342.593,-235.285 353.078,-233.762 343.932,-228.414 342.593,-235.285\"/>\r\n",
       "</g>\r\n",
       "<!-- v4 -->\r\n",
       "<g id=\"node5\" class=\"node\"><title>v4</title>\r\n",
       "<polygon fill=\"none\" stroke=\"black\" points=\"689.209,-170 647.209,-170 647.209,-128 689.209,-128 689.209,-170\"/>\r\n",
       "<text text-anchor=\"middle\" x=\"668.209\" y=\"-145.3\" font-family=\"Times New Roman,serif\" font-size=\"14.00\" fill=\"blue\">X[4]</text>\r\n",
       "</g>\r\n",
       "<!-- v4&#45;&gt;v21 -->\r\n",
       "<g id=\"edge34\" class=\"edge\"><title>v4&#45;&gt;v21</title>\r\n",
       "<path fill=\"none\" stroke=\"black\" d=\"M689.619,-149C700.458,-149 714.008,-149 726.124,-149\"/>\r\n",
       "<polygon fill=\"black\" stroke=\"black\" points=\"726.299,-152.5 736.299,-149 726.299,-145.5 726.299,-152.5\"/>\r\n",
       "</g>\r\n",
       "<!-- v23 -->\r\n",
       "<g id=\"node25\" class=\"node\"><title>v23</title>\r\n",
       "<polygon fill=\"none\" stroke=\"black\" points=\"856.553,-104 875.209,-122 856.553,-140 826.366,-139.983 826.366,-104.017 856.553,-104\"/>\r\n",
       "<text text-anchor=\"middle\" x=\"848.209\" y=\"-118.3\" font-family=\"Times New Roman,serif\" font-size=\"14.00\">∧̅</text>\r\n",
       "</g>\r\n",
       "<!-- v4&#45;&gt;v23 -->\r\n",
       "<g id=\"edge37\" class=\"edge\"><title>v4&#45;&gt;v23</title>\r\n",
       "<path fill=\"none\" stroke=\"black\" d=\"M689.453,-137.658C701.24,-131.709 716.612,-125.04 731.209,-122 759.42,-116.124 792.333,-116.816 815.88,-118.571\"/>\r\n",
       "<polygon fill=\"black\" stroke=\"black\" points=\"815.728,-122.07 825.989,-119.431 816.322,-115.095 815.728,-122.07\"/>\r\n",
       "</g>\r\n",
       "<!-- v28 -->\r\n",
       "<g id=\"node31\" class=\"node\"><title>v28</title>\r\n",
       "<polygon fill=\"none\" stroke=\"black\" points=\"766.553,-185 785.209,-203 766.553,-221 736.366,-220.983 736.366,-185.017 766.553,-185\"/>\r\n",
       "<text text-anchor=\"middle\" x=\"758.209\" y=\"-199.3\" font-family=\"Times New Roman,serif\" font-size=\"14.00\">∧̅</text>\r\n",
       "</g>\r\n",
       "<!-- v4&#45;&gt;v28 -->\r\n",
       "<g id=\"edge49\" class=\"edge\"><title>v4&#45;&gt;v28</title>\r\n",
       "<path fill=\"none\" stroke=\"black\" d=\"M689.619,-161.524C700.896,-168.444 715.107,-177.165 727.586,-184.822\"/>\r\n",
       "<polygon fill=\"black\" stroke=\"black\" points=\"725.945,-187.921 736.299,-190.169 729.606,-181.955 725.945,-187.921\"/>\r\n",
       "</g>\r\n",
       "<!-- v5 -->\r\n",
       "<g id=\"node6\" class=\"node\"><title>v5</title>\r\n",
       "<polygon fill=\"none\" stroke=\"black\" points=\"1049.21,-48 1007.21,-48 1007.21,-6 1049.21,-6 1049.21,-48\"/>\r\n",
       "<text text-anchor=\"middle\" x=\"1028.21\" y=\"-23.3\" font-family=\"Times New Roman,serif\" font-size=\"14.00\" fill=\"blue\">X[5]</text>\r\n",
       "</g>\r\n",
       "<!-- v5&#45;&gt;v33 -->\r\n",
       "<g id=\"edge60\" class=\"edge\"><title>v5&#45;&gt;v33</title>\r\n",
       "<path fill=\"none\" stroke=\"black\" d=\"M1049.62,-28.6235C1060.46,-29.4857 1074.01,-30.5635 1086.12,-31.5273\"/>\r\n",
       "<polygon fill=\"black\" stroke=\"black\" points=\"1086.05,-35.0326 1096.3,-32.3367 1086.61,-28.0546 1086.05,-35.0326\"/>\r\n",
       "</g>\r\n",
       "<!-- v35 -->\r\n",
       "<g id=\"node38\" class=\"node\"><title>v35</title>\r\n",
       "<polygon fill=\"none\" stroke=\"black\" points=\"1228.16,-0 1246.81,-18 1228.16,-36 1197.97,-35.9832 1197.97,-0.0168009 1228.16,-0\"/>\r\n",
       "<text text-anchor=\"middle\" x=\"1219.81\" y=\"-14.3\" font-family=\"Times New Roman,serif\" font-size=\"14.00\">∧̅</text>\r\n",
       "</g>\r\n",
       "<!-- v5&#45;&gt;v35 -->\r\n",
       "<g id=\"edge63\" class=\"edge\"><title>v5&#45;&gt;v35</title>\r\n",
       "<path fill=\"none\" stroke=\"black\" d=\"M1049.48,-18.6872C1061.41,-14.2495 1076.91,-9.24955 1091.21,-7 1124.03,-1.83747 1162.01,-6.44825 1187.94,-11.1826\"/>\r\n",
       "<polygon fill=\"black\" stroke=\"black\" points=\"1187.45,-14.6518 1197.93,-13.1212 1188.78,-7.77999 1187.45,-14.6518\"/>\r\n",
       "</g>\r\n",
       "<!-- v40 -->\r\n",
       "<g id=\"node44\" class=\"node\"><title>v40</title>\r\n",
       "<polygon fill=\"none\" stroke=\"black\" points=\"1126.55,-108 1145.21,-126 1126.55,-144 1096.37,-143.983 1096.37,-108.017 1126.55,-108\"/>\r\n",
       "<text text-anchor=\"middle\" x=\"1118.21\" y=\"-122.3\" font-family=\"Times New Roman,serif\" font-size=\"14.00\">∧̅</text>\r\n",
       "</g>\r\n",
       "<!-- v5&#45;&gt;v40 -->\r\n",
       "<g id=\"edge75\" class=\"edge\"><title>v5&#45;&gt;v40</title>\r\n",
       "<path fill=\"none\" stroke=\"black\" d=\"M1048.3,-48.4815C1061.86,-63.7294 1080.11,-84.2661 1094.43,-100.371\"/>\r\n",
       "<polygon fill=\"black\" stroke=\"black\" points=\"1091.84,-102.729 1101.1,-107.878 1097.07,-98.0785 1091.84,-102.729\"/>\r\n",
       "</g>\r\n",
       "<!-- v6&#45;&gt;v7 -->\r\n",
       "<g id=\"edge4\" class=\"edge\"><title>v6&#45;&gt;v7</title>\r\n",
       "<path fill=\"none\" stroke=\"black\" d=\"M126.855,-343.451C137.735,-346.294 151.254,-349.828 163.304,-352.977\"/>\r\n",
       "<polygon fill=\"black\" stroke=\"black\" points=\"162.43,-356.366 172.99,-355.509 164.2,-349.594 162.43,-356.366\"/>\r\n",
       "</g>\r\n",
       "<!-- v8 -->\r\n",
       "<g id=\"node9\" class=\"node\"><title>v8</title>\r\n",
       "<polygon fill=\"none\" stroke=\"black\" points=\"293.343,-343 312,-361 293.343,-379 263.157,-378.983 263.157,-343.017 293.343,-343\"/>\r\n",
       "<text text-anchor=\"middle\" x=\"285\" y=\"-357.3\" font-family=\"Times New Roman,serif\" font-size=\"14.00\">∧̅</text>\r\n",
       "</g>\r\n",
       "<!-- v7&#45;&gt;v8 -->\r\n",
       "<g id=\"edge5\" class=\"edge\"><title>v7&#45;&gt;v8</title>\r\n",
       "<path fill=\"none\" stroke=\"black\" d=\"M216.41,-355.199C227.249,-354.232 240.799,-354.004 252.915,-354.515\"/>\r\n",
       "<polygon fill=\"black\" stroke=\"black\" points=\"252.889,-358.021 263.089,-355.155 253.329,-351.034 252.889,-358.021\"/>\r\n",
       "</g>\r\n",
       "<!-- v7&#45;&gt;v8 -->\r\n",
       "<g id=\"edge6\" class=\"edge\"><title>v7&#45;&gt;v8</title>\r\n",
       "<path fill=\"none\" stroke=\"black\" d=\"M216.41,-366.801C227.249,-367.768 240.799,-367.996 252.915,-367.485\"/>\r\n",
       "<polygon fill=\"black\" stroke=\"black\" points=\"253.329,-370.966 263.089,-366.845 252.889,-363.979 253.329,-370.966\"/>\r\n",
       "</g>\r\n",
       "<!-- v13 -->\r\n",
       "<g id=\"node14\" class=\"node\"><title>v13</title>\r\n",
       "<polygon fill=\"none\" stroke=\"black\" points=\"383.343,-312 402,-330 383.343,-348 353.157,-347.983 353.157,-312.017 383.343,-312\"/>\r\n",
       "<text text-anchor=\"middle\" x=\"375\" y=\"-326.3\" font-family=\"Times New Roman,serif\" font-size=\"14.00\">∧̅</text>\r\n",
       "</g>\r\n",
       "<!-- v8&#45;&gt;v13 -->\r\n",
       "<g id=\"edge16\" class=\"edge\"><title>v8&#45;&gt;v13</title>\r\n",
       "<path fill=\"none\" stroke=\"black\" d=\"M305.095,-354.273C316.263,-350.339 330.623,-345.28 343.341,-340.8\"/>\r\n",
       "<polygon fill=\"black\" stroke=\"black\" points=\"344.827,-343.988 353.096,-337.364 342.502,-337.385 344.827,-343.988\"/>\r\n",
       "</g>\r\n",
       "<!-- v15 -->\r\n",
       "<g id=\"node16\" class=\"node\"><title>v15</title>\r\n",
       "<polygon fill=\"none\" stroke=\"black\" points=\"473.343,-343 492,-361 473.343,-379 443.157,-378.983 443.157,-343.017 473.343,-343\"/>\r\n",
       "<text text-anchor=\"middle\" x=\"465\" y=\"-357.3\" font-family=\"Times New Roman,serif\" font-size=\"14.00\">∧̅</text>\r\n",
       "</g>\r\n",
       "<!-- v8&#45;&gt;v15 -->\r\n",
       "<g id=\"edge19\" class=\"edge\"><title>v8&#45;&gt;v15</title>\r\n",
       "<path fill=\"none\" stroke=\"black\" d=\"M312.265,-361C344.29,-361 398.365,-361 432.569,-361\"/>\r\n",
       "<polygon fill=\"black\" stroke=\"black\" points=\"432.923,-364.5 442.923,-361 432.923,-357.5 432.923,-364.5\"/>\r\n",
       "</g>\r\n",
       "<!-- v8&#45;&gt;v16 -->\r\n",
       "<g id=\"edge24\" class=\"edge\"><title>v8&#45;&gt;v16</title>\r\n",
       "<path fill=\"none\" stroke=\"black\" d=\"M296.791,-345.918C311.324,-325.604 337.414,-289.137 355.207,-264.268\"/>\r\n",
       "<polygon fill=\"black\" stroke=\"black\" points=\"358.149,-266.17 361.122,-256 352.456,-262.097 358.149,-266.17\"/>\r\n",
       "</g>\r\n",
       "<!-- v8&#45;&gt;v18 -->\r\n",
       "<g id=\"edge28\" class=\"edge\"><title>v8&#45;&gt;v18</title>\r\n",
       "<path fill=\"none\" stroke=\"black\" d=\"M301.328,-371.625C313.155,-379.823 329.875,-391.413 344.297,-401.41\"/>\r\n",
       "<polygon fill=\"black\" stroke=\"black\" points=\"342.702,-404.564 352.915,-407.384 346.69,-398.811 342.702,-404.564\"/>\r\n",
       "</g>\r\n",
       "<!-- v9&#45;&gt;v10 -->\r\n",
       "<g id=\"edge10\" class=\"edge\"><title>v9&#45;&gt;v10</title>\r\n",
       "<path fill=\"none\" stroke=\"black\" d=\"M122.552,-253.405C134.233,-260.041 150.211,-269.12 164.095,-277.008\"/>\r\n",
       "<polygon fill=\"black\" stroke=\"black\" points=\"162.426,-280.086 172.85,-281.983 165.885,-274 162.426,-280.086\"/>\r\n",
       "</g>\r\n",
       "<!-- v9&#45;&gt;v11 -->\r\n",
       "<g id=\"edge12\" class=\"edge\"><title>v9&#45;&gt;v11</title>\r\n",
       "<path fill=\"none\" stroke=\"black\" d=\"M130.982,-242.864C140.967,-242.411 152.57,-241.883 163.078,-241.406\"/>\r\n",
       "<polygon fill=\"black\" stroke=\"black\" points=\"163.29,-244.9 173.121,-240.949 162.972,-237.907 163.29,-244.9\"/>\r\n",
       "</g>\r\n",
       "<!-- v17 -->\r\n",
       "<g id=\"node19\" class=\"node\"><title>v17</title>\r\n",
       "<polygon fill=\"none\" stroke=\"black\" points=\"473.343,-220 492,-238 473.343,-256 443.157,-255.983 443.157,-220.017 473.343,-220\"/>\r\n",
       "<text text-anchor=\"middle\" x=\"465\" y=\"-234.3\" font-family=\"Times New Roman,serif\" font-size=\"14.00\">∧̅</text>\r\n",
       "</g>\r\n",
       "<!-- v9&#45;&gt;v17 -->\r\n",
       "<g id=\"edge25\" class=\"edge\"><title>v9&#45;&gt;v17</title>\r\n",
       "<path fill=\"none\" stroke=\"black\" d=\"M121.546,-233.731C133.645,-226.374 151.156,-217.075 168,-213 269.087,-188.543 300.182,-189.792 402,-211 412.689,-213.226 423.794,-217.399 433.602,-221.809\"/>\r\n",
       "<polygon fill=\"black\" stroke=\"black\" points=\"432.381,-225.103 442.915,-226.235 435.386,-218.781 432.381,-225.103\"/>\r\n",
       "</g>\r\n",
       "<!-- v12 -->\r\n",
       "<g id=\"node13\" class=\"node\"><title>v12</title>\r\n",
       "<polygon fill=\"none\" stroke=\"black\" points=\"293.343,-272 312,-290 293.343,-308 263.157,-307.983 263.157,-272.017 293.343,-272\"/>\r\n",
       "<text text-anchor=\"middle\" x=\"285\" y=\"-286.3\" font-family=\"Times New Roman,serif\" font-size=\"14.00\">∧̅</text>\r\n",
       "</g>\r\n",
       "<!-- v10&#45;&gt;v12 -->\r\n",
       "<g id=\"edge13\" class=\"edge\"><title>v10&#45;&gt;v12</title>\r\n",
       "<path fill=\"none\" stroke=\"black\" d=\"M220.982,-292.864C230.967,-292.411 242.57,-291.883 253.078,-291.406\"/>\r\n",
       "<polygon fill=\"black\" stroke=\"black\" points=\"253.29,-294.9 263.121,-290.949 252.972,-287.907 253.29,-294.9\"/>\r\n",
       "</g>\r\n",
       "<!-- v11&#45;&gt;v12 -->\r\n",
       "<g id=\"edge14\" class=\"edge\"><title>v11&#45;&gt;v12</title>\r\n",
       "<path fill=\"none\" stroke=\"black\" d=\"M212.552,-249.405C224.233,-256.041 240.211,-265.12 254.095,-273.008\"/>\r\n",
       "<polygon fill=\"black\" stroke=\"black\" points=\"252.426,-276.086 262.85,-277.983 255.885,-270 252.426,-276.086\"/>\r\n",
       "</g>\r\n",
       "<!-- v12&#45;&gt;v13 -->\r\n",
       "<g id=\"edge15\" class=\"edge\"><title>v12&#45;&gt;v13</title>\r\n",
       "<path fill=\"none\" stroke=\"black\" d=\"M303.808,-298.095C315.285,-303.312 330.501,-310.228 343.831,-316.287\"/>\r\n",
       "<polygon fill=\"black\" stroke=\"black\" points=\"342.572,-319.559 353.124,-320.511 345.469,-313.187 342.572,-319.559\"/>\r\n",
       "</g>\r\n",
       "<!-- v14 -->\r\n",
       "<g id=\"node15\" class=\"node\"><title>v14</title>\r\n",
       "<polygon fill=\"none\" stroke=\"black\" points=\"473.343,-289 492,-307 473.343,-325 443.157,-324.983 443.157,-289.017 473.343,-289\"/>\r\n",
       "<text text-anchor=\"middle\" x=\"465\" y=\"-303.3\" font-family=\"Times New Roman,serif\" font-size=\"14.00\">∧̅</text>\r\n",
       "</g>\r\n",
       "<!-- v12&#45;&gt;v14 -->\r\n",
       "<g id=\"edge17\" class=\"edge\"><title>v12&#45;&gt;v14</title>\r\n",
       "<path fill=\"none\" stroke=\"black\" d=\"M310.006,-292.293C341.825,-295.332 398.016,-300.698 433.008,-304.04\"/>\r\n",
       "<polygon fill=\"black\" stroke=\"black\" points=\"432.85,-307.541 443.137,-305.007 433.515,-300.573 432.85,-307.541\"/>\r\n",
       "</g>\r\n",
       "<!-- v13&#45;&gt;v14 -->\r\n",
       "<g id=\"edge18\" class=\"edge\"><title>v13&#45;&gt;v14</title>\r\n",
       "<path fill=\"none\" stroke=\"black\" d=\"M396.855,-324.549C407.735,-321.706 421.254,-318.172 433.304,-315.023\"/>\r\n",
       "<polygon fill=\"black\" stroke=\"black\" points=\"434.2,-318.406 442.99,-312.491 432.43,-311.634 434.2,-318.406\"/>\r\n",
       "</g>\r\n",
       "<!-- v13&#45;&gt;v15 -->\r\n",
       "<g id=\"edge20\" class=\"edge\"><title>v13&#45;&gt;v15</title>\r\n",
       "<path fill=\"none\" stroke=\"black\" d=\"M395.095,-336.727C406.263,-340.661 420.623,-345.72 433.341,-350.2\"/>\r\n",
       "<polygon fill=\"black\" stroke=\"black\" points=\"432.502,-353.615 443.096,-353.636 434.827,-347.012 432.502,-353.615\"/>\r\n",
       "</g>\r\n",
       "<!-- v44 -->\r\n",
       "<g id=\"node17\" class=\"node\"><title>v44</title>\r\n",
       "<polygon fill=\"none\" stroke=\"black\" points=\"527.895,-334 566.605,-316 605.314,-334 566.605,-352 527.895,-334\"/>\r\n",
       "<text text-anchor=\"middle\" x=\"566.605\" y=\"-330.3\" font-family=\"Times New Roman,serif\" font-size=\"14.00\" fill=\"red\">Y[0]</text>\r\n",
       "</g>\r\n",
       "<!-- v14&#45;&gt;v44 -->\r\n",
       "<g id=\"edge21\" class=\"edge\"><title>v14&#45;&gt;v44</title>\r\n",
       "<path fill=\"none\" stroke=\"black\" d=\"M486.638,-312.594C499.602,-316.108 516.635,-320.726 531.563,-324.772\"/>\r\n",
       "<polygon fill=\"black\" stroke=\"black\" points=\"530.918,-328.224 541.485,-327.462 532.749,-321.467 530.918,-328.224\"/>\r\n",
       "</g>\r\n",
       "<!-- v15&#45;&gt;v44 -->\r\n",
       "<g id=\"edge22\" class=\"edge\"><title>v15&#45;&gt;v44</title>\r\n",
       "<path fill=\"none\" stroke=\"black\" d=\"M486.638,-355.406C499.602,-351.892 516.635,-347.274 531.563,-343.228\"/>\r\n",
       "<polygon fill=\"black\" stroke=\"black\" points=\"532.749,-346.533 541.485,-340.538 530.918,-339.776 532.749,-346.533\"/>\r\n",
       "</g>\r\n",
       "<!-- v16&#45;&gt;v17 -->\r\n",
       "<g id=\"edge26\" class=\"edge\"><title>v16&#45;&gt;v17</title>\r\n",
       "<path fill=\"none\" stroke=\"black\" d=\"M402.403,-238C411.921,-238 422.754,-238 432.653,-238\"/>\r\n",
       "<polygon fill=\"black\" stroke=\"black\" points=\"432.922,-241.5 442.922,-238 432.922,-234.5 432.922,-241.5\"/>\r\n",
       "</g>\r\n",
       "<!-- v19 -->\r\n",
       "<g id=\"node21\" class=\"node\"><title>v19</title>\r\n",
       "<polygon fill=\"none\" stroke=\"black\" points=\"574.948,-220 593.605,-238 574.948,-256 544.761,-255.983 544.761,-220.017 574.948,-220\"/>\r\n",
       "<text text-anchor=\"middle\" x=\"566.605\" y=\"-234.3\" font-family=\"Times New Roman,serif\" font-size=\"14.00\">∧̅</text>\r\n",
       "</g>\r\n",
       "<!-- v17&#45;&gt;v19 -->\r\n",
       "<g id=\"edge29\" class=\"edge\"><title>v17&#45;&gt;v19</title>\r\n",
       "<path fill=\"none\" stroke=\"black\" d=\"M486.638,-232.407C500.435,-231.161 518.842,-230.921 534.414,-231.688\"/>\r\n",
       "<polygon fill=\"black\" stroke=\"black\" points=\"534.437,-235.197 544.65,-232.379 534.909,-228.213 534.437,-235.197\"/>\r\n",
       "</g>\r\n",
       "<!-- v17&#45;&gt;v19 -->\r\n",
       "<g id=\"edge30\" class=\"edge\"><title>v17&#45;&gt;v19</title>\r\n",
       "<path fill=\"none\" stroke=\"black\" d=\"M486.638,-243.593C500.435,-244.839 518.842,-245.079 534.414,-244.312\"/>\r\n",
       "<polygon fill=\"black\" stroke=\"black\" points=\"534.909,-247.787 544.65,-243.621 534.437,-240.803 534.909,-247.787\"/>\r\n",
       "</g>\r\n",
       "<!-- v20 -->\r\n",
       "<g id=\"node22\" class=\"node\"><title>v20</title>\r\n",
       "<polygon fill=\"none\" stroke=\"black\" points=\"676.553,-305 695.209,-323 676.553,-341 646.366,-340.983 646.366,-305.017 676.553,-305\"/>\r\n",
       "<text text-anchor=\"middle\" x=\"668.209\" y=\"-319.3\" font-family=\"Times New Roman,serif\" font-size=\"14.00\">∧̅</text>\r\n",
       "</g>\r\n",
       "<!-- v18&#45;&gt;v20 -->\r\n",
       "<g id=\"edge32\" class=\"edge\"><title>v18&#45;&gt;v20</title>\r\n",
       "<path fill=\"none\" stroke=\"black\" d=\"M398.189,-418.309C439.945,-410.888 532.542,-392.151 605.209,-361 616.225,-356.278 627.598,-349.832 637.547,-343.59\"/>\r\n",
       "<polygon fill=\"black\" stroke=\"black\" points=\"639.738,-346.341 646.233,-337.971 635.936,-340.464 639.738,-346.341\"/>\r\n",
       "</g>\r\n",
       "<!-- v19&#45;&gt;v20 -->\r\n",
       "<g id=\"edge31\" class=\"edge\"><title>v19&#45;&gt;v20</title>\r\n",
       "<path fill=\"none\" stroke=\"black\" d=\"M581.454,-249.819C596.141,-262.352 619.759,-282.507 638.494,-298.496\"/>\r\n",
       "<polygon fill=\"black\" stroke=\"black\" points=\"636.306,-301.229 646.185,-305.058 640.85,-295.904 636.306,-301.229\"/>\r\n",
       "</g>\r\n",
       "<!-- v25 -->\r\n",
       "<g id=\"node27\" class=\"node\"><title>v25</title>\r\n",
       "<polygon fill=\"none\" stroke=\"black\" points=\"1036.55,-319 1055.21,-337 1036.55,-355 1006.37,-354.983 1006.37,-319.017 1036.55,-319\"/>\r\n",
       "<text text-anchor=\"middle\" x=\"1028.21\" y=\"-333.3\" font-family=\"Times New Roman,serif\" font-size=\"14.00\">∧̅</text>\r\n",
       "</g>\r\n",
       "<!-- v20&#45;&gt;v25 -->\r\n",
       "<g id=\"edge42\" class=\"edge\"><title>v20&#45;&gt;v25</title>\r\n",
       "<path fill=\"none\" stroke=\"black\" d=\"M694.383,-323.984C758.137,-326.478 925.854,-333.036 995.837,-335.773\"/>\r\n",
       "<polygon fill=\"black\" stroke=\"black\" points=\"996.069,-339.285 1006.2,-336.178 996.343,-332.29 996.069,-339.285\"/>\r\n",
       "</g>\r\n",
       "<!-- v27 -->\r\n",
       "<g id=\"node29\" class=\"node\"><title>v27</title>\r\n",
       "<polygon fill=\"none\" stroke=\"black\" points=\"1126.55,-346 1145.21,-364 1126.55,-382 1096.37,-381.983 1096.37,-346.017 1126.55,-346\"/>\r\n",
       "<text text-anchor=\"middle\" x=\"1118.21\" y=\"-360.3\" font-family=\"Times New Roman,serif\" font-size=\"14.00\">∧̅</text>\r\n",
       "</g>\r\n",
       "<!-- v20&#45;&gt;v27 -->\r\n",
       "<g id=\"edge45\" class=\"edge\"><title>v20&#45;&gt;v27</title>\r\n",
       "<path fill=\"none\" stroke=\"black\" d=\"M685.761,-332.64C716.494,-349.601 784.922,-383 847.209,-383 847.209,-383 847.209,-383 939.209,-383 990.891,-383 1050.54,-374.982 1086,-369.364\"/>\r\n",
       "<polygon fill=\"black\" stroke=\"black\" points=\"1086.88,-372.766 1096.19,-367.708 1085.76,-365.857 1086.88,-372.766\"/>\r\n",
       "</g>\r\n",
       "<!-- v20&#45;&gt;v28 -->\r\n",
       "<g id=\"edge50\" class=\"edge\"><title>v20&#45;&gt;v28</title>\r\n",
       "<path fill=\"none\" stroke=\"black\" d=\"M680,-308.286C694.369,-288.691 720.035,-253.691 737.81,-229.454\"/>\r\n",
       "<polygon fill=\"black\" stroke=\"black\" points=\"740.645,-231.506 743.736,-221.372 735,-227.367 740.645,-231.506\"/>\r\n",
       "</g>\r\n",
       "<!-- v20&#45;&gt;v30 -->\r\n",
       "<g id=\"edge54\" class=\"edge\"><title>v20&#45;&gt;v30</title>\r\n",
       "<path fill=\"none\" stroke=\"black\" d=\"M689.178,-316.646C700.112,-313.167 713.903,-308.779 726.205,-304.865\"/>\r\n",
       "<polygon fill=\"black\" stroke=\"black\" points=\"727.625,-308.086 736.093,-301.719 725.502,-301.416 727.625,-308.086\"/>\r\n",
       "</g>\r\n",
       "<!-- v21&#45;&gt;v22 -->\r\n",
       "<g id=\"edge36\" class=\"edge\"><title>v21&#45;&gt;v22</title>\r\n",
       "<path fill=\"none\" stroke=\"black\" d=\"M772.575,-161.302C785.136,-172.864 804.31,-190.513 820.078,-205.027\"/>\r\n",
       "<polygon fill=\"black\" stroke=\"black\" points=\"817.773,-207.663 827.501,-211.86 822.514,-202.512 817.773,-207.663\"/>\r\n",
       "</g>\r\n",
       "<!-- v21&#45;&gt;v23 -->\r\n",
       "<g id=\"edge38\" class=\"edge\"><title>v21&#45;&gt;v23</title>\r\n",
       "<path fill=\"none\" stroke=\"black\" d=\"M779.178,-142.873C790.112,-139.518 803.903,-135.287 816.205,-131.513\"/>\r\n",
       "<polygon fill=\"black\" stroke=\"black\" points=\"817.559,-134.758 826.093,-128.479 815.506,-128.066 817.559,-134.758\"/>\r\n",
       "</g>\r\n",
       "<!-- v29 -->\r\n",
       "<g id=\"node32\" class=\"node\"><title>v29</title>\r\n",
       "<polygon fill=\"none\" stroke=\"black\" points=\"856.553,-158 875.209,-176 856.553,-194 826.366,-193.983 826.366,-158.017 856.553,-158\"/>\r\n",
       "<text text-anchor=\"middle\" x=\"848.209\" y=\"-172.3\" font-family=\"Times New Roman,serif\" font-size=\"14.00\">∧̅</text>\r\n",
       "</g>\r\n",
       "<!-- v21&#45;&gt;v29 -->\r\n",
       "<g id=\"edge51\" class=\"edge\"><title>v21&#45;&gt;v29</title>\r\n",
       "<path fill=\"none\" stroke=\"black\" d=\"M779.178,-155.127C790.112,-158.482 803.903,-162.713 816.205,-166.487\"/>\r\n",
       "<polygon fill=\"black\" stroke=\"black\" points=\"815.506,-169.934 826.093,-169.521 817.559,-163.242 815.506,-169.934\"/>\r\n",
       "</g>\r\n",
       "<!-- v24 -->\r\n",
       "<g id=\"node26\" class=\"node\"><title>v24</title>\r\n",
       "<polygon fill=\"none\" stroke=\"black\" points=\"946.553,-277 965.209,-295 946.553,-313 916.366,-312.983 916.366,-277.017 946.553,-277\"/>\r\n",
       "<text text-anchor=\"middle\" x=\"938.209\" y=\"-291.3\" font-family=\"Times New Roman,serif\" font-size=\"14.00\">∧̅</text>\r\n",
       "</g>\r\n",
       "<!-- v22&#45;&gt;v24 -->\r\n",
       "<g id=\"edge39\" class=\"edge\"><title>v22&#45;&gt;v24</title>\r\n",
       "<path fill=\"none\" stroke=\"black\" d=\"M864.137,-241.026C876.107,-249.868 893.272,-262.546 907.958,-273.394\"/>\r\n",
       "<polygon fill=\"black\" stroke=\"black\" points=\"906.137,-276.4 916.26,-279.526 910.296,-270.77 906.137,-276.4\"/>\r\n",
       "</g>\r\n",
       "<!-- v23&#45;&gt;v24 -->\r\n",
       "<g id=\"edge40\" class=\"edge\"><title>v23&#45;&gt;v24</title>\r\n",
       "<path fill=\"none\" stroke=\"black\" d=\"M862.946,-134.35C867.247,-138.689 871.764,-143.788 875.209,-149 900.312,-186.977 918.848,-236.788 928.831,-267.313\"/>\r\n",
       "<polygon fill=\"black\" stroke=\"black\" points=\"925.51,-268.419 931.885,-276.881 932.178,-266.29 925.51,-268.419\"/>\r\n",
       "</g>\r\n",
       "<!-- v24&#45;&gt;v25 -->\r\n",
       "<g id=\"edge41\" class=\"edge\"><title>v24&#45;&gt;v25</title>\r\n",
       "<path fill=\"none\" stroke=\"black\" d=\"M957.017,-303.499C968.495,-308.977 983.71,-316.239 997.041,-322.601\"/>\r\n",
       "<polygon fill=\"black\" stroke=\"black\" points=\"995.801,-325.888 1006.33,-327.037 998.816,-319.571 995.801,-325.888\"/>\r\n",
       "</g>\r\n",
       "<!-- v26 -->\r\n",
       "<g id=\"node28\" class=\"node\"><title>v26</title>\r\n",
       "<polygon fill=\"none\" stroke=\"black\" points=\"1126.55,-292 1145.21,-310 1126.55,-328 1096.37,-327.983 1096.37,-292.017 1126.55,-292\"/>\r\n",
       "<text text-anchor=\"middle\" x=\"1118.21\" y=\"-306.3\" font-family=\"Times New Roman,serif\" font-size=\"14.00\">∧̅</text>\r\n",
       "</g>\r\n",
       "<!-- v24&#45;&gt;v26 -->\r\n",
       "<g id=\"edge43\" class=\"edge\"><title>v24&#45;&gt;v26</title>\r\n",
       "<path fill=\"none\" stroke=\"black\" d=\"M963.215,-297.023C995.035,-299.704 1051.23,-304.44 1086.22,-307.388\"/>\r\n",
       "<polygon fill=\"black\" stroke=\"black\" points=\"1086.09,-310.89 1096.35,-308.242 1086.68,-303.914 1086.09,-310.89\"/>\r\n",
       "</g>\r\n",
       "<!-- v25&#45;&gt;v26 -->\r\n",
       "<g id=\"edge44\" class=\"edge\"><title>v25&#45;&gt;v26</title>\r\n",
       "<path fill=\"none\" stroke=\"black\" d=\"M1049.18,-330.873C1060.11,-327.518 1073.9,-323.287 1086.2,-319.513\"/>\r\n",
       "<polygon fill=\"black\" stroke=\"black\" points=\"1087.56,-322.758 1096.09,-316.479 1085.51,-316.066 1087.56,-322.758\"/>\r\n",
       "</g>\r\n",
       "<!-- v25&#45;&gt;v27 -->\r\n",
       "<g id=\"edge46\" class=\"edge\"><title>v25&#45;&gt;v27</title>\r\n",
       "<path fill=\"none\" stroke=\"black\" d=\"M1049.18,-343.127C1060.11,-346.482 1073.9,-350.713 1086.2,-354.487\"/>\r\n",
       "<polygon fill=\"black\" stroke=\"black\" points=\"1085.51,-357.934 1096.09,-357.521 1087.56,-351.242 1085.51,-357.934\"/>\r\n",
       "</g>\r\n",
       "<!-- v45 -->\r\n",
       "<g id=\"node30\" class=\"node\"><title>v45</title>\r\n",
       "<polygon fill=\"none\" stroke=\"black\" points=\"1181.1,-337 1219.81,-319 1258.52,-337 1219.81,-355 1181.1,-337\"/>\r\n",
       "<text text-anchor=\"middle\" x=\"1219.81\" y=\"-333.3\" font-family=\"Times New Roman,serif\" font-size=\"14.00\" fill=\"red\">Y[1]</text>\r\n",
       "</g>\r\n",
       "<!-- v26&#45;&gt;v45 -->\r\n",
       "<g id=\"edge47\" class=\"edge\"><title>v26&#45;&gt;v45</title>\r\n",
       "<path fill=\"none\" stroke=\"black\" d=\"M1139.85,-315.594C1152.81,-319.108 1169.84,-323.726 1184.77,-327.772\"/>\r\n",
       "<polygon fill=\"black\" stroke=\"black\" points=\"1184.13,-331.224 1194.69,-330.462 1185.96,-324.467 1184.13,-331.224\"/>\r\n",
       "</g>\r\n",
       "<!-- v27&#45;&gt;v45 -->\r\n",
       "<g id=\"edge48\" class=\"edge\"><title>v27&#45;&gt;v45</title>\r\n",
       "<path fill=\"none\" stroke=\"black\" d=\"M1139.85,-358.406C1152.81,-354.892 1169.84,-350.274 1184.77,-346.228\"/>\r\n",
       "<polygon fill=\"black\" stroke=\"black\" points=\"1185.96,-349.533 1194.69,-343.538 1184.13,-342.776 1185.96,-349.533\"/>\r\n",
       "</g>\r\n",
       "<!-- v28&#45;&gt;v29 -->\r\n",
       "<g id=\"edge52\" class=\"edge\"><title>v28&#45;&gt;v29</title>\r\n",
       "<path fill=\"none\" stroke=\"black\" d=\"M779.178,-196.873C790.112,-193.518 803.903,-189.287 816.205,-185.513\"/>\r\n",
       "<polygon fill=\"black\" stroke=\"black\" points=\"817.559,-188.758 826.093,-182.479 815.506,-182.066 817.559,-188.758\"/>\r\n",
       "</g>\r\n",
       "<!-- v31 -->\r\n",
       "<g id=\"node34\" class=\"node\"><title>v31</title>\r\n",
       "<polygon fill=\"none\" stroke=\"black\" points=\"946.553,-158 965.209,-176 946.553,-194 916.366,-193.983 916.366,-158.017 946.553,-158\"/>\r\n",
       "<text text-anchor=\"middle\" x=\"938.209\" y=\"-172.3\" font-family=\"Times New Roman,serif\" font-size=\"14.00\">∧̅</text>\r\n",
       "</g>\r\n",
       "<!-- v29&#45;&gt;v31 -->\r\n",
       "<g id=\"edge55\" class=\"edge\"><title>v29&#45;&gt;v31</title>\r\n",
       "<path fill=\"none\" stroke=\"black\" d=\"M869.619,-170.199C880.458,-169.232 894.008,-169.004 906.124,-169.515\"/>\r\n",
       "<polygon fill=\"black\" stroke=\"black\" points=\"906.099,-173.021 916.299,-170.155 906.538,-166.034 906.099,-173.021\"/>\r\n",
       "</g>\r\n",
       "<!-- v29&#45;&gt;v31 -->\r\n",
       "<g id=\"edge56\" class=\"edge\"><title>v29&#45;&gt;v31</title>\r\n",
       "<path fill=\"none\" stroke=\"black\" d=\"M869.619,-181.801C880.458,-182.768 894.008,-182.996 906.124,-182.485\"/>\r\n",
       "<polygon fill=\"black\" stroke=\"black\" points=\"906.538,-185.966 916.299,-181.845 906.099,-178.979 906.538,-185.966\"/>\r\n",
       "</g>\r\n",
       "<!-- v32 -->\r\n",
       "<g id=\"node35\" class=\"node\"><title>v32</title>\r\n",
       "<polygon fill=\"none\" stroke=\"black\" points=\"1036.55,-185 1055.21,-203 1036.55,-221 1006.37,-220.983 1006.37,-185.017 1036.55,-185\"/>\r\n",
       "<text text-anchor=\"middle\" x=\"1028.21\" y=\"-199.3\" font-family=\"Times New Roman,serif\" font-size=\"14.00\">∧̅</text>\r\n",
       "</g>\r\n",
       "<!-- v30&#45;&gt;v32 -->\r\n",
       "<g id=\"edge58\" class=\"edge\"><title>v30&#45;&gt;v32</title>\r\n",
       "<path fill=\"none\" stroke=\"black\" d=\"M778.963,-288.694C802.088,-281.273 841.516,-268.502 875.209,-257 917.355,-242.613 965.793,-225.263 996.442,-214.182\"/>\r\n",
       "<polygon fill=\"black\" stroke=\"black\" points=\"997.909,-217.374 1006.12,-210.679 995.526,-210.792 997.909,-217.374\"/>\r\n",
       "</g>\r\n",
       "<!-- v31&#45;&gt;v32 -->\r\n",
       "<g id=\"edge57\" class=\"edge\"><title>v31&#45;&gt;v32</title>\r\n",
       "<path fill=\"none\" stroke=\"black\" d=\"M959.178,-182.127C970.112,-185.482 983.903,-189.713 996.205,-193.487\"/>\r\n",
       "<polygon fill=\"black\" stroke=\"black\" points=\"995.506,-196.934 1006.09,-196.521 997.559,-190.242 995.506,-196.934\"/>\r\n",
       "</g>\r\n",
       "<!-- v37 -->\r\n",
       "<g id=\"node40\" class=\"node\"><title>v37</title>\r\n",
       "<polygon fill=\"none\" stroke=\"black\" points=\"1431.37,-112 1450.02,-130 1431.37,-148 1401.18,-147.983 1401.18,-112.017 1431.37,-112\"/>\r\n",
       "<text text-anchor=\"middle\" x=\"1423.02\" y=\"-126.3\" font-family=\"Times New Roman,serif\" font-size=\"14.00\">∧̅</text>\r\n",
       "</g>\r\n",
       "<!-- v32&#45;&gt;v37 -->\r\n",
       "<g id=\"edge68\" class=\"edge\"><title>v32&#45;&gt;v37</title>\r\n",
       "<path fill=\"none\" stroke=\"black\" d=\"M1052.43,-206.027C1075.92,-208.569 1113.24,-211.175 1145.21,-207 1236.83,-195.034 1340.79,-160.069 1391.27,-141.654\"/>\r\n",
       "<polygon fill=\"black\" stroke=\"black\" points=\"1392.74,-144.84 1400.92,-138.097 1390.32,-138.272 1392.74,-144.84\"/>\r\n",
       "</g>\r\n",
       "<!-- v39 -->\r\n",
       "<g id=\"node42\" class=\"node\"><title>v39</title>\r\n",
       "<polygon fill=\"none\" stroke=\"black\" points=\"1532.97,-141 1551.63,-159 1532.97,-177 1502.78,-176.983 1502.78,-141.017 1532.97,-141\"/>\r\n",
       "<text text-anchor=\"middle\" x=\"1524.63\" y=\"-155.3\" font-family=\"Times New Roman,serif\" font-size=\"14.00\">∧̅</text>\r\n",
       "</g>\r\n",
       "<!-- v32&#45;&gt;v39 -->\r\n",
       "<g id=\"edge71\" class=\"edge\"><title>v32&#45;&gt;v39</title>\r\n",
       "<path fill=\"none\" stroke=\"black\" d=\"M1045.88,-212.265C1078.2,-229.329 1152.08,-264 1218.81,-264 1218.81,-264 1218.81,-264 1322.42,-264 1387.58,-264 1405.73,-251.495 1461.63,-218 1476.33,-209.188 1490.38,-196.335 1501.37,-184.873\"/>\r\n",
       "<polygon fill=\"black\" stroke=\"black\" points=\"1504.23,-186.939 1508.46,-177.227 1499.09,-182.178 1504.23,-186.939\"/>\r\n",
       "</g>\r\n",
       "<!-- v32&#45;&gt;v40 -->\r\n",
       "<g id=\"edge76\" class=\"edge\"><title>v32&#45;&gt;v40</title>\r\n",
       "<path fill=\"none\" stroke=\"black\" d=\"M1042.96,-190.969C1055.14,-180.307 1073.33,-164.397 1088.65,-150.99\"/>\r\n",
       "<polygon fill=\"black\" stroke=\"black\" points=\"1091.13,-153.467 1096.35,-144.248 1086.52,-148.199 1091.13,-153.467\"/>\r\n",
       "</g>\r\n",
       "<!-- v32&#45;&gt;v42 -->\r\n",
       "<g id=\"edge80\" class=\"edge\"><title>v32&#45;&gt;v42</title>\r\n",
       "<path fill=\"none\" stroke=\"black\" d=\"M1050.06,-197.549C1060.94,-194.706 1074.46,-191.172 1086.51,-188.023\"/>\r\n",
       "<polygon fill=\"black\" stroke=\"black\" points=\"1087.41,-191.406 1096.2,-185.491 1085.64,-184.634 1087.41,-191.406\"/>\r\n",
       "</g>\r\n",
       "<!-- v33&#45;&gt;v34 -->\r\n",
       "<g id=\"edge62\" class=\"edge\"><title>v33&#45;&gt;v34</title>\r\n",
       "<path fill=\"none\" stroke=\"black\" d=\"M1137.94,-41.1475C1152.04,-46.5244 1171.66,-54.0097 1188.04,-60.2609\"/>\r\n",
       "<polygon fill=\"black\" stroke=\"black\" points=\"1187.16,-63.6692 1197.75,-63.9637 1189.65,-57.129 1187.16,-63.6692\"/>\r\n",
       "</g>\r\n",
       "<!-- v33&#45;&gt;v35 -->\r\n",
       "<g id=\"edge64\" class=\"edge\"><title>v33&#45;&gt;v35</title>\r\n",
       "<path fill=\"none\" stroke=\"black\" d=\"M1141.81,-30.3694C1155.3,-28.2029 1172.62,-25.4198 1187.42,-23.0423\"/>\r\n",
       "<polygon fill=\"black\" stroke=\"black\" points=\"1188.35,-26.4393 1197.66,-21.3975 1187.24,-19.5279 1188.35,-26.4393\"/>\r\n",
       "</g>\r\n",
       "<!-- v41 -->\r\n",
       "<g id=\"node45\" class=\"node\"><title>v41</title>\r\n",
       "<polygon fill=\"none\" stroke=\"black\" points=\"1228.16,-108 1246.81,-126 1228.16,-144 1197.97,-143.983 1197.97,-108.017 1228.16,-108\"/>\r\n",
       "<text text-anchor=\"middle\" x=\"1219.81\" y=\"-122.3\" font-family=\"Times New Roman,serif\" font-size=\"14.00\">∧̅</text>\r\n",
       "</g>\r\n",
       "<!-- v33&#45;&gt;v41 -->\r\n",
       "<g id=\"edge77\" class=\"edge\"><title>v33&#45;&gt;v41</title>\r\n",
       "<path fill=\"none\" stroke=\"black\" d=\"M1131.11,-47.9153C1143.11,-61.594 1162.5,-82.7271 1181.21,-99 1183.84,-101.285 1186.65,-103.569 1189.51,-105.788\"/>\r\n",
       "<polygon fill=\"black\" stroke=\"black\" points=\"1187.49,-108.643 1197.6,-111.813 1191.67,-103.031 1187.49,-108.643\"/>\r\n",
       "</g>\r\n",
       "<!-- v36 -->\r\n",
       "<g id=\"node39\" class=\"node\"><title>v36</title>\r\n",
       "<polygon fill=\"none\" stroke=\"black\" points=\"1329.76,-54 1348.42,-72 1329.76,-90 1299.57,-89.9832 1299.57,-54.0168 1329.76,-54\"/>\r\n",
       "<text text-anchor=\"middle\" x=\"1321.42\" y=\"-68.3\" font-family=\"Times New Roman,serif\" font-size=\"14.00\">∧̅</text>\r\n",
       "</g>\r\n",
       "<!-- v34&#45;&gt;v36 -->\r\n",
       "<g id=\"edge65\" class=\"edge\"><title>v34&#45;&gt;v36</title>\r\n",
       "<path fill=\"none\" stroke=\"black\" d=\"M1246.98,-72C1259.9,-72 1275.58,-72 1289.12,-72\"/>\r\n",
       "<polygon fill=\"black\" stroke=\"black\" points=\"1289.44,-75.5001 1299.44,-72 1289.44,-68.5001 1289.44,-75.5001\"/>\r\n",
       "</g>\r\n",
       "<!-- v35&#45;&gt;v36 -->\r\n",
       "<g id=\"edge66\" class=\"edge\"><title>v35&#45;&gt;v36</title>\r\n",
       "<path fill=\"none\" stroke=\"black\" d=\"M1237.71,-27.1604C1252.04,-34.9294 1272.95,-46.2653 1290.16,-55.5952\"/>\r\n",
       "<polygon fill=\"black\" stroke=\"black\" points=\"1288.81,-58.8474 1299.27,-60.5366 1292.15,-52.6936 1288.81,-58.8474\"/>\r\n",
       "</g>\r\n",
       "<!-- v36&#45;&gt;v37 -->\r\n",
       "<g id=\"edge67\" class=\"edge\"><title>v36&#45;&gt;v37</title>\r\n",
       "<path fill=\"none\" stroke=\"black\" d=\"M1338.87,-81.5775C1353.36,-90.0164 1374.82,-102.516 1392.32,-112.702\"/>\r\n",
       "<polygon fill=\"black\" stroke=\"black\" points=\"1390.64,-115.776 1401.04,-117.784 1394.16,-109.727 1390.64,-115.776\"/>\r\n",
       "</g>\r\n",
       "<!-- v38 -->\r\n",
       "<g id=\"node41\" class=\"node\"><title>v38</title>\r\n",
       "<polygon fill=\"none\" stroke=\"black\" points=\"1532.97,-87 1551.63,-105 1532.97,-123 1502.78,-122.983 1502.78,-87.0168 1532.97,-87\"/>\r\n",
       "<text text-anchor=\"middle\" x=\"1524.63\" y=\"-101.3\" font-family=\"Times New Roman,serif\" font-size=\"14.00\">∧̅</text>\r\n",
       "</g>\r\n",
       "<!-- v36&#45;&gt;v38 -->\r\n",
       "<g id=\"edge69\" class=\"edge\"><title>v36&#45;&gt;v38</title>\r\n",
       "<path fill=\"none\" stroke=\"black\" d=\"M1344.72,-75.6577C1380.77,-81.5702 1451.93,-93.2402 1492.8,-99.9439\"/>\r\n",
       "<polygon fill=\"black\" stroke=\"black\" points=\"1492.31,-103.41 1502.74,-101.575 1493.44,-96.5022 1492.31,-103.41\"/>\r\n",
       "</g>\r\n",
       "<!-- v37&#45;&gt;v38 -->\r\n",
       "<g id=\"edge70\" class=\"edge\"><title>v37&#45;&gt;v38</title>\r\n",
       "<path fill=\"none\" stroke=\"black\" d=\"M1444.66,-124.82C1458.59,-121.324 1477.22,-116.648 1492.89,-112.716\"/>\r\n",
       "<polygon fill=\"black\" stroke=\"black\" points=\"1493.83,-116.089 1502.67,-110.259 1492.12,-109.299 1493.83,-116.089\"/>\r\n",
       "</g>\r\n",
       "<!-- v37&#45;&gt;v39 -->\r\n",
       "<g id=\"edge72\" class=\"edge\"><title>v37&#45;&gt;v39</title>\r\n",
       "<path fill=\"none\" stroke=\"black\" d=\"M1444.18,-135.869C1458.08,-139.914 1476.81,-145.37 1492.6,-149.967\"/>\r\n",
       "<polygon fill=\"black\" stroke=\"black\" points=\"1491.89,-153.405 1502.47,-152.84 1493.85,-146.684 1491.89,-153.405\"/>\r\n",
       "</g>\r\n",
       "<!-- v46 -->\r\n",
       "<g id=\"node43\" class=\"node\"><title>v46</title>\r\n",
       "<polygon fill=\"none\" stroke=\"black\" points=\"1587.52,-132 1626.23,-114 1664.94,-132 1626.23,-150 1587.52,-132\"/>\r\n",
       "<text text-anchor=\"middle\" x=\"1626.23\" y=\"-128.3\" font-family=\"Times New Roman,serif\" font-size=\"14.00\" fill=\"red\">Y[2]</text>\r\n",
       "</g>\r\n",
       "<!-- v38&#45;&gt;v46 -->\r\n",
       "<g id=\"edge73\" class=\"edge\"><title>v38&#45;&gt;v46</title>\r\n",
       "<path fill=\"none\" stroke=\"black\" d=\"M1546.27,-110.594C1559.23,-114.108 1576.26,-118.726 1591.19,-122.772\"/>\r\n",
       "<polygon fill=\"black\" stroke=\"black\" points=\"1590.55,-126.224 1601.11,-125.462 1592.38,-119.467 1590.55,-126.224\"/>\r\n",
       "</g>\r\n",
       "<!-- v39&#45;&gt;v46 -->\r\n",
       "<g id=\"edge74\" class=\"edge\"><title>v39&#45;&gt;v46</title>\r\n",
       "<path fill=\"none\" stroke=\"black\" d=\"M1546.27,-153.406C1559.23,-149.892 1576.26,-145.274 1591.19,-141.228\"/>\r\n",
       "<polygon fill=\"black\" stroke=\"black\" points=\"1592.38,-144.533 1601.11,-138.538 1590.55,-137.776 1592.38,-144.533\"/>\r\n",
       "</g>\r\n",
       "<!-- v40&#45;&gt;v41 -->\r\n",
       "<g id=\"edge78\" class=\"edge\"><title>v40&#45;&gt;v41</title>\r\n",
       "<path fill=\"none\" stroke=\"black\" d=\"M1145.38,-126C1158.3,-126 1173.97,-126 1187.52,-126\"/>\r\n",
       "<polygon fill=\"black\" stroke=\"black\" points=\"1187.83,-129.5 1197.83,-126 1187.83,-122.5 1187.83,-129.5\"/>\r\n",
       "</g>\r\n",
       "<!-- v43 -->\r\n",
       "<g id=\"node47\" class=\"node\"><title>v43</title>\r\n",
       "<polygon fill=\"none\" stroke=\"black\" points=\"1329.76,-108 1348.42,-126 1329.76,-144 1299.57,-143.983 1299.57,-108.017 1329.76,-108\"/>\r\n",
       "<text text-anchor=\"middle\" x=\"1321.42\" y=\"-122.3\" font-family=\"Times New Roman,serif\" font-size=\"14.00\">∧̅</text>\r\n",
       "</g>\r\n",
       "<!-- v41&#45;&gt;v43 -->\r\n",
       "<g id=\"edge81\" class=\"edge\"><title>v41&#45;&gt;v43</title>\r\n",
       "<path fill=\"none\" stroke=\"black\" d=\"M1241.45,-120.407C1255.25,-119.161 1273.66,-118.921 1289.23,-119.688\"/>\r\n",
       "<polygon fill=\"black\" stroke=\"black\" points=\"1289.25,-123.197 1299.46,-120.379 1289.72,-116.213 1289.25,-123.197\"/>\r\n",
       "</g>\r\n",
       "<!-- v41&#45;&gt;v43 -->\r\n",
       "<g id=\"edge82\" class=\"edge\"><title>v41&#45;&gt;v43</title>\r\n",
       "<path fill=\"none\" stroke=\"black\" d=\"M1241.45,-131.593C1255.25,-132.839 1273.66,-133.079 1289.23,-132.312\"/>\r\n",
       "<polygon fill=\"black\" stroke=\"black\" points=\"1289.72,-135.787 1299.46,-131.621 1289.25,-128.803 1289.72,-135.787\"/>\r\n",
       "</g>\r\n",
       "<!-- v47 -->\r\n",
       "<g id=\"node48\" class=\"node\"><title>v47</title>\r\n",
       "<polygon fill=\"none\" stroke=\"black\" points=\"1384.31,-191 1423.02,-173 1461.73,-191 1423.02,-209 1384.31,-191\"/>\r\n",
       "<text text-anchor=\"middle\" x=\"1423.02\" y=\"-187.3\" font-family=\"Times New Roman,serif\" font-size=\"14.00\" fill=\"red\">Y[3]</text>\r\n",
       "</g>\r\n",
       "<!-- v42&#45;&gt;v47 -->\r\n",
       "<g id=\"edge84\" class=\"edge\"><title>v42&#45;&gt;v47</title>\r\n",
       "<path fill=\"none\" stroke=\"black\" d=\"M1144.51,-180.919C1195.67,-182.778 1312.06,-187.006 1376.68,-189.353\"/>\r\n",
       "<polygon fill=\"black\" stroke=\"black\" points=\"1376.85,-192.861 1386.97,-189.727 1377.1,-185.866 1376.85,-192.861\"/>\r\n",
       "</g>\r\n",
       "<!-- v43&#45;&gt;v47 -->\r\n",
       "<g id=\"edge83\" class=\"edge\"><title>v43&#45;&gt;v47</title>\r\n",
       "<path fill=\"none\" stroke=\"black\" d=\"M1337.98,-136.156C1353.97,-146.589 1379.08,-162.975 1397.69,-175.123\"/>\r\n",
       "<polygon fill=\"black\" stroke=\"black\" points=\"1395.95,-178.167 1406.24,-180.701 1399.78,-172.304 1395.95,-178.167\"/>\r\n",
       "</g>\r\n",
       "</g>\r\n",
       "</svg>\r\n"
      ],
      "text/plain": [
       "<graphviz.dot.Digraph at 0x2120cff5198>"
      ]
     },
     "execution_count": 147,
     "metadata": {},
     "output_type": "execute_result"
    }
   ],
   "source": [
    "def add3(a0,a1,a2,b0,b1,b2):\n",
    "    return ADD(3,[a0,a1,a2],[b0,b1,b2])\n",
    "\n",
    "nandcircuit(add3,pruneit=True)"
   ]
  },
  {
   "cell_type": "code",
   "execution_count": 149,
   "metadata": {
    "slideshow": {
     "slide_type": "slide"
    }
   },
   "outputs": [
    {
     "data": {
      "image/svg+xml": [
       "<?xml version=\"1.0\" encoding=\"UTF-8\" standalone=\"no\"?>\r\n",
       "<!DOCTYPE svg PUBLIC \"-//W3C//DTD SVG 1.1//EN\"\r\n",
       " \"http://www.w3.org/Graphics/SVG/1.1/DTD/svg11.dtd\">\r\n",
       "<!-- Generated by graphviz version 2.38.0 (20140413.2041)\r\n",
       " -->\r\n",
       "<!-- Title: %3 Pages: 1 -->\r\n",
       "<svg width=\"2439pt\" height=\"712pt\"\r\n",
       " viewBox=\"0.00 0.00 2439.26 712.42\" xmlns=\"http://www.w3.org/2000/svg\" xmlns:xlink=\"http://www.w3.org/1999/xlink\">\r\n",
       "<g id=\"graph0\" class=\"graph\" transform=\"scale(1 1) rotate(0) translate(4 708.418)\">\r\n",
       "<title>%3</title>\r\n",
       "<polygon fill=\"white\" stroke=\"none\" points=\"-4,4 -4,-708.418 2435.26,-708.418 2435.26,4 -4,4\"/>\r\n",
       "<!-- v0 -->\r\n",
       "<g id=\"node1\" class=\"node\"><title>v0</title>\r\n",
       "<polygon fill=\"none\" stroke=\"black\" points=\"42,-522.621 0,-522.621 0,-480.621 42,-480.621 42,-522.621\"/>\r\n",
       "<text text-anchor=\"middle\" x=\"21\" y=\"-497.921\" font-family=\"Times New Roman,serif\" font-size=\"14.00\" fill=\"blue\">X[0]</text>\r\n",
       "</g>\r\n",
       "<!-- v10 -->\r\n",
       "<g id=\"node11\" class=\"node\"><title>v10</title>\r\n",
       "<polygon fill=\"none\" stroke=\"black\" points=\"113.343,-460.621 132,-478.621 113.343,-496.621 83.1565,-496.604 83.1565,-460.637 113.343,-460.621\"/>\r\n",
       "<text text-anchor=\"middle\" x=\"105\" y=\"-474.921\" font-family=\"Times New Roman,serif\" font-size=\"14.00\">∧̅</text>\r\n",
       "</g>\r\n",
       "<!-- v0&#45;&gt;v10 -->\r\n",
       "<g id=\"edge1\" class=\"edge\"><title>v0&#45;&gt;v10</title>\r\n",
       "<path fill=\"none\" stroke=\"black\" d=\"M42.2697,-490.019C51.589,-486.585 62.8476,-483.212 73.1841,-480.703\"/>\r\n",
       "<polygon fill=\"black\" stroke=\"black\" points=\"74.0974,-484.085 83.1074,-478.511 72.5879,-477.25 74.0974,-484.085\"/>\r\n",
       "</g>\r\n",
       "<!-- v0&#45;&gt;v10 -->\r\n",
       "<g id=\"edge2\" class=\"edge\"><title>v0&#45;&gt;v10</title>\r\n",
       "<path fill=\"none\" stroke=\"black\" d=\"M42.2697,-501.851C51.6861,-500.039 63.0823,-497.053 73.5068,-493.722\"/>\r\n",
       "<polygon fill=\"black\" stroke=\"black\" points=\"74.7714,-496.989 83.1074,-490.45 72.5129,-490.364 74.7714,-496.989\"/>\r\n",
       "</g>\r\n",
       "<!-- v11 -->\r\n",
       "<g id=\"node12\" class=\"node\"><title>v11</title>\r\n",
       "<polygon fill=\"none\" stroke=\"black\" points=\"203.343,-468.621 222,-486.621 203.343,-504.621 173.157,-504.604 173.157,-468.637 203.343,-468.621\"/>\r\n",
       "<text text-anchor=\"middle\" x=\"195\" y=\"-482.921\" font-family=\"Times New Roman,serif\" font-size=\"14.00\">∧̅</text>\r\n",
       "</g>\r\n",
       "<!-- v0&#45;&gt;v11 -->\r\n",
       "<g id=\"edge3\" class=\"edge\"><title>v0&#45;&gt;v11</title>\r\n",
       "<path fill=\"none\" stroke=\"black\" d=\"M42.3999,-504.598C64.5788,-507.316 101.006,-510.263 132,-505.621 142.412,-504.061 153.49,-501.105 163.359,-497.982\"/>\r\n",
       "<polygon fill=\"black\" stroke=\"black\" points=\"164.751,-501.207 173.126,-494.718 162.532,-494.568 164.751,-501.207\"/>\r\n",
       "</g>\r\n",
       "<!-- v13 -->\r\n",
       "<g id=\"node14\" class=\"node\"><title>v13</title>\r\n",
       "<polygon fill=\"none\" stroke=\"black\" points=\"113.343,-604.621 132,-622.621 113.343,-640.621 83.1565,-640.604 83.1565,-604.637 113.343,-604.621\"/>\r\n",
       "<text text-anchor=\"middle\" x=\"105\" y=\"-618.921\" font-family=\"Times New Roman,serif\" font-size=\"14.00\">∧̅</text>\r\n",
       "</g>\r\n",
       "<!-- v0&#45;&gt;v13 -->\r\n",
       "<g id=\"edge7\" class=\"edge\"><title>v0&#45;&gt;v13</title>\r\n",
       "<path fill=\"none\" stroke=\"black\" d=\"M36.2833,-522.697C50.0759,-543.05 71.0134,-573.945 85.9526,-595.99\"/>\r\n",
       "<polygon fill=\"black\" stroke=\"black\" points=\"83.2441,-598.232 91.7515,-604.546 89.0388,-594.305 83.2441,-598.232\"/>\r\n",
       "</g>\r\n",
       "<!-- v14 -->\r\n",
       "<g id=\"node15\" class=\"node\"><title>v14</title>\r\n",
       "<polygon fill=\"none\" stroke=\"black\" points=\"203.343,-544.621 222,-562.621 203.343,-580.621 173.157,-580.604 173.157,-544.637 203.343,-544.621\"/>\r\n",
       "<text text-anchor=\"middle\" x=\"195\" y=\"-558.921\" font-family=\"Times New Roman,serif\" font-size=\"14.00\">∧̅</text>\r\n",
       "</g>\r\n",
       "<!-- v0&#45;&gt;v14 -->\r\n",
       "<g id=\"edge9\" class=\"edge\"><title>v0&#45;&gt;v14</title>\r\n",
       "<path fill=\"none\" stroke=\"black\" d=\"M42.0672,-508.737C71.9095,-519.321 128.223,-539.293 163.276,-551.724\"/>\r\n",
       "<polygon fill=\"black\" stroke=\"black\" points=\"162.394,-555.125 172.989,-555.169 164.734,-548.528 162.394,-555.125\"/>\r\n",
       "</g>\r\n",
       "<!-- v22 -->\r\n",
       "<g id=\"node24\" class=\"node\"><title>v22</title>\r\n",
       "<polygon fill=\"none\" stroke=\"black\" points=\"383.343,-388.621 402,-406.621 383.343,-424.621 353.157,-424.604 353.157,-388.637 383.343,-388.621\"/>\r\n",
       "<text text-anchor=\"middle\" x=\"375\" y=\"-402.921\" font-family=\"Times New Roman,serif\" font-size=\"14.00\">∧̅</text>\r\n",
       "</g>\r\n",
       "<!-- v0&#45;&gt;v22 -->\r\n",
       "<g id=\"edge27\" class=\"edge\"><title>v0&#45;&gt;v22</title>\r\n",
       "<path fill=\"none\" stroke=\"black\" d=\"M40.1415,-480.429C50.22,-470.064 63.6127,-458.391 78,-451.621 167.286,-409.601 286.928,-405.156 342.802,-405.664\"/>\r\n",
       "<polygon fill=\"black\" stroke=\"black\" points=\"343.046,-409.169 353.099,-405.823 343.154,-402.169 343.046,-409.169\"/>\r\n",
       "</g>\r\n",
       "<!-- v1 -->\r\n",
       "<g id=\"node2\" class=\"node\"><title>v1</title>\r\n",
       "<polygon fill=\"none\" stroke=\"black\" points=\"689.209,-702.621 647.209,-702.621 647.209,-660.621 689.209,-660.621 689.209,-702.621\"/>\r\n",
       "<text text-anchor=\"middle\" x=\"668.209\" y=\"-677.921\" font-family=\"Times New Roman,serif\" font-size=\"14.00\" fill=\"blue\">X[1]</text>\r\n",
       "</g>\r\n",
       "<!-- v25 -->\r\n",
       "<g id=\"node27\" class=\"node\"><title>v25</title>\r\n",
       "<polygon fill=\"none\" stroke=\"black\" points=\"766.553,-656.621 785.209,-674.621 766.553,-692.621 736.366,-692.604 736.366,-656.637 766.553,-656.621\"/>\r\n",
       "<text text-anchor=\"middle\" x=\"758.209\" y=\"-670.921\" font-family=\"Times New Roman,serif\" font-size=\"14.00\">∧̅</text>\r\n",
       "</g>\r\n",
       "<!-- v1&#45;&gt;v25 -->\r\n",
       "<g id=\"edge33\" class=\"edge\"><title>v1&#45;&gt;v25</title>\r\n",
       "<path fill=\"none\" stroke=\"black\" d=\"M689.619,-679.997C700.458,-679.135 714.008,-678.057 726.124,-677.093\"/>\r\n",
       "<polygon fill=\"black\" stroke=\"black\" points=\"726.608,-680.566 736.299,-676.284 726.053,-673.588 726.608,-680.566\"/>\r\n",
       "</g>\r\n",
       "<!-- v26 -->\r\n",
       "<g id=\"node28\" class=\"node\"><title>v26</title>\r\n",
       "<polygon fill=\"none\" stroke=\"black\" points=\"856.553,-663.621 875.209,-681.621 856.553,-699.621 826.366,-699.604 826.366,-663.637 856.553,-663.621\"/>\r\n",
       "<text text-anchor=\"middle\" x=\"848.209\" y=\"-677.921\" font-family=\"Times New Roman,serif\" font-size=\"14.00\">∧̅</text>\r\n",
       "</g>\r\n",
       "<!-- v1&#45;&gt;v26 -->\r\n",
       "<g id=\"edge35\" class=\"edge\"><title>v1&#45;&gt;v26</title>\r\n",
       "<path fill=\"none\" stroke=\"black\" d=\"M689.483,-689.933C701.408,-694.371 716.908,-699.371 731.209,-701.621 754.918,-705.35 761.501,-705.35 785.209,-701.621 795.574,-699.99 806.57,-696.915 816.377,-693.656\"/>\r\n",
       "<polygon fill=\"black\" stroke=\"black\" points=\"817.814,-696.861 826.091,-690.246 815.496,-690.256 817.814,-696.861\"/>\r\n",
       "</g>\r\n",
       "<!-- v34 -->\r\n",
       "<g id=\"node37\" class=\"node\"><title>v34</title>\r\n",
       "<polygon fill=\"none\" stroke=\"black\" points=\"766.553,-564.621 785.209,-582.621 766.553,-600.621 736.366,-600.604 736.366,-564.637 766.553,-564.621\"/>\r\n",
       "<text text-anchor=\"middle\" x=\"758.209\" y=\"-578.921\" font-family=\"Times New Roman,serif\" font-size=\"14.00\">∧̅</text>\r\n",
       "</g>\r\n",
       "<!-- v1&#45;&gt;v34 -->\r\n",
       "<g id=\"edge53\" class=\"edge\"><title>v1&#45;&gt;v34</title>\r\n",
       "<path fill=\"none\" stroke=\"black\" d=\"M688.304,-660.139C701.858,-644.891 720.112,-624.354 734.428,-608.25\"/>\r\n",
       "<polygon fill=\"black\" stroke=\"black\" points=\"737.073,-610.542 741.101,-600.743 731.841,-605.891 737.073,-610.542\"/>\r\n",
       "</g>\r\n",
       "<!-- v2 -->\r\n",
       "<g id=\"node3\" class=\"node\"><title>v2</title>\r\n",
       "<polygon fill=\"none\" stroke=\"black\" points=\"1049.21,-303.621 1007.21,-303.621 1007.21,-261.621 1049.21,-261.621 1049.21,-303.621\"/>\r\n",
       "<text text-anchor=\"middle\" x=\"1028.21\" y=\"-278.921\" font-family=\"Times New Roman,serif\" font-size=\"14.00\" fill=\"blue\">X[2]</text>\r\n",
       "</g>\r\n",
       "<!-- v37 -->\r\n",
       "<g id=\"node40\" class=\"node\"><title>v37</title>\r\n",
       "<polygon fill=\"none\" stroke=\"black\" points=\"1126.55,-211.621 1145.21,-229.621 1126.55,-247.621 1096.37,-247.604 1096.37,-211.637 1126.55,-211.621\"/>\r\n",
       "<text text-anchor=\"middle\" x=\"1118.21\" y=\"-225.921\" font-family=\"Times New Roman,serif\" font-size=\"14.00\">∧̅</text>\r\n",
       "</g>\r\n",
       "<!-- v2&#45;&gt;v37 -->\r\n",
       "<g id=\"edge59\" class=\"edge\"><title>v2&#45;&gt;v37</title>\r\n",
       "<path fill=\"none\" stroke=\"black\" d=\"M1049.62,-270.328C1060.9,-263.537 1075.11,-254.977 1087.59,-247.462\"/>\r\n",
       "<polygon fill=\"black\" stroke=\"black\" points=\"1089.54,-250.372 1096.3,-242.214 1085.93,-244.375 1089.54,-250.372\"/>\r\n",
       "</g>\r\n",
       "<!-- v38 -->\r\n",
       "<g id=\"node41\" class=\"node\"><title>v38</title>\r\n",
       "<polygon fill=\"none\" stroke=\"black\" points=\"1228.16,-249.621 1246.81,-267.621 1228.16,-285.621 1197.97,-285.604 1197.97,-249.637 1228.16,-249.621\"/>\r\n",
       "<text text-anchor=\"middle\" x=\"1219.81\" y=\"-263.921\" font-family=\"Times New Roman,serif\" font-size=\"14.00\">∧̅</text>\r\n",
       "</g>\r\n",
       "<!-- v2&#45;&gt;v38 -->\r\n",
       "<g id=\"edge61\" class=\"edge\"><title>v2&#45;&gt;v38</title>\r\n",
       "<path fill=\"none\" stroke=\"black\" d=\"M1049.5,-281.015C1082.6,-278.397 1148.42,-273.19 1187.53,-270.095\"/>\r\n",
       "<polygon fill=\"black\" stroke=\"black\" points=\"1188.11,-273.56 1197.8,-269.283 1187.56,-266.582 1188.11,-273.56\"/>\r\n",
       "</g>\r\n",
       "<!-- v46 -->\r\n",
       "<g id=\"node50\" class=\"node\"><title>v46</title>\r\n",
       "<polygon fill=\"none\" stroke=\"black\" points=\"1126.55,-357.621 1145.21,-375.621 1126.55,-393.621 1096.37,-393.604 1096.37,-357.637 1126.55,-357.621\"/>\r\n",
       "<text text-anchor=\"middle\" x=\"1118.21\" y=\"-371.921\" font-family=\"Times New Roman,serif\" font-size=\"14.00\">∧̅</text>\r\n",
       "</g>\r\n",
       "<!-- v2&#45;&gt;v46 -->\r\n",
       "<g id=\"edge79\" class=\"edge\"><title>v2&#45;&gt;v46</title>\r\n",
       "<path fill=\"none\" stroke=\"black\" d=\"M1048.97,-303.787C1061.11,-316.765 1077.02,-333.698 1091.21,-348.621 1091.63,-349.063 1092.05,-349.508 1092.48,-349.957\"/>\r\n",
       "<polygon fill=\"black\" stroke=\"black\" points=\"1090.11,-352.545 1099.56,-357.35 1095.17,-347.705 1090.11,-352.545\"/>\r\n",
       "</g>\r\n",
       "<!-- v3 -->\r\n",
       "<g id=\"node4\" class=\"node\"><title>v3</title>\r\n",
       "<polygon fill=\"none\" stroke=\"black\" points=\"1432.42,-203.621 1390.42,-203.621 1390.42,-161.621 1432.42,-161.621 1432.42,-203.621\"/>\r\n",
       "<text text-anchor=\"middle\" x=\"1411.42\" y=\"-178.921\" font-family=\"Times New Roman,serif\" font-size=\"14.00\" fill=\"blue\">X[3]</text>\r\n",
       "</g>\r\n",
       "<!-- v49 -->\r\n",
       "<g id=\"node53\" class=\"node\"><title>v49</title>\r\n",
       "<polygon fill=\"none\" stroke=\"black\" points=\"1509.76,-111.621 1528.42,-129.621 1509.76,-147.621 1479.57,-147.604 1479.57,-111.637 1509.76,-111.621\"/>\r\n",
       "<text text-anchor=\"middle\" x=\"1501.42\" y=\"-125.921\" font-family=\"Times New Roman,serif\" font-size=\"14.00\">∧̅</text>\r\n",
       "</g>\r\n",
       "<!-- v3&#45;&gt;v49 -->\r\n",
       "<g id=\"edge85\" class=\"edge\"><title>v3&#45;&gt;v49</title>\r\n",
       "<path fill=\"none\" stroke=\"black\" d=\"M1432.83,-170.328C1444.11,-163.537 1458.32,-154.977 1470.79,-147.462\"/>\r\n",
       "<polygon fill=\"black\" stroke=\"black\" points=\"1472.75,-150.372 1479.51,-142.214 1469.14,-144.375 1472.75,-150.372\"/>\r\n",
       "</g>\r\n",
       "<!-- v50 -->\r\n",
       "<g id=\"node54\" class=\"node\"><title>v50</title>\r\n",
       "<polygon fill=\"none\" stroke=\"black\" points=\"1611.37,-149.621 1630.02,-167.621 1611.37,-185.621 1581.18,-185.604 1581.18,-149.637 1611.37,-149.621\"/>\r\n",
       "<text text-anchor=\"middle\" x=\"1603.02\" y=\"-163.921\" font-family=\"Times New Roman,serif\" font-size=\"14.00\">∧̅</text>\r\n",
       "</g>\r\n",
       "<!-- v3&#45;&gt;v50 -->\r\n",
       "<g id=\"edge87\" class=\"edge\"><title>v3&#45;&gt;v50</title>\r\n",
       "<path fill=\"none\" stroke=\"black\" d=\"M1432.71,-181.015C1465.8,-178.397 1531.63,-173.19 1570.74,-170.095\"/>\r\n",
       "<polygon fill=\"black\" stroke=\"black\" points=\"1571.32,-173.56 1581.01,-169.283 1570.77,-166.582 1571.32,-173.56\"/>\r\n",
       "</g>\r\n",
       "<!-- v58 -->\r\n",
       "<g id=\"node63\" class=\"node\"><title>v58</title>\r\n",
       "<polygon fill=\"none\" stroke=\"black\" points=\"1509.76,-257.621 1528.42,-275.621 1509.76,-293.621 1479.57,-293.604 1479.57,-257.637 1509.76,-257.621\"/>\r\n",
       "<text text-anchor=\"middle\" x=\"1501.42\" y=\"-271.921\" font-family=\"Times New Roman,serif\" font-size=\"14.00\">∧̅</text>\r\n",
       "</g>\r\n",
       "<!-- v3&#45;&gt;v58 -->\r\n",
       "<g id=\"edge105\" class=\"edge\"><title>v3&#45;&gt;v58</title>\r\n",
       "<path fill=\"none\" stroke=\"black\" d=\"M1432.18,-203.787C1444.32,-216.765 1460.23,-233.698 1474.42,-248.621 1474.84,-249.063 1475.26,-249.508 1475.69,-249.957\"/>\r\n",
       "<polygon fill=\"black\" stroke=\"black\" points=\"1473.32,-252.545 1482.77,-257.35 1478.38,-247.705 1473.32,-252.545\"/>\r\n",
       "</g>\r\n",
       "<!-- v4 -->\r\n",
       "<g id=\"node5\" class=\"node\"><title>v4</title>\r\n",
       "<polygon fill=\"none\" stroke=\"black\" points=\"1815.63,-43.6205 1773.63,-43.6205 1773.63,-1.62052 1815.63,-1.62052 1815.63,-43.6205\"/>\r\n",
       "<text text-anchor=\"middle\" x=\"1794.63\" y=\"-18.9205\" font-family=\"Times New Roman,serif\" font-size=\"14.00\" fill=\"blue\">X[4]</text>\r\n",
       "</g>\r\n",
       "<!-- v61 -->\r\n",
       "<g id=\"node66\" class=\"node\"><title>v61</title>\r\n",
       "<polygon fill=\"none\" stroke=\"black\" points=\"1892.97,-11.6205 1911.63,-29.6205 1892.97,-47.6205 1862.78,-47.6037 1862.78,-11.6373 1892.97,-11.6205\"/>\r\n",
       "<text text-anchor=\"middle\" x=\"1884.63\" y=\"-25.9205\" font-family=\"Times New Roman,serif\" font-size=\"14.00\">∧̅</text>\r\n",
       "</g>\r\n",
       "<!-- v4&#45;&gt;v61 -->\r\n",
       "<g id=\"edge111\" class=\"edge\"><title>v4&#45;&gt;v61</title>\r\n",
       "<path fill=\"none\" stroke=\"black\" d=\"M1816.04,-24.2441C1826.88,-25.1062 1840.43,-26.184 1852.54,-27.1478\"/>\r\n",
       "<polygon fill=\"black\" stroke=\"black\" points=\"1852.47,-30.6531 1862.72,-27.9572 1853.03,-23.6752 1852.47,-30.6531\"/>\r\n",
       "</g>\r\n",
       "<!-- v62 -->\r\n",
       "<g id=\"node67\" class=\"node\"><title>v62</title>\r\n",
       "<polygon fill=\"none\" stroke=\"black\" points=\"1994.58,-3.62052 2013.23,-21.6205 1994.58,-39.6205 1964.39,-39.6037 1964.39,-3.63732 1994.58,-3.62052\"/>\r\n",
       "<text text-anchor=\"middle\" x=\"1986.23\" y=\"-17.9205\" font-family=\"Times New Roman,serif\" font-size=\"14.00\">∧̅</text>\r\n",
       "</g>\r\n",
       "<!-- v4&#45;&gt;v62 -->\r\n",
       "<g id=\"edge113\" class=\"edge\"><title>v4&#45;&gt;v62</title>\r\n",
       "<path fill=\"none\" stroke=\"black\" d=\"M1815.9,-14.3077C1827.83,-9.87006 1843.33,-4.87006 1857.63,-2.62052 1881.34,1.10882 1887.82,0.402885 1911.63,-2.62052 1925.88,-4.43088 1941.33,-8.13874 1954.37,-11.8024\"/>\r\n",
       "<polygon fill=\"black\" stroke=\"black\" points=\"1953.67,-15.2432 1964.25,-14.6939 1955.64,-8.52521 1953.67,-15.2432\"/>\r\n",
       "</g>\r\n",
       "<!-- v70 -->\r\n",
       "<g id=\"node76\" class=\"node\"><title>v70</title>\r\n",
       "<polygon fill=\"none\" stroke=\"black\" points=\"1892.97,-103.621 1911.63,-121.621 1892.97,-139.621 1862.78,-139.604 1862.78,-103.637 1892.97,-103.621\"/>\r\n",
       "<text text-anchor=\"middle\" x=\"1884.63\" y=\"-117.921\" font-family=\"Times New Roman,serif\" font-size=\"14.00\">∧̅</text>\r\n",
       "</g>\r\n",
       "<!-- v4&#45;&gt;v70 -->\r\n",
       "<g id=\"edge131\" class=\"edge\"><title>v4&#45;&gt;v70</title>\r\n",
       "<path fill=\"none\" stroke=\"black\" d=\"M1814.72,-44.102C1828.28,-59.3499 1846.53,-79.8866 1860.85,-95.9911\"/>\r\n",
       "<polygon fill=\"black\" stroke=\"black\" points=\"1858.26,-98.3496 1867.52,-103.498 1863.49,-93.699 1858.26,-98.3496\"/>\r\n",
       "</g>\r\n",
       "<!-- v5 -->\r\n",
       "<g id=\"node6\" class=\"node\"><title>v5</title>\r\n",
       "<polygon fill=\"none\" stroke=\"black\" points=\"42,-689.621 0,-689.621 0,-647.621 42,-647.621 42,-689.621\"/>\r\n",
       "<text text-anchor=\"middle\" x=\"21\" y=\"-664.921\" font-family=\"Times New Roman,serif\" font-size=\"14.00\" fill=\"blue\">X[5]</text>\r\n",
       "</g>\r\n",
       "<!-- v5&#45;&gt;v13 -->\r\n",
       "<g id=\"edge8\" class=\"edge\"><title>v5&#45;&gt;v13</title>\r\n",
       "<path fill=\"none\" stroke=\"black\" d=\"M42.2697,-657.25C51.8803,-651.858 63.5531,-645.31 74.1504,-639.365\"/>\r\n",
       "<polygon fill=\"black\" stroke=\"black\" points=\"76.0983,-642.286 83.1074,-634.341 72.6735,-636.181 76.0983,-642.286\"/>\r\n",
       "</g>\r\n",
       "<!-- v15 -->\r\n",
       "<g id=\"node16\" class=\"node\"><title>v15</title>\r\n",
       "<polygon fill=\"none\" stroke=\"black\" points=\"203.343,-650.621 222,-668.621 203.343,-686.621 173.157,-686.604 173.157,-650.637 203.343,-650.621\"/>\r\n",
       "<text text-anchor=\"middle\" x=\"195\" y=\"-664.921\" font-family=\"Times New Roman,serif\" font-size=\"14.00\">∧̅</text>\r\n",
       "</g>\r\n",
       "<!-- v5&#45;&gt;v15 -->\r\n",
       "<g id=\"edge11\" class=\"edge\"><title>v5&#45;&gt;v15</title>\r\n",
       "<path fill=\"none\" stroke=\"black\" d=\"M42.0672,-668.621C71.7815,-668.621 127.74,-668.621 162.823,-668.621\"/>\r\n",
       "<polygon fill=\"black\" stroke=\"black\" points=\"162.989,-672.121 172.989,-668.621 162.989,-665.121 162.989,-672.121\"/>\r\n",
       "</g>\r\n",
       "<!-- v20 -->\r\n",
       "<g id=\"node22\" class=\"node\"><title>v20</title>\r\n",
       "<polygon fill=\"none\" stroke=\"black\" points=\"383.343,-572.621 402,-590.621 383.343,-608.621 353.157,-608.604 353.157,-572.637 383.343,-572.621\"/>\r\n",
       "<text text-anchor=\"middle\" x=\"375\" y=\"-586.921\" font-family=\"Times New Roman,serif\" font-size=\"14.00\">∧̅</text>\r\n",
       "</g>\r\n",
       "<!-- v5&#45;&gt;v20 -->\r\n",
       "<g id=\"edge23\" class=\"edge\"><title>v5&#45;&gt;v20</title>\r\n",
       "<path fill=\"none\" stroke=\"black\" d=\"M42.0645,-676.921C78.6442,-690.837 158.28,-715.489 222,-695.621 272.098,-679.999 320.248,-641.455 348.475,-615.67\"/>\r\n",
       "<polygon fill=\"black\" stroke=\"black\" points=\"350.958,-618.141 355.894,-608.766 346.189,-613.017 350.958,-618.141\"/>\r\n",
       "</g>\r\n",
       "<!-- v6 -->\r\n",
       "<g id=\"node7\" class=\"node\"><title>v6</title>\r\n",
       "<polygon fill=\"none\" stroke=\"black\" points=\"689.209,-642.621 647.209,-642.621 647.209,-600.621 689.209,-600.621 689.209,-642.621\"/>\r\n",
       "<text text-anchor=\"middle\" x=\"668.209\" y=\"-617.921\" font-family=\"Times New Roman,serif\" font-size=\"14.00\" fill=\"blue\">X[6]</text>\r\n",
       "</g>\r\n",
       "<!-- v6&#45;&gt;v25 -->\r\n",
       "<g id=\"edge34\" class=\"edge\"><title>v6&#45;&gt;v25</title>\r\n",
       "<path fill=\"none\" stroke=\"black\" d=\"M689.619,-633.913C700.896,-640.705 715.107,-649.264 727.586,-656.779\"/>\r\n",
       "<polygon fill=\"black\" stroke=\"black\" points=\"725.927,-659.866 736.299,-662.027 729.538,-653.869 725.927,-659.866\"/>\r\n",
       "</g>\r\n",
       "<!-- v27 -->\r\n",
       "<g id=\"node29\" class=\"node\"><title>v27</title>\r\n",
       "<polygon fill=\"none\" stroke=\"black\" points=\"856.553,-609.621 875.209,-627.621 856.553,-645.621 826.366,-645.604 826.366,-609.637 856.553,-609.621\"/>\r\n",
       "<text text-anchor=\"middle\" x=\"848.209\" y=\"-623.921\" font-family=\"Times New Roman,serif\" font-size=\"14.00\">∧̅</text>\r\n",
       "</g>\r\n",
       "<!-- v6&#45;&gt;v27 -->\r\n",
       "<g id=\"edge37\" class=\"edge\"><title>v6&#45;&gt;v27</title>\r\n",
       "<path fill=\"none\" stroke=\"black\" d=\"M689.282,-622.297C720.149,-623.338 779.515,-625.339 816.017,-626.569\"/>\r\n",
       "<polygon fill=\"black\" stroke=\"black\" points=\"815.996,-630.07 826.108,-626.909 816.232,-623.074 815.996,-630.07\"/>\r\n",
       "</g>\r\n",
       "<!-- v32 -->\r\n",
       "<g id=\"node35\" class=\"node\"><title>v32</title>\r\n",
       "<polygon fill=\"none\" stroke=\"black\" points=\"766.553,-510.621 785.209,-528.621 766.553,-546.621 736.366,-546.604 736.366,-510.637 766.553,-510.621\"/>\r\n",
       "<text text-anchor=\"middle\" x=\"758.209\" y=\"-524.921\" font-family=\"Times New Roman,serif\" font-size=\"14.00\">∧̅</text>\r\n",
       "</g>\r\n",
       "<!-- v6&#45;&gt;v32 -->\r\n",
       "<g id=\"edge49\" class=\"edge\"><title>v6&#45;&gt;v32</title>\r\n",
       "<path fill=\"none\" stroke=\"black\" d=\"M688.968,-600.454C701.113,-587.476 717.016,-570.543 731.209,-555.621 731.63,-555.178 732.054,-554.733 732.482,-554.284\"/>\r\n",
       "<polygon fill=\"black\" stroke=\"black\" points=\"735.171,-556.536 739.556,-546.891 730.114,-551.696 735.171,-556.536\"/>\r\n",
       "</g>\r\n",
       "<!-- v7 -->\r\n",
       "<g id=\"node8\" class=\"node\"><title>v7</title>\r\n",
       "<polygon fill=\"none\" stroke=\"black\" points=\"1049.21,-243.621 1007.21,-243.621 1007.21,-201.621 1049.21,-201.621 1049.21,-243.621\"/>\r\n",
       "<text text-anchor=\"middle\" x=\"1028.21\" y=\"-218.921\" font-family=\"Times New Roman,serif\" font-size=\"14.00\" fill=\"blue\">X[7]</text>\r\n",
       "</g>\r\n",
       "<!-- v7&#45;&gt;v37 -->\r\n",
       "<g id=\"edge60\" class=\"edge\"><title>v7&#45;&gt;v37</title>\r\n",
       "<path fill=\"none\" stroke=\"black\" d=\"M1049.62,-224.244C1060.46,-225.106 1074.01,-226.184 1086.12,-227.148\"/>\r\n",
       "<polygon fill=\"black\" stroke=\"black\" points=\"1086.05,-230.653 1096.3,-227.957 1086.61,-223.675 1086.05,-230.653\"/>\r\n",
       "</g>\r\n",
       "<!-- v39 -->\r\n",
       "<g id=\"node42\" class=\"node\"><title>v39</title>\r\n",
       "<polygon fill=\"none\" stroke=\"black\" points=\"1228.16,-195.621 1246.81,-213.621 1228.16,-231.621 1197.97,-231.604 1197.97,-195.637 1228.16,-195.621\"/>\r\n",
       "<text text-anchor=\"middle\" x=\"1219.81\" y=\"-209.921\" font-family=\"Times New Roman,serif\" font-size=\"14.00\">∧̅</text>\r\n",
       "</g>\r\n",
       "<!-- v7&#45;&gt;v39 -->\r\n",
       "<g id=\"edge63\" class=\"edge\"><title>v7&#45;&gt;v39</title>\r\n",
       "<path fill=\"none\" stroke=\"black\" d=\"M1049.48,-214.308C1061.41,-209.87 1076.91,-204.87 1091.21,-202.621 1124.03,-197.458 1162.01,-202.069 1187.94,-206.803\"/>\r\n",
       "<polygon fill=\"black\" stroke=\"black\" points=\"1187.45,-210.272 1197.93,-208.742 1188.78,-203.401 1187.45,-210.272\"/>\r\n",
       "</g>\r\n",
       "<!-- v44 -->\r\n",
       "<g id=\"node48\" class=\"node\"><title>v44</title>\r\n",
       "<polygon fill=\"none\" stroke=\"black\" points=\"1126.55,-303.621 1145.21,-321.621 1126.55,-339.621 1096.37,-339.604 1096.37,-303.637 1126.55,-303.621\"/>\r\n",
       "<text text-anchor=\"middle\" x=\"1118.21\" y=\"-317.921\" font-family=\"Times New Roman,serif\" font-size=\"14.00\">∧̅</text>\r\n",
       "</g>\r\n",
       "<!-- v7&#45;&gt;v44 -->\r\n",
       "<g id=\"edge75\" class=\"edge\"><title>v7&#45;&gt;v44</title>\r\n",
       "<path fill=\"none\" stroke=\"black\" d=\"M1048.3,-244.102C1061.86,-259.35 1080.11,-279.887 1094.43,-295.991\"/>\r\n",
       "<polygon fill=\"black\" stroke=\"black\" points=\"1091.84,-298.35 1101.1,-303.498 1097.07,-293.699 1091.84,-298.35\"/>\r\n",
       "</g>\r\n",
       "<!-- v8 -->\r\n",
       "<g id=\"node9\" class=\"node\"><title>v8</title>\r\n",
       "<polygon fill=\"none\" stroke=\"black\" points=\"1432.42,-143.621 1390.42,-143.621 1390.42,-101.621 1432.42,-101.621 1432.42,-143.621\"/>\r\n",
       "<text text-anchor=\"middle\" x=\"1411.42\" y=\"-118.921\" font-family=\"Times New Roman,serif\" font-size=\"14.00\" fill=\"blue\">X[8]</text>\r\n",
       "</g>\r\n",
       "<!-- v8&#45;&gt;v49 -->\r\n",
       "<g id=\"edge86\" class=\"edge\"><title>v8&#45;&gt;v49</title>\r\n",
       "<path fill=\"none\" stroke=\"black\" d=\"M1432.83,-124.244C1443.67,-125.106 1457.22,-126.184 1469.33,-127.148\"/>\r\n",
       "<polygon fill=\"black\" stroke=\"black\" points=\"1469.26,-130.653 1479.51,-127.957 1469.82,-123.675 1469.26,-130.653\"/>\r\n",
       "</g>\r\n",
       "<!-- v51 -->\r\n",
       "<g id=\"node55\" class=\"node\"><title>v51</title>\r\n",
       "<polygon fill=\"none\" stroke=\"black\" points=\"1611.37,-95.6205 1630.02,-113.621 1611.37,-131.621 1581.18,-131.604 1581.18,-95.6373 1611.37,-95.6205\"/>\r\n",
       "<text text-anchor=\"middle\" x=\"1603.02\" y=\"-109.921\" font-family=\"Times New Roman,serif\" font-size=\"14.00\">∧̅</text>\r\n",
       "</g>\r\n",
       "<!-- v8&#45;&gt;v51 -->\r\n",
       "<g id=\"edge89\" class=\"edge\"><title>v8&#45;&gt;v51</title>\r\n",
       "<path fill=\"none\" stroke=\"black\" d=\"M1432.69,-114.308C1444.62,-109.87 1460.12,-104.87 1474.42,-102.621 1507.24,-97.458 1545.22,-102.069 1571.15,-106.803\"/>\r\n",
       "<polygon fill=\"black\" stroke=\"black\" points=\"1570.66,-110.272 1581.14,-108.742 1571.99,-103.401 1570.66,-110.272\"/>\r\n",
       "</g>\r\n",
       "<!-- v56 -->\r\n",
       "<g id=\"node61\" class=\"node\"><title>v56</title>\r\n",
       "<polygon fill=\"none\" stroke=\"black\" points=\"1509.76,-203.621 1528.42,-221.621 1509.76,-239.621 1479.57,-239.604 1479.57,-203.637 1509.76,-203.621\"/>\r\n",
       "<text text-anchor=\"middle\" x=\"1501.42\" y=\"-217.921\" font-family=\"Times New Roman,serif\" font-size=\"14.00\">∧̅</text>\r\n",
       "</g>\r\n",
       "<!-- v8&#45;&gt;v56 -->\r\n",
       "<g id=\"edge101\" class=\"edge\"><title>v8&#45;&gt;v56</title>\r\n",
       "<path fill=\"none\" stroke=\"black\" d=\"M1431.51,-144.102C1445.07,-159.35 1463.32,-179.887 1477.64,-195.991\"/>\r\n",
       "<polygon fill=\"black\" stroke=\"black\" points=\"1475.05,-198.35 1484.31,-203.498 1480.28,-193.699 1475.05,-198.35\"/>\r\n",
       "</g>\r\n",
       "<!-- v9 -->\r\n",
       "<g id=\"node10\" class=\"node\"><title>v9</title>\r\n",
       "<polygon fill=\"none\" stroke=\"black\" points=\"1815.63,-103.621 1773.63,-103.621 1773.63,-61.6205 1815.63,-61.6205 1815.63,-103.621\"/>\r\n",
       "<text text-anchor=\"middle\" x=\"1794.63\" y=\"-78.9205\" font-family=\"Times New Roman,serif\" font-size=\"14.00\" fill=\"blue\">X[9]</text>\r\n",
       "</g>\r\n",
       "<!-- v9&#45;&gt;v61 -->\r\n",
       "<g id=\"edge112\" class=\"edge\"><title>v9&#45;&gt;v61</title>\r\n",
       "<path fill=\"none\" stroke=\"black\" d=\"M1816.04,-70.328C1827.31,-63.5365 1841.53,-54.9774 1854,-47.462\"/>\r\n",
       "<polygon fill=\"black\" stroke=\"black\" points=\"1855.96,-50.3719 1862.72,-42.2144 1852.34,-44.3755 1855.96,-50.3719\"/>\r\n",
       "</g>\r\n",
       "<!-- v63 -->\r\n",
       "<g id=\"node68\" class=\"node\"><title>v63</title>\r\n",
       "<polygon fill=\"none\" stroke=\"black\" points=\"1994.58,-57.6205 2013.23,-75.6205 1994.58,-93.6205 1964.39,-93.6037 1964.39,-57.6373 1994.58,-57.6205\"/>\r\n",
       "<text text-anchor=\"middle\" x=\"1986.23\" y=\"-71.9205\" font-family=\"Times New Roman,serif\" font-size=\"14.00\">∧̅</text>\r\n",
       "</g>\r\n",
       "<!-- v9&#45;&gt;v63 -->\r\n",
       "<g id=\"edge115\" class=\"edge\"><title>v9&#45;&gt;v63</title>\r\n",
       "<path fill=\"none\" stroke=\"black\" d=\"M1815.92,-81.8714C1849.01,-80.6495 1914.84,-78.2194 1953.95,-76.7755\"/>\r\n",
       "<polygon fill=\"black\" stroke=\"black\" points=\"1954.36,-80.2628 1964.22,-76.3962 1954.1,-73.2676 1954.36,-80.2628\"/>\r\n",
       "</g>\r\n",
       "<!-- v68 -->\r\n",
       "<g id=\"node74\" class=\"node\"><title>v68</title>\r\n",
       "<polygon fill=\"none\" stroke=\"black\" points=\"1892.97,-157.621 1911.63,-175.621 1892.97,-193.621 1862.78,-193.604 1862.78,-157.637 1892.97,-157.621\"/>\r\n",
       "<text text-anchor=\"middle\" x=\"1884.63\" y=\"-171.921\" font-family=\"Times New Roman,serif\" font-size=\"14.00\">∧̅</text>\r\n",
       "</g>\r\n",
       "<!-- v9&#45;&gt;v68 -->\r\n",
       "<g id=\"edge127\" class=\"edge\"><title>v9&#45;&gt;v68</title>\r\n",
       "<path fill=\"none\" stroke=\"black\" d=\"M1815.39,-103.787C1827.53,-116.765 1843.43,-133.698 1857.63,-148.621 1858.05,-149.063 1858.47,-149.508 1858.9,-149.957\"/>\r\n",
       "<polygon fill=\"black\" stroke=\"black\" points=\"1856.53,-152.545 1865.97,-157.35 1861.59,-147.705 1856.53,-152.545\"/>\r\n",
       "</g>\r\n",
       "<!-- v10&#45;&gt;v11 -->\r\n",
       "<g id=\"edge4\" class=\"edge\"><title>v10&#45;&gt;v11</title>\r\n",
       "<path fill=\"none\" stroke=\"black\" d=\"M130.046,-480.807C140.122,-481.723 151.97,-482.8 162.711,-483.776\"/>\r\n",
       "<polygon fill=\"black\" stroke=\"black\" points=\"162.702,-487.29 172.978,-484.709 163.336,-480.318 162.702,-487.29\"/>\r\n",
       "</g>\r\n",
       "<!-- v12 -->\r\n",
       "<g id=\"node13\" class=\"node\"><title>v12</title>\r\n",
       "<polygon fill=\"none\" stroke=\"black\" points=\"293.343,-468.621 312,-486.621 293.343,-504.621 263.157,-504.604 263.157,-468.637 293.343,-468.621\"/>\r\n",
       "<text text-anchor=\"middle\" x=\"285\" y=\"-482.921\" font-family=\"Times New Roman,serif\" font-size=\"14.00\">∧̅</text>\r\n",
       "</g>\r\n",
       "<!-- v11&#45;&gt;v12 -->\r\n",
       "<g id=\"edge5\" class=\"edge\"><title>v11&#45;&gt;v12</title>\r\n",
       "<path fill=\"none\" stroke=\"black\" d=\"M216.41,-480.82C227.249,-479.852 240.799,-479.624 252.915,-480.136\"/>\r\n",
       "<polygon fill=\"black\" stroke=\"black\" points=\"252.889,-483.641 263.089,-480.776 253.329,-476.655 252.889,-483.641\"/>\r\n",
       "</g>\r\n",
       "<!-- v11&#45;&gt;v12 -->\r\n",
       "<g id=\"edge6\" class=\"edge\"><title>v11&#45;&gt;v12</title>\r\n",
       "<path fill=\"none\" stroke=\"black\" d=\"M216.41,-492.421C227.249,-493.389 240.799,-493.617 252.915,-493.105\"/>\r\n",
       "<polygon fill=\"black\" stroke=\"black\" points=\"253.329,-496.586 263.089,-492.465 252.889,-489.6 253.329,-496.586\"/>\r\n",
       "</g>\r\n",
       "<!-- v17 -->\r\n",
       "<g id=\"node18\" class=\"node\"><title>v17</title>\r\n",
       "<polygon fill=\"none\" stroke=\"black\" points=\"383.343,-480.621 402,-498.621 383.343,-516.621 353.157,-516.604 353.157,-480.637 383.343,-480.621\"/>\r\n",
       "<text text-anchor=\"middle\" x=\"375\" y=\"-494.921\" font-family=\"Times New Roman,serif\" font-size=\"14.00\">∧̅</text>\r\n",
       "</g>\r\n",
       "<!-- v12&#45;&gt;v17 -->\r\n",
       "<g id=\"edge16\" class=\"edge\"><title>v12&#45;&gt;v17</title>\r\n",
       "<path fill=\"none\" stroke=\"black\" d=\"M309.121,-489.773C319.463,-491.184 331.809,-492.867 342.942,-494.385\"/>\r\n",
       "<polygon fill=\"black\" stroke=\"black\" points=\"342.757,-497.892 353.138,-495.776 343.703,-490.957 342.757,-497.892\"/>\r\n",
       "</g>\r\n",
       "<!-- v19 -->\r\n",
       "<g id=\"node20\" class=\"node\"><title>v19</title>\r\n",
       "<polygon fill=\"none\" stroke=\"black\" points=\"473.343,-449.621 492,-467.621 473.343,-485.621 443.157,-485.604 443.157,-449.637 473.343,-449.621\"/>\r\n",
       "<text text-anchor=\"middle\" x=\"465\" y=\"-463.921\" font-family=\"Times New Roman,serif\" font-size=\"14.00\">∧̅</text>\r\n",
       "</g>\r\n",
       "<!-- v12&#45;&gt;v19 -->\r\n",
       "<g id=\"edge19\" class=\"edge\"><title>v12&#45;&gt;v19</title>\r\n",
       "<path fill=\"none\" stroke=\"black\" d=\"M305.907,-480.714C317.971,-477.409 333.736,-473.571 348,-471.621 376.567,-467.714 409.439,-466.924 432.879,-466.988\"/>\r\n",
       "<polygon fill=\"black\" stroke=\"black\" points=\"432.908,-470.489 442.936,-467.07 432.964,-463.489 432.908,-470.489\"/>\r\n",
       "</g>\r\n",
       "<!-- v12&#45;&gt;v20 -->\r\n",
       "<g id=\"edge24\" class=\"edge\"><title>v12&#45;&gt;v20</title>\r\n",
       "<path fill=\"none\" stroke=\"black\" d=\"M297.868,-500.646C311.701,-516.995 334.851,-544.354 351.999,-564.619\"/>\r\n",
       "<polygon fill=\"black\" stroke=\"black\" points=\"349.343,-566.899 358.475,-572.272 354.687,-562.378 349.343,-566.899\"/>\r\n",
       "</g>\r\n",
       "<!-- v12&#45;&gt;v22 -->\r\n",
       "<g id=\"edge28\" class=\"edge\"><title>v12&#45;&gt;v22</title>\r\n",
       "<path fill=\"none\" stroke=\"black\" d=\"M299.75,-474.121C312.182,-462.819 330.858,-445.841 346.368,-431.74\"/>\r\n",
       "<polygon fill=\"black\" stroke=\"black\" points=\"349.096,-433.99 354.141,-424.674 344.388,-428.811 349.096,-433.99\"/>\r\n",
       "</g>\r\n",
       "<!-- v13&#45;&gt;v14 -->\r\n",
       "<g id=\"edge10\" class=\"edge\"><title>v13&#45;&gt;v14</title>\r\n",
       "<path fill=\"none\" stroke=\"black\" d=\"M121.328,-612.169C133.155,-604.106 149.875,-592.706 164.297,-582.873\"/>\r\n",
       "<polygon fill=\"black\" stroke=\"black\" points=\"166.624,-585.522 172.915,-576.997 162.681,-579.738 166.624,-585.522\"/>\r\n",
       "</g>\r\n",
       "<!-- v13&#45;&gt;v15 -->\r\n",
       "<g id=\"edge12\" class=\"edge\"><title>v13&#45;&gt;v15</title>\r\n",
       "<path fill=\"none\" stroke=\"black\" d=\"M122.967,-631.49C134.573,-637.557 150.276,-645.765 163.966,-652.921\"/>\r\n",
       "<polygon fill=\"black\" stroke=\"black\" points=\"162.564,-656.137 173.048,-657.668 165.807,-649.934 162.564,-656.137\"/>\r\n",
       "</g>\r\n",
       "<!-- v21 -->\r\n",
       "<g id=\"node23\" class=\"node\"><title>v21</title>\r\n",
       "<polygon fill=\"none\" stroke=\"black\" points=\"473.343,-572.621 492,-590.621 473.343,-608.621 443.157,-608.604 443.157,-572.637 473.343,-572.621\"/>\r\n",
       "<text text-anchor=\"middle\" x=\"465\" y=\"-586.921\" font-family=\"Times New Roman,serif\" font-size=\"14.00\">∧̅</text>\r\n",
       "</g>\r\n",
       "<!-- v13&#45;&gt;v21 -->\r\n",
       "<g id=\"edge25\" class=\"edge\"><title>v13&#45;&gt;v21</title>\r\n",
       "<path fill=\"none\" stroke=\"black\" d=\"M129.383,-625.292C179.869,-630.396 302.553,-639.213 402,-617.621 412.67,-615.304 423.77,-611.107 433.579,-606.702\"/>\r\n",
       "<polygon fill=\"black\" stroke=\"black\" points=\"435.355,-609.733 442.894,-602.289 432.359,-603.407 435.355,-609.733\"/>\r\n",
       "</g>\r\n",
       "<!-- v16 -->\r\n",
       "<g id=\"node17\" class=\"node\"><title>v16</title>\r\n",
       "<polygon fill=\"none\" stroke=\"black\" points=\"293.343,-537.621 312,-555.621 293.343,-573.621 263.157,-573.604 263.157,-537.637 293.343,-537.621\"/>\r\n",
       "<text text-anchor=\"middle\" x=\"285\" y=\"-551.921\" font-family=\"Times New Roman,serif\" font-size=\"14.00\">∧̅</text>\r\n",
       "</g>\r\n",
       "<!-- v14&#45;&gt;v16 -->\r\n",
       "<g id=\"edge13\" class=\"edge\"><title>v14&#45;&gt;v16</title>\r\n",
       "<path fill=\"none\" stroke=\"black\" d=\"M220.046,-560.708C230.122,-559.906 241.97,-558.964 252.711,-558.109\"/>\r\n",
       "<polygon fill=\"black\" stroke=\"black\" points=\"253.287,-561.575 262.978,-557.293 252.732,-554.597 253.287,-561.575\"/>\r\n",
       "</g>\r\n",
       "<!-- v15&#45;&gt;v16 -->\r\n",
       "<g id=\"edge14\" class=\"edge\"><title>v15&#45;&gt;v16</title>\r\n",
       "<path fill=\"none\" stroke=\"black\" d=\"M207.504,-653.848C221.715,-635.599 246.145,-604.23 263.573,-581.851\"/>\r\n",
       "<polygon fill=\"black\" stroke=\"black\" points=\"266.491,-583.801 269.873,-573.76 260.968,-579.5 266.491,-583.801\"/>\r\n",
       "</g>\r\n",
       "<!-- v16&#45;&gt;v17 -->\r\n",
       "<g id=\"edge15\" class=\"edge\"><title>v16&#45;&gt;v17</title>\r\n",
       "<path fill=\"none\" stroke=\"black\" d=\"M301.733,-545.43C313.605,-537.74 330.24,-526.965 344.557,-517.692\"/>\r\n",
       "<polygon fill=\"black\" stroke=\"black\" points=\"346.618,-520.527 353.109,-512.152 342.813,-514.651 346.618,-520.527\"/>\r\n",
       "</g>\r\n",
       "<!-- v18 -->\r\n",
       "<g id=\"node19\" class=\"node\"><title>v18</title>\r\n",
       "<polygon fill=\"none\" stroke=\"black\" points=\"473.343,-503.621 492,-521.621 473.343,-539.621 443.157,-539.604 443.157,-503.637 473.343,-503.621\"/>\r\n",
       "<text text-anchor=\"middle\" x=\"465\" y=\"-517.921\" font-family=\"Times New Roman,serif\" font-size=\"14.00\">∧̅</text>\r\n",
       "</g>\r\n",
       "<!-- v16&#45;&gt;v18 -->\r\n",
       "<g id=\"edge17\" class=\"edge\"><title>v16&#45;&gt;v18</title>\r\n",
       "<path fill=\"none\" stroke=\"black\" d=\"M307.826,-551.451C339.258,-545.448 397.414,-534.339 433.204,-527.503\"/>\r\n",
       "<polygon fill=\"black\" stroke=\"black\" points=\"433.936,-530.926 443.102,-525.612 432.622,-524.051 433.936,-530.926\"/>\r\n",
       "</g>\r\n",
       "<!-- v17&#45;&gt;v18 -->\r\n",
       "<g id=\"edge18\" class=\"edge\"><title>v17&#45;&gt;v18</title>\r\n",
       "<path fill=\"none\" stroke=\"black\" d=\"M396.855,-504.071C407.735,-506.915 421.254,-510.448 433.304,-513.598\"/>\r\n",
       "<polygon fill=\"black\" stroke=\"black\" points=\"432.43,-516.987 442.99,-516.129 434.2,-510.214 432.43,-516.987\"/>\r\n",
       "</g>\r\n",
       "<!-- v17&#45;&gt;v19 -->\r\n",
       "<g id=\"edge20\" class=\"edge\"><title>v17&#45;&gt;v19</title>\r\n",
       "<path fill=\"none\" stroke=\"black\" d=\"M395.095,-491.894C406.263,-487.96 420.623,-482.901 433.341,-478.421\"/>\r\n",
       "<polygon fill=\"black\" stroke=\"black\" points=\"434.827,-481.608 443.096,-474.984 432.502,-475.006 434.827,-481.608\"/>\r\n",
       "</g>\r\n",
       "<!-- v72 -->\r\n",
       "<g id=\"node21\" class=\"node\"><title>v72</title>\r\n",
       "<polygon fill=\"none\" stroke=\"black\" points=\"527.895,-494.621 566.605,-476.621 605.314,-494.621 566.605,-512.621 527.895,-494.621\"/>\r\n",
       "<text text-anchor=\"middle\" x=\"566.605\" y=\"-490.921\" font-family=\"Times New Roman,serif\" font-size=\"14.00\" fill=\"red\">Y[0]</text>\r\n",
       "</g>\r\n",
       "<!-- v18&#45;&gt;v72 -->\r\n",
       "<g id=\"edge21\" class=\"edge\"><title>v18&#45;&gt;v72</title>\r\n",
       "<path fill=\"none\" stroke=\"black\" d=\"M486.638,-516.026C499.602,-512.512 516.635,-507.895 531.563,-503.848\"/>\r\n",
       "<polygon fill=\"black\" stroke=\"black\" points=\"532.749,-507.153 541.485,-501.159 530.918,-500.397 532.749,-507.153\"/>\r\n",
       "</g>\r\n",
       "<!-- v19&#45;&gt;v72 -->\r\n",
       "<g id=\"edge22\" class=\"edge\"><title>v19&#45;&gt;v72</title>\r\n",
       "<path fill=\"none\" stroke=\"black\" d=\"M486.638,-473.215C499.602,-476.729 516.635,-481.346 531.563,-485.393\"/>\r\n",
       "<polygon fill=\"black\" stroke=\"black\" points=\"530.918,-488.844 541.485,-488.082 532.749,-482.088 530.918,-488.844\"/>\r\n",
       "</g>\r\n",
       "<!-- v20&#45;&gt;v21 -->\r\n",
       "<g id=\"edge26\" class=\"edge\"><title>v20&#45;&gt;v21</title>\r\n",
       "<path fill=\"none\" stroke=\"black\" d=\"M402.403,-590.621C411.921,-590.621 422.754,-590.621 432.653,-590.621\"/>\r\n",
       "<polygon fill=\"black\" stroke=\"black\" points=\"432.922,-594.121 442.922,-590.621 432.922,-587.121 432.922,-594.121\"/>\r\n",
       "</g>\r\n",
       "<!-- v23 -->\r\n",
       "<g id=\"node25\" class=\"node\"><title>v23</title>\r\n",
       "<polygon fill=\"none\" stroke=\"black\" points=\"574.948,-572.621 593.605,-590.621 574.948,-608.621 544.761,-608.604 544.761,-572.637 574.948,-572.621\"/>\r\n",
       "<text text-anchor=\"middle\" x=\"566.605\" y=\"-586.921\" font-family=\"Times New Roman,serif\" font-size=\"14.00\">∧̅</text>\r\n",
       "</g>\r\n",
       "<!-- v21&#45;&gt;v23 -->\r\n",
       "<g id=\"edge29\" class=\"edge\"><title>v21&#45;&gt;v23</title>\r\n",
       "<path fill=\"none\" stroke=\"black\" d=\"M486.638,-585.028C500.435,-583.782 518.842,-583.542 534.414,-584.308\"/>\r\n",
       "<polygon fill=\"black\" stroke=\"black\" points=\"534.437,-587.818 544.65,-584.999 534.909,-580.834 534.437,-587.818\"/>\r\n",
       "</g>\r\n",
       "<!-- v21&#45;&gt;v23 -->\r\n",
       "<g id=\"edge30\" class=\"edge\"><title>v21&#45;&gt;v23</title>\r\n",
       "<path fill=\"none\" stroke=\"black\" d=\"M486.638,-596.213C500.435,-597.459 518.842,-597.699 534.414,-596.933\"/>\r\n",
       "<polygon fill=\"black\" stroke=\"black\" points=\"534.909,-600.407 544.65,-596.242 534.437,-593.423 534.909,-600.407\"/>\r\n",
       "</g>\r\n",
       "<!-- v24 -->\r\n",
       "<g id=\"node26\" class=\"node\"><title>v24</title>\r\n",
       "<polygon fill=\"none\" stroke=\"black\" points=\"676.553,-487.621 695.209,-505.621 676.553,-523.621 646.366,-523.604 646.366,-487.637 676.553,-487.621\"/>\r\n",
       "<text text-anchor=\"middle\" x=\"668.209\" y=\"-501.921\" font-family=\"Times New Roman,serif\" font-size=\"14.00\">∧̅</text>\r\n",
       "</g>\r\n",
       "<!-- v22&#45;&gt;v24 -->\r\n",
       "<g id=\"edge32\" class=\"edge\"><title>v22&#45;&gt;v24</title>\r\n",
       "<path fill=\"none\" stroke=\"black\" d=\"M398.189,-410.311C439.945,-417.733 532.542,-436.47 605.209,-467.621 616.225,-472.343 627.598,-478.789 637.547,-485.03\"/>\r\n",
       "<polygon fill=\"black\" stroke=\"black\" points=\"635.936,-488.157 646.233,-490.65 639.738,-482.279 635.936,-488.157\"/>\r\n",
       "</g>\r\n",
       "<!-- v23&#45;&gt;v24 -->\r\n",
       "<g id=\"edge31\" class=\"edge\"><title>v23&#45;&gt;v24</title>\r\n",
       "<path fill=\"none\" stroke=\"black\" d=\"M581.454,-578.802C596.141,-566.268 619.759,-546.113 638.494,-530.125\"/>\r\n",
       "<polygon fill=\"black\" stroke=\"black\" points=\"640.85,-532.716 646.185,-523.562 636.306,-527.391 640.85,-532.716\"/>\r\n",
       "</g>\r\n",
       "<!-- v29 -->\r\n",
       "<g id=\"node31\" class=\"node\"><title>v29</title>\r\n",
       "<polygon fill=\"none\" stroke=\"black\" points=\"1036.55,-501.621 1055.21,-519.621 1036.55,-537.621 1006.37,-537.604 1006.37,-501.637 1036.55,-501.621\"/>\r\n",
       "<text text-anchor=\"middle\" x=\"1028.21\" y=\"-515.921\" font-family=\"Times New Roman,serif\" font-size=\"14.00\">∧̅</text>\r\n",
       "</g>\r\n",
       "<!-- v24&#45;&gt;v29 -->\r\n",
       "<g id=\"edge42\" class=\"edge\"><title>v24&#45;&gt;v29</title>\r\n",
       "<path fill=\"none\" stroke=\"black\" d=\"M692.392,-502.891C742.49,-497.521 864.464,-487.292 965.209,-501.621 975.586,-503.096 986.655,-505.896 996.526,-508.855\"/>\r\n",
       "<polygon fill=\"black\" stroke=\"black\" points=\"995.709,-512.268 1006.3,-511.948 997.821,-505.594 995.709,-512.268\"/>\r\n",
       "</g>\r\n",
       "<!-- v31 -->\r\n",
       "<g id=\"node33\" class=\"node\"><title>v31</title>\r\n",
       "<polygon fill=\"none\" stroke=\"black\" points=\"1126.55,-487.621 1145.21,-505.621 1126.55,-523.621 1096.37,-523.604 1096.37,-487.637 1126.55,-487.621\"/>\r\n",
       "<text text-anchor=\"middle\" x=\"1118.21\" y=\"-501.921\" font-family=\"Times New Roman,serif\" font-size=\"14.00\">∧̅</text>\r\n",
       "</g>\r\n",
       "<!-- v24&#45;&gt;v31 -->\r\n",
       "<g id=\"edge45\" class=\"edge\"><title>v24&#45;&gt;v31</title>\r\n",
       "<path fill=\"none\" stroke=\"black\" d=\"M685.741,-495.82C716.44,-478.577 784.815,-444.621 847.209,-444.621 847.209,-444.621 847.209,-444.621 939.209,-444.621 993.703,-444.621 1052.76,-470.522 1087.29,-488.569\"/>\r\n",
       "<polygon fill=\"black\" stroke=\"black\" points=\"1085.89,-491.788 1096.36,-493.423 1089.2,-485.617 1085.89,-491.788\"/>\r\n",
       "</g>\r\n",
       "<!-- v24&#45;&gt;v32 -->\r\n",
       "<g id=\"edge50\" class=\"edge\"><title>v24&#45;&gt;v32</title>\r\n",
       "<path fill=\"none\" stroke=\"black\" d=\"M690.064,-511.071C700.944,-513.915 714.463,-517.448 726.513,-520.598\"/>\r\n",
       "<polygon fill=\"black\" stroke=\"black\" points=\"725.639,-523.987 736.199,-523.129 727.409,-517.214 725.639,-523.987\"/>\r\n",
       "</g>\r\n",
       "<!-- v24&#45;&gt;v34 -->\r\n",
       "<g id=\"edge54\" class=\"edge\"><title>v24&#45;&gt;v34</title>\r\n",
       "<path fill=\"none\" stroke=\"black\" d=\"M682.959,-517.652C695.144,-528.313 713.327,-544.224 728.65,-557.631\"/>\r\n",
       "<polygon fill=\"black\" stroke=\"black\" points=\"726.524,-560.422 736.354,-564.373 731.133,-555.153 726.524,-560.422\"/>\r\n",
       "</g>\r\n",
       "<!-- v25&#45;&gt;v26 -->\r\n",
       "<g id=\"edge36\" class=\"edge\"><title>v25&#45;&gt;v26</title>\r\n",
       "<path fill=\"none\" stroke=\"black\" d=\"M783.256,-676.533C793.332,-677.335 805.179,-678.277 815.92,-679.132\"/>\r\n",
       "<polygon fill=\"black\" stroke=\"black\" points=\"815.941,-682.644 826.187,-679.948 816.496,-675.666 815.941,-682.644\"/>\r\n",
       "</g>\r\n",
       "<!-- v25&#45;&gt;v27 -->\r\n",
       "<g id=\"edge38\" class=\"edge\"><title>v25&#45;&gt;v27</title>\r\n",
       "<path fill=\"none\" stroke=\"black\" d=\"M776.176,-665.558C787.782,-659.36 803.485,-650.973 817.176,-643.661\"/>\r\n",
       "<polygon fill=\"black\" stroke=\"black\" points=\"819.085,-646.609 826.257,-638.811 815.787,-640.435 819.085,-646.609\"/>\r\n",
       "</g>\r\n",
       "<!-- v33 -->\r\n",
       "<g id=\"node36\" class=\"node\"><title>v33</title>\r\n",
       "<polygon fill=\"none\" stroke=\"black\" points=\"856.553,-510.621 875.209,-528.621 856.553,-546.621 826.366,-546.604 826.366,-510.637 856.553,-510.621\"/>\r\n",
       "<text text-anchor=\"middle\" x=\"848.209\" y=\"-524.921\" font-family=\"Times New Roman,serif\" font-size=\"14.00\">∧̅</text>\r\n",
       "</g>\r\n",
       "<!-- v25&#45;&gt;v33 -->\r\n",
       "<g id=\"edge51\" class=\"edge\"><title>v25&#45;&gt;v33</title>\r\n",
       "<path fill=\"none\" stroke=\"black\" d=\"M768.794,-658.718C783.731,-633.936 812.736,-585.815 830.976,-555.553\"/>\r\n",
       "<polygon fill=\"black\" stroke=\"black\" points=\"834.099,-557.152 836.263,-546.781 828.103,-553.538 834.099,-557.152\"/>\r\n",
       "</g>\r\n",
       "<!-- v28 -->\r\n",
       "<g id=\"node30\" class=\"node\"><title>v28</title>\r\n",
       "<polygon fill=\"none\" stroke=\"black\" points=\"946.553,-605.621 965.209,-623.621 946.553,-641.621 916.366,-641.604 916.366,-605.637 946.553,-605.621\"/>\r\n",
       "<text text-anchor=\"middle\" x=\"938.209\" y=\"-619.921\" font-family=\"Times New Roman,serif\" font-size=\"14.00\">∧̅</text>\r\n",
       "</g>\r\n",
       "<!-- v26&#45;&gt;v28 -->\r\n",
       "<g id=\"edge39\" class=\"edge\"><title>v26&#45;&gt;v28</title>\r\n",
       "<path fill=\"none\" stroke=\"black\" d=\"M864.942,-671.251C876.815,-663.426 893.449,-652.462 907.766,-643.026\"/>\r\n",
       "<polygon fill=\"black\" stroke=\"black\" points=\"909.894,-645.815 916.318,-637.39 906.042,-639.971 909.894,-645.815\"/>\r\n",
       "</g>\r\n",
       "<!-- v27&#45;&gt;v28 -->\r\n",
       "<g id=\"edge40\" class=\"edge\"><title>v27&#45;&gt;v28</title>\r\n",
       "<path fill=\"none\" stroke=\"black\" d=\"M874.191,-626.485C884.176,-626.031 895.779,-625.504 906.287,-625.026\"/>\r\n",
       "<polygon fill=\"black\" stroke=\"black\" points=\"906.499,-628.52 916.33,-624.57 906.181,-621.527 906.499,-628.52\"/>\r\n",
       "</g>\r\n",
       "<!-- v28&#45;&gt;v29 -->\r\n",
       "<g id=\"edge41\" class=\"edge\"><title>v28&#45;&gt;v29</title>\r\n",
       "<path fill=\"none\" stroke=\"black\" d=\"M951.077,-609.595C964.91,-593.246 988.06,-565.887 1005.21,-545.622\"/>\r\n",
       "<polygon fill=\"black\" stroke=\"black\" points=\"1007.9,-547.863 1011.68,-537.969 1002.55,-543.342 1007.9,-547.863\"/>\r\n",
       "</g>\r\n",
       "<!-- v30 -->\r\n",
       "<g id=\"node32\" class=\"node\"><title>v30</title>\r\n",
       "<polygon fill=\"none\" stroke=\"black\" points=\"1126.55,-541.621 1145.21,-559.621 1126.55,-577.621 1096.37,-577.604 1096.37,-541.637 1126.55,-541.621\"/>\r\n",
       "<text text-anchor=\"middle\" x=\"1118.21\" y=\"-555.921\" font-family=\"Times New Roman,serif\" font-size=\"14.00\">∧̅</text>\r\n",
       "</g>\r\n",
       "<!-- v28&#45;&gt;v30 -->\r\n",
       "<g id=\"edge43\" class=\"edge\"><title>v28&#45;&gt;v30</title>\r\n",
       "<path fill=\"none\" stroke=\"black\" d=\"M958.258,-616.771C988.918,-605.748 1049.5,-583.966 1086.37,-570.707\"/>\r\n",
       "<polygon fill=\"black\" stroke=\"black\" points=\"1087.88,-573.887 1096.1,-567.21 1085.51,-567.299 1087.88,-573.887\"/>\r\n",
       "</g>\r\n",
       "<!-- v29&#45;&gt;v30 -->\r\n",
       "<g id=\"edge44\" class=\"edge\"><title>v29&#45;&gt;v30</title>\r\n",
       "<path fill=\"none\" stroke=\"black\" d=\"M1047.02,-527.715C1058.49,-532.932 1073.71,-539.848 1087.04,-545.908\"/>\r\n",
       "<polygon fill=\"black\" stroke=\"black\" points=\"1085.78,-549.18 1096.33,-550.132 1088.68,-542.807 1085.78,-549.18\"/>\r\n",
       "</g>\r\n",
       "<!-- v29&#45;&gt;v31 -->\r\n",
       "<g id=\"edge46\" class=\"edge\"><title>v29&#45;&gt;v31</title>\r\n",
       "<path fill=\"none\" stroke=\"black\" d=\"M1051.87,-516.015C1062.32,-514.353 1074.89,-512.353 1086.2,-510.554\"/>\r\n",
       "<polygon fill=\"black\" stroke=\"black\" points=\"1086.81,-514.001 1096.13,-508.973 1085.71,-507.088 1086.81,-514.001\"/>\r\n",
       "</g>\r\n",
       "<!-- v73 -->\r\n",
       "<g id=\"node34\" class=\"node\"><title>v73</title>\r\n",
       "<polygon fill=\"none\" stroke=\"black\" points=\"1181.1,-532.621 1219.81,-514.621 1258.52,-532.621 1219.81,-550.621 1181.1,-532.621\"/>\r\n",
       "<text text-anchor=\"middle\" x=\"1219.81\" y=\"-528.921\" font-family=\"Times New Roman,serif\" font-size=\"14.00\" fill=\"red\">Y[1]</text>\r\n",
       "</g>\r\n",
       "<!-- v30&#45;&gt;v73 -->\r\n",
       "<g id=\"edge47\" class=\"edge\"><title>v30&#45;&gt;v73</title>\r\n",
       "<path fill=\"none\" stroke=\"black\" d=\"M1139.85,-554.026C1152.81,-550.512 1169.84,-545.895 1184.77,-541.848\"/>\r\n",
       "<polygon fill=\"black\" stroke=\"black\" points=\"1185.96,-545.153 1194.69,-539.159 1184.13,-538.397 1185.96,-545.153\"/>\r\n",
       "</g>\r\n",
       "<!-- v31&#45;&gt;v73 -->\r\n",
       "<g id=\"edge48\" class=\"edge\"><title>v31&#45;&gt;v73</title>\r\n",
       "<path fill=\"none\" stroke=\"black\" d=\"M1139.85,-511.215C1152.81,-514.729 1169.84,-519.346 1184.77,-523.393\"/>\r\n",
       "<polygon fill=\"black\" stroke=\"black\" points=\"1184.13,-526.844 1194.69,-526.082 1185.96,-520.088 1184.13,-526.844\"/>\r\n",
       "</g>\r\n",
       "<!-- v32&#45;&gt;v33 -->\r\n",
       "<g id=\"edge52\" class=\"edge\"><title>v32&#45;&gt;v33</title>\r\n",
       "<path fill=\"none\" stroke=\"black\" d=\"M785.612,-528.621C795.13,-528.621 805.963,-528.621 815.862,-528.621\"/>\r\n",
       "<polygon fill=\"black\" stroke=\"black\" points=\"816.131,-532.121 826.131,-528.621 816.131,-525.121 816.131,-532.121\"/>\r\n",
       "</g>\r\n",
       "<!-- v35 -->\r\n",
       "<g id=\"node38\" class=\"node\"><title>v35</title>\r\n",
       "<polygon fill=\"none\" stroke=\"black\" points=\"946.553,-510.621 965.209,-528.621 946.553,-546.621 916.366,-546.604 916.366,-510.637 946.553,-510.621\"/>\r\n",
       "<text text-anchor=\"middle\" x=\"938.209\" y=\"-524.921\" font-family=\"Times New Roman,serif\" font-size=\"14.00\">∧̅</text>\r\n",
       "</g>\r\n",
       "<!-- v33&#45;&gt;v35 -->\r\n",
       "<g id=\"edge55\" class=\"edge\"><title>v33&#45;&gt;v35</title>\r\n",
       "<path fill=\"none\" stroke=\"black\" d=\"M869.619,-522.82C880.458,-521.852 894.008,-521.624 906.124,-522.136\"/>\r\n",
       "<polygon fill=\"black\" stroke=\"black\" points=\"906.099,-525.641 916.299,-522.776 906.538,-518.655 906.099,-525.641\"/>\r\n",
       "</g>\r\n",
       "<!-- v33&#45;&gt;v35 -->\r\n",
       "<g id=\"edge56\" class=\"edge\"><title>v33&#45;&gt;v35</title>\r\n",
       "<path fill=\"none\" stroke=\"black\" d=\"M869.619,-534.421C880.458,-535.389 894.008,-535.617 906.124,-535.105\"/>\r\n",
       "<polygon fill=\"black\" stroke=\"black\" points=\"906.538,-538.586 916.299,-534.465 906.099,-531.6 906.538,-538.586\"/>\r\n",
       "</g>\r\n",
       "<!-- v36 -->\r\n",
       "<g id=\"node39\" class=\"node\"><title>v36</title>\r\n",
       "<polygon fill=\"none\" stroke=\"black\" points=\"1036.55,-380.621 1055.21,-398.621 1036.55,-416.621 1006.37,-416.604 1006.37,-380.637 1036.55,-380.621\"/>\r\n",
       "<text text-anchor=\"middle\" x=\"1028.21\" y=\"-394.921\" font-family=\"Times New Roman,serif\" font-size=\"14.00\">∧̅</text>\r\n",
       "</g>\r\n",
       "<!-- v34&#45;&gt;v36 -->\r\n",
       "<g id=\"edge58\" class=\"edge\"><title>v34&#45;&gt;v36</title>\r\n",
       "<path fill=\"none\" stroke=\"black\" d=\"M781.479,-586.434C822.494,-592.138 910.748,-598.107 965.209,-555.621 986.199,-539.246 1008.62,-467.035 1019.87,-426.491\"/>\r\n",
       "<polygon fill=\"black\" stroke=\"black\" points=\"1023.3,-427.249 1022.55,-416.68 1016.54,-425.407 1023.3,-427.249\"/>\r\n",
       "</g>\r\n",
       "<!-- v35&#45;&gt;v36 -->\r\n",
       "<g id=\"edge57\" class=\"edge\"><title>v35&#45;&gt;v36</title>\r\n",
       "<path fill=\"none\" stroke=\"black\" d=\"M949.65,-513.197C964.293,-491.565 991.147,-451.895 1009.09,-425.387\"/>\r\n",
       "<polygon fill=\"black\" stroke=\"black\" points=\"1012.1,-427.19 1014.8,-416.947 1006.3,-423.266 1012.1,-427.19\"/>\r\n",
       "</g>\r\n",
       "<!-- v41 -->\r\n",
       "<g id=\"node44\" class=\"node\"><title>v41</title>\r\n",
       "<polygon fill=\"none\" stroke=\"black\" points=\"1419.76,-395.621 1438.42,-413.621 1419.76,-431.621 1389.57,-431.604 1389.57,-395.637 1419.76,-395.621\"/>\r\n",
       "<text text-anchor=\"middle\" x=\"1411.42\" y=\"-409.921\" font-family=\"Times New Roman,serif\" font-size=\"14.00\">∧̅</text>\r\n",
       "</g>\r\n",
       "<!-- v36&#45;&gt;v41 -->\r\n",
       "<g id=\"edge68\" class=\"edge\"><title>v36&#45;&gt;v41</title>\r\n",
       "<path fill=\"none\" stroke=\"black\" d=\"M1053.64,-400.366C1065.05,-401.138 1078.82,-402.008 1091.21,-402.621 1196.83,-407.846 1322.23,-411.391 1379.33,-412.859\"/>\r\n",
       "<polygon fill=\"black\" stroke=\"black\" points=\"1379.41,-416.362 1389.49,-413.117 1379.59,-409.364 1379.41,-416.362\"/>\r\n",
       "</g>\r\n",
       "<!-- v43 -->\r\n",
       "<g id=\"node46\" class=\"node\"><title>v43</title>\r\n",
       "<polygon fill=\"none\" stroke=\"black\" points=\"1509.76,-441.621 1528.42,-459.621 1509.76,-477.621 1479.57,-477.604 1479.57,-441.637 1509.76,-441.621\"/>\r\n",
       "<text text-anchor=\"middle\" x=\"1501.42\" y=\"-455.921\" font-family=\"Times New Roman,serif\" font-size=\"14.00\">∧̅</text>\r\n",
       "</g>\r\n",
       "<!-- v36&#45;&gt;v43 -->\r\n",
       "<g id=\"edge71\" class=\"edge\"><title>v36&#45;&gt;v43</title>\r\n",
       "<path fill=\"none\" stroke=\"black\" d=\"M1045.88,-407.885C1078.2,-424.95 1152.08,-459.621 1218.81,-459.621 1218.81,-459.621 1218.81,-459.621 1322.42,-459.621 1373.81,-459.621 1433.54,-459.621 1469.1,-459.621\"/>\r\n",
       "<polygon fill=\"black\" stroke=\"black\" points=\"1469.32,-463.121 1479.32,-459.621 1469.32,-456.121 1469.32,-463.121\"/>\r\n",
       "</g>\r\n",
       "<!-- v36&#45;&gt;v44 -->\r\n",
       "<g id=\"edge76\" class=\"edge\"><title>v36&#45;&gt;v44</title>\r\n",
       "<path fill=\"none\" stroke=\"black\" d=\"M1042.96,-386.589C1055.14,-375.928 1073.33,-360.017 1088.65,-346.61\"/>\r\n",
       "<polygon fill=\"black\" stroke=\"black\" points=\"1091.13,-349.088 1096.35,-339.868 1086.52,-343.819 1091.13,-349.088\"/>\r\n",
       "</g>\r\n",
       "<!-- v36&#45;&gt;v46 -->\r\n",
       "<g id=\"edge80\" class=\"edge\"><title>v36&#45;&gt;v46</title>\r\n",
       "<path fill=\"none\" stroke=\"black\" d=\"M1050.06,-393.17C1060.94,-390.326 1074.46,-386.793 1086.51,-383.643\"/>\r\n",
       "<polygon fill=\"black\" stroke=\"black\" points=\"1087.41,-387.027 1096.2,-381.112 1085.64,-380.254 1087.41,-387.027\"/>\r\n",
       "</g>\r\n",
       "<!-- v37&#45;&gt;v38 -->\r\n",
       "<g id=\"edge62\" class=\"edge\"><title>v37&#45;&gt;v38</title>\r\n",
       "<path fill=\"none\" stroke=\"black\" d=\"M1137.94,-236.768C1152.04,-242.145 1171.66,-249.63 1188.04,-255.881\"/>\r\n",
       "<polygon fill=\"black\" stroke=\"black\" points=\"1187.16,-259.29 1197.75,-259.584 1189.65,-252.75 1187.16,-259.29\"/>\r\n",
       "</g>\r\n",
       "<!-- v37&#45;&gt;v39 -->\r\n",
       "<g id=\"edge64\" class=\"edge\"><title>v37&#45;&gt;v39</title>\r\n",
       "<path fill=\"none\" stroke=\"black\" d=\"M1141.81,-225.99C1155.3,-223.823 1172.62,-221.04 1187.42,-218.663\"/>\r\n",
       "<polygon fill=\"black\" stroke=\"black\" points=\"1188.35,-222.06 1197.66,-217.018 1187.24,-215.148 1188.35,-222.06\"/>\r\n",
       "</g>\r\n",
       "<!-- v45 -->\r\n",
       "<g id=\"node49\" class=\"node\"><title>v45</title>\r\n",
       "<polygon fill=\"none\" stroke=\"black\" points=\"1228.16,-303.621 1246.81,-321.621 1228.16,-339.621 1197.97,-339.604 1197.97,-303.637 1228.16,-303.621\"/>\r\n",
       "<text text-anchor=\"middle\" x=\"1219.81\" y=\"-317.921\" font-family=\"Times New Roman,serif\" font-size=\"14.00\">∧̅</text>\r\n",
       "</g>\r\n",
       "<!-- v37&#45;&gt;v45 -->\r\n",
       "<g id=\"edge77\" class=\"edge\"><title>v37&#45;&gt;v45</title>\r\n",
       "<path fill=\"none\" stroke=\"black\" d=\"M1131.11,-243.536C1143.11,-257.214 1162.5,-278.348 1181.21,-294.621 1183.84,-296.905 1186.65,-299.189 1189.51,-301.408\"/>\r\n",
       "<polygon fill=\"black\" stroke=\"black\" points=\"1187.49,-304.264 1197.6,-307.434 1191.67,-298.651 1187.49,-304.264\"/>\r\n",
       "</g>\r\n",
       "<!-- v40 -->\r\n",
       "<g id=\"node43\" class=\"node\"><title>v40</title>\r\n",
       "<polygon fill=\"none\" stroke=\"black\" points=\"1329.76,-249.621 1348.42,-267.621 1329.76,-285.621 1299.57,-285.604 1299.57,-249.637 1329.76,-249.621\"/>\r\n",
       "<text text-anchor=\"middle\" x=\"1321.42\" y=\"-263.921\" font-family=\"Times New Roman,serif\" font-size=\"14.00\">∧̅</text>\r\n",
       "</g>\r\n",
       "<!-- v38&#45;&gt;v40 -->\r\n",
       "<g id=\"edge65\" class=\"edge\"><title>v38&#45;&gt;v40</title>\r\n",
       "<path fill=\"none\" stroke=\"black\" d=\"M1246.98,-267.621C1259.9,-267.621 1275.58,-267.621 1289.12,-267.621\"/>\r\n",
       "<polygon fill=\"black\" stroke=\"black\" points=\"1289.44,-271.121 1299.44,-267.621 1289.44,-264.121 1289.44,-271.121\"/>\r\n",
       "</g>\r\n",
       "<!-- v39&#45;&gt;v40 -->\r\n",
       "<g id=\"edge66\" class=\"edge\"><title>v39&#45;&gt;v40</title>\r\n",
       "<path fill=\"none\" stroke=\"black\" d=\"M1237.71,-222.781C1252.04,-230.55 1272.95,-241.886 1290.16,-251.216\"/>\r\n",
       "<polygon fill=\"black\" stroke=\"black\" points=\"1288.81,-254.468 1299.27,-256.157 1292.15,-248.314 1288.81,-254.468\"/>\r\n",
       "</g>\r\n",
       "<!-- v40&#45;&gt;v41 -->\r\n",
       "<g id=\"edge67\" class=\"edge\"><title>v40&#45;&gt;v41</title>\r\n",
       "<path fill=\"none\" stroke=\"black\" d=\"M1336.18,-279.952C1340.49,-284.289 1345,-289.393 1348.42,-294.621 1371.33,-329.636 1363,-345.671 1384.42,-381.621 1385.55,-383.519 1386.79,-385.425 1388.09,-387.309\"/>\r\n",
       "<polygon fill=\"black\" stroke=\"black\" points=\"1385.28,-389.406 1394.06,-395.339 1390.9,-385.227 1385.28,-389.406\"/>\r\n",
       "</g>\r\n",
       "<!-- v42 -->\r\n",
       "<g id=\"node45\" class=\"node\"><title>v42</title>\r\n",
       "<polygon fill=\"none\" stroke=\"black\" points=\"1509.76,-387.621 1528.42,-405.621 1509.76,-423.621 1479.57,-423.604 1479.57,-387.637 1509.76,-387.621\"/>\r\n",
       "<text text-anchor=\"middle\" x=\"1501.42\" y=\"-401.921\" font-family=\"Times New Roman,serif\" font-size=\"14.00\">∧̅</text>\r\n",
       "</g>\r\n",
       "<!-- v40&#45;&gt;v42 -->\r\n",
       "<g id=\"edge69\" class=\"edge\"><title>v40&#45;&gt;v42</title>\r\n",
       "<path fill=\"none\" stroke=\"black\" d=\"M1335.6,-280.372C1339.87,-284.738 1344.5,-289.752 1348.42,-294.621 1366.49,-317.099 1362.73,-329.606 1384.42,-348.621 1409.48,-370.592 1444.51,-386.256 1469.51,-395.535\"/>\r\n",
       "<polygon fill=\"black\" stroke=\"black\" points=\"1468.62,-398.935 1479.21,-399.007 1470.98,-392.344 1468.62,-398.935\"/>\r\n",
       "</g>\r\n",
       "<!-- v41&#45;&gt;v42 -->\r\n",
       "<g id=\"edge70\" class=\"edge\"><title>v41&#45;&gt;v42</title>\r\n",
       "<path fill=\"none\" stroke=\"black\" d=\"M1436.46,-411.434C1446.54,-410.518 1458.39,-409.441 1469.13,-408.465\"/>\r\n",
       "<polygon fill=\"black\" stroke=\"black\" points=\"1469.75,-411.923 1479.4,-407.532 1469.12,-404.951 1469.75,-411.923\"/>\r\n",
       "</g>\r\n",
       "<!-- v41&#45;&gt;v43 -->\r\n",
       "<g id=\"edge72\" class=\"edge\"><title>v41&#45;&gt;v43</title>\r\n",
       "<path fill=\"none\" stroke=\"black\" d=\"M1429.39,-422.49C1440.99,-428.557 1456.69,-436.765 1470.38,-443.921\"/>\r\n",
       "<polygon fill=\"black\" stroke=\"black\" points=\"1468.98,-447.137 1479.47,-448.668 1472.23,-440.934 1468.98,-447.137\"/>\r\n",
       "</g>\r\n",
       "<!-- v74 -->\r\n",
       "<g id=\"node47\" class=\"node\"><title>v74</title>\r\n",
       "<polygon fill=\"none\" stroke=\"black\" points=\"1564.31,-432.621 1603.02,-414.621 1641.73,-432.621 1603.02,-450.621 1564.31,-432.621\"/>\r\n",
       "<text text-anchor=\"middle\" x=\"1603.02\" y=\"-428.921\" font-family=\"Times New Roman,serif\" font-size=\"14.00\" fill=\"red\">Y[2]</text>\r\n",
       "</g>\r\n",
       "<!-- v42&#45;&gt;v74 -->\r\n",
       "<g id=\"edge73\" class=\"edge\"><title>v42&#45;&gt;v74</title>\r\n",
       "<path fill=\"none\" stroke=\"black\" d=\"M1523.06,-411.215C1536.02,-414.729 1553.05,-419.346 1567.98,-423.393\"/>\r\n",
       "<polygon fill=\"black\" stroke=\"black\" points=\"1567.34,-426.844 1577.9,-426.082 1569.17,-420.088 1567.34,-426.844\"/>\r\n",
       "</g>\r\n",
       "<!-- v43&#45;&gt;v74 -->\r\n",
       "<g id=\"edge74\" class=\"edge\"><title>v43&#45;&gt;v74</title>\r\n",
       "<path fill=\"none\" stroke=\"black\" d=\"M1523.06,-454.026C1536.02,-450.512 1553.05,-445.895 1567.98,-441.848\"/>\r\n",
       "<polygon fill=\"black\" stroke=\"black\" points=\"1569.17,-445.153 1577.9,-439.159 1567.34,-438.397 1569.17,-445.153\"/>\r\n",
       "</g>\r\n",
       "<!-- v44&#45;&gt;v45 -->\r\n",
       "<g id=\"edge78\" class=\"edge\"><title>v44&#45;&gt;v45</title>\r\n",
       "<path fill=\"none\" stroke=\"black\" d=\"M1145.38,-321.621C1158.3,-321.621 1173.97,-321.621 1187.52,-321.621\"/>\r\n",
       "<polygon fill=\"black\" stroke=\"black\" points=\"1187.83,-325.121 1197.83,-321.621 1187.83,-318.121 1187.83,-325.121\"/>\r\n",
       "</g>\r\n",
       "<!-- v47 -->\r\n",
       "<g id=\"node51\" class=\"node\"><title>v47</title>\r\n",
       "<polygon fill=\"none\" stroke=\"black\" points=\"1329.76,-303.621 1348.42,-321.621 1329.76,-339.621 1299.57,-339.604 1299.57,-303.637 1329.76,-303.621\"/>\r\n",
       "<text text-anchor=\"middle\" x=\"1321.42\" y=\"-317.921\" font-family=\"Times New Roman,serif\" font-size=\"14.00\">∧̅</text>\r\n",
       "</g>\r\n",
       "<!-- v45&#45;&gt;v47 -->\r\n",
       "<g id=\"edge81\" class=\"edge\"><title>v45&#45;&gt;v47</title>\r\n",
       "<path fill=\"none\" stroke=\"black\" d=\"M1241.45,-316.028C1255.25,-314.782 1273.66,-314.542 1289.23,-315.308\"/>\r\n",
       "<polygon fill=\"black\" stroke=\"black\" points=\"1289.25,-318.818 1299.46,-315.999 1289.72,-311.834 1289.25,-318.818\"/>\r\n",
       "</g>\r\n",
       "<!-- v45&#45;&gt;v47 -->\r\n",
       "<g id=\"edge82\" class=\"edge\"><title>v45&#45;&gt;v47</title>\r\n",
       "<path fill=\"none\" stroke=\"black\" d=\"M1241.45,-327.213C1255.25,-328.459 1273.66,-328.699 1289.23,-327.933\"/>\r\n",
       "<polygon fill=\"black\" stroke=\"black\" points=\"1289.72,-331.407 1299.46,-327.242 1289.25,-324.423 1289.72,-331.407\"/>\r\n",
       "</g>\r\n",
       "<!-- v48 -->\r\n",
       "<g id=\"node52\" class=\"node\"><title>v48</title>\r\n",
       "<polygon fill=\"none\" stroke=\"black\" points=\"1419.76,-303.621 1438.42,-321.621 1419.76,-339.621 1389.57,-339.604 1389.57,-303.637 1419.76,-303.621\"/>\r\n",
       "<text text-anchor=\"middle\" x=\"1411.42\" y=\"-317.921\" font-family=\"Times New Roman,serif\" font-size=\"14.00\">∧̅</text>\r\n",
       "</g>\r\n",
       "<!-- v46&#45;&gt;v48 -->\r\n",
       "<g id=\"edge84\" class=\"edge\"><title>v46&#45;&gt;v48</title>\r\n",
       "<path fill=\"none\" stroke=\"black\" d=\"M1144.77,-375.042C1187.6,-373.538 1276.28,-368.119 1348.42,-348.621 1359.15,-345.719 1370.43,-341.268 1380.39,-336.811\"/>\r\n",
       "<polygon fill=\"black\" stroke=\"black\" points=\"1381.87,-339.981 1389.46,-332.587 1378.91,-333.635 1381.87,-339.981\"/>\r\n",
       "</g>\r\n",
       "<!-- v47&#45;&gt;v48 -->\r\n",
       "<g id=\"edge83\" class=\"edge\"><title>v47&#45;&gt;v48</title>\r\n",
       "<path fill=\"none\" stroke=\"black\" d=\"M1348.82,-321.621C1358.34,-321.621 1369.17,-321.621 1379.07,-321.621\"/>\r\n",
       "<polygon fill=\"black\" stroke=\"black\" points=\"1379.34,-325.121 1389.34,-321.621 1379.34,-318.121 1379.34,-325.121\"/>\r\n",
       "</g>\r\n",
       "<!-- v53 -->\r\n",
       "<g id=\"node57\" class=\"node\"><title>v53</title>\r\n",
       "<polygon fill=\"none\" stroke=\"black\" points=\"1802.97,-295.621 1821.63,-313.621 1802.97,-331.621 1772.78,-331.604 1772.78,-295.637 1802.97,-295.621\"/>\r\n",
       "<text text-anchor=\"middle\" x=\"1794.63\" y=\"-309.921\" font-family=\"Times New Roman,serif\" font-size=\"14.00\">∧̅</text>\r\n",
       "</g>\r\n",
       "<!-- v48&#45;&gt;v53 -->\r\n",
       "<g id=\"edge94\" class=\"edge\"><title>v48&#45;&gt;v53</title>\r\n",
       "<path fill=\"none\" stroke=\"black\" d=\"M1438.02,-321.083C1505.65,-319.664 1688.86,-315.819 1762.43,-314.275\"/>\r\n",
       "<polygon fill=\"black\" stroke=\"black\" points=\"1762.54,-317.774 1772.46,-314.065 1762.39,-310.775 1762.54,-317.774\"/>\r\n",
       "</g>\r\n",
       "<!-- v55 -->\r\n",
       "<g id=\"node59\" class=\"node\"><title>v55</title>\r\n",
       "<polygon fill=\"none\" stroke=\"black\" points=\"1892.97,-341.621 1911.63,-359.621 1892.97,-377.621 1862.78,-377.604 1862.78,-341.637 1892.97,-341.621\"/>\r\n",
       "<text text-anchor=\"middle\" x=\"1884.63\" y=\"-355.921\" font-family=\"Times New Roman,serif\" font-size=\"14.00\">∧̅</text>\r\n",
       "</g>\r\n",
       "<!-- v48&#45;&gt;v55 -->\r\n",
       "<g id=\"edge97\" class=\"edge\"><title>v48&#45;&gt;v55</title>\r\n",
       "<path fill=\"none\" stroke=\"black\" d=\"M1431.81,-328.153C1465.85,-339.018 1538.74,-359.621 1602.02,-359.621 1602.02,-359.621 1602.02,-359.621 1705.63,-359.621 1757.02,-359.621 1816.75,-359.621 1852.31,-359.621\"/>\r\n",
       "<polygon fill=\"black\" stroke=\"black\" points=\"1852.53,-363.121 1862.53,-359.621 1852.53,-356.121 1852.53,-363.121\"/>\r\n",
       "</g>\r\n",
       "<!-- v48&#45;&gt;v56 -->\r\n",
       "<g id=\"edge102\" class=\"edge\"><title>v48&#45;&gt;v56</title>\r\n",
       "<path fill=\"none\" stroke=\"black\" d=\"M1424.05,-307.402C1436.32,-292.524 1456.35,-268.597 1474.42,-248.621 1474.83,-248.168 1475.24,-247.713 1475.66,-247.255\"/>\r\n",
       "<polygon fill=\"black\" stroke=\"black\" points=\"1478.38,-249.474 1482.64,-239.774 1473.26,-244.698 1478.38,-249.474\"/>\r\n",
       "</g>\r\n",
       "<!-- v48&#45;&gt;v58 -->\r\n",
       "<g id=\"edge106\" class=\"edge\"><title>v48&#45;&gt;v58</title>\r\n",
       "<path fill=\"none\" stroke=\"black\" d=\"M1429.39,-312.751C1440.99,-306.685 1456.69,-298.476 1470.38,-291.32\"/>\r\n",
       "<polygon fill=\"black\" stroke=\"black\" points=\"1472.23,-294.307 1479.47,-286.573 1468.98,-288.104 1472.23,-294.307\"/>\r\n",
       "</g>\r\n",
       "<!-- v49&#45;&gt;v50 -->\r\n",
       "<g id=\"edge88\" class=\"edge\"><title>v49&#45;&gt;v50</title>\r\n",
       "<path fill=\"none\" stroke=\"black\" d=\"M1521.15,-136.768C1535.25,-142.145 1554.87,-149.63 1571.25,-155.881\"/>\r\n",
       "<polygon fill=\"black\" stroke=\"black\" points=\"1570.37,-159.29 1580.96,-159.584 1572.86,-152.75 1570.37,-159.29\"/>\r\n",
       "</g>\r\n",
       "<!-- v49&#45;&gt;v51 -->\r\n",
       "<g id=\"edge90\" class=\"edge\"><title>v49&#45;&gt;v51</title>\r\n",
       "<path fill=\"none\" stroke=\"black\" d=\"M1525.02,-125.99C1538.51,-123.823 1555.83,-121.04 1570.63,-118.663\"/>\r\n",
       "<polygon fill=\"black\" stroke=\"black\" points=\"1571.55,-122.06 1580.87,-117.018 1570.44,-115.148 1571.55,-122.06\"/>\r\n",
       "</g>\r\n",
       "<!-- v57 -->\r\n",
       "<g id=\"node62\" class=\"node\"><title>v57</title>\r\n",
       "<polygon fill=\"none\" stroke=\"black\" points=\"1611.37,-203.621 1630.02,-221.621 1611.37,-239.621 1581.18,-239.604 1581.18,-203.637 1611.37,-203.621\"/>\r\n",
       "<text text-anchor=\"middle\" x=\"1603.02\" y=\"-217.921\" font-family=\"Times New Roman,serif\" font-size=\"14.00\">∧̅</text>\r\n",
       "</g>\r\n",
       "<!-- v49&#45;&gt;v57 -->\r\n",
       "<g id=\"edge103\" class=\"edge\"><title>v49&#45;&gt;v57</title>\r\n",
       "<path fill=\"none\" stroke=\"black\" d=\"M1514.32,-143.536C1526.32,-157.214 1545.71,-178.348 1564.42,-194.621 1567.04,-196.905 1569.86,-199.189 1572.72,-201.408\"/>\r\n",
       "<polygon fill=\"black\" stroke=\"black\" points=\"1570.7,-204.264 1580.81,-207.434 1574.88,-198.651 1570.7,-204.264\"/>\r\n",
       "</g>\r\n",
       "<!-- v52 -->\r\n",
       "<g id=\"node56\" class=\"node\"><title>v52</title>\r\n",
       "<polygon fill=\"none\" stroke=\"black\" points=\"1712.97,-149.621 1731.63,-167.621 1712.97,-185.621 1682.78,-185.604 1682.78,-149.637 1712.97,-149.621\"/>\r\n",
       "<text text-anchor=\"middle\" x=\"1704.63\" y=\"-163.921\" font-family=\"Times New Roman,serif\" font-size=\"14.00\">∧̅</text>\r\n",
       "</g>\r\n",
       "<!-- v50&#45;&gt;v52 -->\r\n",
       "<g id=\"edge91\" class=\"edge\"><title>v50&#45;&gt;v52</title>\r\n",
       "<path fill=\"none\" stroke=\"black\" d=\"M1630.19,-167.621C1643.11,-167.621 1658.79,-167.621 1672.33,-167.621\"/>\r\n",
       "<polygon fill=\"black\" stroke=\"black\" points=\"1672.65,-171.121 1682.65,-167.621 1672.65,-164.121 1672.65,-171.121\"/>\r\n",
       "</g>\r\n",
       "<!-- v51&#45;&gt;v52 -->\r\n",
       "<g id=\"edge92\" class=\"edge\"><title>v51&#45;&gt;v52</title>\r\n",
       "<path fill=\"none\" stroke=\"black\" d=\"M1620.92,-122.781C1635.25,-130.55 1656.16,-141.886 1673.37,-151.216\"/>\r\n",
       "<polygon fill=\"black\" stroke=\"black\" points=\"1672.02,-154.468 1682.48,-156.157 1675.36,-148.314 1672.02,-154.468\"/>\r\n",
       "</g>\r\n",
       "<!-- v52&#45;&gt;v53 -->\r\n",
       "<g id=\"edge93\" class=\"edge\"><title>v52&#45;&gt;v53</title>\r\n",
       "<path fill=\"none\" stroke=\"black\" d=\"M1719.39,-179.952C1723.7,-184.289 1728.21,-189.393 1731.63,-194.621 1754.54,-229.636 1746.21,-245.671 1767.63,-281.621 1768.76,-283.519 1770,-285.425 1771.3,-287.309\"/>\r\n",
       "<polygon fill=\"black\" stroke=\"black\" points=\"1768.49,-289.406 1777.27,-295.339 1774.11,-285.227 1768.49,-289.406\"/>\r\n",
       "</g>\r\n",
       "<!-- v54 -->\r\n",
       "<g id=\"node58\" class=\"node\"><title>v54</title>\r\n",
       "<polygon fill=\"none\" stroke=\"black\" points=\"1892.97,-287.621 1911.63,-305.621 1892.97,-323.621 1862.78,-323.604 1862.78,-287.637 1892.97,-287.621\"/>\r\n",
       "<text text-anchor=\"middle\" x=\"1884.63\" y=\"-301.921\" font-family=\"Times New Roman,serif\" font-size=\"14.00\">∧̅</text>\r\n",
       "</g>\r\n",
       "<!-- v52&#45;&gt;v54 -->\r\n",
       "<g id=\"edge95\" class=\"edge\"><title>v52&#45;&gt;v54</title>\r\n",
       "<path fill=\"none\" stroke=\"black\" d=\"M1718.81,-180.372C1723.08,-184.738 1727.71,-189.752 1731.63,-194.621 1749.7,-217.099 1745.94,-229.606 1767.63,-248.621 1792.69,-270.592 1827.72,-286.256 1852.71,-295.535\"/>\r\n",
       "<polygon fill=\"black\" stroke=\"black\" points=\"1851.83,-298.935 1862.42,-299.007 1854.18,-292.344 1851.83,-298.935\"/>\r\n",
       "</g>\r\n",
       "<!-- v53&#45;&gt;v54 -->\r\n",
       "<g id=\"edge96\" class=\"edge\"><title>v53&#45;&gt;v54</title>\r\n",
       "<path fill=\"none\" stroke=\"black\" d=\"M1819.67,-311.434C1829.75,-310.518 1841.6,-309.441 1852.34,-308.465\"/>\r\n",
       "<polygon fill=\"black\" stroke=\"black\" points=\"1852.96,-311.923 1862.61,-307.532 1852.33,-304.951 1852.96,-311.923\"/>\r\n",
       "</g>\r\n",
       "<!-- v53&#45;&gt;v55 -->\r\n",
       "<g id=\"edge98\" class=\"edge\"><title>v53&#45;&gt;v55</title>\r\n",
       "<path fill=\"none\" stroke=\"black\" d=\"M1812.59,-322.49C1824.2,-328.557 1839.9,-336.765 1853.59,-343.921\"/>\r\n",
       "<polygon fill=\"black\" stroke=\"black\" points=\"1852.19,-347.137 1862.68,-348.668 1855.43,-340.934 1852.19,-347.137\"/>\r\n",
       "</g>\r\n",
       "<!-- v75 -->\r\n",
       "<g id=\"node60\" class=\"node\"><title>v75</title>\r\n",
       "<polygon fill=\"none\" stroke=\"black\" points=\"1947.52,-332.621 1986.23,-314.621 2024.94,-332.621 1986.23,-350.621 1947.52,-332.621\"/>\r\n",
       "<text text-anchor=\"middle\" x=\"1986.23\" y=\"-328.921\" font-family=\"Times New Roman,serif\" font-size=\"14.00\" fill=\"red\">Y[3]</text>\r\n",
       "</g>\r\n",
       "<!-- v54&#45;&gt;v75 -->\r\n",
       "<g id=\"edge99\" class=\"edge\"><title>v54&#45;&gt;v75</title>\r\n",
       "<path fill=\"none\" stroke=\"black\" d=\"M1906.27,-311.215C1919.23,-314.729 1936.26,-319.346 1951.19,-323.393\"/>\r\n",
       "<polygon fill=\"black\" stroke=\"black\" points=\"1950.55,-326.844 1961.11,-326.082 1952.38,-320.088 1950.55,-326.844\"/>\r\n",
       "</g>\r\n",
       "<!-- v55&#45;&gt;v75 -->\r\n",
       "<g id=\"edge100\" class=\"edge\"><title>v55&#45;&gt;v75</title>\r\n",
       "<path fill=\"none\" stroke=\"black\" d=\"M1906.27,-354.026C1919.23,-350.512 1936.26,-345.895 1951.19,-341.848\"/>\r\n",
       "<polygon fill=\"black\" stroke=\"black\" points=\"1952.38,-345.153 1961.11,-339.159 1950.55,-338.397 1952.38,-345.153\"/>\r\n",
       "</g>\r\n",
       "<!-- v56&#45;&gt;v57 -->\r\n",
       "<g id=\"edge104\" class=\"edge\"><title>v56&#45;&gt;v57</title>\r\n",
       "<path fill=\"none\" stroke=\"black\" d=\"M1528.59,-221.621C1541.5,-221.621 1557.18,-221.621 1570.73,-221.621\"/>\r\n",
       "<polygon fill=\"black\" stroke=\"black\" points=\"1571.04,-225.121 1581.04,-221.621 1571.04,-218.121 1571.04,-225.121\"/>\r\n",
       "</g>\r\n",
       "<!-- v59 -->\r\n",
       "<g id=\"node64\" class=\"node\"><title>v59</title>\r\n",
       "<polygon fill=\"none\" stroke=\"black\" points=\"1712.97,-203.621 1731.63,-221.621 1712.97,-239.621 1682.78,-239.604 1682.78,-203.637 1712.97,-203.621\"/>\r\n",
       "<text text-anchor=\"middle\" x=\"1704.63\" y=\"-217.921\" font-family=\"Times New Roman,serif\" font-size=\"14.00\">∧̅</text>\r\n",
       "</g>\r\n",
       "<!-- v57&#45;&gt;v59 -->\r\n",
       "<g id=\"edge107\" class=\"edge\"><title>v57&#45;&gt;v59</title>\r\n",
       "<path fill=\"none\" stroke=\"black\" d=\"M1624.66,-216.028C1638.46,-214.782 1656.87,-214.542 1672.44,-215.308\"/>\r\n",
       "<polygon fill=\"black\" stroke=\"black\" points=\"1672.46,-218.818 1682.67,-215.999 1672.93,-211.834 1672.46,-218.818\"/>\r\n",
       "</g>\r\n",
       "<!-- v57&#45;&gt;v59 -->\r\n",
       "<g id=\"edge108\" class=\"edge\"><title>v57&#45;&gt;v59</title>\r\n",
       "<path fill=\"none\" stroke=\"black\" d=\"M1624.66,-227.213C1638.46,-228.459 1656.87,-228.699 1672.44,-227.933\"/>\r\n",
       "<polygon fill=\"black\" stroke=\"black\" points=\"1672.93,-231.407 1682.67,-227.242 1672.46,-224.423 1672.93,-231.407\"/>\r\n",
       "</g>\r\n",
       "<!-- v60 -->\r\n",
       "<g id=\"node65\" class=\"node\"><title>v60</title>\r\n",
       "<polygon fill=\"none\" stroke=\"black\" points=\"1802.97,-203.621 1821.63,-221.621 1802.97,-239.621 1772.78,-239.604 1772.78,-203.637 1802.97,-203.621\"/>\r\n",
       "<text text-anchor=\"middle\" x=\"1794.63\" y=\"-217.921\" font-family=\"Times New Roman,serif\" font-size=\"14.00\">∧̅</text>\r\n",
       "</g>\r\n",
       "<!-- v58&#45;&gt;v60 -->\r\n",
       "<g id=\"edge110\" class=\"edge\"><title>v58&#45;&gt;v60</title>\r\n",
       "<path fill=\"none\" stroke=\"black\" d=\"M1527.98,-275.042C1570.81,-273.538 1659.49,-268.119 1731.63,-248.621 1742.36,-245.719 1753.64,-241.268 1763.59,-236.811\"/>\r\n",
       "<polygon fill=\"black\" stroke=\"black\" points=\"1765.08,-239.981 1772.67,-232.587 1762.12,-233.635 1765.08,-239.981\"/>\r\n",
       "</g>\r\n",
       "<!-- v59&#45;&gt;v60 -->\r\n",
       "<g id=\"edge109\" class=\"edge\"><title>v59&#45;&gt;v60</title>\r\n",
       "<path fill=\"none\" stroke=\"black\" d=\"M1732.03,-221.621C1741.55,-221.621 1752.38,-221.621 1762.28,-221.621\"/>\r\n",
       "<polygon fill=\"black\" stroke=\"black\" points=\"1762.55,-225.121 1772.55,-221.621 1762.55,-218.121 1762.55,-225.121\"/>\r\n",
       "</g>\r\n",
       "<!-- v65 -->\r\n",
       "<g id=\"node70\" class=\"node\"><title>v65</title>\r\n",
       "<polygon fill=\"none\" stroke=\"black\" points=\"2197.78,-190.621 2216.44,-208.621 2197.78,-226.621 2167.6,-226.604 2167.6,-190.637 2197.78,-190.621\"/>\r\n",
       "<text text-anchor=\"middle\" x=\"2189.44\" y=\"-204.921\" font-family=\"Times New Roman,serif\" font-size=\"14.00\">∧̅</text>\r\n",
       "</g>\r\n",
       "<!-- v60&#45;&gt;v65 -->\r\n",
       "<g id=\"edge120\" class=\"edge\"><title>v60&#45;&gt;v65</title>\r\n",
       "<path fill=\"none\" stroke=\"black\" d=\"M1820.8,-220.788C1889.71,-218.507 2081.36,-212.164 2157.08,-209.658\"/>\r\n",
       "<polygon fill=\"black\" stroke=\"black\" points=\"2157.51,-213.146 2167.39,-209.317 2157.28,-206.15 2157.51,-213.146\"/>\r\n",
       "</g>\r\n",
       "<!-- v67 -->\r\n",
       "<g id=\"node72\" class=\"node\"><title>v67</title>\r\n",
       "<polygon fill=\"none\" stroke=\"black\" points=\"2299.39,-215.621 2318.05,-233.621 2299.39,-251.621 2269.2,-251.604 2269.2,-215.637 2299.39,-215.621\"/>\r\n",
       "<text text-anchor=\"middle\" x=\"2291.05\" y=\"-229.921\" font-family=\"Times New Roman,serif\" font-size=\"14.00\">∧̅</text>\r\n",
       "</g>\r\n",
       "<!-- v60&#45;&gt;v67 -->\r\n",
       "<g id=\"edge123\" class=\"edge\"><title>v60&#45;&gt;v67</title>\r\n",
       "<path fill=\"none\" stroke=\"black\" d=\"M1815.02,-228.153C1849.06,-239.018 1921.95,-259.621 1985.23,-259.621 1985.23,-259.621 1985.23,-259.621 2088.84,-259.621 2149.49,-259.621 2219.6,-247.855 2258.99,-240.153\"/>\r\n",
       "<polygon fill=\"black\" stroke=\"black\" points=\"2259.89,-243.541 2269.01,-238.149 2258.52,-236.676 2259.89,-243.541\"/>\r\n",
       "</g>\r\n",
       "<!-- v60&#45;&gt;v68 -->\r\n",
       "<g id=\"edge128\" class=\"edge\"><title>v60&#45;&gt;v68</title>\r\n",
       "<path fill=\"none\" stroke=\"black\" d=\"M1812.59,-212.751C1824.2,-206.685 1839.9,-198.476 1853.59,-191.32\"/>\r\n",
       "<polygon fill=\"black\" stroke=\"black\" points=\"1855.43,-194.307 1862.68,-186.573 1852.19,-188.104 1855.43,-194.307\"/>\r\n",
       "</g>\r\n",
       "<!-- v60&#45;&gt;v70 -->\r\n",
       "<g id=\"edge132\" class=\"edge\"><title>v60&#45;&gt;v70</title>\r\n",
       "<path fill=\"none\" stroke=\"black\" d=\"M1807.26,-207.402C1819.53,-192.524 1839.56,-168.597 1857.63,-148.621 1858.04,-148.168 1858.45,-147.713 1858.87,-147.255\"/>\r\n",
       "<polygon fill=\"black\" stroke=\"black\" points=\"1861.59,-149.474 1865.85,-139.774 1856.47,-144.698 1861.59,-149.474\"/>\r\n",
       "</g>\r\n",
       "<!-- v61&#45;&gt;v62 -->\r\n",
       "<g id=\"edge114\" class=\"edge\"><title>v61&#45;&gt;v62</title>\r\n",
       "<path fill=\"none\" stroke=\"black\" d=\"M1909.74,-27.6839C1923.04,-26.6153 1939.72,-25.2761 1954.01,-24.1282\"/>\r\n",
       "<polygon fill=\"black\" stroke=\"black\" points=\"1954.69,-27.5849 1964.38,-23.2954 1954.13,-20.6074 1954.69,-27.5849\"/>\r\n",
       "</g>\r\n",
       "<!-- v61&#45;&gt;v63 -->\r\n",
       "<g id=\"edge116\" class=\"edge\"><title>v61&#45;&gt;v63</title>\r\n",
       "<path fill=\"none\" stroke=\"black\" d=\"M1903.43,-37.8444C1917.65,-44.4116 1937.91,-53.7659 1954.71,-61.5227\"/>\r\n",
       "<polygon fill=\"black\" stroke=\"black\" points=\"1953.58,-64.8569 1964.12,-65.8721 1956.51,-58.5018 1953.58,-64.8569\"/>\r\n",
       "</g>\r\n",
       "<!-- v69 -->\r\n",
       "<g id=\"node75\" class=\"node\"><title>v69</title>\r\n",
       "<polygon fill=\"none\" stroke=\"black\" points=\"1994.58,-111.621 2013.23,-129.621 1994.58,-147.621 1964.39,-147.604 1964.39,-111.637 1994.58,-111.621\"/>\r\n",
       "<text text-anchor=\"middle\" x=\"1986.23\" y=\"-125.921\" font-family=\"Times New Roman,serif\" font-size=\"14.00\">∧̅</text>\r\n",
       "</g>\r\n",
       "<!-- v61&#45;&gt;v69 -->\r\n",
       "<g id=\"edge129\" class=\"edge\"><title>v61&#45;&gt;v69</title>\r\n",
       "<path fill=\"none\" stroke=\"black\" d=\"M1896.56,-44.5352C1908.25,-59.9804 1927.82,-84.3639 1947.63,-102.621 1950.25,-105.036 1953.09,-107.425 1956,-109.724\"/>\r\n",
       "<polygon fill=\"black\" stroke=\"black\" points=\"1954.13,-112.703 1964.23,-115.912 1958.34,-107.107 1954.13,-112.703\"/>\r\n",
       "</g>\r\n",
       "<!-- v64 -->\r\n",
       "<g id=\"node69\" class=\"node\"><title>v64</title>\r\n",
       "<polygon fill=\"none\" stroke=\"black\" points=\"2096.18,-57.6205 2114.84,-75.6205 2096.18,-93.6205 2065.99,-93.6037 2065.99,-57.6373 2096.18,-57.6205\"/>\r\n",
       "<text text-anchor=\"middle\" x=\"2087.84\" y=\"-71.9205\" font-family=\"Times New Roman,serif\" font-size=\"14.00\">∧̅</text>\r\n",
       "</g>\r\n",
       "<!-- v62&#45;&gt;v64 -->\r\n",
       "<g id=\"edge117\" class=\"edge\"><title>v62&#45;&gt;v64</title>\r\n",
       "<path fill=\"none\" stroke=\"black\" d=\"M2004.13,-30.7809C2018.46,-38.5499 2039.37,-49.8858 2056.58,-59.2157\"/>\r\n",
       "<polygon fill=\"black\" stroke=\"black\" points=\"2055.23,-62.4679 2065.69,-64.1572 2058.57,-56.3141 2055.23,-62.4679\"/>\r\n",
       "</g>\r\n",
       "<!-- v63&#45;&gt;v64 -->\r\n",
       "<g id=\"edge118\" class=\"edge\"><title>v63&#45;&gt;v64</title>\r\n",
       "<path fill=\"none\" stroke=\"black\" d=\"M2013.4,-75.6205C2026.32,-75.6205 2042,-75.6205 2055.54,-75.6205\"/>\r\n",
       "<polygon fill=\"black\" stroke=\"black\" points=\"2055.86,-79.1206 2065.86,-75.6205 2055.86,-72.1206 2055.86,-79.1206\"/>\r\n",
       "</g>\r\n",
       "<!-- v64&#45;&gt;v65 -->\r\n",
       "<g id=\"edge119\" class=\"edge\"><title>v64&#45;&gt;v65</title>\r\n",
       "<path fill=\"none\" stroke=\"black\" d=\"M2102.35,-88.1225C2106.64,-92.4715 2111.2,-97.5388 2114.84,-102.621 2135.19,-131.078 2129.91,-144.583 2150.84,-172.621 2153.59,-176.306 2156.73,-179.948 2160,-183.419\"/>\r\n",
       "<polygon fill=\"black\" stroke=\"black\" points=\"2157.72,-186.087 2167.26,-190.693 2162.67,-181.142 2157.72,-186.087\"/>\r\n",
       "</g>\r\n",
       "<!-- v66 -->\r\n",
       "<g id=\"node71\" class=\"node\"><title>v66</title>\r\n",
       "<polygon fill=\"none\" stroke=\"black\" points=\"2299.39,-161.621 2318.05,-179.621 2299.39,-197.621 2269.2,-197.604 2269.2,-161.637 2299.39,-161.621\"/>\r\n",
       "<text text-anchor=\"middle\" x=\"2291.05\" y=\"-175.921\" font-family=\"Times New Roman,serif\" font-size=\"14.00\">∧̅</text>\r\n",
       "</g>\r\n",
       "<!-- v64&#45;&gt;v66 -->\r\n",
       "<g id=\"edge121\" class=\"edge\"><title>v64&#45;&gt;v66</title>\r\n",
       "<path fill=\"none\" stroke=\"black\" d=\"M2111.4,-79.1733C2140.11,-84.4325 2190.48,-96.1808 2228.05,-118.621 2243.47,-127.831 2257.94,-141.651 2269.02,-153.809\"/>\r\n",
       "<polygon fill=\"black\" stroke=\"black\" points=\"2266.55,-156.301 2275.79,-161.493 2271.81,-151.675 2266.55,-156.301\"/>\r\n",
       "</g>\r\n",
       "<!-- v65&#45;&gt;v66 -->\r\n",
       "<g id=\"edge122\" class=\"edge\"><title>v65&#45;&gt;v66</title>\r\n",
       "<path fill=\"none\" stroke=\"black\" d=\"M2210.6,-202.752C2224.49,-198.706 2243.23,-193.251 2259.02,-188.654\"/>\r\n",
       "<polygon fill=\"black\" stroke=\"black\" points=\"2260.27,-191.937 2268.89,-185.781 2258.31,-185.216 2260.27,-191.937\"/>\r\n",
       "</g>\r\n",
       "<!-- v65&#45;&gt;v67 -->\r\n",
       "<g id=\"edge124\" class=\"edge\"><title>v65&#45;&gt;v67</title>\r\n",
       "<path fill=\"none\" stroke=\"black\" d=\"M2211.08,-213.801C2225.01,-217.297 2243.64,-221.972 2259.3,-225.905\"/>\r\n",
       "<polygon fill=\"black\" stroke=\"black\" points=\"2258.54,-229.321 2269.09,-228.361 2260.24,-222.532 2258.54,-229.321\"/>\r\n",
       "</g>\r\n",
       "<!-- v76 -->\r\n",
       "<g id=\"node73\" class=\"node\"><title>v76</title>\r\n",
       "<polygon fill=\"none\" stroke=\"black\" points=\"2353.94,-206.621 2392.65,-188.621 2431.36,-206.621 2392.65,-224.621 2353.94,-206.621\"/>\r\n",
       "<text text-anchor=\"middle\" x=\"2392.65\" y=\"-202.921\" font-family=\"Times New Roman,serif\" font-size=\"14.00\" fill=\"red\">Y[4]</text>\r\n",
       "</g>\r\n",
       "<!-- v66&#45;&gt;v76 -->\r\n",
       "<g id=\"edge125\" class=\"edge\"><title>v66&#45;&gt;v76</title>\r\n",
       "<path fill=\"none\" stroke=\"black\" d=\"M2312.68,-185.215C2325.65,-188.729 2342.68,-193.346 2357.61,-197.393\"/>\r\n",
       "<polygon fill=\"black\" stroke=\"black\" points=\"2356.96,-200.844 2367.53,-200.082 2358.8,-194.088 2356.96,-200.844\"/>\r\n",
       "</g>\r\n",
       "<!-- v67&#45;&gt;v76 -->\r\n",
       "<g id=\"edge126\" class=\"edge\"><title>v67&#45;&gt;v76</title>\r\n",
       "<path fill=\"none\" stroke=\"black\" d=\"M2312.68,-228.026C2325.65,-224.512 2342.68,-219.895 2357.61,-215.848\"/>\r\n",
       "<polygon fill=\"black\" stroke=\"black\" points=\"2358.8,-219.153 2367.53,-213.159 2356.96,-212.397 2358.8,-219.153\"/>\r\n",
       "</g>\r\n",
       "<!-- v68&#45;&gt;v69 -->\r\n",
       "<g id=\"edge130\" class=\"edge\"><title>v68&#45;&gt;v69</title>\r\n",
       "<path fill=\"none\" stroke=\"black\" d=\"M1903.43,-167.397C1917.65,-160.829 1937.91,-151.475 1954.71,-143.718\"/>\r\n",
       "<polygon fill=\"black\" stroke=\"black\" points=\"1956.51,-146.739 1964.12,-139.369 1953.58,-140.384 1956.51,-146.739\"/>\r\n",
       "</g>\r\n",
       "<!-- v71 -->\r\n",
       "<g id=\"node77\" class=\"node\"><title>v71</title>\r\n",
       "<polygon fill=\"none\" stroke=\"black\" points=\"2096.18,-111.621 2114.84,-129.621 2096.18,-147.621 2065.99,-147.604 2065.99,-111.637 2096.18,-111.621\"/>\r\n",
       "<text text-anchor=\"middle\" x=\"2087.84\" y=\"-125.921\" font-family=\"Times New Roman,serif\" font-size=\"14.00\">∧̅</text>\r\n",
       "</g>\r\n",
       "<!-- v69&#45;&gt;v71 -->\r\n",
       "<g id=\"edge133\" class=\"edge\"><title>v69&#45;&gt;v71</title>\r\n",
       "<path fill=\"none\" stroke=\"black\" d=\"M2007.87,-124.028C2021.67,-122.782 2040.07,-122.542 2055.65,-123.308\"/>\r\n",
       "<polygon fill=\"black\" stroke=\"black\" points=\"2055.67,-126.818 2065.88,-123.999 2056.14,-119.834 2055.67,-126.818\"/>\r\n",
       "</g>\r\n",
       "<!-- v69&#45;&gt;v71 -->\r\n",
       "<g id=\"edge134\" class=\"edge\"><title>v69&#45;&gt;v71</title>\r\n",
       "<path fill=\"none\" stroke=\"black\" d=\"M2007.87,-135.213C2021.67,-136.459 2040.07,-136.699 2055.65,-135.933\"/>\r\n",
       "<polygon fill=\"black\" stroke=\"black\" points=\"2056.14,-139.407 2065.88,-135.242 2055.67,-132.423 2056.14,-139.407\"/>\r\n",
       "</g>\r\n",
       "<!-- v77 -->\r\n",
       "<g id=\"node78\" class=\"node\"><title>v77</title>\r\n",
       "<polygon fill=\"none\" stroke=\"black\" points=\"2150.73,-145.621 2189.44,-127.621 2228.15,-145.621 2189.44,-163.621 2150.73,-145.621\"/>\r\n",
       "<text text-anchor=\"middle\" x=\"2189.44\" y=\"-141.921\" font-family=\"Times New Roman,serif\" font-size=\"14.00\" fill=\"red\">Y[5]</text>\r\n",
       "</g>\r\n",
       "<!-- v70&#45;&gt;v77 -->\r\n",
       "<g id=\"edge136\" class=\"edge\"><title>v70&#45;&gt;v77</title>\r\n",
       "<path fill=\"none\" stroke=\"black\" d=\"M1900.46,-132.913C1912.46,-141.295 1930.17,-152.034 1947.63,-156.621 2018.75,-175.31 2105.69,-163.161 2153.23,-153.703\"/>\r\n",
       "<polygon fill=\"black\" stroke=\"black\" points=\"2154.23,-157.07 2163.31,-151.617 2152.81,-150.215 2154.23,-157.07\"/>\r\n",
       "</g>\r\n",
       "<!-- v71&#45;&gt;v77 -->\r\n",
       "<g id=\"edge135\" class=\"edge\"><title>v71&#45;&gt;v77</title>\r\n",
       "<path fill=\"none\" stroke=\"black\" d=\"M2111.44,-133.251C2122.85,-135.085 2137.01,-137.359 2150.07,-139.457\"/>\r\n",
       "<polygon fill=\"black\" stroke=\"black\" points=\"2149.8,-142.958 2160.23,-141.088 2150.91,-136.047 2149.8,-142.958\"/>\r\n",
       "</g>\r\n",
       "</g>\r\n",
       "</svg>\r\n"
      ],
      "text/plain": [
       "<graphviz.dot.Digraph at 0x2120cff5b00>"
      ]
     },
     "execution_count": 149,
     "metadata": {},
     "output_type": "execute_result"
    }
   ],
   "source": [
    "def add5(a0,a1,a2,a3,a4,b0,b1,b2,b3,b4):\n",
    "    return ADD(5,[a0,a1,a2,a3,a4],[b0,b1,b2,b3,b4])\n",
    "\n",
    "nandcircuit(add5,pruneit=True)"
   ]
  },
  {
   "cell_type": "code",
   "execution_count": 150,
   "metadata": {
    "slideshow": {
     "slide_type": "slide"
    }
   },
   "outputs": [
    {
     "data": {
      "text/plain": [
       "104"
      ]
     },
     "execution_count": 150,
     "metadata": {},
     "output_type": "execute_result"
    }
   ],
   "source": [
    "len(nandcode(add5).split('\\n'))"
   ]
  },
  {
   "cell_type": "markdown",
   "metadata": {
    "slideshow": {
     "slide_type": "slide"
    }
   },
   "source": [
    "# Bottom line\n",
    "\n",
    "1. Can _mathematically define_ the notion of \"Program $P$ computes function $F$\", at least for _finite_ $F$.\n",
    "\n",
    "2. Can describe finite programs as either _circuits_ or _code_.\n",
    "\n",
    "3. Even this ultra simple programming language is strong enough to capture interesting algorithms. We can use the ideas of _abstraction_ and _composition_ to build complex programs from simple ones."
   ]
  },
  {
   "cell_type": "markdown",
   "metadata": {
    "slideshow": {
     "slide_type": "slide"
    }
   },
   "source": [
    "## Next up\n",
    "\n",
    "__First Major Theorem:__ For every $F:\\{0,1\\}^n \\rightarrow \\{0,1\\}^m$, there exists a NAND program $P$ that computes $F$."
   ]
  },
  {
   "cell_type": "markdown",
   "metadata": {
    "slideshow": {
     "slide_type": "fragment"
    }
   },
   "source": [
    "__We show:__ There is a program $P$ using $O(\\frac{m\\cdot 2^n}{n})$ operations."
   ]
  },
  {
   "cell_type": "markdown",
   "metadata": {
    "slideshow": {
     "slide_type": "fragment"
    }
   },
   "source": [
    "__Next next lecture:__  There exists _some_ $F:\\{0,1\\}^n \\rightarrow \\{0,1\\}^m$, such that the shortest program $P$ to compute $F$ requires $\\Omega(\\frac{m \\cdot 2^n}{n})$ operations"
   ]
  }
 ],
 "metadata": {
  "celltoolbar": "Slideshow",
  "kernelspec": {
   "display_name": "Python 3",
   "language": "python",
   "name": "python3"
  },
  "language_info": {
   "codemirror_mode": {
    "name": "ipython",
    "version": 3
   },
   "file_extension": ".py",
   "mimetype": "text/x-python",
   "name": "python",
   "nbconvert_exporter": "python",
   "pygments_lexer": "ipython3",
   "version": "3.7.2"
  }
 },
 "nbformat": 4,
 "nbformat_minor": 2
}
