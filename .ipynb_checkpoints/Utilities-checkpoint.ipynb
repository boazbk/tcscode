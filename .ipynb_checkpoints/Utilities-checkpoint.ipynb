{
 "cells": [
  {
   "cell_type": "markdown",
   "metadata": {},
   "source": [
    "# Utility code"
   ]
  },
  {
   "cell_type": "markdown",
   "metadata": {},
   "source": [
    "Some utility code for **Introduction to Theoretical Computer Science**"
   ]
  },
  {
   "cell_type": "markdown",
   "metadata": {},
   "source": [
    "### Parse programs"
   ]
  },
  {
   "cell_type": "code",
   "execution_count": 22,
   "metadata": {},
   "outputs": [],
   "source": [
    "def parseline(line, numargs = 0):\n",
    "    \"\"\"Parse a line of the form foo = 'OP( bar1, bar2, bar3)'\n",
    "       to ['foo','OP','bar1','bar2','bar2'].\n",
    "       If numargs > number of arguments in line then add empty strings to the list as needed.\"\"\"\n",
    "    i = line.find(\"=\")\n",
    "    j = line.find(\"(\")\n",
    "    k = line.find(\")\")\n",
    "    if i<0 or j<0 or k<0: raise Exception(f\"Line not formatted properly: {line}\")\n",
    "    args = [a.strip() for a in line[j+1:k].split(\",\")]\n",
    "    if len(args)<numargs: args += [\"\"]*(numargs-len(args))\n",
    "    return [line[:i].strip() , line[i+1:j].strip()] + args\n",
    "        "
   ]
  },
  {
   "cell_type": "code",
   "execution_count": 23,
   "metadata": {},
   "outputs": [
    {
     "data": {
      "text/plain": [
       "['foo', 'NOT', 'blah', '']"
      ]
     },
     "execution_count": 23,
     "metadata": {},
     "output_type": "execute_result"
    }
   ],
   "source": [
    "parseline(\"foo = NOT( blah)\",2)"
   ]
  },
  {
   "cell_type": "markdown",
   "metadata": {},
   "source": [
    "## Drawing circuits"
   ]
  },
  {
   "cell_type": "code",
   "execution_count": 24,
   "metadata": {},
   "outputs": [],
   "source": [
    "import graphviz\n",
    "from graphviz import Graph\n",
    "from graphviz import Digraph"
   ]
  },
  {
   "cell_type": "code",
   "execution_count": 25,
   "metadata": {},
   "outputs": [],
   "source": [
    "class Circuit:\n",
    "    \"\"\"Class for modelling Boolean Circuits. Allows circuits with arbitrary gates, including rendering and evaluating.\"\"\"\n",
    "    \n",
    "    def __init__(self, n=0):\n",
    "        self.nodes = {}\n",
    "        self.in_neighbors = {}\n",
    "        self.counter = 0\n",
    "        self.outputs = {}\n",
    "        self.values = {}\n",
    "        self.X  = {}\n",
    "        self.setinputs(n)\n",
    "    \n",
    "    def setinputs(self,n):\n",
    "        \"\"\"Set number of inputs to n (increases number was smaller than n before, otherwise does nothing.)\"\"\"\n",
    "        for i in range(n): \n",
    "            self.nodes[f\"input_{i}\"] = (\"INPUT\",i)\n",
    "            self.X[i] = f\"input_{i}\"\n",
    "            self.in_neighbors[f\"input_{i}\"] = []\n",
    "        \n",
    "    \n",
    "    def gate(self,op,*inputs):\n",
    "        \"\"\"Add a new gate.\"\"\"\n",
    "        label = f\"gate_{self.counter}\"\n",
    "        self.nodes[label] = (\"GATE\",op)\n",
    "        self.in_neighbors[label] = inputs\n",
    "        self.counter += 1\n",
    "        return label\n",
    "    \n",
    "    def output(self,gate,j):\n",
    "        \"\"\"Designate a gate as an output gate\"\"\"\n",
    "        self.outputs[gate] = j\n",
    "    \n",
    "    def evalnode(self,node,X):\n",
    "        \"\"\"Evaluate the value of a node node with respect to a certain input assignment.\"\"\"\n",
    "        if node in self.values: return self.values[node]\n",
    "        if self.nodes[node][0]==\"INPUT\": \n",
    "            val = X[self.nodes[node][1]]\n",
    "        else:\n",
    "            val =  self.nodes[node][1](*[self.evalnode(u,X) for u in self.in_neighbors[node]])\n",
    "        self.values[node] = val\n",
    "        return val\n",
    "    \n",
    "    def __call__(self,*X):\n",
    "        \"\"\"Evaluate circuit on an input\"\"\"\n",
    "        if isinstance(X, str):\n",
    "            X = [int(X[i]) for i in range(len(X))]\n",
    "            \n",
    "        if len(X) != len(self.X): raise Exception(\"Mismatched number of inputs.\")\n",
    "        self.values = {}\n",
    "        Y = {}\n",
    "        m = 0\n",
    "        for o,j in self.outputs.items():\n",
    "            Y[j]= self.evalnode(o,X)\n",
    "            if j>m: m=j\n",
    "        return [Y[j] for j in range(m+1)]\n",
    "    \n",
    "    def render_eval(self,*X):\n",
    "        \"\"\"Render evaluated circuit on input X\"\"\"\n",
    "        y = self(*X)\n",
    "        return self.graph(self.values)\n",
    "\n",
    "    def _repr_svg_(self): return self.graph()._repr_svg_()\n",
    "    \n",
    "    def opname(self,op):\n",
    "        names = {\"AND\":\"∧\", \"OR\":\"∨\", \"NOT\":\"¬\", \"NAND\":\"¬∧\"}\n",
    "        if op in names: return names[op]\n",
    "        return op\n",
    "    \n",
    "    def graph(self, vals=None,size=\"10,5\"):\n",
    "        WIDTH_BASE = 0.5\n",
    "        \"\"\"Return representation of circuit as a graph.\"\"\"\n",
    "        \n",
    "        G =  Digraph(graph_attr= {\"rankdir\":\"LR\", \"size\":size,\"ratio\":\"fill\"},node_attr={\"fixedsize\":\"true\"},strict=False) \n",
    "        \n",
    "        # Start with inputs\n",
    "        with G.subgraph(name='inputs', graph_attr={'rank':'same'}) as c:\n",
    "            for (key,node) in self.nodes.items():\n",
    "                if node[0] == \"INPUT\":\n",
    "                    label  = f\"X[{node[1]}]\"\n",
    "                    fontcolor='blue'\n",
    "                    shape = 'circle'\n",
    "                    width = WIDTH_BASE\n",
    "                    if vals and key in vals: \n",
    "                        label += f\"<br/><font color='green' face='monospace'><B>{vals[key]}</B></font>\"\n",
    "                        # width += WIDTH_BASE\n",
    "                    label = f\"< {label} >\"\n",
    "                    c.node(key,label=label,fontcolor=fontcolor, shape=shape,width=f\"{width}\",orientation=\"90\",fontsize=\"8\")\n",
    "            \n",
    "        # Then gates\n",
    "        for (key,node) in self.nodes.items():\n",
    "            if node[0] == \"INPUT\": continue\n",
    "            label = self.opname(node[1].__name__)\n",
    "            fontcolor='black'\n",
    "            shape='invhouse'\n",
    "            width = WIDTH_BASE\n",
    "            if key in self.outputs:\n",
    "                label = f\"{label}<font color='red'>→Y[{self.outputs[key]}]</font>\"\n",
    "                width += WIDTH_BASE\n",
    "            if vals and key in vals: \n",
    "                label += f\"<br/><font color='green' face='monospace'><B>{vals[key]}</B></font>\"\n",
    "                # width += WIDTH_BASE\n",
    "            \n",
    "            label = f\"<{label}>\"\n",
    "                \n",
    "            G.node(key,label=label,fontcolor=fontcolor ,width=f\"{width}\",shape=shape,orientation=\"90\",fontsize=\"8\")\n",
    "            for v in self.in_neighbors[key]:\n",
    "                G.edge(v,key)\n",
    "            \n",
    "        return G"
   ]
  },
  {
   "cell_type": "code",
   "execution_count": null,
   "metadata": {},
   "outputs": [],
   "source": []
  },
  {
   "cell_type": "code",
   "execution_count": 26,
   "metadata": {},
   "outputs": [],
   "source": [
    "def NAND(a,b): return 1 - a*b"
   ]
  },
  {
   "cell_type": "code",
   "execution_count": 27,
   "metadata": {},
   "outputs": [
    {
     "data": {
      "image/svg+xml": [
       "<?xml version=\"1.0\" encoding=\"UTF-8\" standalone=\"no\"?>\r\n",
       "<!DOCTYPE svg PUBLIC \"-//W3C//DTD SVG 1.1//EN\"\r\n",
       " \"http://www.w3.org/Graphics/SVG/1.1/DTD/svg11.dtd\">\r\n",
       "<!-- Generated by graphviz version 2.38.0 (20140413.2041)\r\n",
       " -->\r\n",
       "<!-- Title: %3 Pages: 1 -->\r\n",
       "<svg width=\"712pt\" height=\"360pt\"\r\n",
       " viewBox=\"0.00 0.00 712.17 360.00\" xmlns=\"http://www.w3.org/2000/svg\" xmlns:xlink=\"http://www.w3.org/1999/xlink\">\r\n",
       "<g id=\"graph0\" class=\"graph\" transform=\"scale(0.978261 0.978261) rotate(0) translate(4 364)\">\r\n",
       "<title>%3</title>\r\n",
       "<polygon fill=\"white\" stroke=\"none\" points=\"-4,4 -4,-364 724,-364 724,4 -4,4\"/>\r\n",
       "<!-- input_0 -->\r\n",
       "<g id=\"node1\" class=\"node\"><title>input_0</title>\r\n",
       "<ellipse fill=\"none\" stroke=\"black\" cx=\"45\" cy=\"-180.5\" rx=\"18\" ry=\"18\"/>\r\n",
       "<text text-anchor=\"start\" x=\"34\" y=\"-178.6\" font-family=\"Times New Roman,serif\" font-size=\"8.00\" fill=\"blue\"> X[0] </text>\r\n",
       "</g>\r\n",
       "<!-- gate_0 -->\r\n",
       "<g id=\"node4\" class=\"node\"><title>gate_0</title>\r\n",
       "<polygon fill=\"none\" stroke=\"black\" points=\"230.562,-229.5 243,-247.5 230.562,-265.5 210.438,-265.483 210.438,-229.517 230.562,-229.5\"/>\r\n",
       "<text text-anchor=\"start\" x=\"213\" y=\"-245.6\" font-family=\"Times New Roman,serif\" font-size=\"8.00\">¬∧</text>\r\n",
       "</g>\r\n",
       "<!-- input_0&#45;&gt;gate_0 -->\r\n",
       "<g id=\"edge1\" class=\"edge\"><title>input_0&#45;&gt;gate_0</title>\r\n",
       "<path fill=\"none\" stroke=\"black\" d=\"M62.1103,-186.564C93.7129,-198.459 163.944,-224.895 200.643,-238.708\"/>\r\n",
       "<polygon fill=\"black\" stroke=\"black\" points=\"199.452,-242 210.044,-242.247 201.918,-235.449 199.452,-242\"/>\r\n",
       "</g>\r\n",
       "<!-- gate_1 -->\r\n",
       "<g id=\"node5\" class=\"node\"><title>gate_1</title>\r\n",
       "<polygon fill=\"none\" stroke=\"black\" points=\"230.562,-94.5 243,-112.5 230.562,-130.5 210.438,-130.483 210.438,-94.5168 230.562,-94.5\"/>\r\n",
       "<text text-anchor=\"start\" x=\"213\" y=\"-110.6\" font-family=\"Times New Roman,serif\" font-size=\"8.00\">¬∧</text>\r\n",
       "</g>\r\n",
       "<!-- input_0&#45;&gt;gate_1 -->\r\n",
       "<g id=\"edge3\" class=\"edge\"><title>input_0&#45;&gt;gate_1</title>\r\n",
       "<path fill=\"none\" stroke=\"black\" d=\"M62.1103,-174.346C93.7129,-162.273 163.944,-135.443 200.643,-121.423\"/>\r\n",
       "<polygon fill=\"black\" stroke=\"black\" points=\"201.952,-124.67 210.044,-117.831 199.454,-118.131 201.952,-124.67\"/>\r\n",
       "</g>\r\n",
       "<!-- input_1 -->\r\n",
       "<g id=\"node2\" class=\"node\"><title>input_1</title>\r\n",
       "<ellipse fill=\"none\" stroke=\"black\" cx=\"45\" cy=\"-315.5\" rx=\"18\" ry=\"18\"/>\r\n",
       "<text text-anchor=\"start\" x=\"34\" y=\"-313.6\" font-family=\"Times New Roman,serif\" font-size=\"8.00\" fill=\"blue\"> X[1] </text>\r\n",
       "</g>\r\n",
       "<!-- input_1&#45;&gt;gate_0 -->\r\n",
       "<g id=\"edge2\" class=\"edge\"><title>input_1&#45;&gt;gate_0</title>\r\n",
       "<path fill=\"none\" stroke=\"black\" d=\"M62.1103,-309.346C93.7129,-297.273 163.944,-270.443 200.643,-256.423\"/>\r\n",
       "<polygon fill=\"black\" stroke=\"black\" points=\"201.952,-259.67 210.044,-252.831 199.454,-253.131 201.952,-259.67\"/>\r\n",
       "</g>\r\n",
       "<!-- input_2 -->\r\n",
       "<g id=\"node3\" class=\"node\"><title>input_2</title>\r\n",
       "<ellipse fill=\"none\" stroke=\"black\" cx=\"45\" cy=\"-44.5\" rx=\"18\" ry=\"18\"/>\r\n",
       "<text text-anchor=\"start\" x=\"34\" y=\"-42.6\" font-family=\"Times New Roman,serif\" font-size=\"8.00\" fill=\"blue\"> X[2] </text>\r\n",
       "</g>\r\n",
       "<!-- input_2&#45;&gt;gate_1 -->\r\n",
       "<g id=\"edge4\" class=\"edge\"><title>input_2&#45;&gt;gate_1</title>\r\n",
       "<path fill=\"none\" stroke=\"black\" d=\"M62.1103,-50.6545C93.7129,-62.7274 163.944,-89.5574 200.643,-103.577\"/>\r\n",
       "<polygon fill=\"black\" stroke=\"black\" points=\"199.454,-106.869 210.044,-107.169 201.952,-100.33 199.454,-106.869\"/>\r\n",
       "</g>\r\n",
       "<!-- gate_2 -->\r\n",
       "<g id=\"node6\" class=\"node\"><title>gate_2</title>\r\n",
       "<polygon fill=\"none\" stroke=\"black\" points=\"410.562,-162.5 423,-180.5 410.562,-198.5 390.438,-198.483 390.438,-162.517 410.562,-162.5\"/>\r\n",
       "<text text-anchor=\"start\" x=\"393\" y=\"-178.6\" font-family=\"Times New Roman,serif\" font-size=\"8.00\">¬∧</text>\r\n",
       "</g>\r\n",
       "<!-- gate_0&#45;&gt;gate_2 -->\r\n",
       "<g id=\"edge5\" class=\"edge\"><title>gate_0&#45;&gt;gate_2</title>\r\n",
       "<path fill=\"none\" stroke=\"black\" d=\"M239.672,-242.354C269.883,-230.982 342.632,-203.599 380.381,-189.39\"/>\r\n",
       "<polygon fill=\"black\" stroke=\"black\" points=\"381.91,-192.555 390.036,-185.756 379.444,-186.003 381.91,-192.555\"/>\r\n",
       "</g>\r\n",
       "<!-- gate_1&#45;&gt;gate_2 -->\r\n",
       "<g id=\"edge6\" class=\"edge\"><title>gate_1&#45;&gt;gate_2</title>\r\n",
       "<path fill=\"none\" stroke=\"black\" d=\"M239.672,-117.723C269.883,-129.264 342.632,-157.056 380.381,-171.477\"/>\r\n",
       "<polygon fill=\"black\" stroke=\"black\" points=\"379.446,-174.866 390.036,-175.165 381.944,-168.327 379.446,-174.866\"/>\r\n",
       "</g>\r\n",
       "<!-- gate_3 -->\r\n",
       "<g id=\"node7\" class=\"node\"><title>gate_3</title>\r\n",
       "<polygon fill=\"none\" stroke=\"black\" points=\"641.125,-162.5 666,-180.5 641.125,-198.5 600.875,-198.483 600.875,-162.517 641.125,-162.5\"/>\r\n",
       "<text text-anchor=\"start\" x=\"605.5\" y=\"-179.6\" font-family=\"Times New Roman,serif\" font-size=\"8.00\">¬∧</text>\r\n",
       "<text text-anchor=\"start\" x=\"629.5\" y=\"-179.6\" font-family=\"Times New Roman,serif\" font-size=\"8.00\" fill=\"red\">→Y[0]</text>\r\n",
       "</g>\r\n",
       "<!-- gate_2&#45;&gt;gate_3 -->\r\n",
       "<g id=\"edge7\" class=\"edge\"><title>gate_2&#45;&gt;gate_3</title>\r\n",
       "<path fill=\"none\" stroke=\"black\" d=\"M420.632,-176.94C454.736,-173.352 540.419,-172.79 590.65,-175.257\"/>\r\n",
       "<polygon fill=\"black\" stroke=\"black\" points=\"590.618,-178.761 600.799,-175.83 591.012,-171.772 590.618,-178.761\"/>\r\n",
       "</g>\r\n",
       "<!-- gate_2&#45;&gt;gate_3 -->\r\n",
       "<g id=\"edge8\" class=\"edge\"><title>gate_2&#45;&gt;gate_3</title>\r\n",
       "<path fill=\"none\" stroke=\"black\" d=\"M420.632,-184.06C454.736,-187.648 540.419,-188.21 590.65,-185.743\"/>\r\n",
       "<polygon fill=\"black\" stroke=\"black\" points=\"591.012,-189.228 600.799,-185.17 590.618,-182.239 591.012,-189.228\"/>\r\n",
       "</g>\r\n",
       "</g>\r\n",
       "</svg>\r\n"
      ],
      "text/plain": [
       "<__main__.Circuit at 0x26520479898>"
      ]
     },
     "execution_count": 27,
     "metadata": {},
     "output_type": "execute_result"
    }
   ],
   "source": [
    "C = Circuit(3)\n",
    "g = C.gate(NAND,C.X[0],C.X[1])\n",
    "h = C.gate(NAND,C.X[0],C.X[2])\n",
    "z = C.gate(NAND,g,h)\n",
    "y = C.gate(NAND,z,z)\n",
    "C.output(y,0)\n",
    "C"
   ]
  },
  {
   "cell_type": "code",
   "execution_count": 28,
   "metadata": {},
   "outputs": [
    {
     "data": {
      "image/svg+xml": [
       "<?xml version=\"1.0\" encoding=\"UTF-8\" standalone=\"no\"?>\r\n",
       "<!DOCTYPE svg PUBLIC \"-//W3C//DTD SVG 1.1//EN\"\r\n",
       " \"http://www.w3.org/Graphics/SVG/1.1/DTD/svg11.dtd\">\r\n",
       "<!-- Generated by graphviz version 2.38.0 (20140413.2041)\r\n",
       " -->\r\n",
       "<!-- Title: %3 Pages: 1 -->\r\n",
       "<svg width=\"712pt\" height=\"360pt\"\r\n",
       " viewBox=\"0.00 0.00 712.17 360.00\" xmlns=\"http://www.w3.org/2000/svg\" xmlns:xlink=\"http://www.w3.org/1999/xlink\">\r\n",
       "<g id=\"graph0\" class=\"graph\" transform=\"scale(0.978261 0.978261) rotate(0) translate(4 364)\">\r\n",
       "<title>%3</title>\r\n",
       "<polygon fill=\"white\" stroke=\"none\" points=\"-4,4 -4,-364 724,-364 724,4 -4,4\"/>\r\n",
       "<!-- input_0 -->\r\n",
       "<g id=\"node1\" class=\"node\"><title>input_0</title>\r\n",
       "<ellipse fill=\"none\" stroke=\"black\" cx=\"45\" cy=\"-180.5\" rx=\"18\" ry=\"18\"/>\r\n",
       "<text text-anchor=\"start\" x=\"35.5\" y=\"-183.1\" font-family=\"Times New Roman,serif\" font-size=\"8.00\" fill=\"blue\"> X[0]</text>\r\n",
       "<text text-anchor=\"start\" x=\"40.5\" y=\"-175.1\" font-family=\"monospace\" font-weight=\"bold\" font-size=\"8.00\" fill=\"green\">1</text>\r\n",
       "<text text-anchor=\"start\" x=\"46.5\" y=\"-175.1\" font-family=\"Times New Roman,serif\" font-size=\"8.00\" fill=\"blue\"> </text>\r\n",
       "</g>\r\n",
       "<!-- gate_0 -->\r\n",
       "<g id=\"node4\" class=\"node\"><title>gate_0</title>\r\n",
       "<polygon fill=\"none\" stroke=\"black\" points=\"230.562,-229.5 243,-247.5 230.562,-265.5 210.438,-265.483 210.438,-229.517 230.562,-229.5\"/>\r\n",
       "<text text-anchor=\"start\" x=\"213\" y=\"-250.1\" font-family=\"Times New Roman,serif\" font-size=\"8.00\">¬∧</text>\r\n",
       "<text text-anchor=\"start\" x=\"222\" y=\"-242.1\" font-family=\"monospace\" font-weight=\"bold\" font-size=\"8.00\" fill=\"green\">0</text>\r\n",
       "</g>\r\n",
       "<!-- input_0&#45;&gt;gate_0 -->\r\n",
       "<g id=\"edge1\" class=\"edge\"><title>input_0&#45;&gt;gate_0</title>\r\n",
       "<path fill=\"none\" stroke=\"black\" d=\"M62.1103,-186.564C93.7129,-198.459 163.944,-224.895 200.643,-238.708\"/>\r\n",
       "<polygon fill=\"black\" stroke=\"black\" points=\"199.452,-242 210.044,-242.247 201.918,-235.449 199.452,-242\"/>\r\n",
       "</g>\r\n",
       "<!-- gate_1 -->\r\n",
       "<g id=\"node5\" class=\"node\"><title>gate_1</title>\r\n",
       "<polygon fill=\"none\" stroke=\"black\" points=\"230.562,-94.5 243,-112.5 230.562,-130.5 210.438,-130.483 210.438,-94.5168 230.562,-94.5\"/>\r\n",
       "<text text-anchor=\"start\" x=\"213\" y=\"-115.1\" font-family=\"Times New Roman,serif\" font-size=\"8.00\">¬∧</text>\r\n",
       "<text text-anchor=\"start\" x=\"222\" y=\"-107.1\" font-family=\"monospace\" font-weight=\"bold\" font-size=\"8.00\" fill=\"green\">0</text>\r\n",
       "</g>\r\n",
       "<!-- input_0&#45;&gt;gate_1 -->\r\n",
       "<g id=\"edge3\" class=\"edge\"><title>input_0&#45;&gt;gate_1</title>\r\n",
       "<path fill=\"none\" stroke=\"black\" d=\"M62.1103,-174.346C93.7129,-162.273 163.944,-135.443 200.643,-121.423\"/>\r\n",
       "<polygon fill=\"black\" stroke=\"black\" points=\"201.952,-124.67 210.044,-117.831 199.454,-118.131 201.952,-124.67\"/>\r\n",
       "</g>\r\n",
       "<!-- input_1 -->\r\n",
       "<g id=\"node2\" class=\"node\"><title>input_1</title>\r\n",
       "<ellipse fill=\"none\" stroke=\"black\" cx=\"45\" cy=\"-315.5\" rx=\"18\" ry=\"18\"/>\r\n",
       "<text text-anchor=\"start\" x=\"35.5\" y=\"-318.1\" font-family=\"Times New Roman,serif\" font-size=\"8.00\" fill=\"blue\"> X[1]</text>\r\n",
       "<text text-anchor=\"start\" x=\"40.5\" y=\"-310.1\" font-family=\"monospace\" font-weight=\"bold\" font-size=\"8.00\" fill=\"green\">1</text>\r\n",
       "<text text-anchor=\"start\" x=\"46.5\" y=\"-310.1\" font-family=\"Times New Roman,serif\" font-size=\"8.00\" fill=\"blue\"> </text>\r\n",
       "</g>\r\n",
       "<!-- input_1&#45;&gt;gate_0 -->\r\n",
       "<g id=\"edge2\" class=\"edge\"><title>input_1&#45;&gt;gate_0</title>\r\n",
       "<path fill=\"none\" stroke=\"black\" d=\"M62.1103,-309.346C93.7129,-297.273 163.944,-270.443 200.643,-256.423\"/>\r\n",
       "<polygon fill=\"black\" stroke=\"black\" points=\"201.952,-259.67 210.044,-252.831 199.454,-253.131 201.952,-259.67\"/>\r\n",
       "</g>\r\n",
       "<!-- input_2 -->\r\n",
       "<g id=\"node3\" class=\"node\"><title>input_2</title>\r\n",
       "<ellipse fill=\"none\" stroke=\"black\" cx=\"45\" cy=\"-44.5\" rx=\"18\" ry=\"18\"/>\r\n",
       "<text text-anchor=\"start\" x=\"35.5\" y=\"-47.1\" font-family=\"Times New Roman,serif\" font-size=\"8.00\" fill=\"blue\"> X[2]</text>\r\n",
       "<text text-anchor=\"start\" x=\"40.5\" y=\"-39.1\" font-family=\"monospace\" font-weight=\"bold\" font-size=\"8.00\" fill=\"green\">1</text>\r\n",
       "<text text-anchor=\"start\" x=\"46.5\" y=\"-39.1\" font-family=\"Times New Roman,serif\" font-size=\"8.00\" fill=\"blue\"> </text>\r\n",
       "</g>\r\n",
       "<!-- input_2&#45;&gt;gate_1 -->\r\n",
       "<g id=\"edge4\" class=\"edge\"><title>input_2&#45;&gt;gate_1</title>\r\n",
       "<path fill=\"none\" stroke=\"black\" d=\"M62.1103,-50.6545C93.7129,-62.7274 163.944,-89.5574 200.643,-103.577\"/>\r\n",
       "<polygon fill=\"black\" stroke=\"black\" points=\"199.454,-106.869 210.044,-107.169 201.952,-100.33 199.454,-106.869\"/>\r\n",
       "</g>\r\n",
       "<!-- gate_2 -->\r\n",
       "<g id=\"node6\" class=\"node\"><title>gate_2</title>\r\n",
       "<polygon fill=\"none\" stroke=\"black\" points=\"410.562,-162.5 423,-180.5 410.562,-198.5 390.438,-198.483 390.438,-162.517 410.562,-162.5\"/>\r\n",
       "<text text-anchor=\"start\" x=\"393\" y=\"-183.1\" font-family=\"Times New Roman,serif\" font-size=\"8.00\">¬∧</text>\r\n",
       "<text text-anchor=\"start\" x=\"402\" y=\"-175.1\" font-family=\"monospace\" font-weight=\"bold\" font-size=\"8.00\" fill=\"green\">1</text>\r\n",
       "</g>\r\n",
       "<!-- gate_0&#45;&gt;gate_2 -->\r\n",
       "<g id=\"edge5\" class=\"edge\"><title>gate_0&#45;&gt;gate_2</title>\r\n",
       "<path fill=\"none\" stroke=\"black\" d=\"M239.672,-242.354C269.883,-230.982 342.632,-203.599 380.381,-189.39\"/>\r\n",
       "<polygon fill=\"black\" stroke=\"black\" points=\"381.91,-192.555 390.036,-185.756 379.444,-186.003 381.91,-192.555\"/>\r\n",
       "</g>\r\n",
       "<!-- gate_1&#45;&gt;gate_2 -->\r\n",
       "<g id=\"edge6\" class=\"edge\"><title>gate_1&#45;&gt;gate_2</title>\r\n",
       "<path fill=\"none\" stroke=\"black\" d=\"M239.672,-117.723C269.883,-129.264 342.632,-157.056 380.381,-171.477\"/>\r\n",
       "<polygon fill=\"black\" stroke=\"black\" points=\"379.446,-174.866 390.036,-175.165 381.944,-168.327 379.446,-174.866\"/>\r\n",
       "</g>\r\n",
       "<!-- gate_3 -->\r\n",
       "<g id=\"node7\" class=\"node\"><title>gate_3</title>\r\n",
       "<polygon fill=\"none\" stroke=\"black\" points=\"641.125,-162.5 666,-180.5 641.125,-198.5 600.875,-198.483 600.875,-162.517 641.125,-162.5\"/>\r\n",
       "<text text-anchor=\"start\" x=\"605.5\" y=\"-183.1\" font-family=\"Times New Roman,serif\" font-size=\"8.00\">¬∧</text>\r\n",
       "<text text-anchor=\"start\" x=\"629.5\" y=\"-183.1\" font-family=\"Times New Roman,serif\" font-size=\"8.00\" fill=\"red\">→Y[0]</text>\r\n",
       "<text text-anchor=\"start\" x=\"627\" y=\"-175.1\" font-family=\"monospace\" font-weight=\"bold\" font-size=\"8.00\" fill=\"green\">0</text>\r\n",
       "</g>\r\n",
       "<!-- gate_2&#45;&gt;gate_3 -->\r\n",
       "<g id=\"edge7\" class=\"edge\"><title>gate_2&#45;&gt;gate_3</title>\r\n",
       "<path fill=\"none\" stroke=\"black\" d=\"M420.632,-176.94C454.736,-173.352 540.419,-172.79 590.65,-175.257\"/>\r\n",
       "<polygon fill=\"black\" stroke=\"black\" points=\"590.618,-178.761 600.799,-175.83 591.012,-171.772 590.618,-178.761\"/>\r\n",
       "</g>\r\n",
       "<!-- gate_2&#45;&gt;gate_3 -->\r\n",
       "<g id=\"edge8\" class=\"edge\"><title>gate_2&#45;&gt;gate_3</title>\r\n",
       "<path fill=\"none\" stroke=\"black\" d=\"M420.632,-184.06C454.736,-187.648 540.419,-188.21 590.65,-185.743\"/>\r\n",
       "<polygon fill=\"black\" stroke=\"black\" points=\"591.012,-189.228 600.799,-185.17 590.618,-182.239 591.012,-189.228\"/>\r\n",
       "</g>\r\n",
       "</g>\r\n",
       "</svg>\r\n"
      ],
      "text/plain": [
       "<graphviz.dot.Digraph at 0x265204784e0>"
      ]
     },
     "execution_count": 28,
     "metadata": {},
     "output_type": "execute_result"
    }
   ],
   "source": [
    "C.render_eval(1,1,1)"
   ]
  },
  {
   "cell_type": "code",
   "execution_count": 29,
   "metadata": {},
   "outputs": [],
   "source": [
    "import re\n",
    "def numinout(prog):\n",
    "    '''Compute the number of inputs and outputs of a NAND program, given as a string of source code.'''\n",
    "    n = max([int(s[2:-1]) for s in re.findall(r'X\\[\\d+\\]',prog)])+1\n",
    "    m = max([int(s[2:-1]) for s in re.findall(r'Y\\[\\d+\\]',prog)])+1\n",
    "    return n,m"
   ]
  },
  {
   "cell_type": "code",
   "execution_count": 30,
   "metadata": {},
   "outputs": [],
   "source": [
    "def prog2circuit(code,gateset=None):\n",
    "    \"\"\"Transform a straightline program into a circuit.\n",
    "       Takes as input the basic gates one uses (otherwise use all functions currently defined)\"\"\"\n",
    "    if not gateset: gateset = globals()\n",
    "    n,m = numinout(code) # helper function - extract number of inputs and outputs from code\n",
    "    C = Circuit(n) # create circuit with n inputs \n",
    "    \n",
    "    nodes = { f\"X[{i}]\" : C.X[i] for i in range(n) }\n",
    "    # initially we have n nodes corresponding to n inputs.\n",
    "    \n",
    "    for line in code.split(\"\\n\"): # every line is translated to a new gate\n",
    "        if not line: continue\n",
    "        foo,op,bar,blah = parseline(line,2) \n",
    "        # parseline takes \"foo = OP(bar,blah)\" to the list [\"foo\",\"OP\",\"bar\",\"blah\"]\n",
    "        if blah: g = C.gate(gateset[op],nodes[bar],nodes[blah])\n",
    "        else: g = C.gate(gateset[op],nodes[bar])\n",
    "        nodes[foo] = g\n",
    "        if foo[0]==\"Y\": C.output(g,int(foo[2:-1]))\n",
    "    \n",
    "    return C\n",
    "    "
   ]
  },
  {
   "cell_type": "code",
   "execution_count": 31,
   "metadata": {},
   "outputs": [],
   "source": [
    "def circuit2prog(C):\n",
    "    \"\"\"Transform circuit to a program.\"\"\"\n",
    "    \n",
    "    code = \"\"\n",
    "    def key2var(key):\n",
    "        \"\"\"Helper function: translate  key identifying a node into a variable name\"\"\"\n",
    "        if key[:6]==\"input_\": return f\"X[{key[6:]}]\"\n",
    "        elif key in C.outputs: return f\"Y[{C.outputs[key]}]\"\n",
    "        return key\n",
    "\n",
    "    # every gate is translated into a line\n",
    "    for (key,n) in C.nodes.items(): \n",
    "        # we assume nodes are in topological ordering, otherwise  should layer first\n",
    "        if n[0]!=\"GATE\": continue  # ignore input (non gate) nodes\n",
    "        args = \",\".join(map(key2var,C.in_neighbors[key]))\n",
    "        code += f\"{key2var(key)} = {n[1].__name__}({args})\\n\"\n",
    "    \n",
    "    return code"
   ]
  },
  {
   "cell_type": "code",
   "execution_count": 32,
   "metadata": {},
   "outputs": [
    {
     "name": "stdout",
     "output_type": "stream",
     "text": [
      "gate_0 = NAND(X[0],X[1])\n",
      "gate_1 = NAND(X[0],X[2])\n",
      "gate_2 = NAND(gate_0,gate_1)\n",
      "Y[0] = NAND(gate_2,gate_2)\n",
      "\n"
     ]
    }
   ],
   "source": [
    "print(circuit2prog(C))"
   ]
  },
  {
   "cell_type": "code",
   "execution_count": 33,
   "metadata": {},
   "outputs": [],
   "source": [
    "prog = r\"\"\"\n",
    "temp = NAND(X[0],X[1])\n",
    "Y[0] = NAND(temp,temp)\"\"\"[1:]\n"
   ]
  },
  {
   "cell_type": "code",
   "execution_count": 34,
   "metadata": {},
   "outputs": [
    {
     "data": {
      "image/svg+xml": [
       "<?xml version=\"1.0\" encoding=\"UTF-8\" standalone=\"no\"?>\r\n",
       "<!DOCTYPE svg PUBLIC \"-//W3C//DTD SVG 1.1//EN\"\r\n",
       " \"http://www.w3.org/Graphics/SVG/1.1/DTD/svg11.dtd\">\r\n",
       "<!-- Generated by graphviz version 2.38.0 (20140413.2041)\r\n",
       " -->\r\n",
       "<!-- Title: %3 Pages: 1 -->\r\n",
       "<svg width=\"712pt\" height=\"360pt\"\r\n",
       " viewBox=\"0.00 0.00 712.17 360.00\" xmlns=\"http://www.w3.org/2000/svg\" xmlns:xlink=\"http://www.w3.org/1999/xlink\">\r\n",
       "<g id=\"graph0\" class=\"graph\" transform=\"scale(0.978261 0.978261) rotate(0) translate(4 364)\">\r\n",
       "<title>%3</title>\r\n",
       "<polygon fill=\"white\" stroke=\"none\" points=\"-4,4 -4,-364 724,-364 724,4 -4,4\"/>\r\n",
       "<!-- input_0 -->\r\n",
       "<g id=\"node1\" class=\"node\"><title>input_0</title>\r\n",
       "<ellipse fill=\"none\" stroke=\"black\" cx=\"60\" cy=\"-288\" rx=\"18\" ry=\"18\"/>\r\n",
       "<text text-anchor=\"start\" x=\"49\" y=\"-286.1\" font-family=\"Times New Roman,serif\" font-size=\"8.00\" fill=\"blue\"> X[0] </text>\r\n",
       "</g>\r\n",
       "<!-- gate_0 -->\r\n",
       "<g id=\"node3\" class=\"node\"><title>gate_0</title>\r\n",
       "<polygon fill=\"none\" stroke=\"black\" points=\"305.562,-162 318,-180 305.562,-198 285.438,-197.983 285.438,-162.017 305.562,-162\"/>\r\n",
       "<text text-anchor=\"start\" x=\"288\" y=\"-178.1\" font-family=\"Times New Roman,serif\" font-size=\"8.00\">¬∧</text>\r\n",
       "</g>\r\n",
       "<!-- input_0&#45;&gt;gate_0 -->\r\n",
       "<g id=\"edge1\" class=\"edge\"><title>input_0&#45;&gt;gate_0</title>\r\n",
       "<path fill=\"none\" stroke=\"black\" d=\"M76.6158,-280.914C117.552,-262.338 228.117,-212.166 276.177,-190.357\"/>\r\n",
       "<polygon fill=\"black\" stroke=\"black\" points=\"277.776,-193.475 285.436,-186.155 274.883,-187.1 277.776,-193.475\"/>\r\n",
       "</g>\r\n",
       "<!-- input_1 -->\r\n",
       "<g id=\"node2\" class=\"node\"><title>input_1</title>\r\n",
       "<ellipse fill=\"none\" stroke=\"black\" cx=\"60\" cy=\"-72\" rx=\"18\" ry=\"18\"/>\r\n",
       "<text text-anchor=\"start\" x=\"49\" y=\"-70.1\" font-family=\"Times New Roman,serif\" font-size=\"8.00\" fill=\"blue\"> X[1] </text>\r\n",
       "</g>\r\n",
       "<!-- input_1&#45;&gt;gate_0 -->\r\n",
       "<g id=\"edge2\" class=\"edge\"><title>input_1&#45;&gt;gate_0</title>\r\n",
       "<path fill=\"none\" stroke=\"black\" d=\"M76.6158,-79.0862C117.552,-97.6623 228.117,-147.834 276.177,-169.643\"/>\r\n",
       "<polygon fill=\"black\" stroke=\"black\" points=\"274.883,-172.9 285.436,-173.845 277.776,-166.525 274.883,-172.9\"/>\r\n",
       "</g>\r\n",
       "<!-- gate_1 -->\r\n",
       "<g id=\"node4\" class=\"node\"><title>gate_1</title>\r\n",
       "<polygon fill=\"none\" stroke=\"black\" points=\"611.125,-162 636,-180 611.125,-198 570.875,-197.983 570.875,-162.017 611.125,-162\"/>\r\n",
       "<text text-anchor=\"start\" x=\"575.5\" y=\"-179.1\" font-family=\"Times New Roman,serif\" font-size=\"8.00\">¬∧</text>\r\n",
       "<text text-anchor=\"start\" x=\"599.5\" y=\"-179.1\" font-family=\"Times New Roman,serif\" font-size=\"8.00\" fill=\"red\">→Y[0]</text>\r\n",
       "</g>\r\n",
       "<!-- gate_0&#45;&gt;gate_1 -->\r\n",
       "<g id=\"edge3\" class=\"edge\"><title>gate_0&#45;&gt;gate_1</title>\r\n",
       "<path fill=\"none\" stroke=\"black\" d=\"M316.188,-176.813C361.108,-172.638 494.324,-172.132 560.626,-175.296\"/>\r\n",
       "<polygon fill=\"black\" stroke=\"black\" points=\"560.496,-178.794 570.669,-175.836 560.871,-171.804 560.496,-178.794\"/>\r\n",
       "</g>\r\n",
       "<!-- gate_0&#45;&gt;gate_1 -->\r\n",
       "<g id=\"edge4\" class=\"edge\"><title>gate_0&#45;&gt;gate_1</title>\r\n",
       "<path fill=\"none\" stroke=\"black\" d=\"M316.188,-183.187C361.108,-187.362 494.324,-187.868 560.626,-184.704\"/>\r\n",
       "<polygon fill=\"black\" stroke=\"black\" points=\"560.871,-188.196 570.669,-184.164 560.496,-181.206 560.871,-188.196\"/>\r\n",
       "</g>\r\n",
       "</g>\r\n",
       "</svg>\r\n"
      ],
      "text/plain": [
       "<__main__.Circuit at 0x26520479630>"
      ]
     },
     "execution_count": 34,
     "metadata": {},
     "output_type": "execute_result"
    }
   ],
   "source": [
    "prog2circuit(prog)"
   ]
  },
  {
   "cell_type": "code",
   "execution_count": 109,
   "metadata": {},
   "outputs": [],
   "source": [
    "import re\n",
    "\n",
    "def getpositions(self):\n",
    "    G = self.graph()\n",
    "    text = G.pipe(format=\"plain\").decode(\"utf-8\")\n",
    "    positions = {}\n",
    "    for (key,node) in self.nodes.items():\n",
    "        m =  re.search(rf\"node {key} ([\\d]+(?:\\.[\\d]+)?) ([\\d]+(?:\\.[\\d]+)?)\",text)\n",
    "        positions[key]= (float(m.group(1)),float(m.group(2)))\n",
    "    return positions"
   ]
  },
  {
   "cell_type": "code",
   "execution_count": null,
   "metadata": {},
   "outputs": [],
   "source": []
  },
  {
   "cell_type": "markdown",
   "metadata": {},
   "source": [
    "## Schemdraw attempt"
   ]
  },
  {
   "cell_type": "markdown",
   "metadata": {},
   "source": [
    "```    \n",
    "    xy     : [x,y] starting coordiante.\n",
    "             Element drawn in current direction and default length.\n",
    "    endpts : [[x1,y1], [x2,y2]] start and end coordinates\n",
    "    to     : [x,y] end coordinate\n",
    "    tox    : x-value of end coordinate (y-value same as start)\n",
    "    toy    : y-value of end coordinate (x-value same as start)\n",
    "    l      : total length of element\n",
    "    zoom   : zoom/magnification for element (default=1)\n",
    "    anchor : 'xy' argument refers to this position within the element.\n",
    "             For example, an opamp can be anchored to 'in1', 'in2', or 'out'\n",
    "```"
   ]
  },
  {
   "cell_type": "code",
   "execution_count": 110,
   "metadata": {},
   "outputs": [],
   "source": [
    "# Use schemdraw to visualize circuits\n",
    "import SchemDraw as schem\n",
    "import SchemDraw.elements as e\n",
    "import SchemDraw.logic as l"
   ]
  },
  {
   "cell_type": "code",
   "execution_count": 144,
   "metadata": {},
   "outputs": [],
   "source": [
    "def schemdraw(self, myvals=None, filename = \"\"):\n",
    "        \"\"\"Visualize using Schemdraw.\"\"\"\n",
    "        MAXY = 30\n",
    "        INC  = 2.5\n",
    "        positions = getpositions(self)\n",
    "        for key in positions:\n",
    "            positions[key] = (positions[key][0]*1.2,positions[key][1]*1.5)\n",
    "        vals = None\n",
    "        if myvals:\n",
    "            self(*myvals)\n",
    "            vals = self.values\n",
    "            \n",
    "        G = schem.Drawing(unit=.5,fontsize=8)\n",
    "        elements = {}\n",
    "        gates = {\"AND\": l.AND2, \"OR\": l.OR2, \"NAND\": l.NAND2, \"NOT\": l.NOT }\n",
    "        \n",
    "        curx = 0\n",
    "        cury = MAXY\n",
    "        # Start with inputs\n",
    "        for (key,node) in self.nodes.items():\n",
    "            if node[0] == \"INPUT\":\n",
    "                label  = f\"$X[{node[1]}]$\"\n",
    "                botlabel = \"\"\n",
    "                if vals and key in vals: \n",
    "                    botlabel += f\" ({vals[key]})\"\n",
    "                curx,cury = positions[key]\n",
    "                v = G.add(e.DOT, xy = [curx,cury],label=label,botlabel=botlabel)\n",
    "                elements[key]= [curx,cury]\n",
    "                cury -= INC\n",
    "            \n",
    "        cury = MAXY + INC/2\n",
    "        curx = INC\n",
    "            \n",
    "        # Then gates\n",
    "        for (key,node) in self.nodes.items():\n",
    "            if node[0] == \"INPUT\": continue\n",
    "            op = gates[node[1].__name__]\n",
    "            label = \"\"\n",
    "            rgtlabel = \"\"\n",
    "            if key in self.outputs:\n",
    "                rgtlabel = f\"$Y[{self.outputs[key]}]$\"\n",
    "            botlabel = \"\"\n",
    "            if vals and key in vals: \n",
    "                botlabel = f\" ({vals[key]})\"\n",
    "            \n",
    "            cury -= INC\n",
    "            maxx = max([elements[n][0] for n  in self.in_neighbors[key]])\n",
    "            if curx < maxx + INC:\n",
    "                curx = maxx + INC\n",
    "                cury = MAXY\n",
    "                if round(curx / INC) % 2:\n",
    "                    cury -= INC / 2\n",
    "       \n",
    "            if cury< 0:\n",
    "                cury = MAXY\n",
    "                curx += INC\n",
    "                if round(curx / INC) % 2:\n",
    "                    cury -= INC / 2\n",
    "       \n",
    "            curx,cury = positions[key]\n",
    "            v = G.add(op,xy =[curx,cury], label=label, botlabel = botlabel, rgtlabel =rgtlabel, d=\"right\")\n",
    "            elements[key] = v.out if op != l.NOT else [curx+1.35,cury]\n",
    "            L =  self.in_neighbors[key]\n",
    "            if len(L)==1:\n",
    "                G.add(e.LINE,xy= elements[L[0]] ,to=[curx,cury])\n",
    "            if len(L)==2:\n",
    "                pos1 = elements[L[0]]\n",
    "                pos2 = elements[L[1]]\n",
    "                if pos1[1] < pos2[1]:\n",
    "                    pos1,pos2 = pos2,pos1\n",
    "                G.add(e.LINE,xy = pos1 ,to = v.in1)\n",
    "                G.add(e.LINE,xy = pos2 ,to = v.in2)\n",
    "        G.draw()\n",
    "        if filename:\n",
    "            G.save(filename)"
   ]
  },
  {
   "cell_type": "code",
   "execution_count": 145,
   "metadata": {},
   "outputs": [
    {
     "data": {
      "image/svg+xml": [
       "<?xml version=\"1.0\" encoding=\"UTF-8\" standalone=\"no\"?>\r\n",
       "<!DOCTYPE svg PUBLIC \"-//W3C//DTD SVG 1.1//EN\"\r\n",
       " \"http://www.w3.org/Graphics/SVG/1.1/DTD/svg11.dtd\">\r\n",
       "<!-- Generated by graphviz version 2.38.0 (20140413.2041)\r\n",
       " -->\r\n",
       "<!-- Title: %3 Pages: 1 -->\r\n",
       "<svg width=\"712pt\" height=\"360pt\"\r\n",
       " viewBox=\"0.00 0.00 712.17 360.00\" xmlns=\"http://www.w3.org/2000/svg\" xmlns:xlink=\"http://www.w3.org/1999/xlink\">\r\n",
       "<g id=\"graph0\" class=\"graph\" transform=\"scale(0.978261 0.978261) rotate(0) translate(4 364)\">\r\n",
       "<title>%3</title>\r\n",
       "<polygon fill=\"white\" stroke=\"none\" points=\"-4,4 -4,-364 724,-364 724,4 -4,4\"/>\r\n",
       "<!-- input_0 -->\r\n",
       "<g id=\"node1\" class=\"node\"><title>input_0</title>\r\n",
       "<ellipse fill=\"none\" stroke=\"black\" cx=\"45\" cy=\"-180.5\" rx=\"18\" ry=\"18\"/>\r\n",
       "<text text-anchor=\"start\" x=\"34\" y=\"-178.6\" font-family=\"Times New Roman,serif\" font-size=\"8.00\" fill=\"blue\"> X[0] </text>\r\n",
       "</g>\r\n",
       "<!-- gate_0 -->\r\n",
       "<g id=\"node4\" class=\"node\"><title>gate_0</title>\r\n",
       "<polygon fill=\"none\" stroke=\"black\" points=\"230.562,-229.5 243,-247.5 230.562,-265.5 210.438,-265.483 210.438,-229.517 230.562,-229.5\"/>\r\n",
       "<text text-anchor=\"start\" x=\"213\" y=\"-245.6\" font-family=\"Times New Roman,serif\" font-size=\"8.00\">¬∧</text>\r\n",
       "</g>\r\n",
       "<!-- input_0&#45;&gt;gate_0 -->\r\n",
       "<g id=\"edge1\" class=\"edge\"><title>input_0&#45;&gt;gate_0</title>\r\n",
       "<path fill=\"none\" stroke=\"black\" d=\"M62.1103,-186.564C93.7129,-198.459 163.944,-224.895 200.643,-238.708\"/>\r\n",
       "<polygon fill=\"black\" stroke=\"black\" points=\"199.452,-242 210.044,-242.247 201.918,-235.449 199.452,-242\"/>\r\n",
       "</g>\r\n",
       "<!-- gate_1 -->\r\n",
       "<g id=\"node5\" class=\"node\"><title>gate_1</title>\r\n",
       "<polygon fill=\"none\" stroke=\"black\" points=\"230.562,-94.5 243,-112.5 230.562,-130.5 210.438,-130.483 210.438,-94.5168 230.562,-94.5\"/>\r\n",
       "<text text-anchor=\"start\" x=\"213\" y=\"-110.6\" font-family=\"Times New Roman,serif\" font-size=\"8.00\">¬∧</text>\r\n",
       "</g>\r\n",
       "<!-- input_0&#45;&gt;gate_1 -->\r\n",
       "<g id=\"edge3\" class=\"edge\"><title>input_0&#45;&gt;gate_1</title>\r\n",
       "<path fill=\"none\" stroke=\"black\" d=\"M62.1103,-174.346C93.7129,-162.273 163.944,-135.443 200.643,-121.423\"/>\r\n",
       "<polygon fill=\"black\" stroke=\"black\" points=\"201.952,-124.67 210.044,-117.831 199.454,-118.131 201.952,-124.67\"/>\r\n",
       "</g>\r\n",
       "<!-- input_1 -->\r\n",
       "<g id=\"node2\" class=\"node\"><title>input_1</title>\r\n",
       "<ellipse fill=\"none\" stroke=\"black\" cx=\"45\" cy=\"-315.5\" rx=\"18\" ry=\"18\"/>\r\n",
       "<text text-anchor=\"start\" x=\"34\" y=\"-313.6\" font-family=\"Times New Roman,serif\" font-size=\"8.00\" fill=\"blue\"> X[1] </text>\r\n",
       "</g>\r\n",
       "<!-- input_1&#45;&gt;gate_0 -->\r\n",
       "<g id=\"edge2\" class=\"edge\"><title>input_1&#45;&gt;gate_0</title>\r\n",
       "<path fill=\"none\" stroke=\"black\" d=\"M62.1103,-309.346C93.7129,-297.273 163.944,-270.443 200.643,-256.423\"/>\r\n",
       "<polygon fill=\"black\" stroke=\"black\" points=\"201.952,-259.67 210.044,-252.831 199.454,-253.131 201.952,-259.67\"/>\r\n",
       "</g>\r\n",
       "<!-- input_2 -->\r\n",
       "<g id=\"node3\" class=\"node\"><title>input_2</title>\r\n",
       "<ellipse fill=\"none\" stroke=\"black\" cx=\"45\" cy=\"-44.5\" rx=\"18\" ry=\"18\"/>\r\n",
       "<text text-anchor=\"start\" x=\"34\" y=\"-42.6\" font-family=\"Times New Roman,serif\" font-size=\"8.00\" fill=\"blue\"> X[2] </text>\r\n",
       "</g>\r\n",
       "<!-- input_2&#45;&gt;gate_1 -->\r\n",
       "<g id=\"edge4\" class=\"edge\"><title>input_2&#45;&gt;gate_1</title>\r\n",
       "<path fill=\"none\" stroke=\"black\" d=\"M62.1103,-50.6545C93.7129,-62.7274 163.944,-89.5574 200.643,-103.577\"/>\r\n",
       "<polygon fill=\"black\" stroke=\"black\" points=\"199.454,-106.869 210.044,-107.169 201.952,-100.33 199.454,-106.869\"/>\r\n",
       "</g>\r\n",
       "<!-- gate_2 -->\r\n",
       "<g id=\"node6\" class=\"node\"><title>gate_2</title>\r\n",
       "<polygon fill=\"none\" stroke=\"black\" points=\"410.562,-162.5 423,-180.5 410.562,-198.5 390.438,-198.483 390.438,-162.517 410.562,-162.5\"/>\r\n",
       "<text text-anchor=\"start\" x=\"393\" y=\"-178.6\" font-family=\"Times New Roman,serif\" font-size=\"8.00\">¬∧</text>\r\n",
       "</g>\r\n",
       "<!-- gate_0&#45;&gt;gate_2 -->\r\n",
       "<g id=\"edge5\" class=\"edge\"><title>gate_0&#45;&gt;gate_2</title>\r\n",
       "<path fill=\"none\" stroke=\"black\" d=\"M239.672,-242.354C269.883,-230.982 342.632,-203.599 380.381,-189.39\"/>\r\n",
       "<polygon fill=\"black\" stroke=\"black\" points=\"381.91,-192.555 390.036,-185.756 379.444,-186.003 381.91,-192.555\"/>\r\n",
       "</g>\r\n",
       "<!-- gate_1&#45;&gt;gate_2 -->\r\n",
       "<g id=\"edge6\" class=\"edge\"><title>gate_1&#45;&gt;gate_2</title>\r\n",
       "<path fill=\"none\" stroke=\"black\" d=\"M239.672,-117.723C269.883,-129.264 342.632,-157.056 380.381,-171.477\"/>\r\n",
       "<polygon fill=\"black\" stroke=\"black\" points=\"379.446,-174.866 390.036,-175.165 381.944,-168.327 379.446,-174.866\"/>\r\n",
       "</g>\r\n",
       "<!-- gate_3 -->\r\n",
       "<g id=\"node7\" class=\"node\"><title>gate_3</title>\r\n",
       "<polygon fill=\"none\" stroke=\"black\" points=\"641.125,-162.5 666,-180.5 641.125,-198.5 600.875,-198.483 600.875,-162.517 641.125,-162.5\"/>\r\n",
       "<text text-anchor=\"start\" x=\"605.5\" y=\"-179.6\" font-family=\"Times New Roman,serif\" font-size=\"8.00\">¬∧</text>\r\n",
       "<text text-anchor=\"start\" x=\"629.5\" y=\"-179.6\" font-family=\"Times New Roman,serif\" font-size=\"8.00\" fill=\"red\">→Y[0]</text>\r\n",
       "</g>\r\n",
       "<!-- gate_2&#45;&gt;gate_3 -->\r\n",
       "<g id=\"edge7\" class=\"edge\"><title>gate_2&#45;&gt;gate_3</title>\r\n",
       "<path fill=\"none\" stroke=\"black\" d=\"M420.632,-176.94C454.736,-173.352 540.419,-172.79 590.65,-175.257\"/>\r\n",
       "<polygon fill=\"black\" stroke=\"black\" points=\"590.618,-178.761 600.799,-175.83 591.012,-171.772 590.618,-178.761\"/>\r\n",
       "</g>\r\n",
       "<!-- gate_2&#45;&gt;gate_3 -->\r\n",
       "<g id=\"edge8\" class=\"edge\"><title>gate_2&#45;&gt;gate_3</title>\r\n",
       "<path fill=\"none\" stroke=\"black\" d=\"M420.632,-184.06C454.736,-187.648 540.419,-188.21 590.65,-185.743\"/>\r\n",
       "<polygon fill=\"black\" stroke=\"black\" points=\"591.012,-189.228 600.799,-185.17 590.618,-182.239 591.012,-189.228\"/>\r\n",
       "</g>\r\n",
       "</g>\r\n",
       "</svg>\r\n"
      ],
      "text/plain": [
       "<__main__.Circuit at 0x26520479898>"
      ]
     },
     "execution_count": 145,
     "metadata": {},
     "output_type": "execute_result"
    }
   ],
   "source": [
    "C"
   ]
  },
  {
   "cell_type": "code",
   "execution_count": 146,
   "metadata": {},
   "outputs": [
    {
     "data": {
      "image/png": "[encoded data removed]",
      "text/plain": [
       "<Figure size 469.53x236.712 with 1 Axes>"
      ]
     },
     "metadata": {
      "needs_background": "light"
     },
     "output_type": "display_data"
    }
   ],
   "source": [
    "schemdraw(C)"
   ]
  },
  {
   "cell_type": "code",
   "execution_count": 147,
   "metadata": {},
   "outputs": [
    {
     "data": {
      "image/png": "[encoded data removed]",
      "text/plain": [
       "<Figure size 469.53x236.712 with 1 Axes>"
      ]
     },
     "metadata": {
      "needs_background": "light"
     },
     "output_type": "display_data"
    }
   ],
   "source": [
    "schemdraw(C,[0,1,1])"
   ]
  },
  {
   "cell_type": "markdown",
   "metadata": {},
   "source": [
    "## Extract code from python function"
   ]
  },
  {
   "cell_type": "code",
   "execution_count": 139,
   "metadata": {},
   "outputs": [],
   "source": [
    "def AND(a,b):\n",
    "    return a*b\n",
    "def OR(a,b):\n",
    "    return 1-(1-a)*(1-b)\n",
    "def NOT(a):\n",
    "    return 1-a\n",
    "def NAND(a,b):\n",
    "    return 1-a*b"
   ]
  },
  {
   "cell_type": "code",
   "execution_count": 135,
   "metadata": {},
   "outputs": [],
   "source": [
    "from inspect import signature\n",
    "def function2code(f,n=0, NANDONLY = False):\n",
    "    \"\"\"Take python function that ultimately is implemented using AND/OR/NOT/NAND\n",
    "    and output the code for it using these operations\"\"\"\n",
    "    explode = False\n",
    "    if n==0:\n",
    "        explode = True\n",
    "        n = len(signature(f).parameters)\n",
    "    X = [f\"X[{i}]\" for i in range(n)]\n",
    "    counter = 0\n",
    "    code = \"\"\n",
    "    def getvar():\n",
    "        nonlocal counter\n",
    "        counter +=1\n",
    "        return f\"temp_{counter}\"\n",
    "    def op(name,a,b=None): \n",
    "        nonlocal code\n",
    "        v = getvar()\n",
    "        if b: \n",
    "            code += f\"\\n{v} = {name}({a},{b})\"\n",
    "        else:\n",
    "            code += f\"\\n{v} = {name}({a})\"\n",
    "        return v\n",
    "    \n",
    "    def AND_(a,b):\n",
    "        return NAND(NAND(a,b),NAND(a,b))\n",
    "    def OR_(a,b):\n",
    "        return NAND(NAND(a,a),NAND(b,b))\n",
    "    \n",
    "    def NOT_(a):\n",
    "        return NAND(a,a)\n",
    "\n",
    "    global AND\n",
    "    global OR\n",
    "    global NOT\n",
    "    global NAND\n",
    "    _ = AND\n",
    "    __ = OR\n",
    "    ___ = NOT\n",
    "    ____ = NAND\n",
    "    try:\n",
    "        NAND = lambda a,b: op(\"NAND\",a,b)\n",
    "        if NANDONLY:\n",
    "            AND = AND_\n",
    "            OR  = OR_\n",
    "            NOT = NOT_\n",
    "        else:\n",
    "            AND = lambda a,b: op(\"AND\",a,b)\n",
    "            OR = lambda a,b: op(\"OR\",a,b)\n",
    "            NOT = lambda a: op(\"NOT\",a)\n",
    "        \n",
    "        if explode:\n",
    "            v= f(*X)\n",
    "        else:\n",
    "            v =f(X)\n",
    "    finally:\n",
    "        AND = _ \n",
    "        OR  = __ \n",
    "        NOT = ___\n",
    "        NAND = ____\n",
    "    if type(v) is list or type(v) is tuple:\n",
    "        for i in range(len(v)):\n",
    "            code = code.replace(v[i],f\"Y[{i}]\")\n",
    "    else:\n",
    "        code = code.replace(v,\"Y[0]\")\n",
    "    return code\n"
   ]
  },
  {
   "cell_type": "code",
   "execution_count": 136,
   "metadata": {},
   "outputs": [],
   "source": [
    "def drawcirc(f,n=0,NANDONLY=False):\n",
    "    C = prog2circuit(function2code(f,n,NANDONLY))\n",
    "    schemdraw(C)"
   ]
  },
  {
   "cell_type": "code",
   "execution_count": 140,
   "metadata": {},
   "outputs": [],
   "source": [
    "def XOR3(a,b,c):\n",
    "    w1 = AND(a,b)\n",
    "    w2 = NOT(w1)\n",
    "    w3 = OR(a,b)\n",
    "    w4 = AND(w2,w3)\n",
    "    w5 = AND(w4,c)\n",
    "    w6 = NOT(w5)\n",
    "    w7 = OR(w4,c)\n",
    "    return AND(w6,w7)\n"
   ]
  },
  {
   "cell_type": "code",
   "execution_count": 143,
   "metadata": {},
   "outputs": [
    {
     "data": {
      "image/png": "[encoded data removed]",
      "text/plain": [
       "<Figure size 437.081x275.751 with 1 Axes>"
      ]
     },
     "metadata": {
      "needs_background": "light"
     },
     "output_type": "display_data"
    }
   ],
   "source": [
    "drawcirc(XOR3)"
   ]
  },
  {
   "cell_type": "code",
   "execution_count": null,
   "metadata": {},
   "outputs": [],
   "source": []
  }
 ],
 "metadata": {
  "kernelspec": {
   "display_name": "Python 3",
   "language": "python",
   "name": "python3"
  },
  "language_info": {
   "codemirror_mode": {
    "name": "ipython",
    "version": 3
   },
   "file_extension": ".py",
   "mimetype": "text/x-python",
   "name": "python",
   "nbconvert_exporter": "python",
   "pygments_lexer": "ipython3",
   "version": "3.7.2"
  }
 },
 "nbformat": 4,
 "nbformat_minor": 2
}
