{
 "cells": [
  {
   "cell_type": "markdown",
   "metadata": {},
   "source": [
    "# Chapter 5: Code as data, Data as code\n",
    "\n",
    "Code related to [Chapter 5: Code as data, Data as code](https://introtcs.org/public/lec_04_code_and_data.html) in __Introduction to Theoretical Computer Science__ by Boaz Barak. [![Open In Colab](https://colab.research.google.com/assets/colab-badge.svg)](https://colab.research.google.com/github/boazbk/tcscode/blob/master/Chap_05_code_and_data.ipynb)"
   ]
  },
  {
   "cell_type": "code",
   "execution_count": null,
   "metadata": {},
   "outputs": [],
   "source": [
    "!wget https://raw.githubusercontent.com/boazbk/tcscode/master/Utilities.ipynb\n",
    "!pip install schemdraw"
   ]
  },
  {
   "cell_type": "code",
   "execution_count": 1,
   "metadata": {},
   "outputs": [],
   "source": [
    "# utility code \n",
    "%run \"Utilities.ipynb\"\n",
    "from IPython.display import clear_output\n",
    "clear_output()"
   ]
  },
  {
   "cell_type": "markdown",
   "metadata": {},
   "source": [
    "### Represent code as list of tuples"
   ]
  },
  {
   "cell_type": "code",
   "execution_count": 6,
   "metadata": {},
   "outputs": [
    {
     "data": {
      "text/plain": [
       "107"
      ]
     },
     "execution_count": 6,
     "metadata": {},
     "output_type": "execute_result"
    }
   ],
   "source": [
    "xorcode = r'''temp_0 = NAND(X[0],X[1])\n",
    "temp_1 = NAND(X[0],temp_0)\n",
    "temp_2 = NAND(X[1],temp_0) \n",
    "Y[0] = NAND(temp_1,temp_2)\n",
    "'''\n",
    "len(xorcode)"
   ]
  },
  {
   "cell_type": "code",
   "execution_count": 7,
   "metadata": {},
   "outputs": [],
   "source": [
    "code = r'''temp_0 = NAND(X[0],X[1])\n",
    "t1 = NAND(temp_0,temp_0)\n",
    "notx0 = NAND(X[0],X[0])\n",
    "temp_1 = NAND(notx0,X[2])\n",
    "t2 = NAND(temp_1,temp_1)\n",
    "temp_2 = NAND(t1,t1)\n",
    "temp_3 = NAND(t2,t2)\n",
    "Y[0] = NAND(temp_2,temp_3)'''"
   ]
  },
  {
   "cell_type": "code",
   "execution_count": 8,
   "metadata": {},
   "outputs": [],
   "source": [
    "def code2rep(code):\n",
    "    \"\"\"Map NAND-CODE to the list-of-triples representation.\"\"\"\n",
    "    inputs = [] ; workspace = [] ; outputs = []\n",
    "    def parse(line): # extract 3 variables from line of code\n",
    "        return line[:line.find(\"=\")].strip(), line[line.find(\"(\")+1:line.find(\",\")].strip(),  line[line.find(\",\")+1:line.find(\")\")].strip()\n",
    "        \n",
    "    def addvar(var): # add variable to inputs/outputs/workspace lists\n",
    "        nonlocal inputs,workspace,outputs\n",
    "        if var[0]=='X': \n",
    "            if not var in inputs: inputs += [var]\n",
    "        elif var[0]=='Y': \n",
    "            if not var in outputs: outputs += [var]\n",
    "        elif not var in workspace:\n",
    "            workspace += [var] \n",
    "        \n",
    "    # add all variables\n",
    "    for line in code.split('\\n'):\n",
    "        for var in parse(line):\n",
    "            addvar(var)\n",
    "    \n",
    "    variables = sorted(inputs) + workspace + sorted(outputs)\n",
    "    print(variables)\n",
    "    L = [] # list of triples \n",
    "    for line in code.split('\\n'):\n",
    "        foo,bar,blah = parse(line)\n",
    "        L += [[variables.index(foo),variables.index(bar),variables.index(blah)]]\n",
    "    \n",
    "    return (len(inputs),len(outputs),L) "
   ]
  },
  {
   "cell_type": "code",
   "execution_count": 9,
   "metadata": {},
   "outputs": [
    {
     "name": "stdout",
     "output_type": "stream",
     "text": [
      "['X[0]', 'X[1]', 'X[2]', 'temp_0', 't1', 'notx0', 'temp_1', 't2', 'temp_2', 'temp_3', 'Y[0]']\n"
     ]
    },
    {
     "data": {
      "text/plain": [
       "(3,\n",
       " 1,\n",
       " [[3, 0, 1],\n",
       "  [4, 3, 3],\n",
       "  [5, 0, 0],\n",
       "  [6, 5, 2],\n",
       "  [7, 6, 6],\n",
       "  [8, 4, 4],\n",
       "  [9, 7, 7],\n",
       "  [10, 8, 9]])"
      ]
     },
     "execution_count": 9,
     "metadata": {},
     "output_type": "execute_result"
    }
   ],
   "source": [
    "code2rep(code)"
   ]
  }
 ],
 "metadata": {
  "kernelspec": {
   "display_name": "Python 3 (ipykernel)",
   "language": "python",
   "name": "python3"
  },
  "language_info": {
   "codemirror_mode": {
    "name": "ipython",
    "version": 3
   },
   "file_extension": ".py",
   "mimetype": "text/x-python",
   "name": "python",
   "nbconvert_exporter": "python",
   "pygments_lexer": "ipython3",
   "version": "3.11.0"
  }
 },
 "nbformat": 4,
 "nbformat_minor": 4
}
