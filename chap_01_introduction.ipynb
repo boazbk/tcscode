{
 "cells": [
  {
   "cell_type": "markdown",
   "metadata": {
    "collapsed": true,
    "pycharm": {
     "name": "#%% md\n"
    }
   },
   "source": [
    "# Chapter 0: Introduction\n",
    "\n",
    "Code related to [Chapter 0: Introduction](https://introtcs.org/public/lec_01_introduction.html) of the book __Introduction to Theoretical Computer Science__ by Boaz Barak. [![Open In Colab](https://colab.research.google.com/assets/colab-badge.svg)](https://colab.research.google.com/github/boazbk/tcscode/blob/master/chap_01_introduction.ipynb)\n"
   ]
  },
  {
   "cell_type": "markdown",
   "metadata": {
    "pycharm": {
     "is_executing": true,
     "name": "#%%\n"
    }
   },
   "source": [
    "### Grade-school multiplication algorithm:"
   ]
  },
  {
   "cell_type": "code",
   "execution_count": 1,
   "metadata": {
    "pycharm": {
     "is_executing": true,
     "name": "#%%\n"
    }
   },
   "outputs": [],
   "source": [
    "def gradeschool_mult(x,y):\n",
    "    '''Multiply two integers via gradeschool algorithm.'''\n",
    "    x = str(x);\n",
    "    z = 0\n",
    "    for i in range(len(x)):\n",
    "        z += 10**i*int(x[len(x)-1-i])*y\n",
    "\n",
    "    return z"
   ]
  },
  {
   "cell_type": "code",
   "execution_count": 2,
   "metadata": {
    "pycharm": {
     "is_executing": true,
     "name": "#%%\n"
    }
   },
   "outputs": [],
   "source": [
    "def gradeschool_mult(x,y):\n",
    "    \"\"\"Multiply two integers via gradeschool algorithm: recursive implementation\"\"\"\n",
    "    if x<10 or y<10: return x*y\n",
    "    x = str(x); y = str(y);\n",
    "    # convert to string of 0/1's, MSB first\n",
    "    n = max(len(x),len(y))\n",
    "    x = \"0\"*(n-len(x))+x; y = \"0\"*(n-len(y))+y # add leading zeroes if needed\n",
    "    m = n//2\n",
    "    xtop = int(x[:-m]); xbot = int(x[-m:])\n",
    "    ytop = int(y[:-m]); ybot = int(y[-m:])\n",
    "    return 10**(2*m)*gradeschool_mult(xtop,ytop)+10**m*(gradeschool_mult(xtop,ybot)+gradeschool_mult(xbot,ytop))+gradeschool_mult(xbot,ybot)"
   ]
  },
  {
   "cell_type": "code",
   "execution_count": 4,
   "metadata": {
    "pycharm": {
     "is_executing": true,
     "name": "#%%\n"
    }
   },
   "outputs": [
    {
     "data": {
      "text/plain": [
       "42189"
      ]
     },
     "execution_count": 4,
     "metadata": {},
     "output_type": "execute_result"
    }
   ],
   "source": [
    "gradeschool_mult(123,343)"
   ]
  },
  {
   "cell_type": "markdown",
   "metadata": {},
   "source": [
    "### Karatsuba multiplication"
   ]
  },
  {
   "cell_type": "code",
   "execution_count": 5,
   "metadata": {
    "pycharm": {
     "is_executing": true,
     "name": "#%%\n"
    }
   },
   "outputs": [],
   "source": [
    "def karatsuba_mult(x,y):\n",
    "    '''Multiply two simlar length integers via karatsuba algorithm.'''\n",
    "    if x<100 or y<100: return x*y\n",
    "    x = str(x); y = str(y);\n",
    "    # convert to string of 0/1's, MSB first\n",
    "    n = max(len(x),len(y))\n",
    "    x = \"0\"*(n-len(x))+x; y = \"0\"*(n-len(y))+y # add leading zeroes if needed\n",
    "    m = n//2\n",
    "    xtop = int(x[:-m]); xbot = int(x[-m:])\n",
    "    ytop = int(y[:-m]); ybot = int(y[-m:])\n",
    "    return (10**(2*m)-10**m)*karatsuba_mult(xtop,ytop)+(10**m)*karatsuba_mult(xtop+xbot,ytop+ybot) +(1-10**m)*karatsuba_mult(xbot,ybot)\n"
   ]
  },
  {
   "cell_type": "code",
   "execution_count": 6,
   "metadata": {
    "pycharm": {
     "is_executing": true,
     "name": "#%%\n"
    }
   },
   "outputs": [
    {
     "data": {
      "text/plain": [
       "True"
      ]
     },
     "execution_count": 6,
     "metadata": {},
     "output_type": "execute_result"
    }
   ],
   "source": [
    "karatsuba_mult(12342323,3464565463)==12342323* 3464565463"
   ]
  },
  {
   "cell_type": "code",
   "execution_count": 7,
   "metadata": {
    "pycharm": {
     "is_executing": true,
     "name": "#%%\n"
    }
   },
   "outputs": [
    {
     "data": {
      "text/plain": [
       "42760785998990549"
      ]
     },
     "execution_count": 7,
     "metadata": {},
     "output_type": "execute_result"
    }
   ],
   "source": [
    "12342323* 3464565463"
   ]
  },
  {
   "cell_type": "markdown",
   "metadata": {},
   "source": [
    "### Time both algorithms"
   ]
  },
  {
   "cell_type": "code",
   "execution_count": 10,
   "metadata": {
    "pycharm": {
     "is_executing": true,
     "name": "#%%\n"
    }
   },
   "outputs": [],
   "source": [
    "input_lengths  = [2**i for i in range(5,16,2)]\n",
    "gradeschool_times = {}\n",
    "karatsuba_times = {}\n"
   ]
  },
  {
   "cell_type": "code",
   "execution_count": null,
   "metadata": {
    "pycharm": {
     "is_executing": true,
     "name": "#%%\n"
    }
   },
   "outputs": [
    {
     "name": "stdout",
     "output_type": "stream",
     "text": [
      "Gradeschool n = 32\n",
      "1.92 ms ± 0 ns per loop (mean ± std. dev. of 1 run, 1 loop each)\n",
      "Karatsuba n = 32\n",
      "546 µs ± 0 ns per loop (mean ± std. dev. of 1 run, 1 loop each)\n",
      "Gradeschool n = 128\n",
      "64 ms ± 0 ns per loop (mean ± std. dev. of 1 run, 1 loop each)\n",
      "Karatsuba n = 128\n",
      "8.48 ms ± 0 ns per loop (mean ± std. dev. of 1 run, 1 loop each)\n",
      "Gradeschool n = 512\n",
      "677 ms ± 0 ns per loop (mean ± std. dev. of 1 run, 1 loop each)\n",
      "Karatsuba n = 512\n",
      "48.9 ms ± 0 ns per loop (mean ± std. dev. of 1 run, 1 loop each)\n",
      "Gradeschool n = 2048\n",
      "10.9 s ± 0 ns per loop (mean ± std. dev. of 1 run, 1 loop each)\n",
      "Karatsuba n = 2048\n",
      "494 ms ± 0 ns per loop (mean ± std. dev. of 1 run, 1 loop each)\n",
      "Gradeschool n = 8192\n",
      "1min 36s ± 0 ns per loop (mean ± std. dev. of 1 run, 1 loop each)\n",
      "Karatsuba n = 8192\n",
      "2.19 s ± 0 ns per loop (mean ± std. dev. of 1 run, 1 loop each)\n",
      "Gradeschool n = 32768\n"
     ]
    }
   ],
   "source": [
    "import random\n",
    "for n in input_lengths:\n",
    "    x = random.randrange(10**n)\n",
    "    y = random.randrange(10**n)\n",
    "    r = x*y\n",
    "    #print(r)\n",
    "    print(f\"Gradeschool n = {n}\")\n",
    "    foo =  %timeit -o -r1 -n1 gradeschool_mult(x,y)\n",
    "    print(f\"Karatsuba n = {n}\")\n",
    "    bar = %timeit -o -r1 -n1 karatsuba_mult(x,y)\n",
    "    gradeschool_times[n] = foo\n",
    "    karatsuba_times[n] = bar"
   ]
  },
  {
   "cell_type": "code",
   "execution_count": null,
   "metadata": {
    "pycharm": {
     "is_executing": true,
     "name": "#%%\n"
    }
   },
   "outputs": [],
   "source": [
    "import matplotlib.pyplot as plt\n",
    "\n",
    "gs_lengths, gs_times = zip(*sorted(gradeschool_times.items())) # unpack a list of pairs into two tuples\n",
    "\n",
    "ka_lengths, ka_times =  zip(*sorted(karatsuba_times.items()))\n",
    "\n",
    "gs_times = [t.best for t in gs_times]\n",
    "ka_times = [t.best for t in ka_times]\n",
    "\n",
    "line1, line2 = plt.plot(gs_lengths, gs_times, 'r--', ka_lengths, ka_times, 'b--')\n",
    "plt.xlabel('input length')\n",
    "plt.ylabel('time (secs, log scale)')\n",
    "plt.yscale('log')\n",
    "plt.legend([line1,line2],['Gradeschool','Karatsuba'])\n",
    "plt.show()"
   ]
  }
 ],
 "metadata": {
  "kernelspec": {
   "display_name": "Python 3",
   "language": "python",
   "name": "python3"
  },
  "language_info": {
   "codemirror_mode": {
    "name": "ipython",
    "version": 3
   },
   "file_extension": ".py",
   "mimetype": "text/x-python",
   "name": "python",
   "nbconvert_exporter": "python",
   "pygments_lexer": "ipython3",
   "version": "3.7.7"
  }
 },
 "nbformat": 4,
 "nbformat_minor": 1
}
