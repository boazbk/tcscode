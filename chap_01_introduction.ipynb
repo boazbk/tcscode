{
 "cells": [
  {
   "cell_type": "markdown",
   "metadata": {
    "collapsed": true,
    "pycharm": {
     "name": "#%% md\n"
    }
   },
   "source": [
    "# Chapter 1: Introduction"
   ]
  },
  {
   "cell_type": "code",
   "execution_count": 16,
   "outputs": [],
   "source": [
    "def gradeschool_mult(x,y):\n",
    "    '''Multiply two integers via gradeschool algorithm.'''\n",
    "    x = str(x);\n",
    "    z = 0\n",
    "    for i in range(len(x)):\n",
    "        z += 10**i*int(x[len(x)-1-i])*y\n",
    "\n",
    "    return z"
   ],
   "metadata": {
    "collapsed": false,
    "pycharm": {
     "name": "#%%\n"
    }
   }
  },
  {
   "cell_type": "code",
   "execution_count": 17,
   "outputs": [],
   "source": [
    "def gradeschool_mult(x,y):\n",
    "    if x<10 or y<10: return x*y\n",
    "    x = str(x); y = str(y);\n",
    "    # convert to string of 0/1's, MSB first\n",
    "    n = max(len(x),len(y))\n",
    "    x = \"0\"*(n-len(x))+x; y = \"0\"*(n-len(y))+y # add leading zeroes if needed\n",
    "    m = n//2\n",
    "    xtop = int(x[:-m]); xbot = int(x[-m:])\n",
    "    ytop = int(y[:-m]); ybot = int(y[-m:])\n",
    "    return 10**(2*m)*gradeschool_mult(xtop,ytop)+10**m*(gradeschool_mult(xtop,ybot)+gradeschool_mult(xbot,ytop))+gradeschool_mult(xbot,ybot)"
   ],
   "metadata": {
    "collapsed": false,
    "pycharm": {
     "name": "#%%\n"
    }
   }
  },
  {
   "cell_type": "code",
   "execution_count": 18,
   "outputs": [
    {
     "data": {
      "text/plain": "42189"
     },
     "execution_count": 18,
     "metadata": {},
     "output_type": "execute_result"
    }
   ],
   "source": [
    "gradeschool_mult(123,343)"
   ],
   "metadata": {
    "collapsed": false,
    "pycharm": {
     "name": "#%%\n"
    }
   }
  },
  {
   "cell_type": "code",
   "execution_count": 19,
   "outputs": [],
   "source": [
    "def karatsuba_mult(x,y):\n",
    "    '''Multiply two simlar length integers via karatsuba algorithm.'''\n",
    "    if x<100 or y<100: return x*y\n",
    "    x = str(x); y = str(y);\n",
    "    # convert to string of 0/1's, MSB first\n",
    "    n = max(len(x),len(y))\n",
    "    x = \"0\"*(n-len(x))+x; y = \"0\"*(n-len(y))+y # add leading zeroes if needed\n",
    "    m = n//2\n",
    "    xtop = int(x[:-m]); xbot = int(x[-m:])\n",
    "    ytop = int(y[:-m]); ybot = int(y[-m:])\n",
    "    return (10**(2*m)-10**m)*karatsuba_mult(xtop,ytop)+(10**m)*karatsuba_mult(xtop+xbot,ytop+ybot) +(1-10**m)*karatsuba_mult(xbot,ybot)\n"
   ],
   "metadata": {
    "collapsed": false,
    "pycharm": {
     "name": "#%%\n"
    }
   }
  },
  {
   "cell_type": "code",
   "execution_count": 20,
   "outputs": [
    {
     "data": {
      "text/plain": "42760785998990549"
     },
     "execution_count": 20,
     "metadata": {},
     "output_type": "execute_result"
    }
   ],
   "source": [
    "karatsuba_mult(12342323,3464565463)==12342323* 3464565463"
   ],
   "metadata": {
    "collapsed": false,
    "pycharm": {
     "name": "#%%\n"
    }
   }
  },
  {
   "cell_type": "code",
   "execution_count": 21,
   "outputs": [
    {
     "data": {
      "text/plain": "42760785998990549"
     },
     "execution_count": 21,
     "metadata": {},
     "output_type": "execute_result"
    }
   ],
   "source": [
    "12342323* 3464565463"
   ],
   "metadata": {
    "collapsed": false,
    "pycharm": {
     "name": "#%%\n"
    }
   }
  },
  {
   "cell_type": "code",
   "execution_count": 22,
   "outputs": [],
   "source": [
    "input_lengths  = [2**i for i in range(5,16,2)]\n",
    "gradeschool_times = {}\n",
    "karatsuba_times = {}\n"
   ],
   "metadata": {
    "collapsed": false,
    "pycharm": {
     "name": "#%%\n"
    }
   }
  },
  {
   "cell_type": "code",
   "execution_count": null,
   "outputs": [
    {
     "name": "stdout",
     "output_type": "stream",
     "text": [
      "Gradeschool n = 32\n",
      "6.34 ms ± 0 ns per loop (mean ± std. dev. of 1 run, 1 loop each)\n",
      "Karatsuba n = 32\n",
      "862 µs ± 0 ns per loop (mean ± std. dev. of 1 run, 1 loop each)\n",
      "Gradeschool n = 128\n",
      "79.3 ms ± 0 ns per loop (mean ± std. dev. of 1 run, 1 loop each)\n",
      "Karatsuba n = 128\n",
      "14.5 ms ± 0 ns per loop (mean ± std. dev. of 1 run, 1 loop each)\n",
      "Gradeschool n = 512\n",
      "1.06 s ± 0 ns per loop (mean ± std. dev. of 1 run, 1 loop each)\n",
      "Karatsuba n = 512\n",
      "52.4 ms ± 0 ns per loop (mean ± std. dev. of 1 run, 1 loop each)\n",
      "Gradeschool n = 2048\n",
      "8.46 s ± 0 ns per loop (mean ± std. dev. of 1 run, 1 loop each)\n",
      "Karatsuba n = 2048\n",
      "303 ms ± 0 ns per loop (mean ± std. dev. of 1 run, 1 loop each)\n",
      "Gradeschool n = 8192\n",
      "2min 42s ± 0 ns per loop (mean ± std. dev. of 1 run, 1 loop each)\n",
      "Karatsuba n = 8192\n",
      "4.96 s ± 0 ns per loop (mean ± std. dev. of 1 run, 1 loop each)\n",
      "Gradeschool n = 32768\n"
     ]
    }
   ],
   "source": [
    "import random\n",
    "for n in input_lengths:\n",
    "    x = random.randrange(10**n)\n",
    "    y = random.randrange(10**n)\n",
    "    r = x*y\n",
    "    #print(r)\n",
    "    print(f\"Gradeschool n = {n}\")\n",
    "    foo =  %timeit -o -r1 -n1 gradeschool_mult(x,y)\n",
    "    print(f\"Karatsuba n = {n}\")\n",
    "    bar = %timeit -o -r1 -n1 karatsuba_mult(x,y)\n",
    "    gradeschool_times[n] = foo\n",
    "    karatsuba_times[n] = bar"
   ],
   "metadata": {
    "collapsed": false,
    "pycharm": {
     "name": "#%%\n",
     "is_executing": true
    }
   }
  },
  {
   "cell_type": "code",
   "execution_count": null,
   "outputs": [],
   "source": [
    "import matplotlib.pyplot as plt\n",
    "\n",
    "gs_lengths, gs_times = zip(*sorted(gradeschool_times.items())) # unpack a list of pairs into two tuples\n",
    "\n",
    "ka_lengths, ka_times =  zip(*sorted(karatsuba_times.items()))\n",
    "\n",
    "gs_times = [t.best for t in gs_times]\n",
    "ka_times = [t.best for t in ka_times]\n",
    "\n",
    "line1, line2 = plt.plot(gs_lengths, gs_times, 'r--', ka_lengths, ka_times, 'b--')\n",
    "plt.xlabel('input length')\n",
    "plt.ylabel('time (secs, log scale)')\n",
    "plt.yscale('log')\n",
    "plt.legend([line1,line2],['Gradeschool','Karatsuba'])\n",
    "plt.show()"
   ],
   "metadata": {
    "collapsed": false,
    "pycharm": {
     "name": "#%%\n",
     "is_executing": true
    }
   }
  },
  {
   "cell_type": "code",
   "execution_count": null,
   "outputs": [],
   "source": [
    "\n"
   ],
   "metadata": {
    "collapsed": false,
    "pycharm": {
     "name": "#%%\n"
    }
   }
  }
 ],
 "metadata": {
  "kernelspec": {
   "display_name": "Python 3",
   "language": "python",
   "name": "python3"
  },
  "language_info": {
   "codemirror_mode": {
    "name": "ipython",
    "version": 2
   },
   "file_extension": ".py",
   "mimetype": "text/x-python",
   "name": "python",
   "nbconvert_exporter": "python",
   "pygments_lexer": "ipython2",
   "version": "2.7.6"
  }
 },
 "nbformat": 4,
 "nbformat_minor": 0
}