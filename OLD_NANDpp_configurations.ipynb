{
 "cells": [
  {
   "cell_type": "markdown",
   "metadata": {
    "slideshow": {
     "slide_type": "slide"
    }
   },
   "source": [
    "# NAND++ Configurations\n",
    "\n",
    "_Version: 0.2_"
   ]
  },
  {
   "cell_type": "markdown",
   "metadata": {},
   "source": [
    "This notebook contains code to evaluate NAND++ programs and view their configurations. When `DEBUG_MODE` is set to `1`, the configuration will be printed at every step of the execution.\n",
    "\n",
    "At the moment the configuration  ignores additional extra variables that are obtained by the syntactic sugar transformations. "
   ]
  },
  {
   "cell_type": "markdown",
   "metadata": {
    "slideshow": {
     "slide_type": "skip"
    }
   },
   "source": [
    "### Ignore in first read: utility code\n",
    "\n",
    "We use some utility code, which you can safely ignore in first read, to allow us to write NAND++ code in Python"
   ]
  },
  {
   "cell_type": "code",
   "execution_count": 1,
   "metadata": {
    "slideshow": {
     "slide_type": "skip"
    }
   },
   "outputs": [],
   "source": [
    "# utility code \n",
    "%run \"NAND programming language.ipynb\"\n",
    "from IPython.display import clear_output\n",
    "clear_output()"
   ]
  },
  {
   "cell_type": "code",
   "execution_count": 2,
   "metadata": {
    "slideshow": {
     "slide_type": "skip"
    }
   },
   "outputs": [],
   "source": [
    "DEBUG_MODE = 1"
   ]
  },
  {
   "cell_type": "code",
   "execution_count": 3,
   "metadata": {
    "slideshow": {
     "slide_type": "skip"
    }
   },
   "outputs": [],
   "source": [
    "# Ignore this utility function in first and even second and third read\n",
    "import inspect\n",
    "import ast\n",
    "import astor\n",
    "\n",
    "def noop(f):\n",
    "    return f;\n",
    "\n",
    "def runwithstate(f):\n",
    "    \"\"\"Modify a function f to take and return an argument state and make all names relative to state.\"\"\"\n",
    "    tree = ast.parse(inspect.getsource(f))\n",
    "    tmp = ast.parse(\"def _temp(state):\\n    pass\\n\").body[0]\n",
    "    args = tmp.args\n",
    "    name = tmp.name\n",
    "    tree.body[0].args = args\n",
    "    tree.body[0].name = name\n",
    "    tree.body[0].decorator_list = []\n",
    "    \n",
    "\n",
    "    class AddState(ast.NodeTransformer):\n",
    "        def visit_Name(self, node: ast.Name):\n",
    "            if node.id == \"enandpp\" or node.id == \"nandpp\" or node.id = \"nandtm\": \n",
    "                return ast.Name(id=\"noop\", ctx=Load())\n",
    "            new_node = ast.Attribute(ast.copy_location(ast.Name('state', ast.Load()), node), node.id,\n",
    "                                     ast.copy_location(ast.Load(), node))\n",
    "            return ast.copy_location(new_node, node)\n",
    "        \n",
    "    tree = AddState().visit(tree)\n",
    "    tree.body[0].body = tree.body[0].body + [ast.parse(\"return state\")]\n",
    "    tree = ast.fix_missing_locations(tree)\n",
    "    src = astor.to_source(tree)\n",
    "    # print(src)\n",
    "    exec(src,globals())\n",
    "    _temp.original_func = f\n",
    "    return _temp\n"
   ]
  },
  {
   "cell_type": "code",
   "execution_count": 4,
   "metadata": {
    "slideshow": {
     "slide_type": "skip"
    }
   },
   "outputs": [],
   "source": [
    "# ignore utility class in first and even second or third read\n",
    "\n",
    "from  collections import defaultdict\n",
    "class NANDPPstate:\n",
    "    \"\"\"State of a NAND++ program.\"\"\"\n",
    "    \n",
    "    def __init__(self):\n",
    "        self.scalars = defaultdict(int)\n",
    "        self.arrays  = defaultdict(lambda: defaultdict(int))\n",
    "        self.i = 0\n",
    "        # eventually should make self.i non-negative integer type\n",
    "    \n",
    "    def __setattr__(self,var,val):\n",
    "        if var in [\"i\",\"scalars\", \"arrays\"]:\n",
    "            super().__setattr__(var,val)\n",
    "            return\n",
    "        if var[0].isupper():\n",
    "            raise Exception\n",
    "        else:\n",
    "            self.scalars[var] = val\n",
    "        \n",
    "        \n",
    "    def __getattr__(self,var):\n",
    "        g =  globals()\n",
    "        if var in g and callable(g[var]): return g[var]\n",
    "        if var[0].isupper():\n",
    "            if not var in self.arrays:\n",
    "                self.arrays[var] = defaultdict(int)\n",
    "            return self.arrays[var]\n",
    "        else:\n",
    "            if not var in self.scalars:\n",
    "                self.scalars[var] = 0\n",
    "            return self.scalars[var]\n",
    "        \n",
    "    def conf(self,i,imax):\n",
    "        t = max([max([j for j in arr.keys()]) for arr in self.arrays.values() ])\n",
    "        t = max(t,imax)\n",
    "        out = \"\"\n",
    "        l = max(len(s) for s in list(self.arrays.keys())+ list(self.scalars.keys()) )\n",
    "        for arrname in sorted(list(self.arrays.keys())):\n",
    "            line =blue(htmlspace(arrname.ljust(l+2)))\n",
    "            for j in range(t+1):\n",
    "                v = str((self.arrays[arrname])[j])\n",
    "                s = green(v) if arrname in [\"X\",\"Xvalid\"] else (red(v) if arrname in [\"Y\",\"Yvalid\"] else v)\n",
    "                line += bold(s) if i==j else s\n",
    "            out += \"<code>\"+line + \"</code><br>\\n\"\n",
    "        for scalar in sorted(list(self.scalars.keys())):\n",
    "            line = blue(htmlspace(scalar.ljust(l+2)))+\"·\"*i+bold(str(self.scalars[scalar]))+\"·\"*(t-i)\n",
    "            out += \"<code>\"+line + \"</code><br>\\n\"\n",
    "        return out\n",
    "            \n",
    "        "
   ]
  },
  {
   "cell_type": "code",
   "execution_count": 5,
   "metadata": {
    "slideshow": {
     "slide_type": "skip"
    }
   },
   "outputs": [],
   "source": [
    "from IPython.display import Markdown, display\n",
    "\n",
    "def htmlspace(s):\n",
    "    return s.replace(\" \",\"&nbsp;\")\n",
    "\n",
    "def printmd(string, color=None):\n",
    "    colorstr = \"<span style='color:{}'>{}</span>\".format(color, string) if color else string\n",
    "    display(Markdown(colorstr))\n",
    "    \n",
    "def color(c,s,j=0):\n",
    "    return \"<span style='color:{}'>{}</span>\".format(c, s.ljust(j))\n",
    "    \n",
    "def bold(s,justify=0):\n",
    "    return \"**\"+s.ljust(justify)+\"**\"\n",
    "#  return \"\\x1b[1m\"+s.ljust(justify)+\"\\x1b[0m\"\n",
    "\n",
    "#def underline(s,justify=0):\n",
    "#    return \"\\x1b[4m\"+s.ljust(justify)+\"\\x1b[24m\"\n",
    "\n",
    "def red(s,justify=0):\n",
    "    return color(\"red\",s,justify)  #.replace(\" \",\"&nbsp;\")\n",
    "    #return  \"\\x1b[31m\"+s.ljust(justify)+\"\\x1b[0m\"\n",
    "\n",
    "\n",
    "def green(s,justify=0):\n",
    "    return color(\"green\",s,justify) #.replace(\" \",\"&nbsp;\")\n",
    "    # return  \"\\x1b[32m\"+s.ljust(justify)+\"\\x1b[0m\"\n",
    "\n",
    "\n",
    "def blue(s,justify=0):\n",
    "    return color(\"blue\",s,justify) #.replace(\" \",\"&nbsp;\")\n",
    "    # return  \"\\x1b[34m\"+s.ljust(justify)+\"\\x1b[0m\""
   ]
  },
  {
   "cell_type": "code",
   "execution_count": 6,
   "metadata": {
    "slideshow": {
     "slide_type": "skip"
    }
   },
   "outputs": [
    {
     "data": {
      "text/markdown": [
       "<span style='color:None'><span style='color:red'>**&nbsp;a**b</span></span>"
      ],
      "text/plain": [
       "<IPython.core.display.Markdown object>"
      ]
     },
     "metadata": {},
     "output_type": "display_data"
    }
   ],
   "source": [
    "printmd(red(bold(\"&nbsp;a\")+\"b\"))"
   ]
  },
  {
   "cell_type": "code",
   "execution_count": 7,
   "metadata": {
    "slideshow": {
     "slide_type": "skip"
    }
   },
   "outputs": [
    {
     "data": {
      "text/plain": [
       "[0, 1, 0, 1, 2, 1, 0, 1, 2, 3, 2, 1, 0, 1, 2, 3, 4, 3, 2, 1]"
      ]
     },
     "execution_count": 7,
     "metadata": {},
     "output_type": "execute_result"
    }
   ],
   "source": [
    "def index():\n",
    "    \"\"\"Generator for the values of i in the NAND++ sequence\"\"\"\n",
    "    i = 0\n",
    "    last = 0\n",
    "    direction  = 1\n",
    "    while True:\n",
    "        yield i\n",
    "        i += direction\n",
    "        if i> last: \n",
    "            direction = -1\n",
    "            last = i\n",
    "        if i==0: direction = +1\n",
    "            \n",
    "a = index()\n",
    "[next(a) for i in range(20)]"
   ]
  },
  {
   "cell_type": "code",
   "execution_count": 8,
   "metadata": {
    "slideshow": {
     "slide_type": "skip"
    }
   },
   "outputs": [],
   "source": [
    "import msvcrt  , os\n",
    "def wait(): # change for non windows\n",
    "    input(\"\")\n",
    "    \n",
    "def NANDPPEVAL(f,X):\n",
    "    \"\"\"Evaluate a NAND++ function on input X\"\"\"\n",
    "    s = NANDPPstate() # intialize state\n",
    "    \n",
    "    # copy input:\n",
    "    for i in range(len(X)): \n",
    "        s.X[i] = X[i]\n",
    "        s.Xvalid[i] = 1\n",
    "        \n",
    "    # main loop:\n",
    "    t = 0\n",
    "    step = 0\n",
    "    if DEBUG_MODE:\n",
    "        clear_output()\n",
    "        printmd(f\"__Starting configuration:__\")\n",
    "        printmd(s.conf(0,len(X)))\n",
    "        wait()\n",
    "\n",
    "    for  i in index(): \n",
    "        t = max(t,i,len(X))\n",
    "        s.i = i\n",
    "        s = f(s)\n",
    "        if DEBUG_MODE:\n",
    "            clear_output()\n",
    "            printmd(f\"__Iteration:__ {step},  `i`={i}\")\n",
    "            printmd(s.conf(i,t))\n",
    "            wait()\n",
    "        step += 1\n",
    "        if not s.loop: break\n",
    "    if DEBUG_MODE:\n",
    "        print(\"Done!\")\n",
    "    \n",
    "    # copy output:\n",
    "    res = [] \n",
    "    i = 0\n",
    "    while s.Yvalid[i]: \n",
    "        res += [s.Y[i]]\n",
    "        i+= 1\n",
    "    return res\n",
    "\n",
    "\n",
    "\n",
    "def nandpp(f):\n",
    "    \"\"\"Modify python code to obtain NAND++ program\"\"\"\n",
    "    g = runwithstate(f)\n",
    "    def _temp1(X):\n",
    "        return NANDPPEVAL(g,X)\n",
    "    _temp1.original_func = f\n",
    "    _temp1.transformed_func = g\n",
    "    return _temp1"
   ]
  },
  {
   "cell_type": "markdown",
   "metadata": {
    "slideshow": {
     "slide_type": "skip"
    }
   },
   "source": [
    "Here is the increment function in vanilla NAND++. Note that we need to keep track of an Array `Visited` to make sure we only add the carry once per location."
   ]
  },
  {
   "cell_type": "code",
   "execution_count": 9,
   "metadata": {
    "slideshow": {
     "slide_type": "slide"
    }
   },
   "outputs": [],
   "source": [
    "@nandpp\n",
    "def inc():\n",
    "    carry = IF(started,carry,one(started))\n",
    "    started = one(started)\n",
    "    Y[i] = IF(Visited[i],Y[i],XOR(X[i],carry))\n",
    "    Visited[i] = one(started)\n",
    "    carry = AND(X[i],carry)\n",
    "    Yvalid[i] = one(started)\n",
    "    loop = Xvalid[i]"
   ]
  },
  {
   "cell_type": "code",
   "execution_count": null,
   "metadata": {
    "slideshow": {
     "slide_type": "slide"
    }
   },
   "outputs": [],
   "source": [
    "inc([1,1,1])"
   ]
  },
  {
   "cell_type": "code",
   "execution_count": 17,
   "metadata": {
    "slideshow": {
     "slide_type": "skip"
    }
   },
   "outputs": [],
   "source": [
    "@nandpp\n",
    "def inc():\n",
    "    carry = IF(started,carry,one(started))\n",
    "    started = one(started)\n",
    "    Atstart[0] = one(started)\n",
    "    idxincreasing = IF(Atstart[i],one(started),idxincreasing)\n",
    "    idxincreasing = IF(Visited[i],zero(started),idxincreasing)\n",
    "    Y[i] = IF(Visited[i],Y[i],XOR(X[i],carry))\n",
    "    Visited[i] = one(started)\n",
    "    carry = AND(X[i],carry)\n",
    "    Yvalid[i] = one(started)\n",
    "    loop = Xvalid[i]\n",
    "    "
   ]
  },
  {
   "cell_type": "code",
   "execution_count": 18,
   "metadata": {
    "slideshow": {
     "slide_type": "skip"
    }
   },
   "outputs": [
    {
     "data": {
      "text/markdown": [
       "<span style='color:None'>__Iteration:__ 25,  `i`=5</span>"
      ],
      "text/plain": [
       "<IPython.core.display.Markdown object>"
      ]
     },
     "metadata": {},
     "output_type": "display_data"
    },
    {
     "data": {
      "text/markdown": [
       "<span style='color:None'><code><span style='color:blue'>Atstart&nbsp;&nbsp;&nbsp;&nbsp;&nbsp;&nbsp;&nbsp;&nbsp;</span>10000**0**</code><br>\n",
       "<code><span style='color:blue'>Visited&nbsp;&nbsp;&nbsp;&nbsp;&nbsp;&nbsp;&nbsp;&nbsp;</span>11111**1**</code><br>\n",
       "<code><span style='color:blue'>X&nbsp;&nbsp;&nbsp;&nbsp;&nbsp;&nbsp;&nbsp;&nbsp;&nbsp;&nbsp;&nbsp;&nbsp;&nbsp;&nbsp;</span><span style='color:green'>1</span><span style='color:green'>1</span><span style='color:green'>1</span><span style='color:green'>0</span><span style='color:green'>1</span>**<span style='color:green'>0</span>**</code><br>\n",
       "<code><span style='color:blue'>Xvalid&nbsp;&nbsp;&nbsp;&nbsp;&nbsp;&nbsp;&nbsp;&nbsp;&nbsp;</span><span style='color:green'>1</span><span style='color:green'>1</span><span style='color:green'>1</span><span style='color:green'>1</span><span style='color:green'>1</span>**<span style='color:green'>0</span>**</code><br>\n",
       "<code><span style='color:blue'>Y&nbsp;&nbsp;&nbsp;&nbsp;&nbsp;&nbsp;&nbsp;&nbsp;&nbsp;&nbsp;&nbsp;&nbsp;&nbsp;&nbsp;</span><span style='color:red'>0</span><span style='color:red'>0</span><span style='color:red'>0</span><span style='color:red'>1</span><span style='color:red'>1</span>**<span style='color:red'>0</span>**</code><br>\n",
       "<code><span style='color:blue'>Yvalid&nbsp;&nbsp;&nbsp;&nbsp;&nbsp;&nbsp;&nbsp;&nbsp;&nbsp;</span><span style='color:red'>1</span><span style='color:red'>1</span><span style='color:red'>1</span><span style='color:red'>1</span><span style='color:red'>1</span>**<span style='color:red'>1</span>**</code><br>\n",
       "<code><span style='color:blue'>carry&nbsp;&nbsp;&nbsp;&nbsp;&nbsp;&nbsp;&nbsp;&nbsp;&nbsp;&nbsp;</span>·····**0**</code><br>\n",
       "<code><span style='color:blue'>idxincreasing&nbsp;&nbsp;</span>·····**0**</code><br>\n",
       "<code><span style='color:blue'>loop&nbsp;&nbsp;&nbsp;&nbsp;&nbsp;&nbsp;&nbsp;&nbsp;&nbsp;&nbsp;&nbsp;</span>·····**0**</code><br>\n",
       "<code><span style='color:blue'>started&nbsp;&nbsp;&nbsp;&nbsp;&nbsp;&nbsp;&nbsp;&nbsp;</span>·····**1**</code><br>\n",
       "</span>"
      ],
      "text/plain": [
       "<IPython.core.display.Markdown object>"
      ]
     },
     "metadata": {},
     "output_type": "display_data"
    },
    {
     "name": "stdout",
     "output_type": "stream",
     "text": [
      "\n",
      "Done!\n"
     ]
    },
    {
     "data": {
      "text/plain": [
       "[0, 0, 0, 1, 1, 0]"
      ]
     },
     "execution_count": 18,
     "metadata": {},
     "output_type": "execute_result"
    }
   ],
   "source": [
    "inc([1,1,1,0,1])"
   ]
  },
  {
   "cell_type": "code",
   "execution_count": null,
   "metadata": {},
   "outputs": [],
   "source": []
  },
  {
   "cell_type": "markdown",
   "metadata": {
    "slideshow": {
     "slide_type": "skip"
    }
   },
   "source": [
    "And here is the \"vanilla NAND++\" version of XOR:"
   ]
  },
  {
   "cell_type": "code",
   "execution_count": null,
   "metadata": {
    "slideshow": {
     "slide_type": "slide"
    }
   },
   "outputs": [],
   "source": [
    "@nandpp\n",
    "def vuXOR():\n",
    "    Yvalid[0] = one(X[0])\n",
    "    Y[0] = IF(Visited[i],Y[0],XOR(X[i],Y[0]))\n",
    "    Visited[i] = one(X[0])\n",
    "    loop = Xvalid[i]"
   ]
  },
  {
   "cell_type": "code",
   "execution_count": null,
   "metadata": {
    "slideshow": {
     "slide_type": "slide"
    }
   },
   "outputs": [],
   "source": [
    "vuXOR([1,0,0,1,0,1])"
   ]
  },
  {
   "cell_type": "code",
   "execution_count": 12,
   "metadata": {
    "slideshow": {
     "slide_type": "skip"
    }
   },
   "outputs": [],
   "source": [
    "def NANDPPcode(P):\n",
    "    \"\"\"Return NAND++ code of given function\"\"\"\n",
    "    \n",
    "    code = ''\n",
    "    counter = 0\n",
    "    \n",
    "    \n",
    "    class CodeNANDPPstate:\n",
    "    \n",
    "    \n",
    "        def __getattribute__(self,var):\n",
    "            # print(f\"getting {var}\")\n",
    "            g =  globals()\n",
    "            if var in g and callable(g[var]): return g[var]\n",
    "            if var[0].isupper():  \n",
    "                class Temp:\n",
    "                    def __getitem__(self,k):  return var+\"[i]\"\n",
    "                    def __setitem__(s,k,v):   \n",
    "                        setattr(self,var+\"[i]\",v)            \n",
    "                return Temp()\n",
    "            return var\n",
    "    \n",
    "        def __init__(self):\n",
    "            pass\n",
    "    \n",
    "        def __setattr__(self,var,val):\n",
    "            nonlocal code\n",
    "            # print(f\"setting {var} to {val}\")\n",
    "            if code.find(val)==-1:\n",
    "                code += f'\\n{var} = {val}'\n",
    "            else:\n",
    "                code = rreplace(code,val,var)\n",
    "    \n",
    "    s = CodeNANDPPstate()\n",
    "    \n",
    "    def myNAND(a,b):\n",
    "        nonlocal code, counter\n",
    "        var = f'temp_{counter}'\n",
    "        counter += 1\n",
    "        code += f'\\n{var} = NAND({a},{b})'\n",
    "        return var\n",
    "    \n",
    "        \n",
    "    \n",
    "    \n",
    "    \n",
    "    s = runwith(lambda : P.transformed_func(s),\"NAND\",myNAND) \n",
    "    \n",
    "    return code\n",
    "\n",
    "\n",
    "# utility code - replace string from right, taken from stackoverflow\n",
    "def rreplace(s, old, new, occurrence=1): \n",
    "    li = s.rsplit(old, occurrence)\n",
    "    return new.join(li)\n",
    "\n"
   ]
  },
  {
   "cell_type": "code",
   "execution_count": 13,
   "metadata": {
    "slideshow": {
     "slide_type": "skip"
    }
   },
   "outputs": [
    {
     "name": "stdout",
     "output_type": "stream",
     "text": [
      "\n",
      "temp_0 = NAND(started,started)\n",
      "temp_1 = NAND(started,temp_0)\n",
      "temp_2 = NAND(started,started)\n",
      "temp_3 = NAND(temp_1,temp_2)\n",
      "temp_4 = NAND(carry,started)\n",
      "carry = NAND(temp_3,temp_4)\n",
      "temp_6 = NAND(started,started)\n",
      "started = NAND(started,temp_6)\n",
      "Atstart[i] = NAND(started,started)\n",
      "temp_9 = NAND(started,started)\n",
      "temp_10 = NAND(started,temp_9)\n",
      "temp_11 = NAND(Atstart[i],Atstart[i])\n",
      "temp_12 = NAND(indexincreasing,temp_11)\n",
      "temp_13 = NAND(temp_10,Atstart[i])\n",
      "idxincreasing = NAND(temp_12,temp_13)\n",
      "temp_15 = NAND(started,started)\n",
      "temp_16 = NAND(started,temp_15)\n",
      "temp_17 = NAND(temp_16,temp_16)\n",
      "temp_18 = NAND(Visited[i],Visited[i])\n",
      "temp_19 = NAND(indexincreasing,temp_18)\n",
      "temp_20 = NAND(temp_17,Visited[i])\n",
      "idxincreasing = NAND(temp_19,temp_20)\n",
      "temp_22 = NAND(X[i],carry)\n",
      "temp_23 = NAND(X[i],temp_22)\n",
      "temp_24 = NAND(carry,temp_22)\n",
      "temp_25 = NAND(temp_23,temp_24)\n",
      "temp_26 = NAND(Visited[i],Visited[i])\n",
      "temp_27 = NAND(temp_25,temp_26)\n",
      "temp_28 = NAND(Y[i],Visited[i])\n",
      "Y[i] = NAND(temp_27,temp_28)\n",
      "temp_30 = NAND(started,started)\n",
      "Visited[i] = NAND(started,temp_30)\n",
      "temp_32 = NAND(X[i],carry)\n",
      "carry = NAND(temp_32,temp_32)\n",
      "temp_34 = NAND(started,started)\n",
      "Yvalid[i] = NAND(started,temp_34)\n",
      "loop = Xvalid[i]\n"
     ]
    }
   ],
   "source": [
    "print(NANDPPcode(inc))"
   ]
  },
  {
   "cell_type": "code",
   "execution_count": null,
   "metadata": {},
   "outputs": [],
   "source": [
    "@nandpp\n",
    "def myinc():\n",
    "    temp_0 = NAND(started,started)\n",
    "    temp_1 = NAND(started,temp_0)\n",
    "    temp_2 = NAND(started,started)\n",
    "    temp_3 = NAND(temp_1,temp_2)\n",
    "    temp_4 = NAND(carry,started)\n",
    "    carry = NAND(temp_3,temp_4)\n",
    "    temp_6 = NAND(started,started)\n",
    "    started = NAND(started,temp_6)\n",
    "    Atstart[i] = NAND(started,started)\n",
    "    temp_9 = NAND(started,started)\n",
    "    temp_10 = NAND(started,temp_9)\n",
    "    temp_11 = NAND(Atstart[i],Atstart[i])\n",
    "    temp_12 = NAND(indexincreasing,temp_11)\n",
    "    temp_13 = NAND(temp_10,Atstart[i])\n",
    "    idxincreasing = NAND(temp_12,temp_13)\n",
    "temp_15 = NAND(started,started)\n",
    "temp_16 = NAND(started,temp_15)\n",
    "temp_17 = NAND(temp_16,temp_16)\n",
    "temp_18 = NAND(Visited[i],Visited[i])\n",
    "temp_19 = NAND(indexincreasing,temp_18)\n",
    "temp_20 = NAND(temp_17,Visited[i])\n",
    "idxincreasing = NAND(temp_19,temp_20)\n",
    "temp_22 = NAND(X[i],carry)\n",
    "temp_23 = NAND(X[i],temp_22)\n",
    "temp_24 = NAND(carry,temp_22)\n",
    "temp_25 = NAND(temp_23,temp_24)\n",
    "temp_26 = NAND(Visited[i],Visited[i])\n",
    "temp_27 = NAND(temp_25,temp_26)\n",
    "temp_28 = NAND(Y[i],Visited[i])\n",
    "Y[i] = NAND(temp_27,temp_28)\n",
    "temp_30 = NAND(started,started)\n",
    "Visited[i] = NAND(started,temp_30)\n",
    "temp_32 = NAND(X[i],carry)\n",
    "carry = NAND(temp_32,temp_32)\n",
    "temp_34 = NAND(started,started)\n",
    "Yvalid[i] = NAND(started,temp_34)\n",
    "loop = Xvalid[i]"
   ]
  }
 ],
 "metadata": {
  "celltoolbar": "Slideshow",
  "kernelspec": {
   "display_name": "Python 3",
   "language": "python",
   "name": "python3"
  },
  "language_info": {
   "codemirror_mode": {
    "name": "ipython",
    "version": 3
   },
   "file_extension": ".py",
   "mimetype": "text/x-python",
   "name": "python",
   "nbconvert_exporter": "python",
   "pygments_lexer": "ipython3",
   "version": "3.7.2"
  }
 },
 "nbformat": 4,
 "nbformat_minor": 2
}
