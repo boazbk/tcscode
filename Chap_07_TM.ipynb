{
 "cells": [
  {
   "cell_type": "markdown",
   "metadata": {
    "slideshow": {
     "slide_type": "slide"
    }
   },
   "source": [
    "# Chapter 7-9 : Turing Machines and Universal TM"
   ]
  },
  {
   "cell_type": "code",
   "execution_count": 1,
   "metadata": {
    "slideshow": {
     "slide_type": "skip"
    }
   },
   "outputs": [],
   "source": [
    "# utility code \n",
    "%run \"Utilities.ipynb\"\n",
    "from IPython.display import clear_output\n",
    "clear_output()"
   ]
  },
  {
   "cell_type": "code",
   "execution_count": 2,
   "metadata": {
    "slideshow": {
     "slide_type": "skip"
    }
   },
   "outputs": [],
   "source": [
    "def myred(x):\n",
    "    CRED = '\\033[91m'\n",
    "    CEND = '\\033[0m'\n",
    "    return CRED+x+CEND\n",
    "\n",
    "def mygreen(x):\n",
    "    CGREEN= '\\033[32m'\n",
    "    CEND = '\\033[0m'\n",
    "    return CGREEN+x+CEND\n"
   ]
  },
  {
   "cell_type": "code",
   "execution_count": 3,
   "metadata": {
    "slideshow": {
     "slide_type": "skip"
    }
   },
   "outputs": [
    {
     "data": {
      "text/plain": []
     },
     "execution_count": 3,
     "metadata": {},
     "output_type": "execute_result"
    },
    {
     "data": {
      "image/svg+xml": [
       "<?xml version=\"1.0\" encoding=\"utf-8\" standalone=\"no\"?>\r\n",
       "<!DOCTYPE svg PUBLIC \"-//W3C//DTD SVG 1.1//EN\"\r\n",
       "  \"http://www.w3.org/Graphics/SVG/1.1/DTD/svg11.dtd\">\r\n",
       "<!-- Created with matplotlib (https://matplotlib.org/) -->\r\n",
       "<svg height=\"153.65448pt\" version=\"1.1\" viewBox=\"0 0 357.4588 153.65448\" width=\"357.4588pt\" xmlns=\"http://www.w3.org/2000/svg\" xmlns:xlink=\"http://www.w3.org/1999/xlink\">\r\n",
       " <defs>\r\n",
       "  <style type=\"text/css\">\r\n",
       "*{stroke-linecap:butt;stroke-linejoin:round;}\r\n",
       "  </style>\r\n",
       " </defs>\r\n",
       " <g id=\"figure_1\">\r\n",
       "  <g id=\"patch_1\">\r\n",
       "   <path d=\"M 0 153.65448 \r\n",
       "L 357.4588 153.65448 \r\n",
       "L 357.4588 0 \r\n",
       "L 0 0 \r\n",
       "z\r\n",
       "\" style=\"fill:none;\"/>\r\n",
       "  </g>\r\n",
       "  <g id=\"axes_1\">\r\n",
       "   <g id=\"patch_2\">\r\n",
       "    <path clip-path=\"url(#p1c3113cb52)\" d=\"M 130.5468 37.87884 \r\n",
       "C 133.982687 37.87884 137.281365 36.702255 139.710904 34.610152 \r\n",
       "C 142.140443 32.518048 143.5068 29.677521 143.5068 26.71884 \r\n",
       "C 143.5068 23.760159 142.140443 20.919632 139.710904 18.827528 \r\n",
       "C 137.281365 16.735425 133.982687 15.55884 130.5468 15.55884 \r\n",
       "\" style=\"fill:none;stroke:#000000;stroke-linejoin:miter;stroke-width:1.5;\"/>\r\n",
       "   </g>\r\n",
       "   <g id=\"patch_3\">\r\n",
       "    <path clip-path=\"url(#p1c3113cb52)\" d=\"M 305.5068 86.237352 \r\n",
       "C 308.942687 86.237352 312.241365 85.060767 314.670904 82.968664 \r\n",
       "C 317.100443 80.87656 318.4668 78.036033 318.4668 75.077352 \r\n",
       "C 318.4668 72.118671 317.100443 69.278144 314.670904 67.18604 \r\n",
       "C 312.241365 65.093937 308.942687 63.917352 305.5068 63.917352 \r\n",
       "\" style=\"fill:none;stroke:#000000;stroke-linejoin:miter;stroke-width:1.5;\"/>\r\n",
       "   </g>\r\n",
       "   <g id=\"line2d_1\">\r\n",
       "    <path clip-path=\"url(#p1c3113cb52)\" d=\"M 26.8668 26.71884 \r\n",
       "\" style=\"fill:none;stroke:#000000;stroke-linecap:round;stroke-width:1.5;\"/>\r\n",
       "   </g>\r\n",
       "   <g id=\"line2d_2\">\r\n",
       "    <path clip-path=\"url(#p1c3113cb52)\" d=\"M 26.8668 127.15884 \r\n",
       "\" style=\"fill:none;stroke:#000000;stroke-linecap:round;stroke-width:1.5;\"/>\r\n",
       "   </g>\r\n",
       "   <g id=\"line2d_3\">\r\n",
       "    <path clip-path=\"url(#p1c3113cb52)\" d=\"M 104.6268 26.71884 \r\n",
       "M 143.5068 26.71884 \r\n",
       "L 152.5788 26.71884 \r\n",
       "\" style=\"fill:none;stroke:#000000;stroke-linecap:round;stroke-width:1.5;\"/>\r\n",
       "   </g>\r\n",
       "   <g id=\"line2d_4\">\r\n",
       "    <path clip-path=\"url(#p1c3113cb52)\" d=\"M 113.6988 26.71884 \r\n",
       "L 113.6988 37.87884 \r\n",
       "L 130.5468 37.87884 \r\n",
       "\" style=\"fill:none;stroke:#000000;stroke-linecap:round;stroke-width:1.5;\"/>\r\n",
       "   </g>\r\n",
       "   <g id=\"line2d_5\">\r\n",
       "    <path clip-path=\"url(#p1c3113cb52)\" d=\"M 113.6988 26.71884 \r\n",
       "L 113.6988 15.55884 \r\n",
       "L 130.5468 15.55884 \r\n",
       "\" style=\"fill:none;stroke:#000000;stroke-linecap:round;stroke-width:1.5;\"/>\r\n",
       "   </g>\r\n",
       "   <g id=\"line2d_6\">\r\n",
       "    <path clip-path=\"url(#p1c3113cb52)\" d=\"M 104.6268 32.29884 \r\n",
       "L 113.6988 32.29884 \r\n",
       "\" style=\"fill:none;stroke:#000000;stroke-linecap:round;stroke-width:1.5;\"/>\r\n",
       "   </g>\r\n",
       "   <g id=\"line2d_7\">\r\n",
       "    <path clip-path=\"url(#p1c3113cb52)\" d=\"M 104.6268 21.13884 \r\n",
       "L 113.6988 21.13884 \r\n",
       "\" style=\"fill:none;stroke:#000000;stroke-linecap:round;stroke-width:1.5;\"/>\r\n",
       "   </g>\r\n",
       "   <g id=\"line2d_8\">\r\n",
       "    <path clip-path=\"url(#p1c3113cb52)\" d=\"M 26.8668 26.71884 \r\n",
       "L 65.7468 23.92884 \r\n",
       "L 104.6268 21.13884 \r\n",
       "\" style=\"fill:none;stroke:#000000;stroke-linecap:round;stroke-width:1.5;\"/>\r\n",
       "   </g>\r\n",
       "   <g id=\"line2d_9\">\r\n",
       "    <path clip-path=\"url(#p1c3113cb52)\" d=\"M 26.8668 127.15884 \r\n",
       "L 65.7468 79.72884 \r\n",
       "L 104.6268 32.29884 \r\n",
       "\" style=\"fill:none;stroke:#000000;stroke-linecap:round;stroke-width:1.5;\"/>\r\n",
       "   </g>\r\n",
       "   <g id=\"line2d_10\">\r\n",
       "    <path clip-path=\"url(#p1c3113cb52)\" d=\"M 214.5276 30.438468 \r\n",
       "L 217.3788 30.438468 \r\n",
       "\" style=\"fill:none;stroke:#000000;stroke-linecap:round;stroke-width:1.5;\"/>\r\n",
       "   </g>\r\n",
       "   <g id=\"line2d_11\">\r\n",
       "    <path clip-path=\"url(#p1c3113cb52)\" d=\"M 182.3868 30.438468 \r\n",
       "L 191.4588 30.438468 \r\n",
       "L 191.4588 41.598468 \r\n",
       "L 208.3068 30.438468 \r\n",
       "L 191.4588 19.278468 \r\n",
       "L 191.4588 30.438468 \r\n",
       "\" style=\"fill:none;stroke:#000000;stroke-linecap:round;stroke-width:1.5;\"/>\r\n",
       "   </g>\r\n",
       "   <g id=\"line2d_12\">\r\n",
       "    <path clip-path=\"url(#p1c3113cb52)\" d=\"M 152.5788 26.71884 \r\n",
       "L 167.4828 28.578654 \r\n",
       "L 182.3868 30.438468 \r\n",
       "\" style=\"fill:none;stroke:#000000;stroke-linecap:round;stroke-width:1.5;\"/>\r\n",
       "   </g>\r\n",
       "   <g id=\"line2d_13\">\r\n",
       "    <path clip-path=\"url(#p1c3113cb52)\" d=\"M 104.6268 127.15884 \r\n",
       "M 144.8028 127.15884 \r\n",
       "L 153.8748 127.15884 \r\n",
       "\" style=\"fill:none;stroke:#000000;stroke-linecap:round;stroke-width:1.5;\"/>\r\n",
       "   </g>\r\n",
       "   <g id=\"line2d_14\">\r\n",
       "    <path clip-path=\"url(#p1c3113cb52)\" d=\"M 113.6988 138.09564 \r\n",
       "L 126.6588 138.09564 \r\n",
       "L 127.029086 138.091085 \r\n",
       "L 127.399371 138.07742 \r\n",
       "L 127.769657 138.054644 \r\n",
       "L 128.139943 138.022758 \r\n",
       "L 128.510229 137.981762 \r\n",
       "L 128.880514 137.931656 \r\n",
       "L 129.2508 137.87244 \r\n",
       "L 129.621086 137.804113 \r\n",
       "L 129.991371 137.726677 \r\n",
       "L 130.361657 137.64013 \r\n",
       "L 130.731943 137.544473 \r\n",
       "L 131.102229 137.439705 \r\n",
       "L 131.472514 137.325828 \r\n",
       "L 131.8428 137.20284 \r\n",
       "L 132.213086 137.070742 \r\n",
       "L 132.583371 136.929534 \r\n",
       "L 132.953657 136.779216 \r\n",
       "L 133.323943 136.619787 \r\n",
       "L 133.694229 136.451248 \r\n",
       "L 134.064514 136.273599 \r\n",
       "L 134.4348 136.08684 \r\n",
       "L 134.805086 135.890971 \r\n",
       "L 135.175371 135.685991 \r\n",
       "L 135.545657 135.471901 \r\n",
       "L 135.915943 135.248701 \r\n",
       "L 136.286229 135.016391 \r\n",
       "L 136.656514 134.774971 \r\n",
       "L 137.0268 134.52444 \r\n",
       "L 137.397086 134.264799 \r\n",
       "L 137.767371 133.996048 \r\n",
       "L 138.137657 133.718187 \r\n",
       "L 138.507943 133.431216 \r\n",
       "L 138.878229 133.135134 \r\n",
       "L 139.248514 132.829942 \r\n",
       "L 139.6188 132.51564 \r\n",
       "L 139.989086 132.192228 \r\n",
       "L 140.359371 131.859705 \r\n",
       "L 140.729657 131.518073 \r\n",
       "L 141.099943 131.16733 \r\n",
       "L 141.470229 130.807477 \r\n",
       "L 141.840514 130.438513 \r\n",
       "L 142.2108 130.06044 \r\n",
       "L 142.581086 129.673256 \r\n",
       "L 142.951371 129.276962 \r\n",
       "L 143.321657 128.871558 \r\n",
       "L 143.691943 128.457044 \r\n",
       "L 144.062229 128.03342 \r\n",
       "L 144.432514 127.600685 \r\n",
       "L 144.8028 127.15884 \r\n",
       "\" style=\"fill:none;stroke:#000000;stroke-linecap:round;stroke-width:1.5;\"/>\r\n",
       "   </g>\r\n",
       "   <g id=\"line2d_15\">\r\n",
       "    <path clip-path=\"url(#p1c3113cb52)\" d=\"M 113.6988 116.22204 \r\n",
       "L 126.6588 116.22204 \r\n",
       "L 127.029086 116.226595 \r\n",
       "L 127.399371 116.24026 \r\n",
       "L 127.769657 116.263036 \r\n",
       "L 128.139943 116.294922 \r\n",
       "L 128.510229 116.335918 \r\n",
       "L 128.880514 116.386024 \r\n",
       "L 129.2508 116.44524 \r\n",
       "L 129.621086 116.513567 \r\n",
       "L 129.991371 116.591003 \r\n",
       "L 130.361657 116.67755 \r\n",
       "L 130.731943 116.773207 \r\n",
       "L 131.102229 116.877975 \r\n",
       "L 131.472514 116.991852 \r\n",
       "L 131.8428 117.11484 \r\n",
       "L 132.213086 117.246938 \r\n",
       "L 132.583371 117.388146 \r\n",
       "L 132.953657 117.538464 \r\n",
       "L 133.323943 117.697893 \r\n",
       "L 133.694229 117.866432 \r\n",
       "L 134.064514 118.044081 \r\n",
       "L 134.4348 118.23084 \r\n",
       "L 134.805086 118.426709 \r\n",
       "L 135.175371 118.631689 \r\n",
       "L 135.545657 118.845779 \r\n",
       "L 135.915943 119.068979 \r\n",
       "L 136.286229 119.301289 \r\n",
       "L 136.656514 119.542709 \r\n",
       "L 137.0268 119.79324 \r\n",
       "L 137.397086 120.052881 \r\n",
       "L 137.767371 120.321632 \r\n",
       "L 138.137657 120.599493 \r\n",
       "L 138.507943 120.886464 \r\n",
       "L 138.878229 121.182546 \r\n",
       "L 139.248514 121.487738 \r\n",
       "L 139.6188 121.80204 \r\n",
       "L 139.989086 122.125452 \r\n",
       "L 140.359371 122.457975 \r\n",
       "L 140.729657 122.799607 \r\n",
       "L 141.099943 123.15035 \r\n",
       "L 141.470229 123.510203 \r\n",
       "L 141.840514 123.879167 \r\n",
       "L 142.2108 124.25724 \r\n",
       "L 142.581086 124.644424 \r\n",
       "L 142.951371 125.040718 \r\n",
       "L 143.321657 125.446122 \r\n",
       "L 143.691943 125.860636 \r\n",
       "L 144.062229 126.28426 \r\n",
       "L 144.432514 126.716995 \r\n",
       "L 144.8028 127.15884 \r\n",
       "\" style=\"fill:none;stroke:#000000;stroke-linecap:round;stroke-width:1.5;\"/>\r\n",
       "   </g>\r\n",
       "   <g id=\"line2d_16\">\r\n",
       "    <path clip-path=\"url(#p1c3113cb52)\" d=\"M 113.6988 138.09564 \r\n",
       "L 114.196464 137.64924 \r\n",
       "L 114.673392 137.20284 \r\n",
       "L 115.129584 136.75644 \r\n",
       "L 115.56504 136.31004 \r\n",
       "L 115.97976 135.86364 \r\n",
       "L 116.373744 135.41724 \r\n",
       "L 116.746992 134.97084 \r\n",
       "L 117.099504 134.52444 \r\n",
       "L 117.43128 134.07804 \r\n",
       "L 117.74232 133.63164 \r\n",
       "L 118.032624 133.18524 \r\n",
       "L 118.302192 132.73884 \r\n",
       "L 118.551024 132.29244 \r\n",
       "L 118.77912 131.84604 \r\n",
       "L 118.98648 131.39964 \r\n",
       "L 119.173104 130.95324 \r\n",
       "L 119.338992 130.50684 \r\n",
       "L 119.484144 130.06044 \r\n",
       "L 119.60856 129.61404 \r\n",
       "L 119.71224 129.16764 \r\n",
       "L 119.795184 128.72124 \r\n",
       "L 119.857392 128.27484 \r\n",
       "L 119.898864 127.82844 \r\n",
       "L 119.9196 127.38204 \r\n",
       "L 119.9196 126.93564 \r\n",
       "L 119.898864 126.48924 \r\n",
       "L 119.857392 126.04284 \r\n",
       "L 119.795184 125.59644 \r\n",
       "L 119.71224 125.15004 \r\n",
       "L 119.60856 124.70364 \r\n",
       "L 119.484144 124.25724 \r\n",
       "L 119.338992 123.81084 \r\n",
       "L 119.173104 123.36444 \r\n",
       "L 118.98648 122.91804 \r\n",
       "L 118.77912 122.47164 \r\n",
       "L 118.551024 122.02524 \r\n",
       "L 118.302192 121.57884 \r\n",
       "L 118.032624 121.13244 \r\n",
       "L 117.74232 120.68604 \r\n",
       "L 117.43128 120.23964 \r\n",
       "L 117.099504 119.79324 \r\n",
       "L 116.746992 119.34684 \r\n",
       "L 116.373744 118.90044 \r\n",
       "L 115.97976 118.45404 \r\n",
       "L 115.56504 118.00764 \r\n",
       "L 115.129584 117.56124 \r\n",
       "L 114.673392 117.11484 \r\n",
       "L 114.196464 116.66844 \r\n",
       "L 113.6988 116.22204 \r\n",
       "\" style=\"fill:none;stroke:#000000;stroke-linecap:round;stroke-width:1.5;\"/>\r\n",
       "   </g>\r\n",
       "   <g id=\"line2d_17\">\r\n",
       "    <path clip-path=\"url(#p1c3113cb52)\" d=\"M 104.6268 132.73884 \r\n",
       "L 118.302192 132.73884 \r\n",
       "\" style=\"fill:none;stroke:#000000;stroke-linecap:round;stroke-width:1.5;\"/>\r\n",
       "   </g>\r\n",
       "   <g id=\"line2d_18\">\r\n",
       "    <path clip-path=\"url(#p1c3113cb52)\" d=\"M 104.6268 121.57884 \r\n",
       "L 118.302192 121.57884 \r\n",
       "\" style=\"fill:none;stroke:#000000;stroke-linecap:round;stroke-width:1.5;\"/>\r\n",
       "   </g>\r\n",
       "   <g id=\"line2d_19\">\r\n",
       "    <path clip-path=\"url(#p1c3113cb52)\" d=\"M 26.8668 26.71884 \r\n",
       "L 65.7468 74.14884 \r\n",
       "L 104.6268 121.57884 \r\n",
       "\" style=\"fill:none;stroke:#000000;stroke-linecap:round;stroke-width:1.5;\"/>\r\n",
       "   </g>\r\n",
       "   <g id=\"line2d_20\">\r\n",
       "    <path clip-path=\"url(#p1c3113cb52)\" d=\"M 26.8668 127.15884 \r\n",
       "L 65.7468 129.94884 \r\n",
       "L 104.6268 132.73884 \r\n",
       "\" style=\"fill:none;stroke:#000000;stroke-linecap:round;stroke-width:1.5;\"/>\r\n",
       "   </g>\r\n",
       "   <g id=\"line2d_21\">\r\n",
       "    <path clip-path=\"url(#p1c3113cb52)\" d=\"M 279.5868 75.077352 \r\n",
       "M 318.4668 75.077352 \r\n",
       "L 327.5388 75.077352 \r\n",
       "\" style=\"fill:none;stroke:#000000;stroke-linecap:round;stroke-width:1.5;\"/>\r\n",
       "   </g>\r\n",
       "   <g id=\"line2d_22\">\r\n",
       "    <path clip-path=\"url(#p1c3113cb52)\" d=\"M 288.6588 75.077352 \r\n",
       "L 288.6588 86.237352 \r\n",
       "L 305.5068 86.237352 \r\n",
       "\" style=\"fill:none;stroke:#000000;stroke-linecap:round;stroke-width:1.5;\"/>\r\n",
       "   </g>\r\n",
       "   <g id=\"line2d_23\">\r\n",
       "    <path clip-path=\"url(#p1c3113cb52)\" d=\"M 288.6588 75.077352 \r\n",
       "L 288.6588 63.917352 \r\n",
       "L 305.5068 63.917352 \r\n",
       "\" style=\"fill:none;stroke:#000000;stroke-linecap:round;stroke-width:1.5;\"/>\r\n",
       "   </g>\r\n",
       "   <g id=\"line2d_24\">\r\n",
       "    <path clip-path=\"url(#p1c3113cb52)\" d=\"M 279.5868 80.657352 \r\n",
       "L 288.6588 80.657352 \r\n",
       "\" style=\"fill:none;stroke:#000000;stroke-linecap:round;stroke-width:1.5;\"/>\r\n",
       "   </g>\r\n",
       "   <g id=\"line2d_25\">\r\n",
       "    <path clip-path=\"url(#p1c3113cb52)\" d=\"M 279.5868 69.497352 \r\n",
       "L 288.6588 69.497352 \r\n",
       "\" style=\"fill:none;stroke:#000000;stroke-linecap:round;stroke-width:1.5;\"/>\r\n",
       "   </g>\r\n",
       "   <g id=\"line2d_26\">\r\n",
       "    <path clip-path=\"url(#p1c3113cb52)\" d=\"M 217.3788 30.438468 \r\n",
       "L 248.4828 49.96791 \r\n",
       "L 279.5868 69.497352 \r\n",
       "\" style=\"fill:none;stroke:#000000;stroke-linecap:round;stroke-width:1.5;\"/>\r\n",
       "   </g>\r\n",
       "   <g id=\"line2d_27\">\r\n",
       "    <path clip-path=\"url(#p1c3113cb52)\" d=\"M 153.8748 127.15884 \r\n",
       "L 216.7308 103.908096 \r\n",
       "L 279.5868 80.657352 \r\n",
       "\" style=\"fill:none;stroke:#000000;stroke-linecap:round;stroke-width:1.5;\"/>\r\n",
       "   </g>\r\n",
       "   <g id=\"patch_4\">\r\n",
       "    <path clip-path=\"url(#p1c3113cb52)\" d=\"M 26.8668 28.39284 \r\n",
       "C 27.382355 28.39284 27.876863 28.216457 28.241416 27.902537 \r\n",
       "C 28.605968 27.588617 28.8108 27.16279 28.8108 26.71884 \r\n",
       "C 28.8108 26.27489 28.605968 25.849063 28.241416 25.535143 \r\n",
       "C 27.876863 25.221223 27.382355 25.04484 26.8668 25.04484 \r\n",
       "C 26.351245 25.04484 25.856737 25.221223 25.492184 25.535143 \r\n",
       "C 25.127632 25.849063 24.9228 26.27489 24.9228 26.71884 \r\n",
       "C 24.9228 27.16279 25.127632 27.588617 25.492184 27.902537 \r\n",
       "C 25.856737 28.216457 26.351245 28.39284 26.8668 28.39284 \r\n",
       "z\r\n",
       "\" style=\"stroke:#000000;stroke-linejoin:miter;stroke-width:1.5;\"/>\r\n",
       "   </g>\r\n",
       "   <g id=\"patch_5\">\r\n",
       "    <path clip-path=\"url(#p1c3113cb52)\" d=\"M 26.8668 128.83284 \r\n",
       "C 27.382355 128.83284 27.876863 128.656457 28.241416 128.342537 \r\n",
       "C 28.605968 128.028617 28.8108 127.60279 28.8108 127.15884 \r\n",
       "C 28.8108 126.71489 28.605968 126.289063 28.241416 125.975143 \r\n",
       "C 27.876863 125.661223 27.382355 125.48484 26.8668 125.48484 \r\n",
       "C 26.351245 125.48484 25.856737 125.661223 25.492184 125.975143 \r\n",
       "C 25.127632 126.289063 24.9228 126.71489 24.9228 127.15884 \r\n",
       "C 24.9228 127.60279 25.127632 128.028617 25.492184 128.342537 \r\n",
       "C 25.856737 128.656457 26.351245 128.83284 26.8668 128.83284 \r\n",
       "z\r\n",
       "\" style=\"stroke:#000000;stroke-linejoin:miter;stroke-width:1.5;\"/>\r\n",
       "   </g>\r\n",
       "   <g id=\"patch_6\">\r\n",
       "    <path clip-path=\"url(#p1c3113cb52)\" d=\"M 211.4172 33.116868 \r\n",
       "C 212.242088 33.116868 213.033301 32.834655 213.616585 32.332383 \r\n",
       "C 214.199869 31.830111 214.5276 31.148788 214.5276 30.438468 \r\n",
       "C 214.5276 29.728148 214.199869 29.046825 213.616585 28.544553 \r\n",
       "C 213.033301 28.042281 212.242088 27.760068 211.4172 27.760068 \r\n",
       "C 210.592312 27.760068 209.801099 28.042281 209.217815 28.544553 \r\n",
       "C 208.634531 29.046825 208.3068 29.728148 208.3068 30.438468 \r\n",
       "C 208.3068 31.148788 208.634531 31.830111 209.217815 32.332383 \r\n",
       "C 209.801099 32.834655 210.592312 33.116868 211.4172 33.116868 \r\n",
       "z\r\n",
       "\" style=\"fill:none;stroke:#000000;stroke-linejoin:miter;stroke-width:1.5;\"/>\r\n",
       "   </g>\r\n",
       "   <g id=\"text_1\">\r\n",
       "    <!-- $X[0]$ -->\r\n",
       "    <defs>\r\n",
       "     <path d=\"M 6.296875 72.90625 \r\n",
       "L 16.890625 72.90625 \r\n",
       "L 35.015625 45.796875 \r\n",
       "L 53.21875 72.90625 \r\n",
       "L 63.8125 72.90625 \r\n",
       "L 40.375 37.890625 \r\n",
       "L 65.375 0 \r\n",
       "L 54.78125 0 \r\n",
       "L 34.28125 31 \r\n",
       "L 13.625 0 \r\n",
       "L 2.984375 0 \r\n",
       "L 29 38.921875 \r\n",
       "z\r\n",
       "\" id=\"DejaVuSans-88\"/>\r\n",
       "     <path d=\"M 8.59375 75.984375 \r\n",
       "L 29.296875 75.984375 \r\n",
       "L 29.296875 69 \r\n",
       "L 17.578125 69 \r\n",
       "L 17.578125 -6.203125 \r\n",
       "L 29.296875 -6.203125 \r\n",
       "L 29.296875 -13.1875 \r\n",
       "L 8.59375 -13.1875 \r\n",
       "z\r\n",
       "\" id=\"DejaVuSans-91\"/>\r\n",
       "     <path d=\"M 31.78125 66.40625 \r\n",
       "Q 24.171875 66.40625 20.328125 58.90625 \r\n",
       "Q 16.5 51.421875 16.5 36.375 \r\n",
       "Q 16.5 21.390625 20.328125 13.890625 \r\n",
       "Q 24.171875 6.390625 31.78125 6.390625 \r\n",
       "Q 39.453125 6.390625 43.28125 13.890625 \r\n",
       "Q 47.125 21.390625 47.125 36.375 \r\n",
       "Q 47.125 51.421875 43.28125 58.90625 \r\n",
       "Q 39.453125 66.40625 31.78125 66.40625 \r\n",
       "z\r\n",
       "M 31.78125 74.21875 \r\n",
       "Q 44.046875 74.21875 50.515625 64.515625 \r\n",
       "Q 56.984375 54.828125 56.984375 36.375 \r\n",
       "Q 56.984375 17.96875 50.515625 8.265625 \r\n",
       "Q 44.046875 -1.421875 31.78125 -1.421875 \r\n",
       "Q 19.53125 -1.421875 13.0625 8.265625 \r\n",
       "Q 6.59375 17.96875 6.59375 36.375 \r\n",
       "Q 6.59375 54.828125 13.0625 64.515625 \r\n",
       "Q 19.53125 74.21875 31.78125 74.21875 \r\n",
       "z\r\n",
       "\" id=\"DejaVuSans-48\"/>\r\n",
       "     <path d=\"M 30.421875 75.984375 \r\n",
       "L 30.421875 -13.1875 \r\n",
       "L 9.71875 -13.1875 \r\n",
       "L 9.71875 -6.203125 \r\n",
       "L 21.390625 -6.203125 \r\n",
       "L 21.390625 69 \r\n",
       "L 9.71875 69 \r\n",
       "L 9.71875 75.984375 \r\n",
       "z\r\n",
       "\" id=\"DejaVuSans-93\"/>\r\n",
       "    </defs>\r\n",
       "    <g transform=\"translate(18.4268 21.14909)scale(0.08 -0.08)\">\r\n",
       "     <use transform=\"translate(0 0.015625)\" xlink:href=\"#DejaVuSans-88\"/>\r\n",
       "     <use transform=\"translate(68.505859 0.015625)\" xlink:href=\"#DejaVuSans-91\"/>\r\n",
       "     <use transform=\"translate(107.519531 0.015625)\" xlink:href=\"#DejaVuSans-48\"/>\r\n",
       "     <use transform=\"translate(171.142578 0.015625)\" xlink:href=\"#DejaVuSans-93\"/>\r\n",
       "    </g>\r\n",
       "   </g>\r\n",
       "   <g id=\"text_2\">\r\n",
       "    <!-- $X[1]$ -->\r\n",
       "    <defs>\r\n",
       "     <path d=\"M 12.40625 8.296875 \r\n",
       "L 28.515625 8.296875 \r\n",
       "L 28.515625 63.921875 \r\n",
       "L 10.984375 60.40625 \r\n",
       "L 10.984375 69.390625 \r\n",
       "L 28.421875 72.90625 \r\n",
       "L 38.28125 72.90625 \r\n",
       "L 38.28125 8.296875 \r\n",
       "L 54.390625 8.296875 \r\n",
       "L 54.390625 0 \r\n",
       "L 12.40625 0 \r\n",
       "z\r\n",
       "\" id=\"DejaVuSans-49\"/>\r\n",
       "    </defs>\r\n",
       "    <g transform=\"translate(18.4268 121.58909)scale(0.08 -0.08)\">\r\n",
       "     <use transform=\"translate(0 0.015625)\" xlink:href=\"#DejaVuSans-88\"/>\r\n",
       "     <use transform=\"translate(68.505859 0.015625)\" xlink:href=\"#DejaVuSans-91\"/>\r\n",
       "     <use transform=\"translate(107.519531 0.015625)\" xlink:href=\"#DejaVuSans-49\"/>\r\n",
       "     <use transform=\"translate(171.142578 0.015625)\" xlink:href=\"#DejaVuSans-93\"/>\r\n",
       "    </g>\r\n",
       "   </g>\r\n",
       "   <g id=\"text_3\">\r\n",
       "    <!-- $Y[0]$ -->\r\n",
       "    <defs>\r\n",
       "     <path d=\"M -0.203125 72.90625 \r\n",
       "L 10.40625 72.90625 \r\n",
       "L 30.609375 42.921875 \r\n",
       "L 50.6875 72.90625 \r\n",
       "L 61.28125 72.90625 \r\n",
       "L 35.5 34.71875 \r\n",
       "L 35.5 0 \r\n",
       "L 25.59375 0 \r\n",
       "L 25.59375 34.71875 \r\n",
       "z\r\n",
       "\" id=\"DejaVuSans-89\"/>\r\n",
       "    </defs>\r\n",
       "    <g transform=\"translate(334.0188 77.284852)scale(0.08 -0.08)\">\r\n",
       "     <use transform=\"translate(0 0.015625)\" xlink:href=\"#DejaVuSans-89\"/>\r\n",
       "     <use transform=\"translate(61.083984 0.015625)\" xlink:href=\"#DejaVuSans-91\"/>\r\n",
       "     <use transform=\"translate(100.097656 0.015625)\" xlink:href=\"#DejaVuSans-48\"/>\r\n",
       "     <use transform=\"translate(163.720703 0.015625)\" xlink:href=\"#DejaVuSans-93\"/>\r\n",
       "    </g>\r\n",
       "   </g>\r\n",
       "  </g>\r\n",
       " </g>\r\n",
       " <defs>\r\n",
       "  <clipPath id=\"p1c3113cb52\">\r\n",
       "   <rect height=\"139.25448\" width=\"338.0616\" x=\"7.2\" y=\"7.2\"/>\r\n",
       "  </clipPath>\r\n",
       " </defs>\r\n",
       "</svg>\r\n"
      ],
      "text/plain": [
       "<Figure size 375.624x179.683 with 1 Axes>"
      ]
     },
     "metadata": {
      "needs_background": "light"
     },
     "output_type": "display_data"
    }
   ],
   "source": [
    "def XOR2(a,b):\n",
    "    t  = NOT(AND(a,b))\n",
    "    u =  OR(a,b)\n",
    "    return AND(t,u)\n",
    "\n",
    "def XOR(X):\n",
    "    c = XOR2(X[0],X[1])\n",
    "    for i in range(2,len(X)):\n",
    "        c = XOR2(c,X[i])\n",
    "    return c\n",
    "\n",
    "circuit(XOR2)"
   ]
  },
  {
   "cell_type": "code",
   "execution_count": 4,
   "metadata": {
    "slideshow": {
     "slide_type": "skip"
    }
   },
   "outputs": [],
   "source": [
    "# circuit(XOR,10)"
   ]
  },
  {
   "cell_type": "code",
   "execution_count": 5,
   "metadata": {
    "slideshow": {
     "slide_type": "skip"
    }
   },
   "outputs": [],
   "source": [
    "#for n in range(2,10):\n",
    "#    C = circuit(XOR,n)\n",
    "#    C.draw()"
   ]
  },
  {
   "cell_type": "code",
   "execution_count": 37,
   "metadata": {
    "slideshow": {
     "slide_type": "skip"
    }
   },
   "outputs": [],
   "source": [
    "import collections \n",
    "import inspect\n",
    "import re\n",
    "\n",
    "class QuitExecution(Exception):\n",
    "    pass\n",
    "\n",
    "class HaltExecution(Exception):\n",
    "    pass\n",
    "\n",
    "def extractstates(transition):\n",
    "    src = inspect.getsource(transition)\n",
    "    strings = re.findall( r'(?<!f)\"[a-zA-Z\\_0-9]*\"', src, re.I | re.M)\n",
    "    strings += re.findall( r\"(?<!f)'[a-zA-Z\\_0-9]*'\", src, re.I | re.M)\n",
    "    alphabet = [ \"▷\", \"·\",\"0\", \"1\" ]\n",
    "    states = [ \"START\"]\n",
    "    if src.find(\"boilerplate(\")>=0:\n",
    "        bpstates = [\"OUTPUT0\",\"OUTPUT1\",\"0ANDSTOP\",\"1ANDSTOP\"]\n",
    "    else: \n",
    "        bpstates = []\n",
    "    for s in strings:\n",
    "        t = s[1:-1]\n",
    "        if not t: continue\n",
    "        if len(t)>1:\n",
    "            if not t in states and not t in bpstates:\n",
    "                states.append(t)\n",
    "        else:\n",
    "            if not t in alphabet and not t in [\"L\",\"R\",\"H\",\"S\"]:\n",
    "                alphabet.append(t)\n",
    "    states += bpstates\n",
    "    return alphabet, states\n",
    "    \n",
    "class TuringMachine:\n",
    "   \n",
    "    def transition_table(self):\n",
    "    \n",
    "        T = {}\n",
    "        for i, s in enumerate(self.states):\n",
    "            for a in self.alphabet:\n",
    "                _s,_a,_m = self.transition(s,a)\n",
    "                T[(i,a)] = (self.states.index(_s),_a,_m)\n",
    "        return T\n",
    "        \n",
    "        \n",
    "        \n",
    "    def printtable(self,boiler=False):\n",
    "        header = [\"State\", \"Sym\", \"New State\", \"New Sym\", \"Move\"]\n",
    "        res = [header]\n",
    "        bpstates = [\"OUTPUT0\",\"OUTPUT1\",\"0ANDSTOP\",\"1ANDSTOP\"] if not boiler else []\n",
    "        skipped = False\n",
    "        for i, s in enumerate(self.states):\n",
    "            if s in bpstates: \n",
    "                skipped = True\n",
    "                continue\n",
    "            for a in self.alphabet:\n",
    "                s_, a_, m_ = self.transition(s,a)\n",
    "                res.append([f\"{i} ({s})\", a, s_, a_, m_ ])\n",
    "        if skipped: res.append([\"_boilerplate_\",\"...\",\"...\",\"...\",\"...\"])\n",
    "        display(mdtable(res))\n",
    "        \n",
    "    def _repr_pretty_(self, p, cycle):\n",
    "        if cycle: return \"cycle\"\n",
    "        self.printtable()\n",
    "        return None\n",
    "\n",
    "    def __init__(self, transition):\n",
    "        self.tape =  collections.defaultdict(lambda :\"·\")\n",
    "        self.tape[0] = \"▷\"\n",
    "        self.alphabet = [ \"▷\", \"·\",\"0\", \"1\" ]\n",
    "        self.transition = transition\n",
    "        self.head = 0\n",
    "        self.alphabet , self.states = extractstates(transition)\n",
    "        self.state = \"START\"\n",
    "        self.MAXSTEPS = 60\n",
    "        self.lenstate = max([len(s) for s in self.states])\n",
    "        self.history = []\n",
    "        \n",
    "    def input(self, x):\n",
    "        self.tape = [ \"▷\" ] + [str(a) for a in x ] + [ \"·\" ]\n",
    "        self.state = \"START\"\n",
    "        self.head = 0 \n",
    "    \n",
    "    def printstate(self):\n",
    "        tape_ = [self.tape[i] if i != self.head else myred(self.tape[i]) for i in range(len(self.tape))]\n",
    "        print(self.state.ljust(self.lenstate) + \" \"+ \"\".join(tape_))\n",
    "        return None\n",
    "    \n",
    "    \n",
    "    def next(self):\n",
    "        self.history.append((self.state, self.head, list(self.tape)))\n",
    "        self.state,self.tape[self.head],move = self.transition(self.state, self.tape[self.head])\n",
    "        if not self.state in self.states:\n",
    "            self.states.append(self.state)\n",
    "        if move==\"L\":\n",
    "            self.head = max(0, self.head-1)\n",
    "        if move ==\"R\":\n",
    "            self.head += 1\n",
    "            if self.head == len(self.tape):\n",
    "                self.tape.append(\"·\")\n",
    "        if move ==\"H\":\n",
    "            raise HaltExecution(\"Halted\")\n",
    "    \n",
    "    def prev(self):\n",
    "        if not self.history:\n",
    "            raise Exception(\"Can't go back - history is empty\")\n",
    "        self.state,self.head, self.tape = self.history.pop()\n",
    "        \n",
    "    def run(self,iterate = False, maxsteps = 0):\n",
    "        if iterate:\n",
    "            print(\"q(uit), n(ext),p(rev),c(lear),r(un),s(kip) XX\")\n",
    "        if not maxsteps:\n",
    "            maxsteps = self.MAXSTEPS\n",
    "        t = 0\n",
    "        noprinting = 0\n",
    "        quit_cmd = False\n",
    "        try:\n",
    "            while True:\n",
    "                if noprinting>0:\n",
    "                    noprinting -= 1\n",
    "                else:\n",
    "                    self.printstate()\n",
    "                if iterate and noprinting<=0:\n",
    "                    cmd = input(\"\")\n",
    "                    #CURSOR_UP_ONE = '\\x1b[1A'\n",
    "                    #ERASE_LINE = '\\x1b[2K'\n",
    "                    #print(CURSOR_UP_ONE + ERASE_LINE + CURSOR_UP_ONE)\n",
    "                    \n",
    "                    c = cmd[0] if cmd else \"n\"\n",
    "                    if c==\"c\":\n",
    "                        clear_output()\n",
    "                    elif c==\"r\":\n",
    "                        iterate = False\n",
    "                    elif c==\"s\":\n",
    "                        _,num = cmd.split(' ')\n",
    "                        print(\"...\")\n",
    "                        noprinting = int(num)\n",
    "                    elif c==\"p\":\n",
    "                        self.prev()\n",
    "                        t -= 1\n",
    "                        continue\n",
    "                    elif c==\"q\":\n",
    "                        raise QuitExecution(\"User quit\")\n",
    "                self.next()\n",
    "                if t >= maxsteps:\n",
    "                    raise Exception(\"Too many steps\")\n",
    "                t += 1\n",
    "               \n",
    "        except HaltExecution as e:\n",
    "            msg = str(e)\n",
    "            self.printstate()\n",
    "            y = \"\"\n",
    "            i = 1\n",
    "            while self.tape[i] != \"·\":\n",
    "                y += self.tape[i]\n",
    "                i += 1\n",
    "            return y\n",
    "        except  QuitExecution as e:\n",
    "            print(str(e))\n",
    "            \n",
    "\n",
    "            "
   ]
  },
  {
   "cell_type": "markdown",
   "metadata": {
    "slideshow": {
     "slide_type": "slide"
    }
   },
   "source": [
    "__Q:__ Write Turing machine that computes $XOR:\\{0,1\\}^n \\rightarrow \\{0,1\\}$"
   ]
  },
  {
   "cell_type": "code",
   "execution_count": 38,
   "metadata": {
    "slideshow": {
     "slide_type": "slide"
    }
   },
   "outputs": [],
   "source": [
    "def xortm(state,sym):\n",
    "    move = \"R\"\n",
    "    if state==\"START\":\n",
    "        state = \"EVEN\"\n",
    "    elif state in [\"EVEN\",\"ODD\"]:\n",
    "        if sym== \"·\":\n",
    "            state = \"OUTPUT1\" if state==\"ODD\" else \"OUTPUT0\"\n",
    "            move  = \"L\"\n",
    "        elif sym==\"1\":\n",
    "            state = \"EVEN\" if state==\"ODD\" else \"ODD\"\n",
    "    else:\n",
    "        state,sym,move = boilerplate(state,sym)\n",
    "    return state,sym,move"
   ]
  },
  {
   "cell_type": "code",
   "execution_count": 39,
   "metadata": {
    "slideshow": {
     "slide_type": "slide"
    }
   },
   "outputs": [],
   "source": [
    "def boilerplate(state,sym):\n",
    "    move = \"H\"\n",
    "    if state in [\"OUTPUT1\",\"OUTPUT0\"]:\n",
    "        if sym != \"▷\":\n",
    "            move = \"L\"\n",
    "            sym= \"·\"\n",
    "        else:\n",
    "            move = \"R\"\n",
    "            state = state[-1]+\"ANDSTOP\"\n",
    "    elif state[1:] ==\"ANDSTOP\":\n",
    "        move = \"H\"\n",
    "        sym = state[0]\n",
    "    return state,sym,move\n"
   ]
  },
  {
   "cell_type": "code",
   "execution_count": 40,
   "metadata": {
    "slideshow": {
     "slide_type": "slide"
    }
   },
   "outputs": [
    {
     "data": {
      "text/markdown": [
       "<B>State        </B> | <B>Sym          </B> | <B>New State    </B> | <B>New Sym      </B> | <B>Move         </B>\n",
       "--------------|--------------|--------------|--------------|--------------\n",
       "0 (START)     | ▷             | EVEN          | ▷             | R            \n",
       "0 (START)     | ·             | EVEN          | ·             | R            \n",
       "0 (START)     | 0             | EVEN          | 0             | R            \n",
       "0 (START)     | 1             | EVEN          | 1             | R            \n",
       "1 (EVEN)      | ▷             | EVEN          | ▷             | R            \n",
       "1 (EVEN)      | ·             | OUTPUT0       | ·             | L            \n",
       "1 (EVEN)      | 0             | EVEN          | 0             | R            \n",
       "1 (EVEN)      | 1             | ODD           | 1             | R            \n",
       "2 (ODD)       | ▷             | ODD           | ▷             | R            \n",
       "2 (ODD)       | ·             | OUTPUT1       | ·             | L            \n",
       "2 (ODD)       | 0             | ODD           | 0             | R            \n",
       "2 (ODD)       | 1             | EVEN          | 1             | R            \n",
       "_boilerplate_ | ...           | ...           | ...           | ...          \n"
      ],
      "text/plain": [
       "<IPython.core.display.Markdown object>"
      ]
     },
     "metadata": {},
     "output_type": "display_data"
    }
   ],
   "source": [
    "MXOR = TuringMachine(xortm)\n",
    "MXOR.printtable(False)"
   ]
  },
  {
   "cell_type": "code",
   "execution_count": 41,
   "metadata": {
    "slideshow": {
     "slide_type": "slide"
    }
   },
   "outputs": [
    {
     "name": "stdout",
     "output_type": "stream",
     "text": [
      "START    \u001b[91m▷\u001b[0m1011·\n"
     ]
    }
   ],
   "source": [
    "MXOR.input(\"1011\")\n",
    "MXOR.printstate()"
   ]
  },
  {
   "cell_type": "code",
   "execution_count": 42,
   "metadata": {
    "slideshow": {
     "slide_type": "fragment"
    }
   },
   "outputs": [
    {
     "name": "stdout",
     "output_type": "stream",
     "text": [
      "START    \u001b[91m▷\u001b[0m1011·\n",
      "EVEN     ▷\u001b[91m1\u001b[0m011·\n",
      "ODD      ▷1\u001b[91m0\u001b[0m11·\n",
      "ODD      ▷10\u001b[91m1\u001b[0m1·\n",
      "EVEN     ▷101\u001b[91m1\u001b[0m·\n",
      "ODD      ▷1011\u001b[91m·\u001b[0m\n",
      "OUTPUT1  ▷101\u001b[91m1\u001b[0m·\n",
      "OUTPUT1  ▷10\u001b[91m1\u001b[0m··\n",
      "OUTPUT1  ▷1\u001b[91m0\u001b[0m···\n",
      "OUTPUT1  ▷\u001b[91m1\u001b[0m····\n",
      "OUTPUT1  \u001b[91m▷\u001b[0m·····\n",
      "1ANDSTOP ▷\u001b[91m·\u001b[0m····\n",
      "1ANDSTOP ▷\u001b[91m1\u001b[0m····\n"
     ]
    },
    {
     "data": {
      "text/plain": [
       "'1'"
      ]
     },
     "execution_count": 42,
     "metadata": {},
     "output_type": "execute_result"
    }
   ],
   "source": [
    "MXOR.run()"
   ]
  },
  {
   "cell_type": "markdown",
   "metadata": {
    "slideshow": {
     "slide_type": "slide"
    }
   },
   "source": [
    "__Q:__ Write a TM $M$ such that for every $x\\in \\{0,1\\}^n$, if $M$'s tape is initialized with $\\triangleright x_0 x_1 \\cdots x_{n-1} \\cdots$ then when it halts the tape is $\\triangleright PAL(x) \\cdots$ where $PAL(x)=1$ iff $x_i=x_{n-i}$ for every $i\\in [n]$."
   ]
  },
  {
   "cell_type": "code",
   "execution_count": 49,
   "metadata": {
    "slideshow": {
     "slide_type": "slide"
    }
   },
   "outputs": [],
   "source": [
    "def palindrome(state,sym):\n",
    "    if sym== \"▷\" and state in [\"START\",\"SCANLEFT\"]:\n",
    "        state = \"LEFTMOST\"\n",
    "        move = \"R\"\n",
    "    elif state == \"LEFTMOST\":\n",
    "        if sym == \"·\":\n",
    "            state, move = \"OUTPUT1\",\"S\"\n",
    "        else:\n",
    "            state = \"LOOK0_SAW0\" if sym==\"0\" else \"LOOK1_SAW1\"\n",
    "            sym,move  = \"·\",\"R\"\n",
    "    elif state in [ \"LOOK0_SAW0\", \"LOOK0_SAW1\", \"LOOK1_SAW0\", \"LOOK1_SAW1\" ]:\n",
    "        if sym == \"▷\":\n",
    "            move = \"H\"\n",
    "        elif sym == \"·\":\n",
    "            state = \"OUTPUT0\" if state[4] != state[9] else \"ERASE\"\n",
    "            move  = \"L\"\n",
    "        else:\n",
    "            state, move = state[:-1]+sym, \"R\"\n",
    "    elif state == \"ERASE\":\n",
    "        if sym == \"·\":\n",
    "            state,move = \"LEFTMOST\",\"R\"\n",
    "        else:\n",
    "            state,sym,move = \"SCANLEFT\", \"·\", \"L\"\n",
    "    elif state == \"SCANLEFT\":\n",
    "        if sym == \"·\":\n",
    "            state,move = \"LEFTMOST\",\"R\"\n",
    "        else:\n",
    "            move = \"L\"\n",
    "    else:\n",
    "        state,sym,move = boilerplate(state,sym)\n",
    "    return state,sym,move"
   ]
  },
  {
   "cell_type": "code",
   "execution_count": 50,
   "metadata": {
    "slideshow": {
     "slide_type": "slide"
    }
   },
   "outputs": [
    {
     "data": {
      "text/markdown": [
       "<B>State         </B> | <B>Sym           </B> | <B>New State     </B> | <B>New Sym       </B> | <B>Move          </B>\n",
       "---------------|---------------|---------------|---------------|---------------\n",
       "0 (START)      | ▷              | LEFTMOST       | ▷              | R             \n",
       "0 (START)      | ·              | START          | ·              | H             \n",
       "0 (START)      | 0              | START          | 0              | H             \n",
       "0 (START)      | 1              | START          | 1              | H             \n",
       "1 (SCANLEFT)   | ▷              | LEFTMOST       | ▷              | R             \n",
       "1 (SCANLEFT)   | ·              | LEFTMOST       | ·              | R             \n",
       "1 (SCANLEFT)   | 0              | SCANLEFT       | 0              | L             \n",
       "1 (SCANLEFT)   | 1              | SCANLEFT       | 1              | L             \n",
       "2 (LEFTMOST)   | ▷              | LOOK1_SAW1     | ·              | R             \n",
       "2 (LEFTMOST)   | ·              | OUTPUT1        | ·              | S             \n",
       "2 (LEFTMOST)   | 0              | LOOK0_SAW0     | ·              | R             \n",
       "2 (LEFTMOST)   | 1              | LOOK1_SAW1     | ·              | R             \n",
       "3 (LOOK0_SAW0) | ▷              | LOOK0_SAW0     | ▷              | H             \n",
       "3 (LOOK0_SAW0) | ·              | ERASE          | ·              | L             \n",
       "3 (LOOK0_SAW0) | 0              | LOOK0_SAW0     | 0              | R             \n",
       "3 (LOOK0_SAW0) | 1              | LOOK0_SAW1     | 1              | R             \n",
       "4 (LOOK1_SAW1) | ▷              | LOOK1_SAW1     | ▷              | H             \n",
       "4 (LOOK1_SAW1) | ·              | ERASE          | ·              | L             \n",
       "4 (LOOK1_SAW1) | 0              | LOOK1_SAW0     | 0              | R             \n",
       "4 (LOOK1_SAW1) | 1              | LOOK1_SAW1     | 1              | R             \n",
       "5 (LOOK0_SAW1) | ▷              | LOOK0_SAW1     | ▷              | H             \n",
       "5 (LOOK0_SAW1) | ·              | OUTPUT0        | ·              | L             \n",
       "5 (LOOK0_SAW1) | 0              | LOOK0_SAW0     | 0              | R             \n",
       "5 (LOOK0_SAW1) | 1              | LOOK0_SAW1     | 1              | R             \n",
       "6 (LOOK1_SAW0) | ▷              | LOOK1_SAW0     | ▷              | H             \n",
       "6 (LOOK1_SAW0) | ·              | OUTPUT0        | ·              | L             \n",
       "6 (LOOK1_SAW0) | 0              | LOOK1_SAW0     | 0              | R             \n",
       "6 (LOOK1_SAW0) | 1              | LOOK1_SAW1     | 1              | R             \n",
       "7 (ERASE)      | ▷              | SCANLEFT       | ·              | L             \n",
       "7 (ERASE)      | ·              | LEFTMOST       | ·              | R             \n",
       "7 (ERASE)      | 0              | SCANLEFT       | ·              | L             \n",
       "7 (ERASE)      | 1              | SCANLEFT       | ·              | L             \n",
       "_boilerplate_  | ...            | ...            | ...            | ...           \n"
      ],
      "text/plain": [
       "<IPython.core.display.Markdown object>"
      ]
     },
     "metadata": {},
     "output_type": "display_data"
    },
    {
     "data": {
      "text/plain": []
     },
     "execution_count": 50,
     "metadata": {},
     "output_type": "execute_result"
    }
   ],
   "source": [
    "PalM = TuringMachine(palindrome)\n",
    "PalM"
   ]
  },
  {
   "cell_type": "code",
   "execution_count": 51,
   "metadata": {
    "slideshow": {
     "slide_type": "slide"
    }
   },
   "outputs": [
    {
     "name": "stdout",
     "output_type": "stream",
     "text": [
      "START      \u001b[91m▷\u001b[0m11001·\n"
     ]
    }
   ],
   "source": [
    "PalM.input(\"11001\")\n",
    "PalM.printstate()"
   ]
  },
  {
   "cell_type": "code",
   "execution_count": 52,
   "metadata": {
    "slideshow": {
     "slide_type": "fragment"
    }
   },
   "outputs": [
    {
     "name": "stdout",
     "output_type": "stream",
     "text": [
      "START      \u001b[91m▷\u001b[0m11001·\n",
      "LEFTMOST   ▷\u001b[91m1\u001b[0m1001·\n",
      "LOOK1_SAW1 ▷·\u001b[91m1\u001b[0m001·\n",
      "LOOK1_SAW1 ▷·1\u001b[91m0\u001b[0m01·\n",
      "LOOK1_SAW0 ▷·10\u001b[91m0\u001b[0m1·\n",
      "LOOK1_SAW0 ▷·100\u001b[91m1\u001b[0m·\n",
      "LOOK1_SAW1 ▷·1001\u001b[91m·\u001b[0m\n",
      "ERASE      ▷·100\u001b[91m1\u001b[0m·\n",
      "SCANLEFT   ▷·10\u001b[91m0\u001b[0m··\n",
      "SCANLEFT   ▷·1\u001b[91m0\u001b[0m0··\n",
      "SCANLEFT   ▷·\u001b[91m1\u001b[0m00··\n",
      "SCANLEFT   ▷\u001b[91m·\u001b[0m100··\n",
      "LEFTMOST   ▷·\u001b[91m1\u001b[0m00··\n",
      "LOOK1_SAW1 ▷··\u001b[91m0\u001b[0m0··\n",
      "LOOK1_SAW0 ▷··0\u001b[91m0\u001b[0m··\n",
      "LOOK1_SAW0 ▷··00\u001b[91m·\u001b[0m·\n",
      "OUTPUT0    ▷··0\u001b[91m0\u001b[0m··\n",
      "OUTPUT0    ▷··\u001b[91m0\u001b[0m···\n",
      "OUTPUT0    ▷·\u001b[91m·\u001b[0m····\n",
      "OUTPUT0    ▷\u001b[91m·\u001b[0m·····\n",
      "OUTPUT0    \u001b[91m▷\u001b[0m······\n",
      "0ANDSTOP   ▷\u001b[91m·\u001b[0m·····\n",
      "0ANDSTOP   ▷\u001b[91m0\u001b[0m·····\n"
     ]
    },
    {
     "data": {
      "text/plain": [
       "'0'"
      ]
     },
     "execution_count": 52,
     "metadata": {},
     "output_type": "execute_result"
    }
   ],
   "source": [
    "PalM.run()"
   ]
  },
  {
   "cell_type": "code",
   "execution_count": 53,
   "metadata": {},
   "outputs": [
    {
     "data": {
      "text/plain": [
       "{(0, '▷'): (2, '▷', 'R'),\n",
       " (0, '·'): (0, '·', 'H'),\n",
       " (0, '0'): (0, '0', 'H'),\n",
       " (0, '1'): (0, '1', 'H'),\n",
       " (1, '▷'): (2, '▷', 'R'),\n",
       " (1, '·'): (2, '·', 'R'),\n",
       " (1, '0'): (1, '0', 'L'),\n",
       " (1, '1'): (1, '1', 'L'),\n",
       " (2, '▷'): (4, '·', 'R'),\n",
       " (2, '·'): (9, '·', 'S'),\n",
       " (2, '0'): (3, '·', 'R'),\n",
       " (2, '1'): (4, '·', 'R'),\n",
       " (3, '▷'): (3, '▷', 'H'),\n",
       " (3, '·'): (7, '·', 'L'),\n",
       " (3, '0'): (3, '0', 'R'),\n",
       " (3, '1'): (5, '1', 'R'),\n",
       " (4, '▷'): (4, '▷', 'H'),\n",
       " (4, '·'): (7, '·', 'L'),\n",
       " (4, '0'): (6, '0', 'R'),\n",
       " (4, '1'): (4, '1', 'R'),\n",
       " (5, '▷'): (5, '▷', 'H'),\n",
       " (5, '·'): (8, '·', 'L'),\n",
       " (5, '0'): (3, '0', 'R'),\n",
       " (5, '1'): (5, '1', 'R'),\n",
       " (6, '▷'): (6, '▷', 'H'),\n",
       " (6, '·'): (8, '·', 'L'),\n",
       " (6, '0'): (6, '0', 'R'),\n",
       " (6, '1'): (4, '1', 'R'),\n",
       " (7, '▷'): (1, '·', 'L'),\n",
       " (7, '·'): (2, '·', 'R'),\n",
       " (7, '0'): (1, '·', 'L'),\n",
       " (7, '1'): (1, '·', 'L'),\n",
       " (8, '▷'): (10, '▷', 'R'),\n",
       " (8, '·'): (8, '·', 'L'),\n",
       " (8, '0'): (8, '·', 'L'),\n",
       " (8, '1'): (8, '·', 'L'),\n",
       " (9, '▷'): (11, '▷', 'R'),\n",
       " (9, '·'): (9, '·', 'L'),\n",
       " (9, '0'): (9, '·', 'L'),\n",
       " (9, '1'): (9, '·', 'L'),\n",
       " (10, '▷'): (10, '0', 'H'),\n",
       " (10, '·'): (10, '0', 'H'),\n",
       " (10, '0'): (10, '0', 'H'),\n",
       " (10, '1'): (10, '0', 'H'),\n",
       " (11, '▷'): (11, '1', 'H'),\n",
       " (11, '·'): (11, '1', 'H'),\n",
       " (11, '0'): (11, '1', 'H'),\n",
       " (11, '1'): (11, '1', 'H')}"
      ]
     },
     "execution_count": 53,
     "metadata": {},
     "output_type": "execute_result"
    }
   ],
   "source": [
    "PalM.transition_table()"
   ]
  },
  {
   "cell_type": "markdown",
   "metadata": {},
   "source": [
    "## Evaluating TMs"
   ]
  },
  {
   "cell_type": "code",
   "execution_count": null,
   "metadata": {},
   "outputs": [],
   "source": [
    "# Use "
   ]
  },
  {
   "cell_type": "code",
   "execution_count": 61,
   "metadata": {},
   "outputs": [],
   "source": [
    "def EVAL(δ,x):\n",
    "    Tape = [\"▷\"] + [a for a in x]\n",
    "    i = 0; s = 0 \n",
    "    while True:\n",
    "        s, Tape[i], d = δ[(s,Tape[i])] \n",
    "        if d == \"H\": break\n",
    "        if d == \"L\": i = max(i-1,0)\n",
    "        if d == \"R\": i += 1\n",
    "        if i>= len(Tape): Tape.append('Φ')\n",
    "    return Tape[1]"
   ]
  },
  {
   "cell_type": "code",
   "execution_count": null,
   "metadata": {},
   "outputs": [],
   "source": []
  },
  {
   "cell_type": "code",
   "execution_count": null,
   "metadata": {},
   "outputs": [],
   "source": [
    "def EVAL(δ,x): \n",
    "    '''Evaluate TM given by transition table δ \n",
    "    on input x'''\n",
    "    Tape = [\"▷\"] + [a for a in x]\n",
    "    i = 0; s = 0 # i = head pos, s = state\n",
    "    while True:\n",
    "        s, Tape[i], d = δ[(s,Tape[i])] \n",
    "        if d == \"H\": break\n",
    "        if d == \"L\": i = max(i-1,0)\n",
    "        if d == \"R\": i += 1\n",
    "        if i>= len(Tape): Tape.append('Φ')\n",
    "            \n",
    "    j = 1; Y = [] # produce output\n",
    "    while Tape[j] != 'Φ': \n",
    "        Y.append(Tape[j])\n",
    "        j += 1\n",
    "    return Y"
   ]
  },
  {
   "cell_type": "code",
   "execution_count": 60,
   "metadata": {},
   "outputs": [
    {
     "data": {
      "text/plain": [
       "'1'"
      ]
     },
     "execution_count": 60,
     "metadata": {},
     "output_type": "execute_result"
    }
   ],
   "source": [
    "EVAL(PalM.transition_table(),\"11011\")"
   ]
  },
  {
   "cell_type": "markdown",
   "metadata": {},
   "source": [
    "## NAND-TM"
   ]
  },
  {
   "cell_type": "code",
   "execution_count": null,
   "metadata": {
    "slideshow": {
     "slide_type": "skip"
    }
   },
   "outputs": [],
   "source": [
    "import time\n",
    "\n",
    "def extractvars(src):\n",
    "    varnames = re.findall( r'(?<!f)[a-zA-Z\\_0-9]+', src, re.I | re.M)\n",
    "    arrays = [\"X\",\"X_nonblank\",\"Y\",\"Y_nonblank\"]\n",
    "    scalars = []\n",
    "    for t in varnames:\n",
    "        if t in ['i','0','1'] or t=='NAND': continue\n",
    "        if t[0].isupper():\n",
    "            if not t in arrays: arrays.append(t)\n",
    "        else:\n",
    "            if not t in scalars: scalars.append(t)\n",
    "    return scalars, arrays\n",
    "    \n",
    "class NANDTM:\n",
    "   \n",
    "        \n",
    "    def _repr_pretty_(self, p, cycle):\n",
    "        if cycle: return \"cycle\"\n",
    "        print (self.source)\n",
    "        \n",
    "    def __init__(self, source):\n",
    "        self.source = [l for l in source.split('\\n') if l]\n",
    "        self.scalars , self.arrays  =  extractvars(source)\n",
    "        self.vals = collections.defaultdict(int)\n",
    "        self.i = 0\n",
    "        self.pc = 0\n",
    "        self.maxlen = 1\n",
    "        self.namelen = max([len(a) for a in self.scalars]+[len(a) for a in self.arrays])\n",
    "        self.MAXSTEPS = 50\n",
    "        self.modified = ()\n",
    "        \n",
    "    def getval(self,varname, i = 0):\n",
    "        return self.vals[(varname,i)]\n",
    "        \n",
    "    def setval(self,varname,i,val):\n",
    "        self.vals[(varname,i)] = val\n",
    "        \n",
    "    \n",
    "    def input(self, x):\n",
    "        for i,a in enumerate(x):\n",
    "            self.setval(\"X\",i,int(a))\n",
    "            self.setval(\"X_nonblank\",i,1)\n",
    "        self.pc = 0\n",
    "        self.i = 0\n",
    "        self.maxlen = len(x)\n",
    "    \n",
    "    def modifiedvar(self):\n",
    "        line = self.source[self.pc]\n",
    "        if line[:9] == \"MODANDJMP\": return (\"_\",0)\n",
    "        foo, op, bar, blah = parseline(line)\n",
    "        if foo[-1]==']':\n",
    "            j = foo.find(\"[\")\n",
    "            name_ = foo[:j]\n",
    "            i_    = self.i if foo[j+1]=='i' else int(foo[j+1:-1])\n",
    "        else:\n",
    "            name_ = foo\n",
    "            i_ = 0\n",
    "        return name_,i_\n",
    "    \n",
    "    def printstate(self):\n",
    "        res = \"\"\n",
    "        def arrvals(name):\n",
    "            def v(name,i):\n",
    "                name_,i_ = self.modifiedvar()\n",
    "                a = str(self.getval(name,i))\n",
    "                if (name_,i_)==(name,i):\n",
    "                    return mygreen(a)\n",
    "                if self.i == i:\n",
    "                    return myred(a)\n",
    "                return a\n",
    "            return \"\".join([v(name,i) for i in range(self.maxlen) ])\n",
    "        name_,i_ = self.modifiedvar()\n",
    "        \n",
    "        for a in self.arrays:\n",
    "            b = mygreen(a.ljust(self.namelen)) if a==name_ else a.ljust(self.namelen)\n",
    "            res += b + \": \"+ arrvals(a)+\"\\n\"\n",
    "        for a in self.scalars:\n",
    "            b = mygreen(a.ljust(self.namelen)) if a==name_ else a.ljust(self.namelen)\n",
    "            res += b + \": \"+ str(self.getval(a))+\"\\n\"\n",
    "        res += \"\\n\"\n",
    "        for p,l in enumerate(self.source):\n",
    "            if p == self.pc:\n",
    "                l = myred(l)\n",
    "            res += l+\"\\n\"\n",
    "        print(res)\n",
    "    \n",
    "    \n",
    "    def next(self,printstate = False):\n",
    "        def pname(foo):\n",
    "            if foo[-1]==']':\n",
    "                j = foo.find(\"[\")\n",
    "                name = foo[:j]\n",
    "                i    = self.i if foo[j+1]=='i' else int(foo[j+1:-1])\n",
    "            else:\n",
    "                name = foo\n",
    "                i = 0\n",
    "            return name,i\n",
    "        \n",
    "        line = self.source[self.pc]\n",
    "        if line[:9] == \"MODANDJMP\":\n",
    "            j = line.find(\"(\")\n",
    "            k = line.find(\",\")\n",
    "            l = line.find(\")\")\n",
    "            a = self.getval(*pname(line[j+1:k].strip()))\n",
    "            b = self.getval(*pname(line[k+1:l].strip()))\n",
    "            if printstate:\n",
    "                clear_output()\n",
    "                self.printstate()\n",
    "            if not a and not b: raise HaltExecution(\"halted\")\n",
    "            if b:\n",
    "                if a: self.i += 1\n",
    "                else: self.i = max(0,self.i-1)\n",
    "            self.pc = 0\n",
    "            self.maxlen = max(self.maxlen, self.i+1)\n",
    "            return\n",
    "        foo, op, bar, blah = parseline(line)\n",
    "        a = self.getval(*pname(bar))\n",
    "        b = self.getval(*pname(blah))\n",
    "        self.setval(*pname(foo),1-a*b)\n",
    "        self.pc = self.pc + 1 \n",
    "        if printstate:\n",
    "            clear_output()\n",
    "            self.printstate()\n",
    "    \n",
    "    def run(self,iterate = False, maxsteps = 0):\n",
    "        if iterate:\n",
    "            print(\"q(uit), n(ext),p(rev),c(lear),r(un),s(kip) XX\")\n",
    "        if not maxsteps:\n",
    "            maxsteps = self.MAXSTEPS\n",
    "        t = 0\n",
    "        noprinting = 0\n",
    "        quit_cmd = False\n",
    "        try:\n",
    "            while True:\n",
    "                if noprinting>0:\n",
    "                    noprinting -= 1\n",
    "                else:\n",
    "                    clear_output()\n",
    "                    self.printstate()\n",
    "                if iterate and noprinting<=0:\n",
    "                    cmd = input(\"\")\n",
    "                    #CURSOR_UP_ONE = '\\x1b[1A'\n",
    "                    #ERASE_LINE = '\\x1b[2K'\n",
    "                    #print(CURSOR_UP_ONE + ERASE_LINE + CURSOR_UP_ONE)\n",
    "                    \n",
    "                    c = cmd[0] if cmd else \"n\"\n",
    "                    if c==\"c\":\n",
    "                        clear_output()\n",
    "                    elif c==\"r\":\n",
    "                        iterate = False\n",
    "                    elif c==\"s\":\n",
    "                        _,num = cmd.split(' ')\n",
    "                        print(\"...\")\n",
    "                        noprinting = int(num)\n",
    "                    elif c==\"p\":\n",
    "                        self.prev()\n",
    "                        t -= 1\n",
    "                        continue\n",
    "                    elif c==\"q\":\n",
    "                        raise QuitExecution(\"User quit\")\n",
    "                self.next()\n",
    "                if t >= maxsteps:\n",
    "                    raise Exception(\"Too many steps\")\n",
    "                t += 1\n",
    "               \n",
    "        except HaltExecution as e:\n",
    "            msg = str(e)\n",
    "            clear_output()\n",
    "            self.printstate()\n",
    "            y = \"\"\n",
    "            i = 0\n",
    "            while self.getval(\"Y_nonblank\",i) :\n",
    "                y += str(self.getval(\"Y\",i))\n",
    "                i += 1\n",
    "            return y\n",
    "        except  QuitExecution as e:\n",
    "            print(str(e))\n",
    "            \n",
    "\n",
    "            "
   ]
  },
  {
   "cell_type": "code",
   "execution_count": 87,
   "metadata": {
    "slideshow": {
     "slide_type": "slide"
    }
   },
   "outputs": [],
   "source": [
    "source = r'''temp_0 = NAND(X[0],X[0])\n",
    "Y_nonblank[0] = NAND(X[0],temp_0)\n",
    "temp_2 = NAND(X[i],Y[0])\n",
    "temp_3 = NAND(X[i],temp_2)\n",
    "temp_4 = NAND(Y[0],temp_2)\n",
    "Y[0] = NAND(temp_3,temp_4)\n",
    "MODANDJMP(X_nonblank[i],X_nonblank[i])'''\n",
    "\n",
    "xorprog = NANDTM(source)\n",
    "xorprog.input(\"111\")"
   ]
  },
  {
   "cell_type": "code",
   "execution_count": 88,
   "metadata": {
    "slideshow": {
     "slide_type": "slide"
    }
   },
   "outputs": [
    {
     "name": "stdout",
     "output_type": "stream",
     "text": [
      "X         : \u001b[91m1\u001b[0m11\n",
      "X_nonblank: \u001b[91m1\u001b[0m11\n",
      "Y         : \u001b[91m0\u001b[0m00\n",
      "Y_nonblank: \u001b[91m0\u001b[0m00\n",
      "MODANDJMP : \u001b[91m0\u001b[0m00\n",
      "\u001b[32mtemp_0    \u001b[0m: 0\n",
      "temp_2    : 0\n",
      "temp_3    : 0\n",
      "temp_4    : 0\n",
      "\n",
      "\u001b[91mtemp_0 = NAND(X[0],X[0])\u001b[0m\n",
      "Y_nonblank[0] = NAND(X[0],temp_0)\n",
      "temp_2 = NAND(X[i],Y[0])\n",
      "temp_3 = NAND(X[i],temp_2)\n",
      "temp_4 = NAND(Y[0],temp_2)\n",
      "Y[0] = NAND(temp_3,temp_4)\n",
      "MODANDJMP(X_nonblank[i],X_nonblank[i])\n",
      "\n"
     ]
    }
   ],
   "source": [
    "xorprog.printstate()"
   ]
  },
  {
   "cell_type": "code",
   "execution_count": 89,
   "metadata": {
    "slideshow": {
     "slide_type": "slide"
    }
   },
   "outputs": [
    {
     "name": "stdout",
     "output_type": "stream",
     "text": [
      "X         : \u001b[91m1\u001b[0m011\n",
      "X_nonblank: \u001b[91m1\u001b[0m111\n",
      "Y         : \u001b[91m0\u001b[0m000\n",
      "Y_nonblank: \u001b[91m0\u001b[0m000\n",
      "MODANDJMP : \u001b[91m0\u001b[0m000\n",
      "\u001b[32mtemp_0    \u001b[0m: 0\n",
      "temp_2    : 0\n",
      "temp_3    : 0\n",
      "temp_4    : 0\n",
      "\n",
      "\u001b[91mtemp_0 = NAND(X[0],X[0])\u001b[0m\n",
      "Y_nonblank[0] = NAND(X[0],temp_0)\n",
      "temp_2 = NAND(X[i],Y[0])\n",
      "temp_3 = NAND(X[i],temp_2)\n",
      "temp_4 = NAND(Y[0],temp_2)\n",
      "Y[0] = NAND(temp_3,temp_4)\n",
      "MODANDJMP(X_nonblank[i],X_nonblank[i])\n",
      "\n"
     ]
    }
   ],
   "source": [
    "xorprog.input(\"1011\")\n",
    "xorprog.printstate()"
   ]
  },
  {
   "cell_type": "code",
   "execution_count": 90,
   "metadata": {
    "slideshow": {
     "slide_type": "slide"
    }
   },
   "outputs": [
    {
     "name": "stdout",
     "output_type": "stream",
     "text": [
      "X         : 1011\u001b[91m0\u001b[0m\n",
      "X_nonblank: 1111\u001b[91m0\u001b[0m\n",
      "Y         : 1000\u001b[91m0\u001b[0m\n",
      "Y_nonblank: 1000\u001b[91m0\u001b[0m\n",
      "MODANDJMP : 0000\u001b[91m0\u001b[0m\n",
      "temp_0    : 0\n",
      "temp_2    : 1\n",
      "temp_3    : 1\n",
      "temp_4    : 0\n",
      "\n",
      "temp_0 = NAND(X[0],X[0])\n",
      "Y_nonblank[0] = NAND(X[0],temp_0)\n",
      "temp_2 = NAND(X[i],Y[0])\n",
      "temp_3 = NAND(X[i],temp_2)\n",
      "temp_4 = NAND(Y[0],temp_2)\n",
      "Y[0] = NAND(temp_3,temp_4)\n",
      "\u001b[91mMODANDJMP(X_nonblank[i],X_nonblank[i])\u001b[0m\n",
      "\n"
     ]
    },
    {
     "data": {
      "text/plain": [
       "'1'"
      ]
     },
     "execution_count": 90,
     "metadata": {},
     "output_type": "execute_result"
    }
   ],
   "source": [
    "xorprog.run(False)"
   ]
  },
  {
   "cell_type": "code",
   "execution_count": 163,
   "metadata": {
    "slideshow": {
     "slide_type": "slide"
    }
   },
   "outputs": [
    {
     "name": "stdout",
     "output_type": "stream",
     "text": [
      "X         : 1111\u001b[91m0\u001b[0m\n",
      "X_nonblank: 1111\u001b[91m0\u001b[0m\n",
      "Y         : 0000\u001b[91m0\u001b[0m\n",
      "Y_nonblank: 1000\u001b[91m0\u001b[0m\n",
      "MODANDJMP : 0000\u001b[91m0\u001b[0m\n",
      "temp_0    : 0\n",
      "temp_2    : 1\n",
      "temp_3    : 1\n",
      "temp_4    : 1\n",
      "\n",
      "temp_0 = NAND(X[0],X[0])\n",
      "Y_nonblank[0] = NAND(X[0],temp_0)\n",
      "temp_2 = NAND(X[i],Y[0])\n",
      "temp_3 = NAND(X[i],temp_2)\n",
      "temp_4 = NAND(Y[0],temp_2)\n",
      "Y[0] = NAND(temp_3,temp_4)\n",
      "\u001b[91mMODANDJMP(X_nonblank[i],X_nonblank[i])\u001b[0m\n",
      "\n"
     ]
    },
    {
     "data": {
      "text/plain": [
       "'0'"
      ]
     },
     "execution_count": 163,
     "metadata": {},
     "output_type": "execute_result"
    }
   ],
   "source": [
    "xorprog.input(\"111\")\n",
    "xorprog.run(False)"
   ]
  },
  {
   "cell_type": "code",
   "execution_count": 162,
   "metadata": {
    "slideshow": {
     "slide_type": "slide"
    }
   },
   "outputs": [
    {
     "name": "stdout",
     "output_type": "stream",
     "text": [
      "X         : 1111\u001b[91m0\u001b[0m\n",
      "X_nonblank: 1111\u001b[91m0\u001b[0m\n",
      "Y         : 0000\u001b[91m0\u001b[0m\n",
      "Y_nonblank: 1000\u001b[91m0\u001b[0m\n",
      "MODANDJMP : 0000\u001b[91m0\u001b[0m\n",
      "temp_0    : 0\n",
      "temp_2    : 1\n",
      "temp_3    : 1\n",
      "temp_4    : 1\n",
      "\n",
      "temp_0 = NAND(X[0],X[0])\n",
      "Y_nonblank[0] = NAND(X[0],temp_0)\n",
      "temp_2 = NAND(X[i],Y[0])\n",
      "temp_3 = NAND(X[i],temp_2)\n",
      "temp_4 = NAND(Y[0],temp_2)\n",
      "Y[0] = NAND(temp_3,temp_4)\n",
      "\u001b[91mMODANDJMP(X_nonblank[i],X_nonblank[i])\u001b[0m\n",
      "\n"
     ]
    },
    {
     "ename": "HaltExecution",
     "evalue": "halted",
     "output_type": "error",
     "traceback": [
      "\u001b[1;31m---------------------------------------------------------------------------\u001b[0m",
      "\u001b[1;31mHaltExecution\u001b[0m                             Traceback (most recent call last)",
      "\u001b[1;32m<ipython-input-162-b2105633b4fe>\u001b[0m in \u001b[0;36m<module>\u001b[1;34m\u001b[0m\n\u001b[1;32m----> 1\u001b[1;33m \u001b[0mxorprog\u001b[0m\u001b[1;33m.\u001b[0m\u001b[0mnext\u001b[0m\u001b[1;33m(\u001b[0m\u001b[1;32mTrue\u001b[0m\u001b[1;33m)\u001b[0m\u001b[1;33m\u001b[0m\u001b[1;33m\u001b[0m\u001b[0m\n\u001b[0m",
      "\u001b[1;32m<ipython-input-64-057aa62c7dfc>\u001b[0m in \u001b[0;36mnext\u001b[1;34m(self, printstate)\u001b[0m\n\u001b[0;32m    108\u001b[0m                 \u001b[0mclear_output\u001b[0m\u001b[1;33m(\u001b[0m\u001b[1;33m)\u001b[0m\u001b[1;33m\u001b[0m\u001b[1;33m\u001b[0m\u001b[0m\n\u001b[0;32m    109\u001b[0m                 \u001b[0mself\u001b[0m\u001b[1;33m.\u001b[0m\u001b[0mprintstate\u001b[0m\u001b[1;33m(\u001b[0m\u001b[1;33m)\u001b[0m\u001b[1;33m\u001b[0m\u001b[1;33m\u001b[0m\u001b[0m\n\u001b[1;32m--> 110\u001b[1;33m             \u001b[1;32mif\u001b[0m \u001b[1;32mnot\u001b[0m \u001b[0ma\u001b[0m \u001b[1;32mand\u001b[0m \u001b[1;32mnot\u001b[0m \u001b[0mb\u001b[0m\u001b[1;33m:\u001b[0m \u001b[1;32mraise\u001b[0m \u001b[0mHaltExecution\u001b[0m\u001b[1;33m(\u001b[0m\u001b[1;34m\"halted\"\u001b[0m\u001b[1;33m)\u001b[0m\u001b[1;33m\u001b[0m\u001b[1;33m\u001b[0m\u001b[0m\n\u001b[0m\u001b[0;32m    111\u001b[0m             \u001b[1;32mif\u001b[0m \u001b[0mb\u001b[0m\u001b[1;33m:\u001b[0m\u001b[1;33m\u001b[0m\u001b[1;33m\u001b[0m\u001b[0m\n\u001b[0;32m    112\u001b[0m                 \u001b[1;32mif\u001b[0m \u001b[0ma\u001b[0m\u001b[1;33m:\u001b[0m \u001b[0mself\u001b[0m\u001b[1;33m.\u001b[0m\u001b[0mi\u001b[0m \u001b[1;33m+=\u001b[0m \u001b[1;36m1\u001b[0m\u001b[1;33m\u001b[0m\u001b[1;33m\u001b[0m\u001b[0m\n",
      "\u001b[1;31mHaltExecution\u001b[0m: halted"
     ]
    }
   ],
   "source": [
    "xorprog.next(True)"
   ]
  }
 ],
 "metadata": {
  "celltoolbar": "Slideshow",
  "kernelspec": {
   "display_name": "Python 3",
   "language": "python",
   "name": "python3"
  },
  "language_info": {
   "codemirror_mode": {
    "name": "ipython",
    "version": 3
   },
   "file_extension": ".py",
   "mimetype": "text/x-python",
   "name": "python",
   "nbconvert_exporter": "python",
   "pygments_lexer": "ipython3",
   "version": "3.7.2"
  }
 },
 "nbformat": 4,
 "nbformat_minor": 4
}
