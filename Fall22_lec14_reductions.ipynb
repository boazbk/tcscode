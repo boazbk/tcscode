{
 "cells": [
  {
   "cell_type": "markdown",
   "metadata": {
    "slideshow": {
     "slide_type": "slide"
    }
   },
   "source": [
    "# Reductions"
   ]
  },
  {
   "cell_type": "markdown",
   "metadata": {
    "slideshow": {
     "slide_type": "skip"
    }
   },
   "source": [
    "Dependencies for this notebook: `graphviz` executable installed on the system and on the path, [networkx](https://anaconda.org/anaconda/networkx), [graphviz python](https://anaconda.org/conda-forge/python-graphviz) and [pydotplus](https://anaconda.org/conda-forge/pydotplus) Anaconda packages. (See [here](https://graphviz.readthedocs.io/en/stable/index.html) for the documentation of the graphviz package.)\n"
   ]
  },
  {
   "cell_type": "code",
   "execution_count": null,
   "metadata": {
    "slideshow": {
     "slide_type": "skip"
    }
   },
   "outputs": [],
   "source": [
    "%%html\n",
    "<!--\n",
    "<style>\n",
    ".CodeMirror { width: 100vw; }\n",
    ".prompt  { visibility: hidden; width: 0px !important; }\n",
    ".prompt_container { visibility: hidden; width: 0px !important; }\n",
    ".container {  width: 95% !important; }\n",
    ".rendered_html { font-size:0.8em; }\n",
    ".rendered_html table, .rendered_html th, .rendered_html tr, .rendered_html td { font-size: 100%;}\n",
    "td { font-size: 16px }\n",
    "</style>\n",
    "-->"
   ]
  },
  {
   "cell_type": "markdown",
   "metadata": {
    "slideshow": {
     "slide_type": "skip"
    }
   },
   "source": [
    "_Useful unicode symbols:_ φ   ∨   ∧   ¬   ≠    Ψ"
   ]
  },
  {
   "cell_type": "markdown",
   "metadata": {
    "slideshow": {
     "slide_type": "skip"
    }
   },
   "source": [
    "### Utility code (skip reading but run this first)"
   ]
  },
  {
   "cell_type": "code",
   "execution_count": null,
   "metadata": {
    "slideshow": {
     "slide_type": "skip"
    }
   },
   "outputs": [],
   "source": [
    "%run \"Utilities.ipynb\"\n",
    "from IPython.display import clear_output\n",
    "clear_output()"
   ]
  },
  {
   "cell_type": "code",
   "execution_count": null,
   "metadata": {
    "slideshow": {
     "slide_type": "skip"
    }
   },
   "outputs": [],
   "source": [
    "import networkx as nx\n",
    "\n",
    "import pydotplus\n",
    "\n",
    "def nxgraph(G):\n",
    "    P = pydotplus.graph_from_dot_data(G.source)\n",
    "    return nx.drawing.nx_pydot.from_pydot(P)\n"
   ]
  },
  {
   "cell_type": "markdown",
   "metadata": {
    "slideshow": {
     "slide_type": "slide"
    }
   },
   "source": [
    "## 3SAT $\\leq_p$ ISET"
   ]
  },
  {
   "cell_type": "code",
   "execution_count": null,
   "metadata": {
    "slideshow": {
     "slide_type": "skip"
    }
   },
   "outputs": [],
   "source": [
    "φ = \"(x0 ∨ ¬x3 ∨ x2 ) ∧ (¬x0 ∨ x1 ∨ ¬x2 ) ∧ (x1 ∨ x2 ∨ ¬x3 )  \""
   ]
  },
  {
   "cell_type": "code",
   "execution_count": null,
   "metadata": {
    "slideshow": {
     "slide_type": "skip"
    }
   },
   "outputs": [],
   "source": [
    "# Evaluate 3CNF φ on assignment x \n",
    "# Both are represented as strings\n",
    "def evalcnf(φ,x):\n",
    "\n",
    "    def varval(v):\n",
    "        return (1-int(x[int(v[2:])])  if v[0]==\"¬\" else int(x[int(v[1:])]))\n",
    "    \n",
    "    for (v0,v1,v2) in getclauses(φ):\n",
    "        # print(c+str([varval(v0),varval(v1),varval(v2)]))\n",
    "        if not varval(v0)+varval(v1)+varval(v2): return False\n",
    "    \n",
    "    return True\n",
    "\n",
    "# Clause list of a 3CNF φ\n",
    "def getclauses(φ):\n",
    "    clauses =  φ.split(\"∧\")\n",
    "    res = []\n",
    "    for c in clauses:\n",
    "        (v0,_,v1,_,v2) = c.strip()[1:-1].split()\n",
    "        res.append((v0.strip(),v1.strip(),v2.strip()))\n",
    "    return res\n",
    "    \n",
    "\n",
    "# number of variables of a formula φ\n",
    "def numvars(φ):\n",
    "    for n in range(len(φ)-1,0,-1):\n",
    "        if φ.find('x'+str(n))>= 0: return n+1\n",
    "    raise Exception\n"
   ]
  },
  {
   "cell_type": "code",
   "execution_count": null,
   "metadata": {
    "slideshow": {
     "slide_type": "skip"
    }
   },
   "outputs": [],
   "source": [
    "numvars(φ)"
   ]
  },
  {
   "cell_type": "code",
   "execution_count": null,
   "metadata": {
    "slideshow": {
     "slide_type": "skip"
    }
   },
   "outputs": [],
   "source": [
    "evalcnf(φ,\"0101\")"
   ]
  },
  {
   "cell_type": "code",
   "execution_count": null,
   "metadata": {
    "slideshow": {
     "slide_type": "skip"
    }
   },
   "outputs": [],
   "source": [
    "print(φ)"
   ]
  },
  {
   "cell_type": "markdown",
   "metadata": {
    "slideshow": {
     "slide_type": "skip"
    }
   },
   "source": [
    "__Question:__ Is φ satisfiable?"
   ]
  },
  {
   "cell_type": "code",
   "execution_count": null,
   "metadata": {
    "slideshow": {
     "slide_type": "skip"
    }
   },
   "outputs": [],
   "source": [
    "evalcnf(φ,\"1000\")"
   ]
  },
  {
   "cell_type": "markdown",
   "metadata": {
    "slideshow": {
     "slide_type": "skip"
    }
   },
   "source": [
    "## Some bigger instances (DIMACS format)"
   ]
  },
  {
   "cell_type": "code",
   "execution_count": null,
   "metadata": {
    "slideshow": {
     "slide_type": "skip"
    }
   },
   "outputs": [],
   "source": [
    "def from_dimacs(cnf):\n",
    "    φ = \"\"\n",
    "    m = 0\n",
    "    n = 0\n",
    "    def var(idx): return f\"x{int(idx)-1}\" if int(idx)>0 else f\"¬x{-int(idx)-1}\"\n",
    "    \n",
    "    for line in cnf.split(\"\\n\"):\n",
    "        if not line.strip() or line[0]==\"c\" or line[0]==\"%\" or line[0]==\"0\": continue\n",
    "        if line[0]==\"p\":\n",
    "            _,t,n_,m_ = line.split()\n",
    "            if t!=\"cnf\": raise Exception(\"Only handle CNF!\")\n",
    "            n = int(n_)\n",
    "            m = int(m_)\n",
    "            continue\n",
    "        a,b,c,_ = line.split()\n",
    "        if _ != \"0\": raise Exception(\"Only handle 3CNF!\")\n",
    "        φ += f\"({var(a)} ∨ {var(b)} ∨ {var(c)} ) ∧ \"\n",
    "    φ = φ[:-3]\n",
    "    return φ\n",
    "        \n",
    "            "
   ]
  },
  {
   "cell_type": "code",
   "execution_count": null,
   "metadata": {
    "slideshow": {
     "slide_type": "skip"
    }
   },
   "outputs": [],
   "source": [
    "def from_dimacs_assign(assign):\n",
    "    avals = {}\n",
    "    n = 0\n",
    "    for a in assign.split():\n",
    "        if a == \"v\": continue\n",
    "        a = int(a)\n",
    "        if a>0:\n",
    "            avals[a-1] = \"1\"\n",
    "            n = max(n,a)\n",
    "        if a<0:\n",
    "            avals[-a-1] = \"0\"\n",
    "            n = max(n,-a)\n",
    "        if a == 0:\n",
    "            break\n",
    "    x = \"\"\n",
    "    for i in range(n):\n",
    "        x += avals[i]\n",
    "    return x"
   ]
  },
  {
   "cell_type": "code",
   "execution_count": null,
   "metadata": {
    "slideshow": {
     "slide_type": "skip"
    }
   },
   "outputs": [],
   "source": [
    "# from https://www.cs.ubc.ca/~hoos/SATLIB/benchm.html\n",
    "cnf = r'''\n",
    "c This Formular is generated by mcnf\n",
    "c\n",
    "c    horn? no \n",
    "c    forced? no \n",
    "c    mixed sat? no \n",
    "c    clause length = 3 \n",
    "c\n",
    "p cnf 20  91 \n",
    " 4 -18 19 0\n",
    "3 18 -5 0\n",
    "-5 -8 -15 0\n",
    "-20 7 -16 0\n",
    "10 -13 -7 0\n",
    "-12 -9 17 0\n",
    "17 19 5 0\n",
    "-16 9 15 0\n",
    "11 -5 -14 0\n",
    "18 -10 13 0\n",
    "-3 11 12 0\n",
    "-6 -17 -8 0\n",
    "-18 14 1 0\n",
    "-19 -15 10 0\n",
    "12 18 -19 0\n",
    "-8 4 7 0\n",
    "-8 -9 4 0\n",
    "7 17 -15 0\n",
    "12 -7 -14 0\n",
    "-10 -11 8 0\n",
    "2 -15 -11 0\n",
    "9 6 1 0\n",
    "-11 20 -17 0\n",
    "9 -15 13 0\n",
    "12 -7 -17 0\n",
    "-18 -2 20 0\n",
    "20 12 4 0\n",
    "19 11 14 0\n",
    "-16 18 -4 0\n",
    "-1 -17 -19 0\n",
    "-13 15 10 0\n",
    "-12 -14 -13 0\n",
    "12 -14 -7 0\n",
    "-7 16 10 0\n",
    "6 10 7 0\n",
    "20 14 -16 0\n",
    "-19 17 11 0\n",
    "-7 1 -20 0\n",
    "-5 12 15 0\n",
    "-4 -9 -13 0\n",
    "12 -11 -7 0\n",
    "-5 19 -8 0\n",
    "1 16 17 0\n",
    "20 -14 -15 0\n",
    "13 -4 10 0\n",
    "14 7 10 0\n",
    "-5 9 20 0\n",
    "10 1 -19 0\n",
    "-16 -15 -1 0\n",
    "16 3 -11 0\n",
    "-15 -10 4 0\n",
    "4 -15 -3 0\n",
    "-10 -16 11 0\n",
    "-8 12 -5 0\n",
    "14 -6 12 0\n",
    "1 6 11 0\n",
    "-13 -5 -1 0\n",
    "-7 -2 12 0\n",
    "1 -20 19 0\n",
    "-2 -13 -8 0\n",
    "15 18 4 0\n",
    "-11 14 9 0\n",
    "-6 -15 -2 0\n",
    "5 -12 -15 0\n",
    "-6 17 5 0\n",
    "-13 5 -19 0\n",
    "20 -1 14 0\n",
    "9 -17 15 0\n",
    "-5 19 -18 0\n",
    "-12 8 -10 0\n",
    "-18 14 -4 0\n",
    "15 -9 13 0\n",
    "9 -5 -1 0\n",
    "10 -19 -14 0\n",
    "20 9 4 0\n",
    "-9 -2 19 0\n",
    "-5 13 -17 0\n",
    "2 -10 -18 0\n",
    "-18 3 11 0\n",
    "7 -9 17 0\n",
    "-15 -6 -3 0\n",
    "-2 3 -13 0\n",
    "12 3 -2 0\n",
    "-2 -3 17 0\n",
    "20 -15 -16 0\n",
    "-5 -17 -19 0\n",
    "-20 -18 11 0\n",
    "-9 1 -5 0\n",
    "-19 9 17 0\n",
    "12 -2 17 0\n",
    "4 -16 -5 0\n",
    "%\n",
    "0\n",
    "'''\n",
    "\n",
    "cnfsat = \"v 1 -2 -3 -4 -5 6 -7 -8 -9 -10 -11 -12 13 14 15 -16 17 -18 -19 20 0\""
   ]
  },
  {
   "cell_type": "code",
   "execution_count": null,
   "metadata": {
    "slideshow": {
     "slide_type": "skip"
    }
   },
   "outputs": [],
   "source": [
    "Ψ = from_dimacs(cnf)\n",
    "Ψ"
   ]
  },
  {
   "cell_type": "code",
   "execution_count": null,
   "metadata": {
    "slideshow": {
     "slide_type": "slide"
    }
   },
   "outputs": [],
   "source": [
    "print(φ)"
   ]
  },
  {
   "cell_type": "code",
   "execution_count": null,
   "metadata": {
    "slideshow": {
     "slide_type": "fragment"
    }
   },
   "outputs": [],
   "source": [
    "print(Ψ)"
   ]
  },
  {
   "cell_type": "code",
   "execution_count": null,
   "metadata": {
    "slideshow": {
     "slide_type": "fragment"
    }
   },
   "outputs": [],
   "source": [
    "numvars(Ψ)"
   ]
  },
  {
   "cell_type": "code",
   "execution_count": null,
   "metadata": {
    "slideshow": {
     "slide_type": "skip"
    }
   },
   "outputs": [],
   "source": [
    "assign = from_dimacs_assign(cnfsat)\n",
    "assign"
   ]
  },
  {
   "cell_type": "code",
   "execution_count": null,
   "metadata": {
    "slideshow": {
     "slide_type": "slide"
    }
   },
   "outputs": [],
   "source": [
    "x_0 = '10000100000011101001'\n",
    "x_1 = '11000100000011101001'\n",
    "evalcnf(Ψ,x_0), evalcnf(Ψ,x_1) "
   ]
  },
  {
   "cell_type": "code",
   "execution_count": null,
   "metadata": {
    "slideshow": {
     "slide_type": "skip"
    }
   },
   "outputs": [],
   "source": [
    "evalcnf(Ψ,\"10000100110011101001\")"
   ]
  },
  {
   "cell_type": "code",
   "execution_count": null,
   "metadata": {
    "slideshow": {
     "slide_type": "skip"
    }
   },
   "outputs": [],
   "source": [
    "from collections import defaultdict"
   ]
  },
  {
   "cell_type": "code",
   "execution_count": null,
   "metadata": {
    "slideshow": {
     "slide_type": "slide"
    }
   },
   "outputs": [],
   "source": [
    "# Reduction SAT to Independent Set\n",
    "def SAT2IS_(φ):\n",
    "    n = numvars(φ) \n",
    "    G =Graph() \n",
    "    nodes =  defaultdict(list) \n",
    "\n",
    "    for c,C in enumerate(getclauses(φ)):\n",
    "        for u in C: \n",
    "            def n(c,v): return f\"{c}_{v}\"\n",
    "            vtx = n(c,u)\n",
    "            nodes[u].append(vtx)\n",
    "            G.node(vtx,f\"{c}:{subscript(u)}\")\n",
    "            \n",
    "            neg_u = u[1:] if u[0]==\"¬\" else \"¬\"+u\n",
    "            for v in nodes[neg_u]: G.edge(vtx,v,color=\"red\") \n",
    "            \n",
    "        # add triangle edges\n",
    "        G.edge(n(c,C[0]), n(c,C[1]),color=\"green\")\n",
    "        G.edge(n(c,C[1]), n(c,C[2]),color=\"green\")\n",
    "        G.edge(n(c,C[2]), n(c,C[0]),color=\"green\")\n",
    "    return G"
   ]
  },
  {
   "cell_type": "code",
   "execution_count": null,
   "metadata": {
    "slideshow": {
     "slide_type": "fragment"
    }
   },
   "outputs": [],
   "source": [
    "φ = \"(x0 ∨ ¬x3 ∨ x2) ∧ (¬x0 ∨ x1 ∨ ¬x2) ∧ (¬x1 ∨ x2 ∨ x3) ∧ (¬x1 ∨ x0 ∨ x2)\"\n",
    "# How many vertices , green, and red edges will SAT2IS_(φ) have?"
   ]
  },
  {
   "cell_type": "code",
   "execution_count": null,
   "metadata": {
    "slideshow": {
     "slide_type": "slide"
    }
   },
   "outputs": [],
   "source": [
    "SAT2IS_(φ)"
   ]
  },
  {
   "cell_type": "code",
   "execution_count": null,
   "metadata": {
    "slideshow": {
     "slide_type": "skip"
    }
   },
   "outputs": [],
   "source": [
    "# same reduction but taking care of colors and keeping track what happens to an assignment\n",
    "def SAT2IS(φ,x=\"\"):\n",
    "    S = []\n",
    "#    G.node(u,style='filled',fillcolor=('red' if x and x[i]==\"0\" else 'green'))\n",
    "        \n",
    "    n = numvars(φ) \n",
    "    G =Graph() # (engine='neato')\n",
    "    \n",
    "    def nname(c,v): return f\"({c},{v})\"\n",
    "    \n",
    "    c = 0\n",
    "    nodes = {}\n",
    "    for i in range(n):\n",
    "        nodes[\"x\"+str(i)] = []\n",
    "        nodes[\"¬x\"+str(i)] = []\n",
    "    \n",
    "    for C in getclauses(φ):\n",
    "        sat = False\n",
    "        for u in C: \n",
    "            if x and (not sat) and (((u[0]==\"¬\") and (x[int(u[2:])]==\"0\")) or ((u[0]!=\"¬\") and (x[int(u[1:])]==\"1\"))):\n",
    "                G.node(nname(c,u),f\"{c}:{subscript(u)}\",fontsize=\"10\",style='filled',fillcolor='lightblue')\n",
    "                S.append(nname(c,u))\n",
    "                sat = True\n",
    "            else:\n",
    "                G.node(nname(c,u),f\"{c}:{subscript(u)}\",fontsize=\"10\")\n",
    "            negu = u[1:] if u[0]==\"¬\" else \"¬\"+u\n",
    "            for v in nodes[negu]: G.edge(nname(c,u),v,color=\"red\") \n",
    "            nodes[u].append(nname(c,u))\n",
    "        G.edge(nname(c,C[0]), nname(c,C[1]),color=\"green\")\n",
    "        G.edge(nname(c,C[1]), nname(c,C[2]),color=\"green\")\n",
    "        G.edge(nname(c,C[0]), nname(c,C[2]),color=\"green\")\n",
    "        c += 1\n",
    "    \n",
    "    return (scale(G) if not x else (scale(G),S))"
   ]
  },
  {
   "cell_type": "code",
   "execution_count": null,
   "metadata": {
    "slideshow": {
     "slide_type": "slide"
    }
   },
   "outputs": [],
   "source": [
    "φ = \"(x0 ∨ ¬x3 ∨ x2) ∧ (¬x0 ∨ x1 ∨ ¬x2) ∧ (¬x1 ∨ x2 ∨ x3)\"\n",
    "print(evalcnf(φ,\"0110\"))\n",
    "(G,S) = SAT2IS(φ,\"0110\")\n",
    "G"
   ]
  },
  {
   "cell_type": "code",
   "execution_count": null,
   "metadata": {
    "slideshow": {
     "slide_type": "slide"
    }
   },
   "outputs": [],
   "source": [
    "SAT2IS(Ψ)"
   ]
  },
  {
   "cell_type": "code",
   "execution_count": null,
   "metadata": {
    "slideshow": {
     "slide_type": "skip"
    }
   },
   "outputs": [],
   "source": [
    "SAT2IS(Ψ,assign)[0]"
   ]
  },
  {
   "cell_type": "markdown",
   "metadata": {
    "slideshow": {
     "slide_type": "slide"
    }
   },
   "source": [
    "## Proof by program"
   ]
  },
  {
   "cell_type": "code",
   "execution_count": 41,
   "metadata": {
    "slideshow": {
     "slide_type": "fragment"
    }
   },
   "outputs": [],
   "source": [
    "def recoverassignment(G,S,n):\n",
    "    \"\"\"Transform independent set S for G into a satisfying assignment for original formula\"\"\"\n",
    "    x = [0]*n\n",
    "    for i in range(n):\n",
    "        for v in S: \n",
    "            if v.find(f\",x{i}\")>=0: x[i]=1\n",
    "    return x"
   ]
  },
  {
   "cell_type": "code",
   "execution_count": 42,
   "metadata": {
    "slideshow": {
     "slide_type": "slide"
    }
   },
   "outputs": [
    {
     "data": {
      "image/svg+xml": [
       "<?xml version=\"1.0\" encoding=\"UTF-8\" standalone=\"no\"?>\n",
       "<!DOCTYPE svg PUBLIC \"-//W3C//DTD SVG 1.1//EN\"\n",
       " \"http://www.w3.org/Graphics/SVG/1.1/DTD/svg11.dtd\">\n",
       "<!-- Generated by graphviz version 2.40.1 (20161225.0304)\n",
       " -->\n",
       "<!-- Title: %3 Pages: 1 -->\n",
       "<svg width=\"712pt\" height=\"360pt\"\n",
       " viewBox=\"0.00 0.00 712.17 360.00\" xmlns=\"http://www.w3.org/2000/svg\" xmlns:xlink=\"http://www.w3.org/1999/xlink\">\n",
       "<g id=\"graph0\" class=\"graph\" transform=\"scale(.9783 .9783) rotate(0) translate(4 364)\">\n",
       "<title>%3</title>\n",
       "<polygon fill=\"#ffffff\" stroke=\"transparent\" points=\"-4,4 -4,-364 724,-364 724,4 -4,4\"/>\n",
       "<!-- (0,x0) -->\n",
       "<g id=\"node1\" class=\"node\">\n",
       "<title>(0,x0)</title>\n",
       "<ellipse fill=\"none\" stroke=\"#000000\" cx=\"82.2373\" cy=\"-260\" rx=\"27\" ry=\"18\"/>\n",
       "<text text-anchor=\"middle\" x=\"82.2373\" y=\"-257.5\" font-family=\"Times,serif\" font-size=\"10.00\" fill=\"#000000\">0:x₀</text>\n",
       "</g>\n",
       "<!-- (0,¬x3) -->\n",
       "<g id=\"node2\" class=\"node\">\n",
       "<title>(0,¬x3)</title>\n",
       "<ellipse fill=\"none\" stroke=\"#000000\" cx=\"250.2373\" cy=\"-100\" rx=\"27\" ry=\"18\"/>\n",
       "<text text-anchor=\"middle\" x=\"250.2373\" y=\"-97.5\" font-family=\"Times,serif\" font-size=\"10.00\" fill=\"#000000\">0:¬x₃</text>\n",
       "</g>\n",
       "<!-- (0,x0)&#45;&#45;(0,¬x3) -->\n",
       "<g id=\"edge1\" class=\"edge\">\n",
       "<title>(0,x0)&#45;&#45;(0,¬x3)</title>\n",
       "<path fill=\"none\" stroke=\"#00ff00\" d=\"M97.7412,-245.2344C129.5834,-214.9084 202.0576,-145.8854 234.2808,-115.1967\"/>\n",
       "</g>\n",
       "<!-- (0,x2) -->\n",
       "<g id=\"node3\" class=\"node\">\n",
       "<title>(0,x2)</title>\n",
       "<ellipse fill=\"none\" stroke=\"#000000\" cx=\"250.2373\" cy=\"-20\" rx=\"27\" ry=\"18\"/>\n",
       "<text text-anchor=\"middle\" x=\"250.2373\" y=\"-17.5\" font-family=\"Times,serif\" font-size=\"10.00\" fill=\"#000000\">0:x₂</text>\n",
       "</g>\n",
       "<!-- (0,x0)&#45;&#45;(0,x2) -->\n",
       "<g id=\"edge3\" class=\"edge\">\n",
       "<title>(0,x0)&#45;&#45;(0,x2)</title>\n",
       "<path fill=\"none\" stroke=\"#00ff00\" d=\"M92.8392,-243.1726C105.3193,-223.5051 126.8112,-190.0727 146.2373,-162 178.2317,-115.7647 217.9607,-62.6352 237.7775,-36.4072\"/>\n",
       "</g>\n",
       "<!-- (0,¬x3)&#45;&#45;(0,x2) -->\n",
       "<g id=\"edge2\" class=\"edge\">\n",
       "<title>(0,¬x3)&#45;&#45;(0,x2)</title>\n",
       "<path fill=\"none\" stroke=\"#00ff00\" d=\"M250.2373,-81.8468C250.2373,-68.7543 250.2373,-51.1574 250.2373,-38.0814\"/>\n",
       "</g>\n",
       "<!-- (1,¬x0) -->\n",
       "<g id=\"node4\" class=\"node\">\n",
       "<title>(1,¬x0)</title>\n",
       "<ellipse fill=\"none\" stroke=\"#000000\" cx=\"250.2373\" cy=\"-340\" rx=\"27\" ry=\"18\"/>\n",
       "<text text-anchor=\"middle\" x=\"250.2373\" y=\"-337.5\" font-family=\"Times,serif\" font-size=\"10.00\" fill=\"#000000\">1:¬x₀</text>\n",
       "</g>\n",
       "<!-- (1,¬x0)&#45;&#45;(0,x0) -->\n",
       "<g id=\"edge4\" class=\"edge\">\n",
       "<title>(1,¬x0)&#45;&#45;(0,x0)</title>\n",
       "<path fill=\"none\" stroke=\"#ff0000\" d=\"M227.9282,-329.3766C195.7066,-314.033 136.4944,-285.8367 104.3711,-270.5399\"/>\n",
       "</g>\n",
       "<!-- (1,x1) -->\n",
       "<g id=\"node5\" class=\"node\">\n",
       "<title>(1,x1)</title>\n",
       "<ellipse fill=\"none\" stroke=\"#000000\" cx=\"418.2373\" cy=\"-260\" rx=\"27\" ry=\"18\"/>\n",
       "<text text-anchor=\"middle\" x=\"418.2373\" y=\"-257.5\" font-family=\"Times,serif\" font-size=\"10.00\" fill=\"#000000\">1:x₁</text>\n",
       "</g>\n",
       "<!-- (1,¬x0)&#45;&#45;(1,x1) -->\n",
       "<g id=\"edge6\" class=\"edge\">\n",
       "<title>(1,¬x0)&#45;&#45;(1,x1)</title>\n",
       "<path fill=\"none\" stroke=\"#00ff00\" d=\"M272.5464,-329.3766C304.768,-314.033 363.9802,-285.8367 396.1035,-270.5399\"/>\n",
       "</g>\n",
       "<!-- (1,¬x2) -->\n",
       "<g id=\"node6\" class=\"node\">\n",
       "<title>(1,¬x2)</title>\n",
       "<ellipse fill=\"none\" stroke=\"#000000\" cx=\"418.2373\" cy=\"-180\" rx=\"27\" ry=\"18\"/>\n",
       "<text text-anchor=\"middle\" x=\"418.2373\" y=\"-177.5\" font-family=\"Times,serif\" font-size=\"10.00\" fill=\"#000000\">1:¬x₂</text>\n",
       "</g>\n",
       "<!-- (1,¬x0)&#45;&#45;(1,¬x2) -->\n",
       "<g id=\"edge8\" class=\"edge\">\n",
       "<title>(1,¬x0)&#45;&#45;(1,¬x2)</title>\n",
       "<path fill=\"none\" stroke=\"#00ff00\" d=\"M265.7412,-325.2344C297.5834,-294.9084 370.0576,-225.8854 402.2808,-195.1967\"/>\n",
       "</g>\n",
       "<!-- (1,x1)&#45;&#45;(1,¬x2) -->\n",
       "<g id=\"edge7\" class=\"edge\">\n",
       "<title>(1,x1)&#45;&#45;(1,¬x2)</title>\n",
       "<path fill=\"none\" stroke=\"#00ff00\" d=\"M418.2373,-241.8468C418.2373,-228.7543 418.2373,-211.1574 418.2373,-198.0814\"/>\n",
       "</g>\n",
       "<!-- (1,¬x2)&#45;&#45;(0,x2) -->\n",
       "<g id=\"edge5\" class=\"edge\">\n",
       "<title>(1,¬x2)&#45;&#45;(0,x2)</title>\n",
       "<path fill=\"none\" stroke=\"#ff0000\" d=\"M402.7334,-165.2344C370.8912,-134.9084 298.4169,-65.8854 266.1938,-35.1967\"/>\n",
       "</g>\n",
       "<!-- (2,¬x1) -->\n",
       "<g id=\"node7\" class=\"node\">\n",
       "<title>(2,¬x1)</title>\n",
       "<ellipse fill=\"none\" stroke=\"#000000\" cx=\"637.2373\" cy=\"-340\" rx=\"27\" ry=\"18\"/>\n",
       "<text text-anchor=\"middle\" x=\"637.2373\" y=\"-337.5\" font-family=\"Times,serif\" font-size=\"10.00\" fill=\"#000000\">2:¬x₁</text>\n",
       "</g>\n",
       "<!-- (2,¬x1)&#45;&#45;(1,x1) -->\n",
       "<g id=\"edge9\" class=\"edge\">\n",
       "<title>(2,¬x1)&#45;&#45;(1,x1)</title>\n",
       "<path fill=\"none\" stroke=\"#ff0000\" d=\"M613.3836,-331.2863C571.257,-315.8976 484.1672,-284.084 442.0616,-268.7029\"/>\n",
       "</g>\n",
       "<!-- (2,x2) -->\n",
       "<g id=\"node8\" class=\"node\">\n",
       "<title>(2,x2)</title>\n",
       "<ellipse fill=\"none\" stroke=\"#000000\" cx=\"637.2373\" cy=\"-260\" rx=\"27\" ry=\"18\"/>\n",
       "<text text-anchor=\"middle\" x=\"637.2373\" y=\"-257.5\" font-family=\"Times,serif\" font-size=\"10.00\" fill=\"#000000\">2:x₂</text>\n",
       "</g>\n",
       "<!-- (2,¬x1)&#45;&#45;(2,x2) -->\n",
       "<g id=\"edge12\" class=\"edge\">\n",
       "<title>(2,¬x1)&#45;&#45;(2,x2)</title>\n",
       "<path fill=\"none\" stroke=\"#00ff00\" d=\"M637.2373,-321.8468C637.2373,-308.7543 637.2373,-291.1574 637.2373,-278.0814\"/>\n",
       "</g>\n",
       "<!-- (2,x3) -->\n",
       "<g id=\"node9\" class=\"node\">\n",
       "<title>(2,x3)</title>\n",
       "<ellipse fill=\"none\" stroke=\"#000000\" cx=\"637.2373\" cy=\"-180\" rx=\"27\" ry=\"18\"/>\n",
       "<text text-anchor=\"middle\" x=\"637.2373\" y=\"-177.5\" font-family=\"Times,serif\" font-size=\"10.00\" fill=\"#000000\">2:x₃</text>\n",
       "</g>\n",
       "<!-- (2,¬x1)&#45;&#45;(2,x3) -->\n",
       "<g id=\"edge14\" class=\"edge\">\n",
       "<title>(2,¬x1)&#45;&#45;(2,x3)</title>\n",
       "<path fill=\"none\" stroke=\"#00ff00\" d=\"M649.742,-323.9657C658.2166,-312.0336 668.6741,-294.9464 673.2373,-278 677.3975,-262.5503 677.3975,-257.4497 673.2373,-242 668.6741,-225.0536 658.2166,-207.9664 649.742,-196.0343\"/>\n",
       "</g>\n",
       "<!-- (2,x2)&#45;&#45;(1,¬x2) -->\n",
       "<g id=\"edge10\" class=\"edge\">\n",
       "<title>(2,x2)&#45;&#45;(1,¬x2)</title>\n",
       "<path fill=\"none\" stroke=\"#ff0000\" d=\"M613.3836,-251.2863C571.257,-235.8976 484.1672,-204.084 442.0616,-188.7029\"/>\n",
       "</g>\n",
       "<!-- (2,x2)&#45;&#45;(2,x3) -->\n",
       "<g id=\"edge13\" class=\"edge\">\n",
       "<title>(2,x2)&#45;&#45;(2,x3)</title>\n",
       "<path fill=\"none\" stroke=\"#00ff00\" d=\"M637.2373,-241.8468C637.2373,-228.7543 637.2373,-211.1574 637.2373,-198.0814\"/>\n",
       "</g>\n",
       "<!-- (2,x3)&#45;&#45;(0,¬x3) -->\n",
       "<g id=\"edge11\" class=\"edge\">\n",
       "<title>(2,x3)&#45;&#45;(0,¬x3)</title>\n",
       "<path fill=\"none\" stroke=\"#ff0000\" d=\"M611.2442,-174.6268C540.7434,-160.0529 346.4854,-119.8963 276.1172,-105.3499\"/>\n",
       "</g>\n",
       "</g>\n",
       "</svg>\n"
      ],
      "text/plain": [
       "<graphviz.graphs.Graph at 0x7fb3096eef70>"
      ]
     },
     "execution_count": 42,
     "metadata": {},
     "output_type": "execute_result"
    }
   ],
   "source": [
    "φ = \"(x0 ∨ ¬x3 ∨ x2) ∧ (¬x0 ∨ x1 ∨ ¬x2) ∧ (¬x1 ∨ x2 ∨ x3)\"\n",
    "G = SAT2IS(φ)\n",
    "G"
   ]
  },
  {
   "cell_type": "code",
   "execution_count": 43,
   "metadata": {
    "slideshow": {
     "slide_type": "fragment"
    }
   },
   "outputs": [
    {
     "data": {
      "text/plain": [
       "[0, 0, 1, 0]"
      ]
     },
     "execution_count": 43,
     "metadata": {},
     "output_type": "execute_result"
    }
   ],
   "source": [
    "recoverassignment(G,['(0,¬x3)', '(1,¬x0)', '(2,x2)'],4)"
   ]
  }
 ],
 "metadata": {
  "celltoolbar": "Slideshow",
  "kernel_info": {
   "name": "python3"
  },
  "kernelspec": {
   "display_name": "tcs",
   "language": "python",
   "name": "tcs"
  },
  "language_info": {
   "codemirror_mode": {
    "name": "ipython",
    "version": 3
   },
   "file_extension": ".py",
   "mimetype": "text/x-python",
   "name": "python",
   "nbconvert_exporter": "python",
   "pygments_lexer": "ipython3",
   "version": "3.9.12"
  },
  "nteract": {
   "version": "0.3.4"
  }
 },
 "nbformat": 4,
 "nbformat_minor": 4
}
