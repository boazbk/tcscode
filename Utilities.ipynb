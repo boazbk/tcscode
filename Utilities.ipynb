{
 "cells": [
  {
   "cell_type": "markdown",
   "metadata": {},
   "source": [
    "# Utility code"
   ]
  },
  {
   "cell_type": "markdown",
   "metadata": {},
   "source": [
    "Some utility code for **Introduction to Theoretical Computer Science**"
   ]
  },
  {
   "cell_type": "code",
   "execution_count": 1,
   "metadata": {},
   "outputs": [],
   "source": [
    "%matplotlib inline \n",
    "%config InlineBackend.figure_format = 'svg'"
   ]
  },
  {
   "cell_type": "code",
   "execution_count": 2,
   "metadata": {},
   "outputs": [],
   "source": [
    "GLOBAL_NANDONLY = False"
   ]
  },
  {
   "cell_type": "markdown",
   "metadata": {},
   "source": [
    "### Parse programs"
   ]
  },
  {
   "cell_type": "code",
   "execution_count": 3,
   "metadata": {},
   "outputs": [],
   "source": [
    "def parseline(line, numargs = 0):\n",
    "    \"\"\"Parse a line of the form foo = 'OP( bar1, bar2, bar3)'\n",
    "       to ['foo','OP','bar1','bar2','bar2'].\n",
    "       If numargs > number of arguments in line then add empty strings to the list as needed.\"\"\"\n",
    "    i = line.find(\"=\")\n",
    "    j = line.find(\"(\")\n",
    "    k = line.find(\")\")\n",
    "    if i<0 or j<0 or k<0: raise Exception(f\"Line not formatted properly: {line}\")\n",
    "    args = [a.strip() for a in line[j+1:k].split(\",\")]\n",
    "    if len(args)<numargs: args += [\"\"]*(numargs-len(args))\n",
    "    return [line[:i].strip() , line[i+1:j].strip()] + args\n",
    "        "
   ]
  },
  {
   "cell_type": "code",
   "execution_count": 4,
   "metadata": {},
   "outputs": [
    {
     "data": {
      "text/plain": [
       "['foo', 'NOT', 'blah', '']"
      ]
     },
     "execution_count": 4,
     "metadata": {},
     "output_type": "execute_result"
    }
   ],
   "source": [
    "parseline(\"foo = NOT( blah)\",2)"
   ]
  },
  {
   "cell_type": "markdown",
   "metadata": {},
   "source": [
    "## Drawing circuits"
   ]
  },
  {
   "cell_type": "code",
   "execution_count": 5,
   "metadata": {},
   "outputs": [],
   "source": [
    "import graphviz\n",
    "from graphviz import Graph\n",
    "from graphviz import Digraph"
   ]
  },
  {
   "cell_type": "code",
   "execution_count": 6,
   "metadata": {},
   "outputs": [],
   "source": [
    "class Circuit:\n",
    "    \"\"\"Class for modelling Boolean Circuits. Allows circuits with arbitrary gates, including rendering and evaluating.\"\"\"\n",
    "    \n",
    "    def __init__(self, n=0):\n",
    "        self.nodes = {}\n",
    "        self.in_neighbors = {}\n",
    "        self.counter = 0\n",
    "        self.outputs = {}\n",
    "        self.values = {}\n",
    "        self.X  = {}\n",
    "        self.setinputs(n)\n",
    "    \n",
    "    def setinputs(self,n):\n",
    "        \"\"\"Set number of inputs to n (increases number was smaller than n before, otherwise does nothing.)\"\"\"\n",
    "        for i in range(n): \n",
    "            self.nodes[f\"input_{i}\"] = (\"INPUT\",i)\n",
    "            self.X[i] = f\"input_{i}\"\n",
    "            self.in_neighbors[f\"input_{i}\"] = []\n",
    "        \n",
    "    \n",
    "    def gate(self,op,*inputs):\n",
    "        \"\"\"Add a new gate.\"\"\"\n",
    "        label = f\"gate_{self.counter}\"\n",
    "        self.nodes[label] = (\"GATE\",op)\n",
    "        self.in_neighbors[label] = inputs\n",
    "        self.counter += 1\n",
    "        return label\n",
    "    \n",
    "    def output(self,gate,j):\n",
    "        \"\"\"Designate a gate as an output gate\"\"\"\n",
    "        self.outputs[gate] = j\n",
    "    \n",
    "    def evalnode(self,node,X):\n",
    "        \"\"\"Evaluate the value of a node node with respect to a certain input assignment.\"\"\"\n",
    "        if node in self.values: return self.values[node]\n",
    "        if self.nodes[node][0]==\"INPUT\": \n",
    "            val = X[self.nodes[node][1]]\n",
    "        else:\n",
    "            val =  self.nodes[node][1](*[self.evalnode(u,X) for u in self.in_neighbors[node]])\n",
    "        self.values[node] = val\n",
    "        return val\n",
    "    \n",
    "    def __call__(self,*X ,render=False):\n",
    "        \"\"\"Evaluate circuit on an input\"\"\"\n",
    "        if isinstance(X, str):\n",
    "            X = [int(X[i]) for i in range(len(X))]\n",
    "            \n",
    "        if len(X) != len(self.X): raise Exception(\"Mismatched number of inputs.\")\n",
    "        self.values = {}\n",
    "        Y = {}\n",
    "        m = 0\n",
    "        for o,j in self.outputs.items():\n",
    "            Y[j]= self.evalnode(o,X)\n",
    "            if j>m: m=j\n",
    "        if render: schemdraw(C,X)\n",
    "        if m>1:\n",
    "            return [Y[j] for j in range(m+1)]\n",
    "        else:\n",
    "            return Y[0]\n",
    "    def size(self):\n",
    "        return len(self.nodes)-len(self.X)\n",
    "    \n",
    "    def draw(self):\n",
    "        schemdraw(self)\n",
    "    \n",
    "    def render_eval(self,*X):\n",
    "        \"\"\"Render evaluated circuit on input X\"\"\"\n",
    "        y = self(*X)\n",
    "        schemdraw(self,X)\n",
    "        # return self.graph(self.values)\n",
    "\n",
    "    # def _repr_svg_(self): \n",
    "    def _repr_pretty_(self, p, cycle):\n",
    "        if cycle:\n",
    "            p.text(\"---\")\n",
    "        else:\n",
    "            schemdraw(self)\n",
    "        return None\n",
    "        # return self.graph()._repr_svg_()\n",
    "    \n",
    "    def opname(self,op):\n",
    "        names = {\"AND\":\"∧\", \"OR\":\"∨\", \"NOT\":\"¬\", \"NAND\":\"¬∧\"}\n",
    "        if op in names: return names[op]\n",
    "        return op\n",
    "    \n",
    "    def graph(self, vals=None,size=\"10,5\"):\n",
    "        WIDTH_BASE = 0.5\n",
    "        \"\"\"Return representation of circuit as a graph.\"\"\"\n",
    "        \n",
    "        G =  Digraph(graph_attr= {\"rankdir\":\"LR\", \"size\":size,\"ratio\":\"fill\"},node_attr={\"fixedsize\":\"true\"},strict=False) \n",
    "        \n",
    "        # Start with inputs\n",
    "        with G.subgraph(name='inputs', graph_attr={'rank':'same'}) as c:\n",
    "            for (key,node) in self.nodes.items():\n",
    "                if node[0] == \"INPUT\":\n",
    "                    label  = f\"X[{node[1]}]\"\n",
    "                    fontcolor='blue'\n",
    "                    shape = 'circle'\n",
    "                    width = WIDTH_BASE\n",
    "                    if vals and key in vals: \n",
    "                        label += f\"<br/><font color='green' face='monospace'><B>{vals[key]}</B></font>\"\n",
    "                        # width += WIDTH_BASE\n",
    "                    label = f\"< {label} >\"\n",
    "                    c.node(key,label=label,fontcolor=fontcolor, shape=shape,width=f\"{width}\",orientation=\"90\",fontsize=\"8\")\n",
    "            \n",
    "        # Then gates\n",
    "        for (key,node) in self.nodes.items():\n",
    "            if node[0] == \"INPUT\": continue\n",
    "            label = self.opname(node[1].__name__)\n",
    "            fontcolor='black'\n",
    "            shape='invhouse'\n",
    "            width = WIDTH_BASE\n",
    "            if key in self.outputs:\n",
    "                label = f\"{label}<font color='red'>→Y[{self.outputs[key]}]</font>\"\n",
    "                width += WIDTH_BASE\n",
    "            if vals and key in vals: \n",
    "                label += f\"<br/><font color='green' face='monospace'><B>{vals[key]}</B></font>\"\n",
    "                # width += WIDTH_BASE\n",
    "            \n",
    "            label = f\"<{label}>\"\n",
    "                \n",
    "            G.node(key,label=label,fontcolor=fontcolor ,width=f\"{width}\",shape=shape,orientation=\"90\",fontsize=\"8\")\n",
    "            for v in self.in_neighbors[key]:\n",
    "                G.edge(v,key)\n",
    "            \n",
    "        return G"
   ]
  },
  {
   "cell_type": "markdown",
   "metadata": {},
   "source": [
    "## Schemdraw attempt"
   ]
  },
  {
   "cell_type": "markdown",
   "metadata": {},
   "source": [
    "```    \n",
    "    xy     : [x,y] starting coordiante.\n",
    "             Element drawn in current direction and default length.\n",
    "    endpts : [[x1,y1], [x2,y2]] start and end coordinates\n",
    "    to     : [x,y] end coordinate\n",
    "    tox    : x-value of end coordinate (y-value same as start)\n",
    "    toy    : y-value of end coordinate (x-value same as start)\n",
    "    l      : total length of element\n",
    "    zoom   : zoom/magnification for element (default=1)\n",
    "    anchor : 'xy' argument refers to this position within the element.\n",
    "             For example, an opamp can be anchored to 'in1', 'in2', or 'out'\n",
    "```"
   ]
  },
  {
   "cell_type": "code",
   "execution_count": 7,
   "metadata": {},
   "outputs": [
    {
     "ename": "ModuleNotFoundError",
     "evalue": "No module named 'SchemDraw'",
     "output_type": "error",
     "traceback": [
      "\u001b[1;31m---------------------------------------------------------------------------\u001b[0m",
      "\u001b[1;31mModuleNotFoundError\u001b[0m                       Traceback (most recent call last)",
      "\u001b[1;32m<ipython-input-7-ae54119290ba>\u001b[0m in \u001b[0;36m<module>\u001b[1;34m()\u001b[0m\n\u001b[0;32m      1\u001b[0m \u001b[1;31m# Use schemdraw to visualize circuits\u001b[0m\u001b[1;33m\u001b[0m\u001b[1;33m\u001b[0m\u001b[0m\n\u001b[1;32m----> 2\u001b[1;33m \u001b[1;32mimport\u001b[0m \u001b[0mSchemDraw\u001b[0m \u001b[1;32mas\u001b[0m \u001b[0mschem\u001b[0m\u001b[1;33m\u001b[0m\u001b[0m\n\u001b[0m\u001b[0;32m      3\u001b[0m \u001b[1;32mimport\u001b[0m \u001b[0mSchemDraw\u001b[0m\u001b[1;33m.\u001b[0m\u001b[0melements\u001b[0m \u001b[1;32mas\u001b[0m \u001b[0me\u001b[0m\u001b[1;33m\u001b[0m\u001b[0m\n\u001b[0;32m      4\u001b[0m \u001b[1;32mimport\u001b[0m \u001b[0mSchemDraw\u001b[0m\u001b[1;33m.\u001b[0m\u001b[0mlogic\u001b[0m \u001b[1;32mas\u001b[0m \u001b[0ml\u001b[0m\u001b[1;33m\u001b[0m\u001b[0m\n",
      "\u001b[1;31mModuleNotFoundError\u001b[0m: No module named 'SchemDraw'"
     ]
    }
   ],
   "source": [
    "# Use schemdraw to visualize circuits\n",
    "import SchemDraw as schem\n",
    "import SchemDraw.elements as e\n",
    "import SchemDraw.logic as l"
   ]
  },
  {
   "cell_type": "code",
   "execution_count": null,
   "metadata": {},
   "outputs": [],
   "source": [
    "import re\n",
    "\n",
    "def getpositions(self):\n",
    "    G = self.graph()\n",
    "    text = G.pipe(format=\"plain\").decode(\"utf-8\")\n",
    "    positions = {}\n",
    "    for (key,node) in self.nodes.items():\n",
    "        m =  re.search(rf\"node {key} ([\\d]+(?:\\.[\\d]+)?) ([\\d]+(?:\\.[\\d]+)?)\",text)\n",
    "        positions[key]= (float(m.group(1)),float(m.group(2)))\n",
    "    return positions"
   ]
  },
  {
   "cell_type": "code",
   "execution_count": null,
   "metadata": {},
   "outputs": [],
   "source": [
    "import math\n",
    "def schemdraw(self, myvals=None, filename = \"\"):\n",
    "        \"\"\"Visualize using Schemdraw.\"\"\"\n",
    "        MAXY = 30\n",
    "        INC  = 2.5\n",
    "        positions = getpositions(self)\n",
    "        for key in positions:\n",
    "            positions[key] = (positions[key][0]*1.2,positions[key][1]*1.5)\n",
    "        vals = None\n",
    "        if myvals:\n",
    "            self(*myvals)\n",
    "            vals = self.values\n",
    "            \n",
    "        G = schem.Drawing(unit=.5,inches_per_unit = 0.2*9/math.sqrt(self.size()), fontsize=8)\n",
    "        elements = {}\n",
    "        gates = {\"AND\": l.AND2, \"OR\": l.OR2, \"NAND\": l.NAND2, \"NOT\": l.NOT }\n",
    "        \n",
    "        curx = 0\n",
    "        cury = MAXY\n",
    "        # Start with inputs\n",
    "        for (key,node) in self.nodes.items():\n",
    "            if node[0] == \"INPUT\":\n",
    "                label  = f\"$X[{node[1]}]$\"\n",
    "                botlabel = \"\"\n",
    "                if vals and key in vals: \n",
    "                    botlabel += f\" ({vals[key]})\"\n",
    "                curx,cury = positions[key]\n",
    "                v = G.add(e.DOT, xy = [curx,cury],label=label,botlabel=botlabel)\n",
    "                elements[key]= [curx,cury]\n",
    "                cury -= INC\n",
    "            \n",
    "        cury = MAXY + INC/2\n",
    "        curx = INC\n",
    "            \n",
    "        # Then gates\n",
    "        for (key,node) in self.nodes.items():\n",
    "            if node[0] == \"INPUT\": continue\n",
    "            op = gates[node[1].__name__]\n",
    "            label = \"\"\n",
    "            rgtlabel = \"\"\n",
    "            if key in self.outputs:\n",
    "                rgtlabel = f\"$Y[{self.outputs[key]}]$\"\n",
    "            botlabel = \"\"\n",
    "            if vals and key in vals: \n",
    "                botlabel = f\" ({vals[key]})\"\n",
    "            \n",
    "            cury -= INC\n",
    "            maxx = max([elements[n][0] for n  in self.in_neighbors[key]])\n",
    "            if curx < maxx + INC:\n",
    "                curx = maxx + INC\n",
    "                cury = MAXY\n",
    "                if round(curx / INC) % 2:\n",
    "                    cury -= INC / 2\n",
    "       \n",
    "            if cury< 0:\n",
    "                cury = MAXY\n",
    "                curx += INC\n",
    "                if round(curx / INC) % 2:\n",
    "                    cury -= INC / 2\n",
    "       \n",
    "            curx,cury = positions[key]\n",
    "            v = G.add(op,xy =[curx,cury], label=label, botlabel = botlabel, rgtlabel =rgtlabel, d=\"right\")\n",
    "            elements[key] = v.out if op != l.NOT else [curx+1.35,cury]\n",
    "            L =  self.in_neighbors[key]\n",
    "            if len(L)==1:\n",
    "                G.add(e.LINE,xy= elements[L[0]] ,to=[curx,cury])\n",
    "            if len(L)==2:\n",
    "                pos1 = elements[L[0]]\n",
    "                pos2 = elements[L[1]]\n",
    "                if pos1[1] < pos2[1]:\n",
    "                    pos1,pos2 = pos2,pos1\n",
    "                G.add(e.LINE,xy = pos1 ,to = v.in1)\n",
    "                G.add(e.LINE,xy = pos2 ,to = v.in2)\n",
    "        width = min(9,3+self.size()*0.3)\n",
    "        G.inches_per_unit = width/curx\n",
    "        G.draw()\n",
    "        if filename:\n",
    "            G.save(filename)\n",
    "        return None"
   ]
  },
  {
   "cell_type": "code",
   "execution_count": null,
   "metadata": {},
   "outputs": [],
   "source": []
  },
  {
   "cell_type": "code",
   "execution_count": null,
   "metadata": {},
   "outputs": [],
   "source": [
    "def NAND(a,b): return 1 - a*b"
   ]
  },
  {
   "cell_type": "code",
   "execution_count": null,
   "metadata": {},
   "outputs": [],
   "source": [
    "C = Circuit(3)\n",
    "g = C.gate(NAND,C.X[0],C.X[1])\n",
    "h = C.gate(NAND,C.X[0],C.X[2])\n",
    "z = C.gate(NAND,g,h)\n",
    "y = C.gate(NAND,z,z)\n",
    "C.output(y,0)\n",
    "C"
   ]
  },
  {
   "cell_type": "code",
   "execution_count": null,
   "metadata": {},
   "outputs": [],
   "source": [
    "C(1,1,1 , render=True)"
   ]
  },
  {
   "cell_type": "code",
   "execution_count": null,
   "metadata": {},
   "outputs": [],
   "source": [
    "import re\n",
    "def numinout(prog):\n",
    "    '''Compute the number of inputs and outputs of a NAND program, given as a string of source code.'''\n",
    "    n = max([int(s[2:-1]) for s in re.findall(r'X\\[\\d+\\]',prog)])+1\n",
    "    m = max([int(s[2:-1]) for s in re.findall(r'Y\\[\\d+\\]',prog)])+1\n",
    "    return n,m"
   ]
  },
  {
   "cell_type": "code",
   "execution_count": null,
   "metadata": {},
   "outputs": [],
   "source": [
    "def prog2circuit(code,gateset=None):\n",
    "    \"\"\"Transform a straightline program into a circuit.\n",
    "       Takes as input the basic gates one uses (otherwise use all functions currently defined)\"\"\"\n",
    "    if not gateset: gateset = globals()\n",
    "    n,m = numinout(code) # helper function - extract number of inputs and outputs from code\n",
    "    C = Circuit(n) # create circuit with n inputs \n",
    "    \n",
    "    nodes = { f\"X[{i}]\" : C.X[i] for i in range(n) }\n",
    "    # initially we have n nodes corresponding to n inputs.\n",
    "    \n",
    "    for line in code.split(\"\\n\"): # every line is translated to a new gate\n",
    "        if not line: continue\n",
    "        foo,op,bar,blah = parseline(line,2) \n",
    "        # parseline takes \"foo = OP(bar,blah)\" to the list [\"foo\",\"OP\",\"bar\",\"blah\"]\n",
    "        if blah: g = C.gate(gateset[op],nodes[bar],nodes[blah])\n",
    "        else: g = C.gate(gateset[op],nodes[bar])\n",
    "        nodes[foo] = g\n",
    "        if foo[0]==\"Y\": C.output(g,int(foo[2:-1]))\n",
    "    \n",
    "    return C\n",
    "    "
   ]
  },
  {
   "cell_type": "code",
   "execution_count": null,
   "metadata": {},
   "outputs": [],
   "source": [
    "def circuit2prog(C):\n",
    "    \"\"\"Transform circuit to a program.\"\"\"\n",
    "    \n",
    "    code = \"\"\n",
    "    def key2var(key):\n",
    "        \"\"\"Helper function: translate  key identifying a node into a variable name\"\"\"\n",
    "        if key[:6]==\"input_\": return f\"X[{key[6:]}]\"\n",
    "        elif key in C.outputs: return f\"Y[{C.outputs[key]}]\"\n",
    "        return key\n",
    "\n",
    "    # every gate is translated into a line\n",
    "    for (key,n) in C.nodes.items(): \n",
    "        # we assume nodes are in topological ordering, otherwise  should layer first\n",
    "        if n[0]!=\"GATE\": continue  # ignore input (non gate) nodes\n",
    "        args = \",\".join(map(key2var,C.in_neighbors[key]))\n",
    "        code += f\"{key2var(key)} = {n[1].__name__}({args})\\n\"\n",
    "    \n",
    "    return code"
   ]
  },
  {
   "cell_type": "code",
   "execution_count": null,
   "metadata": {},
   "outputs": [],
   "source": [
    "print(circuit2prog(C))"
   ]
  },
  {
   "cell_type": "code",
   "execution_count": null,
   "metadata": {},
   "outputs": [],
   "source": [
    "prog = r\"\"\"\n",
    "temp = NAND(X[0],X[1])\n",
    "Y[0] = NAND(temp,temp)\"\"\"[1:]\n"
   ]
  },
  {
   "cell_type": "code",
   "execution_count": null,
   "metadata": {},
   "outputs": [],
   "source": [
    "prog2circuit(prog)"
   ]
  },
  {
   "cell_type": "code",
   "execution_count": null,
   "metadata": {},
   "outputs": [],
   "source": []
  },
  {
   "cell_type": "code",
   "execution_count": null,
   "metadata": {},
   "outputs": [],
   "source": [
    "C"
   ]
  },
  {
   "cell_type": "code",
   "execution_count": null,
   "metadata": {},
   "outputs": [],
   "source": [
    "schemdraw(C)"
   ]
  },
  {
   "cell_type": "code",
   "execution_count": null,
   "metadata": {},
   "outputs": [],
   "source": [
    "schemdraw(C,[0,1,1])"
   ]
  },
  {
   "cell_type": "markdown",
   "metadata": {},
   "source": [
    "## Extract code from python function"
   ]
  },
  {
   "cell_type": "code",
   "execution_count": null,
   "metadata": {},
   "outputs": [],
   "source": [
    "def AND(a,b):\n",
    "    return a*b\n",
    "def OR(a,b):\n",
    "    return 1-(1-a)*(1-b)\n",
    "def NOT(a):\n",
    "    return 1-a\n",
    "def NAND(a,b):\n",
    "    return 1-a*b"
   ]
  },
  {
   "cell_type": "code",
   "execution_count": null,
   "metadata": {},
   "outputs": [],
   "source": [
    "from inspect import signature\n",
    "def function2code(f,*inlens, NANDONLY = False):\n",
    "    \"\"\"Take python function that ultimately is implemented using AND/OR/NOT/NAND\n",
    "    and output the code for it using these operations\"\"\"\n",
    "    explode = False\n",
    "    if not inlens:\n",
    "        explode = True\n",
    "        n = len(signature(f).parameters)\n",
    "        X = [f\"X[{i}]\" for i in range(n)]\n",
    "    else:\n",
    "        n = sum(inlens) \n",
    "        X = []\n",
    "        i = 0\n",
    "        for ell in inlens:\n",
    "            X.append([f\"X[{i+j}]\" for j in range(ell)])\n",
    "            i += ell\n",
    "\n",
    "    counter = 0\n",
    "    code = \"\"\n",
    "    def getvar():\n",
    "        nonlocal counter\n",
    "        counter +=1\n",
    "        return f\"temp_{counter}\"\n",
    "    def op(name,a,b=None): \n",
    "        nonlocal code\n",
    "        v = getvar()\n",
    "        if b: \n",
    "            code += f\"\\n{v} = {name}({a},{b})\"\n",
    "        else:\n",
    "            code += f\"\\n{v} = {name}({a})\"\n",
    "        return v\n",
    "    \n",
    "    def AND_(a,b):\n",
    "        return NAND(NAND(a,b),NAND(a,b))\n",
    "    def OR_(a,b):\n",
    "        return NAND(NAND(a,a),NAND(b,b))\n",
    "    \n",
    "    def NOT_(a):\n",
    "        return NAND(a,a)\n",
    "\n",
    "    global AND\n",
    "    global OR\n",
    "    global NOT\n",
    "    global NAND\n",
    "    _ = AND\n",
    "    __ = OR\n",
    "    ___ = NOT\n",
    "    ____ = NAND\n",
    "    try:\n",
    "        NAND = lambda a,b: op(\"NAND\",a,b)\n",
    "        if NANDONLY or GLOBAL_NANDONLY:\n",
    "            AND = AND_\n",
    "            OR  = OR_\n",
    "            NOT = NOT_\n",
    "        else:\n",
    "            AND = lambda a,b: op(\"AND\",a,b)\n",
    "            OR = lambda a,b: op(\"OR\",a,b)\n",
    "            NOT = lambda a: op(\"NOT\",a)\n",
    "        \n",
    "        v= f(*X)\n",
    "    finally:\n",
    "        AND = _ \n",
    "        OR  = __ \n",
    "        NOT = ___\n",
    "        NAND = ____\n",
    "    if type(v) is list or type(v) is tuple:\n",
    "        for i in range(len(v)):\n",
    "            code = code.replace(v[i]+\" \",f\"Y[{i}] \")\n",
    "    else:\n",
    "        code = code.replace(v,\"Y[0]\")\n",
    "    return code\n"
   ]
  },
  {
   "cell_type": "code",
   "execution_count": null,
   "metadata": {},
   "outputs": [],
   "source": [
    "def drawcirc(f,*inlens,NANDONLY=False):\n",
    "    if not inlens:\n",
    "        code = function2code(f,NANDONLY=NANDONLY)\n",
    "    else:\n",
    "        code = function2code(f,*inlens,NANDONLY=NANDONLY)\n",
    "    C = prog2circuit(code)\n",
    "    schemdraw(C)"
   ]
  },
  {
   "cell_type": "code",
   "execution_count": null,
   "metadata": {},
   "outputs": [],
   "source": [
    "def XOR3(a,b,c):\n",
    "    w1 = AND(a,b)\n",
    "    w2 = NOT(w1)\n",
    "    w3 = OR(a,b)\n",
    "    w4 = AND(w2,w3)\n",
    "    w5 = AND(w4,c)\n",
    "    w6 = NOT(w5)\n",
    "    w7 = OR(w4,c)\n",
    "    return AND(w6,w7)\n"
   ]
  },
  {
   "cell_type": "code",
   "execution_count": null,
   "metadata": {},
   "outputs": [],
   "source": [
    "drawcirc(XOR3)"
   ]
  },
  {
   "cell_type": "code",
   "execution_count": null,
   "metadata": {},
   "outputs": [],
   "source": [
    "def circuit(code,*inlens, NANDONLY=False):\n",
    "    if isinstance(code, str):\n",
    "        C = prog2circuit(code)\n",
    "        return C\n",
    "    elif callable(code):\n",
    "        if not inlens:\n",
    "            newcode = function2code(code,NANDONLY=NANDONLY)\n",
    "        else:\n",
    "            newcode = function2code(code,*inlens,NANDONLY=NANDONLY)\n",
    "        return prog2circuit(newcode)"
   ]
  },
  {
   "cell_type": "markdown",
   "metadata": {},
   "source": [
    "_Input_ | _Output_\n",
    "--------|---------\n",
    "  $00$  | $1$\n",
    "  $01$  | $0$"
   ]
  },
  {
   "cell_type": "code",
   "execution_count": null,
   "metadata": {},
   "outputs": [],
   "source": [
    "from IPython.display import display, Markdown, Latex\n",
    "import itertools\n",
    "\n",
    "def table(C, n=0):\n",
    "        if isinstance(C,str):\n",
    "            C= circuit(C)\n",
    "        if not callable(C):\n",
    "            raise ValueError(f\"{C} is not callable\")\n",
    "        if not n:\n",
    "            if isinstance(C,Circuit):\n",
    "                n = len(C.X)\n",
    "            else:\n",
    "                n = len(signature(C).parameters)\n",
    "        res = r\"\"\"_Input_ | _Output_\n",
    "--------|---------\n",
    "\"\"\"\n",
    "        for X in itertools.product((0,1),repeat=n):\n",
    "            x = \"\".join([str(b) for b in X])\n",
    "            output = C(*X)\n",
    "            if isinstance(output,(list,tuple)):\n",
    "                y = \"\".join([str(a) for a in output])\n",
    "            else:\n",
    "                y = str(output)\n",
    "            res += f\"  ${x}$  | ${y}$ \\n\"\n",
    "        \n",
    "        display(Markdown(res))\n"
   ]
  },
  {
   "cell_type": "code",
   "execution_count": null,
   "metadata": {},
   "outputs": [],
   "source": [
    "def XOR(a,b):\n",
    "    u = NAND(a,b)\n",
    "    v = NAND(a,u)\n",
    "    w = NAND(b,u)\n",
    "    return NAND(v,w)\n",
    "\n",
    "table(XOR)"
   ]
  },
  {
   "cell_type": "code",
   "execution_count": null,
   "metadata": {},
   "outputs": [],
   "source": [
    "majcode = r\"\"\"firstpair  = AND(X[0],X[1])\n",
    "secondpair = AND(X[1],X[2])\n",
    "thirdpair  = AND(X[0],X[2])\n",
    "temp       = OR(secondpair,thirdpair)\n",
    "Y[0] =  OR(firstpair,temp)\n",
    "\"\"\"\n",
    "C = circuit(majcode)\n",
    "C"
   ]
  },
  {
   "cell_type": "code",
   "execution_count": null,
   "metadata": {},
   "outputs": [],
   "source": [
    "table(C)"
   ]
  },
  {
   "cell_type": "code",
   "execution_count": null,
   "metadata": {},
   "outputs": [],
   "source": [
    "def ADD1(a,b):\n",
    "    return AND(a,b),XOR(a,b)\n",
    "\n",
    "table(ADD1)"
   ]
  },
  {
   "cell_type": "code",
   "execution_count": null,
   "metadata": {},
   "outputs": [],
   "source": [
    "def BIG1(a,b):\n",
    "    t = NOT(b)\n",
    "    return OR(a,t)\n",
    "\n",
    "def BIG2(X):\n",
    "    \"\"\"Input is X[0]...X[3] which we consider as two three-bit numbers A and B. We return 1 iff A>B\"\"\"\n",
    "    y1 = BIG1(X[0],X[2])\n",
    "    n1 = BIG1(X[2],X[0])\n",
    "    y2 = BIG1(X[1],X[3])\n",
    "    t  = AND(y2,n1)\n",
    "    return OR(y1,t)\n",
    "\n",
    "circuit(BIG2,4, NANDONLY = True)"
   ]
  },
  {
   "cell_type": "code",
   "execution_count": null,
   "metadata": {},
   "outputs": [],
   "source": []
  },
  {
   "cell_type": "code",
   "execution_count": null,
   "metadata": {},
   "outputs": [],
   "source": [
    "def MAJ(a,b,c):\n",
    "    return NAND(NAND(NAND(NAND(a,b),NAND(a,c)),NAND(NAND(a,b),NAND(a,c))),NAND(b,c))"
   ]
  },
  {
   "cell_type": "code",
   "execution_count": null,
   "metadata": {},
   "outputs": [],
   "source": [
    "circuit(MAJ)"
   ]
  },
  {
   "cell_type": "code",
   "execution_count": null,
   "metadata": {},
   "outputs": [],
   "source": []
  }
 ],
 "metadata": {
  "kernelspec": {
   "display_name": "Python 3",
   "language": "python",
   "name": "python3"
  },
  "language_info": {
   "codemirror_mode": {
    "name": "ipython",
    "version": 3
   },
   "file_extension": ".py",
   "mimetype": "text/x-python",
   "name": "python",
   "nbconvert_exporter": "python",
   "pygments_lexer": "ipython3",
   "version": "3.6.5"
  }
 },
 "nbformat": 4,
 "nbformat_minor": 2
}
